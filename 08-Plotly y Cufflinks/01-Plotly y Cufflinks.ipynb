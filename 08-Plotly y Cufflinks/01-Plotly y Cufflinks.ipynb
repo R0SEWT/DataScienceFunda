{
 "cells": [
  {
   "cell_type": "markdown",
   "metadata": {},
   "source": [
    "___\n",
    "\n",
    "<a href='https://plotly.com/python/'> <img src='https://plotly.com/all_static/images/plotly_graphing_libraries_1.png' /></a>\n",
    "___\n",
    "# Plotly y Cufflinks"
   ]
  },
  {
   "cell_type": "markdown",
   "metadata": {},
   "source": [
    "**Plotly** es una libreria que permite crear gráficos interactivos para poder usarse en cuadros de mando o sitios web (se pueden guardar como archivos html o imágenes estáticas).\n",
    "\n",
    "**Cufflinks** es una libreria que conecta un dataframe de Pandas con Plotly, lo que permite a los usuarios crear visualizaciones directamente desde Pandas. Esta libreria une el poder de Plotly con la flexibilidad de Pandas para facilitar la visualización de los datos.\n",
    "\n",
    "## Instalación\n",
    "\n",
    "Para que todo esto funcione, se deberá instalar plotly y cufflinks para llamar a los gráficos directamente desde un dataframe de Pandas. Estas librerias no están disponibles actualmente a través de Conda, pero están disponibles a través de pip . Instalar las librerias en su línea de comando/terminal usando:\n",
    "\n",
    "    pip install plotly\n",
    "    pip install cufflinks\n",
    "\n",
    "## Importaciones y configuración "
   ]
  },
  {
   "cell_type": "code",
   "execution_count": 1,
   "metadata": {
    "vscode": {
     "languageId": "powershell"
    }
   },
   "outputs": [
    {
     "name": "stdout",
     "output_type": "stream",
     "text": [
      "Defaulting to user installation because normal site-packages is not writeable\n",
      "Requirement already satisfied: plotly in c:\\users\\rodyv\\appdata\\local\\packages\\pythonsoftwarefoundation.python.3.12_qbz5n2kfra8p0\\localcache\\local-packages\\python312\\site-packages (5.22.0)\n",
      "Requirement already satisfied: tenacity>=6.2.0 in c:\\users\\rodyv\\appdata\\local\\packages\\pythonsoftwarefoundation.python.3.12_qbz5n2kfra8p0\\localcache\\local-packages\\python312\\site-packages (from plotly) (8.3.0)\n",
      "Requirement already satisfied: packaging in c:\\users\\rodyv\\appdata\\local\\packages\\pythonsoftwarefoundation.python.3.12_qbz5n2kfra8p0\\localcache\\local-packages\\python312\\site-packages (from plotly) (24.0)\n",
      "Note: you may need to restart the kernel to use updated packages.\n"
     ]
    }
   ],
   "source": [
    "pip install plotly"
   ]
  },
  {
   "cell_type": "code",
   "execution_count": 7,
   "metadata": {
    "vscode": {
     "languageId": "powershell"
    }
   },
   "outputs": [
    {
     "name": "stdout",
     "output_type": "stream",
     "text": [
      "Defaulting to user installation because normal site-packages is not writeable\n",
      "Collecting cufflinks\n",
      "  Downloading cufflinks-0.17.3.tar.gz (81 kB)\n",
      "     ---------------------------------------- 0.0/81.7 kB ? eta -:--:--\n",
      "     ----- ---------------------------------- 10.2/81.7 kB ? eta -:--:--\n",
      "     -------------------------------------- 81.7/81.7 kB 916.7 kB/s eta 0:00:00\n",
      "  Installing build dependencies: started\n",
      "  Installing build dependencies: finished with status 'done'\n",
      "  Getting requirements to build wheel: started\n",
      "  Getting requirements to build wheel: finished with status 'done'\n",
      "  Installing backend dependencies: started\n",
      "  Installing backend dependencies: finished with status 'done'\n",
      "  Preparing metadata (pyproject.toml): started\n",
      "  Preparing metadata (pyproject.toml): finished with status 'done'\n",
      "Requirement already satisfied: numpy>=1.9.2 in c:\\users\\rodyv\\appdata\\local\\packages\\pythonsoftwarefoundation.python.3.12_qbz5n2kfra8p0\\localcache\\local-packages\\python312\\site-packages (from cufflinks) (1.26.4)\n",
      "Requirement already satisfied: pandas>=0.19.2 in c:\\users\\rodyv\\appdata\\local\\packages\\pythonsoftwarefoundation.python.3.12_qbz5n2kfra8p0\\localcache\\local-packages\\python312\\site-packages (from cufflinks) (2.2.2)\n",
      "Requirement already satisfied: plotly>=4.1.1 in c:\\users\\rodyv\\appdata\\local\\packages\\pythonsoftwarefoundation.python.3.12_qbz5n2kfra8p0\\localcache\\local-packages\\python312\\site-packages (from cufflinks) (5.22.0)\n",
      "Requirement already satisfied: six>=1.9.0 in c:\\users\\rodyv\\appdata\\local\\packages\\pythonsoftwarefoundation.python.3.12_qbz5n2kfra8p0\\localcache\\local-packages\\python312\\site-packages (from cufflinks) (1.16.0)\n",
      "Collecting colorlover>=0.2.1 (from cufflinks)\n",
      "  Downloading colorlover-0.3.0-py3-none-any.whl.metadata (421 bytes)\n",
      "Requirement already satisfied: setuptools>=34.4.1 in c:\\users\\rodyv\\appdata\\local\\packages\\pythonsoftwarefoundation.python.3.12_qbz5n2kfra8p0\\localcache\\local-packages\\python312\\site-packages (from cufflinks) (69.2.0)\n",
      "Requirement already satisfied: ipython>=5.3.0 in c:\\users\\rodyv\\appdata\\local\\packages\\pythonsoftwarefoundation.python.3.12_qbz5n2kfra8p0\\localcache\\local-packages\\python312\\site-packages (from cufflinks) (8.24.0)\n",
      "Requirement already satisfied: ipywidgets>=7.0.0 in c:\\users\\rodyv\\appdata\\local\\packages\\pythonsoftwarefoundation.python.3.12_qbz5n2kfra8p0\\localcache\\local-packages\\python312\\site-packages (from cufflinks) (8.1.2)\n",
      "Requirement already satisfied: decorator in c:\\users\\rodyv\\appdata\\local\\packages\\pythonsoftwarefoundation.python.3.12_qbz5n2kfra8p0\\localcache\\local-packages\\python312\\site-packages (from ipython>=5.3.0->cufflinks) (5.1.1)\n",
      "Requirement already satisfied: jedi>=0.16 in c:\\users\\rodyv\\appdata\\local\\packages\\pythonsoftwarefoundation.python.3.12_qbz5n2kfra8p0\\localcache\\local-packages\\python312\\site-packages (from ipython>=5.3.0->cufflinks) (0.19.1)\n",
      "Requirement already satisfied: matplotlib-inline in c:\\users\\rodyv\\appdata\\local\\packages\\pythonsoftwarefoundation.python.3.12_qbz5n2kfra8p0\\localcache\\local-packages\\python312\\site-packages (from ipython>=5.3.0->cufflinks) (0.1.7)\n",
      "Requirement already satisfied: prompt-toolkit<3.1.0,>=3.0.41 in c:\\users\\rodyv\\appdata\\local\\packages\\pythonsoftwarefoundation.python.3.12_qbz5n2kfra8p0\\localcache\\local-packages\\python312\\site-packages (from ipython>=5.3.0->cufflinks) (3.0.43)\n",
      "Requirement already satisfied: pygments>=2.4.0 in c:\\users\\rodyv\\appdata\\local\\packages\\pythonsoftwarefoundation.python.3.12_qbz5n2kfra8p0\\localcache\\local-packages\\python312\\site-packages (from ipython>=5.3.0->cufflinks) (2.18.0)\n",
      "Requirement already satisfied: stack-data in c:\\users\\rodyv\\appdata\\local\\packages\\pythonsoftwarefoundation.python.3.12_qbz5n2kfra8p0\\localcache\\local-packages\\python312\\site-packages (from ipython>=5.3.0->cufflinks) (0.6.3)\n",
      "Requirement already satisfied: traitlets>=5.13.0 in c:\\users\\rodyv\\appdata\\local\\packages\\pythonsoftwarefoundation.python.3.12_qbz5n2kfra8p0\\localcache\\local-packages\\python312\\site-packages (from ipython>=5.3.0->cufflinks) (5.14.3)\n",
      "Requirement already satisfied: colorama in c:\\users\\rodyv\\appdata\\local\\packages\\pythonsoftwarefoundation.python.3.12_qbz5n2kfra8p0\\localcache\\local-packages\\python312\\site-packages (from ipython>=5.3.0->cufflinks) (0.4.6)\n",
      "Requirement already satisfied: comm>=0.1.3 in c:\\users\\rodyv\\appdata\\local\\packages\\pythonsoftwarefoundation.python.3.12_qbz5n2kfra8p0\\localcache\\local-packages\\python312\\site-packages (from ipywidgets>=7.0.0->cufflinks) (0.2.2)\n",
      "Requirement already satisfied: widgetsnbextension~=4.0.10 in c:\\users\\rodyv\\appdata\\local\\packages\\pythonsoftwarefoundation.python.3.12_qbz5n2kfra8p0\\localcache\\local-packages\\python312\\site-packages (from ipywidgets>=7.0.0->cufflinks) (4.0.10)\n",
      "Requirement already satisfied: jupyterlab-widgets~=3.0.10 in c:\\users\\rodyv\\appdata\\local\\packages\\pythonsoftwarefoundation.python.3.12_qbz5n2kfra8p0\\localcache\\local-packages\\python312\\site-packages (from ipywidgets>=7.0.0->cufflinks) (3.0.10)\n",
      "Requirement already satisfied: python-dateutil>=2.8.2 in c:\\users\\rodyv\\appdata\\local\\packages\\pythonsoftwarefoundation.python.3.12_qbz5n2kfra8p0\\localcache\\local-packages\\python312\\site-packages (from pandas>=0.19.2->cufflinks) (2.9.0.post0)\n",
      "Requirement already satisfied: pytz>=2020.1 in c:\\users\\rodyv\\appdata\\local\\packages\\pythonsoftwarefoundation.python.3.12_qbz5n2kfra8p0\\localcache\\local-packages\\python312\\site-packages (from pandas>=0.19.2->cufflinks) (2024.1)\n",
      "Requirement already satisfied: tzdata>=2022.7 in c:\\users\\rodyv\\appdata\\local\\packages\\pythonsoftwarefoundation.python.3.12_qbz5n2kfra8p0\\localcache\\local-packages\\python312\\site-packages (from pandas>=0.19.2->cufflinks) (2024.1)\n",
      "Requirement already satisfied: tenacity>=6.2.0 in c:\\users\\rodyv\\appdata\\local\\packages\\pythonsoftwarefoundation.python.3.12_qbz5n2kfra8p0\\localcache\\local-packages\\python312\\site-packages (from plotly>=4.1.1->cufflinks) (8.3.0)\n",
      "Requirement already satisfied: packaging in c:\\users\\rodyv\\appdata\\local\\packages\\pythonsoftwarefoundation.python.3.12_qbz5n2kfra8p0\\localcache\\local-packages\\python312\\site-packages (from plotly>=4.1.1->cufflinks) (24.0)\n",
      "Requirement already satisfied: parso<0.9.0,>=0.8.3 in c:\\users\\rodyv\\appdata\\local\\packages\\pythonsoftwarefoundation.python.3.12_qbz5n2kfra8p0\\localcache\\local-packages\\python312\\site-packages (from jedi>=0.16->ipython>=5.3.0->cufflinks) (0.8.4)\n",
      "Requirement already satisfied: wcwidth in c:\\users\\rodyv\\appdata\\local\\packages\\pythonsoftwarefoundation.python.3.12_qbz5n2kfra8p0\\localcache\\local-packages\\python312\\site-packages (from prompt-toolkit<3.1.0,>=3.0.41->ipython>=5.3.0->cufflinks) (0.2.13)\n",
      "Requirement already satisfied: executing>=1.2.0 in c:\\users\\rodyv\\appdata\\local\\packages\\pythonsoftwarefoundation.python.3.12_qbz5n2kfra8p0\\localcache\\local-packages\\python312\\site-packages (from stack-data->ipython>=5.3.0->cufflinks) (2.0.1)\n",
      "Requirement already satisfied: asttokens>=2.1.0 in c:\\users\\rodyv\\appdata\\local\\packages\\pythonsoftwarefoundation.python.3.12_qbz5n2kfra8p0\\localcache\\local-packages\\python312\\site-packages (from stack-data->ipython>=5.3.0->cufflinks) (2.4.1)\n",
      "Requirement already satisfied: pure-eval in c:\\users\\rodyv\\appdata\\local\\packages\\pythonsoftwarefoundation.python.3.12_qbz5n2kfra8p0\\localcache\\local-packages\\python312\\site-packages (from stack-data->ipython>=5.3.0->cufflinks) (0.2.2)\n",
      "Downloading colorlover-0.3.0-py3-none-any.whl (8.9 kB)\n",
      "Building wheels for collected packages: cufflinks\n",
      "  Building wheel for cufflinks (pyproject.toml): started\n",
      "  Building wheel for cufflinks (pyproject.toml): finished with status 'done'\n",
      "  Created wheel for cufflinks: filename=cufflinks-0.17.3-py3-none-any.whl size=68724 sha256=49f9664591694557e49df708369ccf7e7e439f76e6c276fde0c1913ad46dabef\n",
      "  Stored in directory: c:\\users\\rodyv\\appdata\\local\\packages\\pythonsoftwarefoundation.python.3.12_qbz5n2kfra8p0\\localcache\\local\\pip\\cache\\wheels\\c0\\d9\\70\\372130dacf508192607c1a7359c7bf0656b1a3b79f6cf66f7a\n",
      "Successfully built cufflinks\n",
      "Installing collected packages: colorlover, cufflinks\n",
      "Successfully installed colorlover-0.3.0 cufflinks-0.17.3\n",
      "Note: you may need to restart the kernel to use updated packages.\n"
     ]
    }
   ],
   "source": [
    "pip install cufflinks"
   ]
  },
  {
   "cell_type": "code",
   "execution_count": 2,
   "metadata": {},
   "outputs": [],
   "source": [
    "import pandas as pd\n",
    "import numpy as np\n",
    "%matplotlib inline"
   ]
  },
  {
   "cell_type": "code",
   "execution_count": 3,
   "metadata": {},
   "outputs": [
    {
     "name": "stdout",
     "output_type": "stream",
     "text": [
      "5.22.0\n"
     ]
    }
   ],
   "source": [
    "from plotly import __version__\n",
    "from plotly.offline import download_plotlyjs, init_notebook_mode, plot, iplot\n",
    "\n",
    "print(__version__) # requires version >= 1.9.0"
   ]
  },
  {
   "cell_type": "code",
   "execution_count": 4,
   "metadata": {},
   "outputs": [],
   "source": [
    "import cufflinks as cf"
   ]
  },
  {
   "cell_type": "code",
   "execution_count": null,
   "metadata": {},
   "outputs": [
    {
     "data": {
      "text/html": [
       "        <script type=\"text/javascript\">\n",
       "        window.PlotlyConfig = {MathJaxConfig: 'local'};\n",
       "        if (window.MathJax) {MathJax.Hub.Config({SVG: {font: \"STIX-Web\"}});}\n",
       "        if (typeof require !== 'undefined') {\n",
       "        require.undef(\"plotly\");\n",
       "        requirejs.config({\n",
       "            paths: {\n",
       "                'plotly': ['https://cdn.plot.ly/plotly-latest.min']\n",
       "            }\n",
       "        });\n",
       "        require(['plotly'], function(Plotly) {\n",
       "            window._Plotly = Plotly;\n",
       "        });\n",
       "        }\n",
       "        </script>\n",
       "        "
      ]
     },
     "metadata": {},
     "output_type": "display_data"
    }
   ],
   "source": [
    "# Para Notebooks\n",
    "init_notebook_mode(connected=True)"
   ]
  },
  {
   "cell_type": "code",
   "execution_count": 5,
   "metadata": {},
   "outputs": [
    {
     "data": {
      "text/html": [
       "        <script type=\"text/javascript\">\n",
       "        window.PlotlyConfig = {MathJaxConfig: 'local'};\n",
       "        if (window.MathJax && window.MathJax.Hub && window.MathJax.Hub.Config) {window.MathJax.Hub.Config({SVG: {font: \"STIX-Web\"}});}\n",
       "        if (typeof require !== 'undefined') {\n",
       "        require.undef(\"plotly\");\n",
       "        requirejs.config({\n",
       "            paths: {\n",
       "                'plotly': ['https://cdn.plot.ly/plotly-2.32.0.min']\n",
       "            }\n",
       "        });\n",
       "        require(['plotly'], function(Plotly) {\n",
       "            window._Plotly = Plotly;\n",
       "        });\n",
       "        }\n",
       "        </script>\n",
       "        "
      ]
     },
     "metadata": {},
     "output_type": "display_data"
    }
   ],
   "source": [
    "# Para uso offline colocar\n",
    "cf.go_offline()"
   ]
  },
  {
   "cell_type": "markdown",
   "metadata": {},
   "source": [
    "### Datos de prueba"
   ]
  },
  {
   "cell_type": "code",
   "execution_count": 16,
   "metadata": {},
   "outputs": [],
   "source": [
    "df = pd.DataFrame(np.random.randn(100,4),columns='A B C D'.split())"
   ]
  },
  {
   "cell_type": "code",
   "execution_count": 17,
   "metadata": {},
   "outputs": [
    {
     "data": {
      "text/html": [
       "<div>\n",
       "<style scoped>\n",
       "    .dataframe tbody tr th:only-of-type {\n",
       "        vertical-align: middle;\n",
       "    }\n",
       "\n",
       "    .dataframe tbody tr th {\n",
       "        vertical-align: top;\n",
       "    }\n",
       "\n",
       "    .dataframe thead th {\n",
       "        text-align: right;\n",
       "    }\n",
       "</style>\n",
       "<table border=\"1\" class=\"dataframe\">\n",
       "  <thead>\n",
       "    <tr style=\"text-align: right;\">\n",
       "      <th></th>\n",
       "      <th>A</th>\n",
       "      <th>B</th>\n",
       "      <th>C</th>\n",
       "      <th>D</th>\n",
       "    </tr>\n",
       "  </thead>\n",
       "  <tbody>\n",
       "    <tr>\n",
       "      <th>0</th>\n",
       "      <td>0.756415</td>\n",
       "      <td>-0.720264</td>\n",
       "      <td>-0.037029</td>\n",
       "      <td>-0.873449</td>\n",
       "    </tr>\n",
       "    <tr>\n",
       "      <th>1</th>\n",
       "      <td>-0.782327</td>\n",
       "      <td>1.611121</td>\n",
       "      <td>1.233153</td>\n",
       "      <td>-0.637717</td>\n",
       "    </tr>\n",
       "    <tr>\n",
       "      <th>2</th>\n",
       "      <td>-0.667917</td>\n",
       "      <td>-1.404510</td>\n",
       "      <td>-0.078018</td>\n",
       "      <td>-0.934740</td>\n",
       "    </tr>\n",
       "    <tr>\n",
       "      <th>3</th>\n",
       "      <td>0.723550</td>\n",
       "      <td>-0.230521</td>\n",
       "      <td>-0.702227</td>\n",
       "      <td>0.540640</td>\n",
       "    </tr>\n",
       "    <tr>\n",
       "      <th>4</th>\n",
       "      <td>0.676358</td>\n",
       "      <td>0.091973</td>\n",
       "      <td>0.160559</td>\n",
       "      <td>1.341174</td>\n",
       "    </tr>\n",
       "  </tbody>\n",
       "</table>\n",
       "</div>"
      ],
      "text/plain": [
       "          A         B         C         D\n",
       "0  0.756415 -0.720264 -0.037029 -0.873449\n",
       "1 -0.782327  1.611121  1.233153 -0.637717\n",
       "2 -0.667917 -1.404510 -0.078018 -0.934740\n",
       "3  0.723550 -0.230521 -0.702227  0.540640\n",
       "4  0.676358  0.091973  0.160559  1.341174"
      ]
     },
     "execution_count": 17,
     "metadata": {},
     "output_type": "execute_result"
    }
   ],
   "source": [
    "df.head()"
   ]
  },
  {
   "cell_type": "code",
   "execution_count": 23,
   "metadata": {},
   "outputs": [],
   "source": [
    "df2 = pd.DataFrame({'Category':['A','B','C','d'],'Values':[32,43,50,10]})"
   ]
  },
  {
   "cell_type": "code",
   "execution_count": 24,
   "metadata": {},
   "outputs": [
    {
     "data": {
      "text/html": [
       "<div>\n",
       "<style scoped>\n",
       "    .dataframe tbody tr th:only-of-type {\n",
       "        vertical-align: middle;\n",
       "    }\n",
       "\n",
       "    .dataframe tbody tr th {\n",
       "        vertical-align: top;\n",
       "    }\n",
       "\n",
       "    .dataframe thead th {\n",
       "        text-align: right;\n",
       "    }\n",
       "</style>\n",
       "<table border=\"1\" class=\"dataframe\">\n",
       "  <thead>\n",
       "    <tr style=\"text-align: right;\">\n",
       "      <th></th>\n",
       "      <th>Category</th>\n",
       "      <th>Values</th>\n",
       "    </tr>\n",
       "  </thead>\n",
       "  <tbody>\n",
       "    <tr>\n",
       "      <th>0</th>\n",
       "      <td>A</td>\n",
       "      <td>32</td>\n",
       "    </tr>\n",
       "    <tr>\n",
       "      <th>1</th>\n",
       "      <td>B</td>\n",
       "      <td>43</td>\n",
       "    </tr>\n",
       "    <tr>\n",
       "      <th>2</th>\n",
       "      <td>C</td>\n",
       "      <td>50</td>\n",
       "    </tr>\n",
       "    <tr>\n",
       "      <th>3</th>\n",
       "      <td>d</td>\n",
       "      <td>10</td>\n",
       "    </tr>\n",
       "  </tbody>\n",
       "</table>\n",
       "</div>"
      ],
      "text/plain": [
       "  Category  Values\n",
       "0        A      32\n",
       "1        B      43\n",
       "2        C      50\n",
       "3        d      10"
      ]
     },
     "execution_count": 24,
     "metadata": {},
     "output_type": "execute_result"
    }
   ],
   "source": [
    "df2.head()"
   ]
  },
  {
   "cell_type": "markdown",
   "metadata": {},
   "source": [
    "## Usando Cufflinks e iplot()\n",
    "\n",
    "* Scatter\n",
    "* Bar\n",
    "* Boxplot\n",
    "* 3D surface\n",
    "* Histograma\n",
    "* Burbujas"
   ]
  },
  {
   "cell_type": "markdown",
   "metadata": {},
   "source": [
    "## Scatter"
   ]
  },
  {
   "cell_type": "code",
   "execution_count": 38,
   "metadata": {},
   "outputs": [
    {
     "data": {
      "application/vnd.plotly.v1+json": {
       "config": {
        "linkText": "Export to plot.ly",
        "plotlyServerURL": "https://plot.ly",
        "showLink": true
       },
       "data": [
        {
         "line": {
          "color": "rgba(255, 153, 51, 1.0)",
          "dash": "solid",
          "shape": "linear",
          "width": 1.3
         },
         "marker": {
          "size": 10,
          "symbol": "circle"
         },
         "mode": "markers",
         "name": "B",
         "text": "",
         "type": "scatter",
         "x": [
          0.7564148323989057,
          -0.7823269068609948,
          -0.6679174325975421,
          0.7235504577605787,
          0.6763583983443798,
          1.6113674312227713,
          0.3252015273144834,
          0.09745320106895272,
          1.0649772116322407,
          -0.7859675316540942,
          0.08690115585301378,
          0.9124025065812114,
          1.3087334560716568,
          1.4912116709568073,
          0.29323517954194406,
          0.5629978990864077,
          -0.17696272403977917,
          0.7202519868531352,
          -0.4472416619570027,
          -0.660042052378561,
          -0.4397720161985938,
          0.36183913297429054,
          0.1906764296882429,
          0.27408170227575673,
          0.1628582735776629,
          0.5419999037348392,
          0.32244203981230574,
          -1.2923184092498095,
          -0.009592358103626993,
          -0.23483095390226533,
          0.18411729182079248,
          -0.1852600830234388,
          0.8368833908066343,
          1.6994622242236421,
          0.649640777805914,
          1.5448735980291246,
          1.6270987436436612,
          0.4542284041676613,
          -0.4339774915395808,
          0.30665794494472826,
          -3.0884024397121084,
          0.3451163531976607,
          0.6613568430139521,
          1.3718747343032527,
          -1.285891701134262,
          -0.8783682945663221,
          1.4174311776154207,
          -0.6249606412129409,
          -0.5342037438274139,
          -0.307321938309405,
          -2.2111762025380677,
          0.117896763562164,
          1.9426338686747864,
          1.0168105624881245,
          0.3869886209354972,
          -0.8659122284321883,
          -0.11578510886853562,
          -1.1044854111223756,
          -0.287017688548948,
          0.26941239292262464,
          -0.7721015839501733,
          0.08547677454955224,
          0.7253610559010434,
          0.7161489578101378,
          0.5128370699212017,
          -1.7628809336520286,
          0.16456924899681624,
          0.0594714216728452,
          0.3365873177762397,
          0.8803056482467614,
          -0.5938200363087336,
          0.6800430927857745,
          0.3235617112715458,
          0.422123778250071,
          -0.6941982779585049,
          -0.8762368200842747,
          -0.9242598560469263,
          -0.9583537917768091,
          -1.0755751128260154,
          0.43081351893442565,
          -1.6547441309159239,
          -0.1884358000165739,
          1.253583356296939,
          -1.1401442981765864,
          -0.6320394030275134,
          0.010293848187346874,
          -0.3772064178610946,
          0.8921343285996494,
          0.14347786896033332,
          -1.1206987434644389,
          0.8955106344603044,
          -1.042340672290424,
          -0.7800271391209364,
          -0.5450798609737193,
          -0.49155899434435724,
          0.08785907358821855,
          1.0182645649729956,
          0.19540175660096615,
          0.9465171960423777,
          -1.6119347742049708
         ],
         "y": [
          -0.7202641597043901,
          1.6111205987959558,
          -1.4045100480600723,
          -0.2305213090636333,
          0.09197263343256602,
          0.45650077090452507,
          -0.6090188815380735,
          -0.5309964497803003,
          -1.2141722737221585,
          0.3212170216275696,
          0.828923518012042,
          -0.00933759673273959,
          -0.8335054288748508,
          -0.22221466515421448,
          0.04137618145202107,
          0.17951244762335802,
          -1.2696099673173946,
          0.5169171178129851,
          0.5065825166155579,
          1.8727156509898149,
          -0.5946116913527016,
          -0.22748976950221245,
          1.4451419764392834,
          0.8734901467478385,
          0.08935941642291524,
          0.29568606105209533,
          -0.32030634026059673,
          -1.6041681395208156,
          0.028851909646146416,
          1.1615069704693648,
          1.3514765080377995,
          -0.4202353106446499,
          -0.4143726260211676,
          -1.7417579765985356,
          -0.6273257368167466,
          1.8605844366345645,
          0.7252898789669653,
          0.21722302774247051,
          0.6588080497650206,
          1.827701914229741,
          -1.3562021106860425,
          -1.6458974264261332,
          -1.890046325987327,
          0.5737985522903889,
          0.3349639343196755,
          -0.2275114335122723,
          0.45931782624536954,
          0.6009662483616324,
          -1.7640307386103249,
          -0.9698541623961516,
          0.5199410633750858,
          0.9722666787904833,
          1.1787911690208148,
          1.8889928269480079,
          0.1566215641713116,
          -0.6081716736322273,
          -1.9602317892889807,
          1.2965973839107108,
          0.7159400166046389,
          0.4104977037587753,
          0.7680084938921184,
          0.9102155990867794,
          1.4943969050212076,
          -1.1648035311483567,
          -1.8230587897093773,
          -0.4858606905365588,
          -1.342820546572071,
          1.1537637404540777,
          1.366678250402521,
          0.39291878057448937,
          -0.15295787191672727,
          -0.6164898683069034,
          -0.5028267703717849,
          -2.7191095485107715,
          0.43783276284416356,
          -0.7997778310334515,
          -0.11487376829842402,
          -1.260999076134505,
          0.11399726686639165,
          0.2452984918996693,
          0.030593204208160456,
          -0.2251417106641021,
          -0.38244207641083616,
          0.5386447328890802,
          -0.15681869059494968,
          -0.05021440734054216,
          -0.7789516064974458,
          -0.15034282374484073,
          -0.3131345538869527,
          1.774215079269531,
          0.9865362990987013,
          1.8749138989827594,
          0.37332922832157256,
          -1.6426544840578008,
          -0.3729810561155604,
          0.4118726167714622,
          1.029847585474093,
          0.8452000799540336,
          -0.7562889275417679,
          -1.2211260855955912
         ]
        }
       ],
       "layout": {
        "legend": {
         "bgcolor": "#F5F6F9",
         "font": {
          "color": "#4D5663"
         }
        },
        "paper_bgcolor": "#F5F6F9",
        "plot_bgcolor": "#F5F6F9",
        "template": {
         "data": {
          "bar": [
           {
            "error_x": {
             "color": "#2a3f5f"
            },
            "error_y": {
             "color": "#2a3f5f"
            },
            "marker": {
             "line": {
              "color": "#E5ECF6",
              "width": 0.5
             },
             "pattern": {
              "fillmode": "overlay",
              "size": 10,
              "solidity": 0.2
             }
            },
            "type": "bar"
           }
          ],
          "barpolar": [
           {
            "marker": {
             "line": {
              "color": "#E5ECF6",
              "width": 0.5
             },
             "pattern": {
              "fillmode": "overlay",
              "size": 10,
              "solidity": 0.2
             }
            },
            "type": "barpolar"
           }
          ],
          "carpet": [
           {
            "aaxis": {
             "endlinecolor": "#2a3f5f",
             "gridcolor": "white",
             "linecolor": "white",
             "minorgridcolor": "white",
             "startlinecolor": "#2a3f5f"
            },
            "baxis": {
             "endlinecolor": "#2a3f5f",
             "gridcolor": "white",
             "linecolor": "white",
             "minorgridcolor": "white",
             "startlinecolor": "#2a3f5f"
            },
            "type": "carpet"
           }
          ],
          "choropleth": [
           {
            "colorbar": {
             "outlinewidth": 0,
             "ticks": ""
            },
            "type": "choropleth"
           }
          ],
          "contour": [
           {
            "colorbar": {
             "outlinewidth": 0,
             "ticks": ""
            },
            "colorscale": [
             [
              0,
              "#0d0887"
             ],
             [
              0.1111111111111111,
              "#46039f"
             ],
             [
              0.2222222222222222,
              "#7201a8"
             ],
             [
              0.3333333333333333,
              "#9c179e"
             ],
             [
              0.4444444444444444,
              "#bd3786"
             ],
             [
              0.5555555555555556,
              "#d8576b"
             ],
             [
              0.6666666666666666,
              "#ed7953"
             ],
             [
              0.7777777777777778,
              "#fb9f3a"
             ],
             [
              0.8888888888888888,
              "#fdca26"
             ],
             [
              1,
              "#f0f921"
             ]
            ],
            "type": "contour"
           }
          ],
          "contourcarpet": [
           {
            "colorbar": {
             "outlinewidth": 0,
             "ticks": ""
            },
            "type": "contourcarpet"
           }
          ],
          "heatmap": [
           {
            "colorbar": {
             "outlinewidth": 0,
             "ticks": ""
            },
            "colorscale": [
             [
              0,
              "#0d0887"
             ],
             [
              0.1111111111111111,
              "#46039f"
             ],
             [
              0.2222222222222222,
              "#7201a8"
             ],
             [
              0.3333333333333333,
              "#9c179e"
             ],
             [
              0.4444444444444444,
              "#bd3786"
             ],
             [
              0.5555555555555556,
              "#d8576b"
             ],
             [
              0.6666666666666666,
              "#ed7953"
             ],
             [
              0.7777777777777778,
              "#fb9f3a"
             ],
             [
              0.8888888888888888,
              "#fdca26"
             ],
             [
              1,
              "#f0f921"
             ]
            ],
            "type": "heatmap"
           }
          ],
          "heatmapgl": [
           {
            "colorbar": {
             "outlinewidth": 0,
             "ticks": ""
            },
            "colorscale": [
             [
              0,
              "#0d0887"
             ],
             [
              0.1111111111111111,
              "#46039f"
             ],
             [
              0.2222222222222222,
              "#7201a8"
             ],
             [
              0.3333333333333333,
              "#9c179e"
             ],
             [
              0.4444444444444444,
              "#bd3786"
             ],
             [
              0.5555555555555556,
              "#d8576b"
             ],
             [
              0.6666666666666666,
              "#ed7953"
             ],
             [
              0.7777777777777778,
              "#fb9f3a"
             ],
             [
              0.8888888888888888,
              "#fdca26"
             ],
             [
              1,
              "#f0f921"
             ]
            ],
            "type": "heatmapgl"
           }
          ],
          "histogram": [
           {
            "marker": {
             "pattern": {
              "fillmode": "overlay",
              "size": 10,
              "solidity": 0.2
             }
            },
            "type": "histogram"
           }
          ],
          "histogram2d": [
           {
            "colorbar": {
             "outlinewidth": 0,
             "ticks": ""
            },
            "colorscale": [
             [
              0,
              "#0d0887"
             ],
             [
              0.1111111111111111,
              "#46039f"
             ],
             [
              0.2222222222222222,
              "#7201a8"
             ],
             [
              0.3333333333333333,
              "#9c179e"
             ],
             [
              0.4444444444444444,
              "#bd3786"
             ],
             [
              0.5555555555555556,
              "#d8576b"
             ],
             [
              0.6666666666666666,
              "#ed7953"
             ],
             [
              0.7777777777777778,
              "#fb9f3a"
             ],
             [
              0.8888888888888888,
              "#fdca26"
             ],
             [
              1,
              "#f0f921"
             ]
            ],
            "type": "histogram2d"
           }
          ],
          "histogram2dcontour": [
           {
            "colorbar": {
             "outlinewidth": 0,
             "ticks": ""
            },
            "colorscale": [
             [
              0,
              "#0d0887"
             ],
             [
              0.1111111111111111,
              "#46039f"
             ],
             [
              0.2222222222222222,
              "#7201a8"
             ],
             [
              0.3333333333333333,
              "#9c179e"
             ],
             [
              0.4444444444444444,
              "#bd3786"
             ],
             [
              0.5555555555555556,
              "#d8576b"
             ],
             [
              0.6666666666666666,
              "#ed7953"
             ],
             [
              0.7777777777777778,
              "#fb9f3a"
             ],
             [
              0.8888888888888888,
              "#fdca26"
             ],
             [
              1,
              "#f0f921"
             ]
            ],
            "type": "histogram2dcontour"
           }
          ],
          "mesh3d": [
           {
            "colorbar": {
             "outlinewidth": 0,
             "ticks": ""
            },
            "type": "mesh3d"
           }
          ],
          "parcoords": [
           {
            "line": {
             "colorbar": {
              "outlinewidth": 0,
              "ticks": ""
             }
            },
            "type": "parcoords"
           }
          ],
          "pie": [
           {
            "automargin": true,
            "type": "pie"
           }
          ],
          "scatter": [
           {
            "fillpattern": {
             "fillmode": "overlay",
             "size": 10,
             "solidity": 0.2
            },
            "type": "scatter"
           }
          ],
          "scatter3d": [
           {
            "line": {
             "colorbar": {
              "outlinewidth": 0,
              "ticks": ""
             }
            },
            "marker": {
             "colorbar": {
              "outlinewidth": 0,
              "ticks": ""
             }
            },
            "type": "scatter3d"
           }
          ],
          "scattercarpet": [
           {
            "marker": {
             "colorbar": {
              "outlinewidth": 0,
              "ticks": ""
             }
            },
            "type": "scattercarpet"
           }
          ],
          "scattergeo": [
           {
            "marker": {
             "colorbar": {
              "outlinewidth": 0,
              "ticks": ""
             }
            },
            "type": "scattergeo"
           }
          ],
          "scattergl": [
           {
            "marker": {
             "colorbar": {
              "outlinewidth": 0,
              "ticks": ""
             }
            },
            "type": "scattergl"
           }
          ],
          "scattermapbox": [
           {
            "marker": {
             "colorbar": {
              "outlinewidth": 0,
              "ticks": ""
             }
            },
            "type": "scattermapbox"
           }
          ],
          "scatterpolar": [
           {
            "marker": {
             "colorbar": {
              "outlinewidth": 0,
              "ticks": ""
             }
            },
            "type": "scatterpolar"
           }
          ],
          "scatterpolargl": [
           {
            "marker": {
             "colorbar": {
              "outlinewidth": 0,
              "ticks": ""
             }
            },
            "type": "scatterpolargl"
           }
          ],
          "scatterternary": [
           {
            "marker": {
             "colorbar": {
              "outlinewidth": 0,
              "ticks": ""
             }
            },
            "type": "scatterternary"
           }
          ],
          "surface": [
           {
            "colorbar": {
             "outlinewidth": 0,
             "ticks": ""
            },
            "colorscale": [
             [
              0,
              "#0d0887"
             ],
             [
              0.1111111111111111,
              "#46039f"
             ],
             [
              0.2222222222222222,
              "#7201a8"
             ],
             [
              0.3333333333333333,
              "#9c179e"
             ],
             [
              0.4444444444444444,
              "#bd3786"
             ],
             [
              0.5555555555555556,
              "#d8576b"
             ],
             [
              0.6666666666666666,
              "#ed7953"
             ],
             [
              0.7777777777777778,
              "#fb9f3a"
             ],
             [
              0.8888888888888888,
              "#fdca26"
             ],
             [
              1,
              "#f0f921"
             ]
            ],
            "type": "surface"
           }
          ],
          "table": [
           {
            "cells": {
             "fill": {
              "color": "#EBF0F8"
             },
             "line": {
              "color": "white"
             }
            },
            "header": {
             "fill": {
              "color": "#C8D4E3"
             },
             "line": {
              "color": "white"
             }
            },
            "type": "table"
           }
          ]
         },
         "layout": {
          "annotationdefaults": {
           "arrowcolor": "#2a3f5f",
           "arrowhead": 0,
           "arrowwidth": 1
          },
          "autotypenumbers": "strict",
          "coloraxis": {
           "colorbar": {
            "outlinewidth": 0,
            "ticks": ""
           }
          },
          "colorscale": {
           "diverging": [
            [
             0,
             "#8e0152"
            ],
            [
             0.1,
             "#c51b7d"
            ],
            [
             0.2,
             "#de77ae"
            ],
            [
             0.3,
             "#f1b6da"
            ],
            [
             0.4,
             "#fde0ef"
            ],
            [
             0.5,
             "#f7f7f7"
            ],
            [
             0.6,
             "#e6f5d0"
            ],
            [
             0.7,
             "#b8e186"
            ],
            [
             0.8,
             "#7fbc41"
            ],
            [
             0.9,
             "#4d9221"
            ],
            [
             1,
             "#276419"
            ]
           ],
           "sequential": [
            [
             0,
             "#0d0887"
            ],
            [
             0.1111111111111111,
             "#46039f"
            ],
            [
             0.2222222222222222,
             "#7201a8"
            ],
            [
             0.3333333333333333,
             "#9c179e"
            ],
            [
             0.4444444444444444,
             "#bd3786"
            ],
            [
             0.5555555555555556,
             "#d8576b"
            ],
            [
             0.6666666666666666,
             "#ed7953"
            ],
            [
             0.7777777777777778,
             "#fb9f3a"
            ],
            [
             0.8888888888888888,
             "#fdca26"
            ],
            [
             1,
             "#f0f921"
            ]
           ],
           "sequentialminus": [
            [
             0,
             "#0d0887"
            ],
            [
             0.1111111111111111,
             "#46039f"
            ],
            [
             0.2222222222222222,
             "#7201a8"
            ],
            [
             0.3333333333333333,
             "#9c179e"
            ],
            [
             0.4444444444444444,
             "#bd3786"
            ],
            [
             0.5555555555555556,
             "#d8576b"
            ],
            [
             0.6666666666666666,
             "#ed7953"
            ],
            [
             0.7777777777777778,
             "#fb9f3a"
            ],
            [
             0.8888888888888888,
             "#fdca26"
            ],
            [
             1,
             "#f0f921"
            ]
           ]
          },
          "colorway": [
           "#636efa",
           "#EF553B",
           "#00cc96",
           "#ab63fa",
           "#FFA15A",
           "#19d3f3",
           "#FF6692",
           "#B6E880",
           "#FF97FF",
           "#FECB52"
          ],
          "font": {
           "color": "#2a3f5f"
          },
          "geo": {
           "bgcolor": "white",
           "lakecolor": "white",
           "landcolor": "#E5ECF6",
           "showlakes": true,
           "showland": true,
           "subunitcolor": "white"
          },
          "hoverlabel": {
           "align": "left"
          },
          "hovermode": "closest",
          "mapbox": {
           "style": "light"
          },
          "paper_bgcolor": "white",
          "plot_bgcolor": "#E5ECF6",
          "polar": {
           "angularaxis": {
            "gridcolor": "white",
            "linecolor": "white",
            "ticks": ""
           },
           "bgcolor": "#E5ECF6",
           "radialaxis": {
            "gridcolor": "white",
            "linecolor": "white",
            "ticks": ""
           }
          },
          "scene": {
           "xaxis": {
            "backgroundcolor": "#E5ECF6",
            "gridcolor": "white",
            "gridwidth": 2,
            "linecolor": "white",
            "showbackground": true,
            "ticks": "",
            "zerolinecolor": "white"
           },
           "yaxis": {
            "backgroundcolor": "#E5ECF6",
            "gridcolor": "white",
            "gridwidth": 2,
            "linecolor": "white",
            "showbackground": true,
            "ticks": "",
            "zerolinecolor": "white"
           },
           "zaxis": {
            "backgroundcolor": "#E5ECF6",
            "gridcolor": "white",
            "gridwidth": 2,
            "linecolor": "white",
            "showbackground": true,
            "ticks": "",
            "zerolinecolor": "white"
           }
          },
          "shapedefaults": {
           "line": {
            "color": "#2a3f5f"
           }
          },
          "ternary": {
           "aaxis": {
            "gridcolor": "white",
            "linecolor": "white",
            "ticks": ""
           },
           "baxis": {
            "gridcolor": "white",
            "linecolor": "white",
            "ticks": ""
           },
           "bgcolor": "#E5ECF6",
           "caxis": {
            "gridcolor": "white",
            "linecolor": "white",
            "ticks": ""
           }
          },
          "title": {
           "x": 0.05
          },
          "xaxis": {
           "automargin": true,
           "gridcolor": "white",
           "linecolor": "white",
           "ticks": "",
           "title": {
            "standoff": 15
           },
           "zerolinecolor": "white",
           "zerolinewidth": 2
          },
          "yaxis": {
           "automargin": true,
           "gridcolor": "white",
           "linecolor": "white",
           "ticks": "",
           "title": {
            "standoff": 15
           },
           "zerolinecolor": "white",
           "zerolinewidth": 2
          }
         }
        },
        "title": {
         "font": {
          "color": "#4D5663"
         }
        },
        "xaxis": {
         "gridcolor": "#E1E5ED",
         "showgrid": true,
         "tickfont": {
          "color": "#4D5663"
         },
         "title": {
          "font": {
           "color": "#4D5663"
          },
          "text": ""
         },
         "zerolinecolor": "#E1E5ED"
        },
        "yaxis": {
         "gridcolor": "#E1E5ED",
         "showgrid": true,
         "tickfont": {
          "color": "#4D5663"
         },
         "title": {
          "font": {
           "color": "#4D5663"
          },
          "text": ""
         },
         "zerolinecolor": "#E1E5ED"
        }
       }
      },
      "text/html": [
       "<div>                            <div id=\"3b0a34f5-34a6-43ed-9333-1001f5477298\" class=\"plotly-graph-div\" style=\"height:525px; width:100%;\"></div>            <script type=\"text/javascript\">                require([\"plotly\"], function(Plotly) {                    window.PLOTLYENV=window.PLOTLYENV || {};\n",
       "                    window.PLOTLYENV.BASE_URL='https://plot.ly';                                    if (document.getElementById(\"3b0a34f5-34a6-43ed-9333-1001f5477298\")) {                    Plotly.newPlot(                        \"3b0a34f5-34a6-43ed-9333-1001f5477298\",                        [{\"line\":{\"color\":\"rgba(255, 153, 51, 1.0)\",\"dash\":\"solid\",\"shape\":\"linear\",\"width\":1.3},\"marker\":{\"size\":10,\"symbol\":\"circle\"},\"mode\":\"markers\",\"name\":\"B\",\"text\":\"\",\"x\":[0.7564148323989057,-0.7823269068609948,-0.6679174325975421,0.7235504577605787,0.6763583983443798,1.6113674312227713,0.3252015273144834,0.09745320106895272,1.0649772116322407,-0.7859675316540942,0.08690115585301378,0.9124025065812114,1.3087334560716568,1.4912116709568073,0.29323517954194406,0.5629978990864077,-0.17696272403977917,0.7202519868531352,-0.4472416619570027,-0.660042052378561,-0.4397720161985938,0.36183913297429054,0.1906764296882429,0.27408170227575673,0.1628582735776629,0.5419999037348392,0.32244203981230574,-1.2923184092498095,-0.009592358103626993,-0.23483095390226533,0.18411729182079248,-0.1852600830234388,0.8368833908066343,1.6994622242236421,0.649640777805914,1.5448735980291246,1.6270987436436612,0.4542284041676613,-0.4339774915395808,0.30665794494472826,-3.0884024397121084,0.3451163531976607,0.6613568430139521,1.3718747343032527,-1.285891701134262,-0.8783682945663221,1.4174311776154207,-0.6249606412129409,-0.5342037438274139,-0.307321938309405,-2.2111762025380677,0.117896763562164,1.9426338686747864,1.0168105624881245,0.3869886209354972,-0.8659122284321883,-0.11578510886853562,-1.1044854111223756,-0.287017688548948,0.26941239292262464,-0.7721015839501733,0.08547677454955224,0.7253610559010434,0.7161489578101378,0.5128370699212017,-1.7628809336520286,0.16456924899681624,0.0594714216728452,0.3365873177762397,0.8803056482467614,-0.5938200363087336,0.6800430927857745,0.3235617112715458,0.422123778250071,-0.6941982779585049,-0.8762368200842747,-0.9242598560469263,-0.9583537917768091,-1.0755751128260154,0.43081351893442565,-1.6547441309159239,-0.1884358000165739,1.253583356296939,-1.1401442981765864,-0.6320394030275134,0.010293848187346874,-0.3772064178610946,0.8921343285996494,0.14347786896033332,-1.1206987434644389,0.8955106344603044,-1.042340672290424,-0.7800271391209364,-0.5450798609737193,-0.49155899434435724,0.08785907358821855,1.0182645649729956,0.19540175660096615,0.9465171960423777,-1.6119347742049708],\"y\":[-0.7202641597043901,1.6111205987959558,-1.4045100480600723,-0.2305213090636333,0.09197263343256602,0.45650077090452507,-0.6090188815380735,-0.5309964497803003,-1.2141722737221585,0.3212170216275696,0.828923518012042,-0.00933759673273959,-0.8335054288748508,-0.22221466515421448,0.04137618145202107,0.17951244762335802,-1.2696099673173946,0.5169171178129851,0.5065825166155579,1.8727156509898149,-0.5946116913527016,-0.22748976950221245,1.4451419764392834,0.8734901467478385,0.08935941642291524,0.29568606105209533,-0.32030634026059673,-1.6041681395208156,0.028851909646146416,1.1615069704693648,1.3514765080377995,-0.4202353106446499,-0.4143726260211676,-1.7417579765985356,-0.6273257368167466,1.8605844366345645,0.7252898789669653,0.21722302774247051,0.6588080497650206,1.827701914229741,-1.3562021106860425,-1.6458974264261332,-1.890046325987327,0.5737985522903889,0.3349639343196755,-0.2275114335122723,0.45931782624536954,0.6009662483616324,-1.7640307386103249,-0.9698541623961516,0.5199410633750858,0.9722666787904833,1.1787911690208148,1.8889928269480079,0.1566215641713116,-0.6081716736322273,-1.9602317892889807,1.2965973839107108,0.7159400166046389,0.4104977037587753,0.7680084938921184,0.9102155990867794,1.4943969050212076,-1.1648035311483567,-1.8230587897093773,-0.4858606905365588,-1.342820546572071,1.1537637404540777,1.366678250402521,0.39291878057448937,-0.15295787191672727,-0.6164898683069034,-0.5028267703717849,-2.7191095485107715,0.43783276284416356,-0.7997778310334515,-0.11487376829842402,-1.260999076134505,0.11399726686639165,0.2452984918996693,0.030593204208160456,-0.2251417106641021,-0.38244207641083616,0.5386447328890802,-0.15681869059494968,-0.05021440734054216,-0.7789516064974458,-0.15034282374484073,-0.3131345538869527,1.774215079269531,0.9865362990987013,1.8749138989827594,0.37332922832157256,-1.6426544840578008,-0.3729810561155604,0.4118726167714622,1.029847585474093,0.8452000799540336,-0.7562889275417679,-1.2211260855955912],\"type\":\"scatter\"}],                        {\"legend\":{\"bgcolor\":\"#F5F6F9\",\"font\":{\"color\":\"#4D5663\"}},\"paper_bgcolor\":\"#F5F6F9\",\"plot_bgcolor\":\"#F5F6F9\",\"template\":{\"data\":{\"barpolar\":[{\"marker\":{\"line\":{\"color\":\"#E5ECF6\",\"width\":0.5},\"pattern\":{\"fillmode\":\"overlay\",\"size\":10,\"solidity\":0.2}},\"type\":\"barpolar\"}],\"bar\":[{\"error_x\":{\"color\":\"#2a3f5f\"},\"error_y\":{\"color\":\"#2a3f5f\"},\"marker\":{\"line\":{\"color\":\"#E5ECF6\",\"width\":0.5},\"pattern\":{\"fillmode\":\"overlay\",\"size\":10,\"solidity\":0.2}},\"type\":\"bar\"}],\"carpet\":[{\"aaxis\":{\"endlinecolor\":\"#2a3f5f\",\"gridcolor\":\"white\",\"linecolor\":\"white\",\"minorgridcolor\":\"white\",\"startlinecolor\":\"#2a3f5f\"},\"baxis\":{\"endlinecolor\":\"#2a3f5f\",\"gridcolor\":\"white\",\"linecolor\":\"white\",\"minorgridcolor\":\"white\",\"startlinecolor\":\"#2a3f5f\"},\"type\":\"carpet\"}],\"choropleth\":[{\"colorbar\":{\"outlinewidth\":0,\"ticks\":\"\"},\"type\":\"choropleth\"}],\"contourcarpet\":[{\"colorbar\":{\"outlinewidth\":0,\"ticks\":\"\"},\"type\":\"contourcarpet\"}],\"contour\":[{\"colorbar\":{\"outlinewidth\":0,\"ticks\":\"\"},\"colorscale\":[[0.0,\"#0d0887\"],[0.1111111111111111,\"#46039f\"],[0.2222222222222222,\"#7201a8\"],[0.3333333333333333,\"#9c179e\"],[0.4444444444444444,\"#bd3786\"],[0.5555555555555556,\"#d8576b\"],[0.6666666666666666,\"#ed7953\"],[0.7777777777777778,\"#fb9f3a\"],[0.8888888888888888,\"#fdca26\"],[1.0,\"#f0f921\"]],\"type\":\"contour\"}],\"heatmapgl\":[{\"colorbar\":{\"outlinewidth\":0,\"ticks\":\"\"},\"colorscale\":[[0.0,\"#0d0887\"],[0.1111111111111111,\"#46039f\"],[0.2222222222222222,\"#7201a8\"],[0.3333333333333333,\"#9c179e\"],[0.4444444444444444,\"#bd3786\"],[0.5555555555555556,\"#d8576b\"],[0.6666666666666666,\"#ed7953\"],[0.7777777777777778,\"#fb9f3a\"],[0.8888888888888888,\"#fdca26\"],[1.0,\"#f0f921\"]],\"type\":\"heatmapgl\"}],\"heatmap\":[{\"colorbar\":{\"outlinewidth\":0,\"ticks\":\"\"},\"colorscale\":[[0.0,\"#0d0887\"],[0.1111111111111111,\"#46039f\"],[0.2222222222222222,\"#7201a8\"],[0.3333333333333333,\"#9c179e\"],[0.4444444444444444,\"#bd3786\"],[0.5555555555555556,\"#d8576b\"],[0.6666666666666666,\"#ed7953\"],[0.7777777777777778,\"#fb9f3a\"],[0.8888888888888888,\"#fdca26\"],[1.0,\"#f0f921\"]],\"type\":\"heatmap\"}],\"histogram2dcontour\":[{\"colorbar\":{\"outlinewidth\":0,\"ticks\":\"\"},\"colorscale\":[[0.0,\"#0d0887\"],[0.1111111111111111,\"#46039f\"],[0.2222222222222222,\"#7201a8\"],[0.3333333333333333,\"#9c179e\"],[0.4444444444444444,\"#bd3786\"],[0.5555555555555556,\"#d8576b\"],[0.6666666666666666,\"#ed7953\"],[0.7777777777777778,\"#fb9f3a\"],[0.8888888888888888,\"#fdca26\"],[1.0,\"#f0f921\"]],\"type\":\"histogram2dcontour\"}],\"histogram2d\":[{\"colorbar\":{\"outlinewidth\":0,\"ticks\":\"\"},\"colorscale\":[[0.0,\"#0d0887\"],[0.1111111111111111,\"#46039f\"],[0.2222222222222222,\"#7201a8\"],[0.3333333333333333,\"#9c179e\"],[0.4444444444444444,\"#bd3786\"],[0.5555555555555556,\"#d8576b\"],[0.6666666666666666,\"#ed7953\"],[0.7777777777777778,\"#fb9f3a\"],[0.8888888888888888,\"#fdca26\"],[1.0,\"#f0f921\"]],\"type\":\"histogram2d\"}],\"histogram\":[{\"marker\":{\"pattern\":{\"fillmode\":\"overlay\",\"size\":10,\"solidity\":0.2}},\"type\":\"histogram\"}],\"mesh3d\":[{\"colorbar\":{\"outlinewidth\":0,\"ticks\":\"\"},\"type\":\"mesh3d\"}],\"parcoords\":[{\"line\":{\"colorbar\":{\"outlinewidth\":0,\"ticks\":\"\"}},\"type\":\"parcoords\"}],\"pie\":[{\"automargin\":true,\"type\":\"pie\"}],\"scatter3d\":[{\"line\":{\"colorbar\":{\"outlinewidth\":0,\"ticks\":\"\"}},\"marker\":{\"colorbar\":{\"outlinewidth\":0,\"ticks\":\"\"}},\"type\":\"scatter3d\"}],\"scattercarpet\":[{\"marker\":{\"colorbar\":{\"outlinewidth\":0,\"ticks\":\"\"}},\"type\":\"scattercarpet\"}],\"scattergeo\":[{\"marker\":{\"colorbar\":{\"outlinewidth\":0,\"ticks\":\"\"}},\"type\":\"scattergeo\"}],\"scattergl\":[{\"marker\":{\"colorbar\":{\"outlinewidth\":0,\"ticks\":\"\"}},\"type\":\"scattergl\"}],\"scattermapbox\":[{\"marker\":{\"colorbar\":{\"outlinewidth\":0,\"ticks\":\"\"}},\"type\":\"scattermapbox\"}],\"scatterpolargl\":[{\"marker\":{\"colorbar\":{\"outlinewidth\":0,\"ticks\":\"\"}},\"type\":\"scatterpolargl\"}],\"scatterpolar\":[{\"marker\":{\"colorbar\":{\"outlinewidth\":0,\"ticks\":\"\"}},\"type\":\"scatterpolar\"}],\"scatter\":[{\"fillpattern\":{\"fillmode\":\"overlay\",\"size\":10,\"solidity\":0.2},\"type\":\"scatter\"}],\"scatterternary\":[{\"marker\":{\"colorbar\":{\"outlinewidth\":0,\"ticks\":\"\"}},\"type\":\"scatterternary\"}],\"surface\":[{\"colorbar\":{\"outlinewidth\":0,\"ticks\":\"\"},\"colorscale\":[[0.0,\"#0d0887\"],[0.1111111111111111,\"#46039f\"],[0.2222222222222222,\"#7201a8\"],[0.3333333333333333,\"#9c179e\"],[0.4444444444444444,\"#bd3786\"],[0.5555555555555556,\"#d8576b\"],[0.6666666666666666,\"#ed7953\"],[0.7777777777777778,\"#fb9f3a\"],[0.8888888888888888,\"#fdca26\"],[1.0,\"#f0f921\"]],\"type\":\"surface\"}],\"table\":[{\"cells\":{\"fill\":{\"color\":\"#EBF0F8\"},\"line\":{\"color\":\"white\"}},\"header\":{\"fill\":{\"color\":\"#C8D4E3\"},\"line\":{\"color\":\"white\"}},\"type\":\"table\"}]},\"layout\":{\"annotationdefaults\":{\"arrowcolor\":\"#2a3f5f\",\"arrowhead\":0,\"arrowwidth\":1},\"autotypenumbers\":\"strict\",\"coloraxis\":{\"colorbar\":{\"outlinewidth\":0,\"ticks\":\"\"}},\"colorscale\":{\"diverging\":[[0,\"#8e0152\"],[0.1,\"#c51b7d\"],[0.2,\"#de77ae\"],[0.3,\"#f1b6da\"],[0.4,\"#fde0ef\"],[0.5,\"#f7f7f7\"],[0.6,\"#e6f5d0\"],[0.7,\"#b8e186\"],[0.8,\"#7fbc41\"],[0.9,\"#4d9221\"],[1,\"#276419\"]],\"sequential\":[[0.0,\"#0d0887\"],[0.1111111111111111,\"#46039f\"],[0.2222222222222222,\"#7201a8\"],[0.3333333333333333,\"#9c179e\"],[0.4444444444444444,\"#bd3786\"],[0.5555555555555556,\"#d8576b\"],[0.6666666666666666,\"#ed7953\"],[0.7777777777777778,\"#fb9f3a\"],[0.8888888888888888,\"#fdca26\"],[1.0,\"#f0f921\"]],\"sequentialminus\":[[0.0,\"#0d0887\"],[0.1111111111111111,\"#46039f\"],[0.2222222222222222,\"#7201a8\"],[0.3333333333333333,\"#9c179e\"],[0.4444444444444444,\"#bd3786\"],[0.5555555555555556,\"#d8576b\"],[0.6666666666666666,\"#ed7953\"],[0.7777777777777778,\"#fb9f3a\"],[0.8888888888888888,\"#fdca26\"],[1.0,\"#f0f921\"]]},\"colorway\":[\"#636efa\",\"#EF553B\",\"#00cc96\",\"#ab63fa\",\"#FFA15A\",\"#19d3f3\",\"#FF6692\",\"#B6E880\",\"#FF97FF\",\"#FECB52\"],\"font\":{\"color\":\"#2a3f5f\"},\"geo\":{\"bgcolor\":\"white\",\"lakecolor\":\"white\",\"landcolor\":\"#E5ECF6\",\"showlakes\":true,\"showland\":true,\"subunitcolor\":\"white\"},\"hoverlabel\":{\"align\":\"left\"},\"hovermode\":\"closest\",\"mapbox\":{\"style\":\"light\"},\"paper_bgcolor\":\"white\",\"plot_bgcolor\":\"#E5ECF6\",\"polar\":{\"angularaxis\":{\"gridcolor\":\"white\",\"linecolor\":\"white\",\"ticks\":\"\"},\"bgcolor\":\"#E5ECF6\",\"radialaxis\":{\"gridcolor\":\"white\",\"linecolor\":\"white\",\"ticks\":\"\"}},\"scene\":{\"xaxis\":{\"backgroundcolor\":\"#E5ECF6\",\"gridcolor\":\"white\",\"gridwidth\":2,\"linecolor\":\"white\",\"showbackground\":true,\"ticks\":\"\",\"zerolinecolor\":\"white\"},\"yaxis\":{\"backgroundcolor\":\"#E5ECF6\",\"gridcolor\":\"white\",\"gridwidth\":2,\"linecolor\":\"white\",\"showbackground\":true,\"ticks\":\"\",\"zerolinecolor\":\"white\"},\"zaxis\":{\"backgroundcolor\":\"#E5ECF6\",\"gridcolor\":\"white\",\"gridwidth\":2,\"linecolor\":\"white\",\"showbackground\":true,\"ticks\":\"\",\"zerolinecolor\":\"white\"}},\"shapedefaults\":{\"line\":{\"color\":\"#2a3f5f\"}},\"ternary\":{\"aaxis\":{\"gridcolor\":\"white\",\"linecolor\":\"white\",\"ticks\":\"\"},\"baxis\":{\"gridcolor\":\"white\",\"linecolor\":\"white\",\"ticks\":\"\"},\"bgcolor\":\"#E5ECF6\",\"caxis\":{\"gridcolor\":\"white\",\"linecolor\":\"white\",\"ticks\":\"\"}},\"title\":{\"x\":0.05},\"xaxis\":{\"automargin\":true,\"gridcolor\":\"white\",\"linecolor\":\"white\",\"ticks\":\"\",\"title\":{\"standoff\":15},\"zerolinecolor\":\"white\",\"zerolinewidth\":2},\"yaxis\":{\"automargin\":true,\"gridcolor\":\"white\",\"linecolor\":\"white\",\"ticks\":\"\",\"title\":{\"standoff\":15},\"zerolinecolor\":\"white\",\"zerolinewidth\":2}}},\"title\":{\"font\":{\"color\":\"#4D5663\"}},\"xaxis\":{\"gridcolor\":\"#E1E5ED\",\"showgrid\":true,\"tickfont\":{\"color\":\"#4D5663\"},\"title\":{\"font\":{\"color\":\"#4D5663\"},\"text\":\"\"},\"zerolinecolor\":\"#E1E5ED\"},\"yaxis\":{\"gridcolor\":\"#E1E5ED\",\"showgrid\":true,\"tickfont\":{\"color\":\"#4D5663\"},\"title\":{\"font\":{\"color\":\"#4D5663\"},\"text\":\"\"},\"zerolinecolor\":\"#E1E5ED\"}},                        {\"showLink\": true, \"linkText\": \"Export to plot.ly\", \"plotlyServerURL\": \"https://plot.ly\", \"responsive\": true}                    ).then(function(){\n",
       "                            \n",
       "var gd = document.getElementById('3b0a34f5-34a6-43ed-9333-1001f5477298');\n",
       "var x = new MutationObserver(function (mutations, observer) {{\n",
       "        var display = window.getComputedStyle(gd).display;\n",
       "        if (!display || display === 'none') {{\n",
       "            console.log([gd, 'removed!']);\n",
       "            Plotly.purge(gd);\n",
       "            observer.disconnect();\n",
       "        }}\n",
       "}});\n",
       "\n",
       "// Listen for the removal of the full notebook cells\n",
       "var notebookContainer = gd.closest('#notebook-container');\n",
       "if (notebookContainer) {{\n",
       "    x.observe(notebookContainer, {childList: true});\n",
       "}}\n",
       "\n",
       "// Listen for the clearing of the current output cell\n",
       "var outputEl = gd.closest('.output');\n",
       "if (outputEl) {{\n",
       "    x.observe(outputEl, {childList: true});\n",
       "}}\n",
       "\n",
       "                        })                };                });            </script>        </div>"
      ]
     },
     "metadata": {},
     "output_type": "display_data"
    }
   ],
   "source": [
    "df.iplot(kind='scatter',x='A',y='B',mode='markers',size=10)  # kind= scatter, bar, box, spread, ratio, heatmap, surface, histogram"
   ]
  },
  {
   "cell_type": "markdown",
   "metadata": {},
   "source": [
    "## Bar Plots"
   ]
  },
  {
   "cell_type": "code",
   "execution_count": 33,
   "metadata": {},
   "outputs": [
    {
     "data": {
      "application/vnd.plotly.v1+json": {
       "config": {
        "linkText": "Export to plot.ly",
        "plotlyServerURL": "https://plot.ly",
        "showLink": true
       },
       "data": [
        {
         "marker": {
          "color": "rgba(255, 153, 51, 0.6)",
          "line": {
           "color": "rgba(255, 153, 51, 1.0)",
           "width": 1
          }
         },
         "name": "Values",
         "orientation": "v",
         "text": "",
         "type": "bar",
         "x": [
          "A",
          "B",
          "C",
          "d"
         ],
         "y": [
          32,
          43,
          50,
          10
         ]
        }
       ],
       "layout": {
        "legend": {
         "bgcolor": "#F5F6F9",
         "font": {
          "color": "#4D5663"
         }
        },
        "paper_bgcolor": "#F5F6F9",
        "plot_bgcolor": "#F5F6F9",
        "template": {
         "data": {
          "bar": [
           {
            "error_x": {
             "color": "#2a3f5f"
            },
            "error_y": {
             "color": "#2a3f5f"
            },
            "marker": {
             "line": {
              "color": "#E5ECF6",
              "width": 0.5
             },
             "pattern": {
              "fillmode": "overlay",
              "size": 10,
              "solidity": 0.2
             }
            },
            "type": "bar"
           }
          ],
          "barpolar": [
           {
            "marker": {
             "line": {
              "color": "#E5ECF6",
              "width": 0.5
             },
             "pattern": {
              "fillmode": "overlay",
              "size": 10,
              "solidity": 0.2
             }
            },
            "type": "barpolar"
           }
          ],
          "carpet": [
           {
            "aaxis": {
             "endlinecolor": "#2a3f5f",
             "gridcolor": "white",
             "linecolor": "white",
             "minorgridcolor": "white",
             "startlinecolor": "#2a3f5f"
            },
            "baxis": {
             "endlinecolor": "#2a3f5f",
             "gridcolor": "white",
             "linecolor": "white",
             "minorgridcolor": "white",
             "startlinecolor": "#2a3f5f"
            },
            "type": "carpet"
           }
          ],
          "choropleth": [
           {
            "colorbar": {
             "outlinewidth": 0,
             "ticks": ""
            },
            "type": "choropleth"
           }
          ],
          "contour": [
           {
            "colorbar": {
             "outlinewidth": 0,
             "ticks": ""
            },
            "colorscale": [
             [
              0,
              "#0d0887"
             ],
             [
              0.1111111111111111,
              "#46039f"
             ],
             [
              0.2222222222222222,
              "#7201a8"
             ],
             [
              0.3333333333333333,
              "#9c179e"
             ],
             [
              0.4444444444444444,
              "#bd3786"
             ],
             [
              0.5555555555555556,
              "#d8576b"
             ],
             [
              0.6666666666666666,
              "#ed7953"
             ],
             [
              0.7777777777777778,
              "#fb9f3a"
             ],
             [
              0.8888888888888888,
              "#fdca26"
             ],
             [
              1,
              "#f0f921"
             ]
            ],
            "type": "contour"
           }
          ],
          "contourcarpet": [
           {
            "colorbar": {
             "outlinewidth": 0,
             "ticks": ""
            },
            "type": "contourcarpet"
           }
          ],
          "heatmap": [
           {
            "colorbar": {
             "outlinewidth": 0,
             "ticks": ""
            },
            "colorscale": [
             [
              0,
              "#0d0887"
             ],
             [
              0.1111111111111111,
              "#46039f"
             ],
             [
              0.2222222222222222,
              "#7201a8"
             ],
             [
              0.3333333333333333,
              "#9c179e"
             ],
             [
              0.4444444444444444,
              "#bd3786"
             ],
             [
              0.5555555555555556,
              "#d8576b"
             ],
             [
              0.6666666666666666,
              "#ed7953"
             ],
             [
              0.7777777777777778,
              "#fb9f3a"
             ],
             [
              0.8888888888888888,
              "#fdca26"
             ],
             [
              1,
              "#f0f921"
             ]
            ],
            "type": "heatmap"
           }
          ],
          "heatmapgl": [
           {
            "colorbar": {
             "outlinewidth": 0,
             "ticks": ""
            },
            "colorscale": [
             [
              0,
              "#0d0887"
             ],
             [
              0.1111111111111111,
              "#46039f"
             ],
             [
              0.2222222222222222,
              "#7201a8"
             ],
             [
              0.3333333333333333,
              "#9c179e"
             ],
             [
              0.4444444444444444,
              "#bd3786"
             ],
             [
              0.5555555555555556,
              "#d8576b"
             ],
             [
              0.6666666666666666,
              "#ed7953"
             ],
             [
              0.7777777777777778,
              "#fb9f3a"
             ],
             [
              0.8888888888888888,
              "#fdca26"
             ],
             [
              1,
              "#f0f921"
             ]
            ],
            "type": "heatmapgl"
           }
          ],
          "histogram": [
           {
            "marker": {
             "pattern": {
              "fillmode": "overlay",
              "size": 10,
              "solidity": 0.2
             }
            },
            "type": "histogram"
           }
          ],
          "histogram2d": [
           {
            "colorbar": {
             "outlinewidth": 0,
             "ticks": ""
            },
            "colorscale": [
             [
              0,
              "#0d0887"
             ],
             [
              0.1111111111111111,
              "#46039f"
             ],
             [
              0.2222222222222222,
              "#7201a8"
             ],
             [
              0.3333333333333333,
              "#9c179e"
             ],
             [
              0.4444444444444444,
              "#bd3786"
             ],
             [
              0.5555555555555556,
              "#d8576b"
             ],
             [
              0.6666666666666666,
              "#ed7953"
             ],
             [
              0.7777777777777778,
              "#fb9f3a"
             ],
             [
              0.8888888888888888,
              "#fdca26"
             ],
             [
              1,
              "#f0f921"
             ]
            ],
            "type": "histogram2d"
           }
          ],
          "histogram2dcontour": [
           {
            "colorbar": {
             "outlinewidth": 0,
             "ticks": ""
            },
            "colorscale": [
             [
              0,
              "#0d0887"
             ],
             [
              0.1111111111111111,
              "#46039f"
             ],
             [
              0.2222222222222222,
              "#7201a8"
             ],
             [
              0.3333333333333333,
              "#9c179e"
             ],
             [
              0.4444444444444444,
              "#bd3786"
             ],
             [
              0.5555555555555556,
              "#d8576b"
             ],
             [
              0.6666666666666666,
              "#ed7953"
             ],
             [
              0.7777777777777778,
              "#fb9f3a"
             ],
             [
              0.8888888888888888,
              "#fdca26"
             ],
             [
              1,
              "#f0f921"
             ]
            ],
            "type": "histogram2dcontour"
           }
          ],
          "mesh3d": [
           {
            "colorbar": {
             "outlinewidth": 0,
             "ticks": ""
            },
            "type": "mesh3d"
           }
          ],
          "parcoords": [
           {
            "line": {
             "colorbar": {
              "outlinewidth": 0,
              "ticks": ""
             }
            },
            "type": "parcoords"
           }
          ],
          "pie": [
           {
            "automargin": true,
            "type": "pie"
           }
          ],
          "scatter": [
           {
            "fillpattern": {
             "fillmode": "overlay",
             "size": 10,
             "solidity": 0.2
            },
            "type": "scatter"
           }
          ],
          "scatter3d": [
           {
            "line": {
             "colorbar": {
              "outlinewidth": 0,
              "ticks": ""
             }
            },
            "marker": {
             "colorbar": {
              "outlinewidth": 0,
              "ticks": ""
             }
            },
            "type": "scatter3d"
           }
          ],
          "scattercarpet": [
           {
            "marker": {
             "colorbar": {
              "outlinewidth": 0,
              "ticks": ""
             }
            },
            "type": "scattercarpet"
           }
          ],
          "scattergeo": [
           {
            "marker": {
             "colorbar": {
              "outlinewidth": 0,
              "ticks": ""
             }
            },
            "type": "scattergeo"
           }
          ],
          "scattergl": [
           {
            "marker": {
             "colorbar": {
              "outlinewidth": 0,
              "ticks": ""
             }
            },
            "type": "scattergl"
           }
          ],
          "scattermapbox": [
           {
            "marker": {
             "colorbar": {
              "outlinewidth": 0,
              "ticks": ""
             }
            },
            "type": "scattermapbox"
           }
          ],
          "scatterpolar": [
           {
            "marker": {
             "colorbar": {
              "outlinewidth": 0,
              "ticks": ""
             }
            },
            "type": "scatterpolar"
           }
          ],
          "scatterpolargl": [
           {
            "marker": {
             "colorbar": {
              "outlinewidth": 0,
              "ticks": ""
             }
            },
            "type": "scatterpolargl"
           }
          ],
          "scatterternary": [
           {
            "marker": {
             "colorbar": {
              "outlinewidth": 0,
              "ticks": ""
             }
            },
            "type": "scatterternary"
           }
          ],
          "surface": [
           {
            "colorbar": {
             "outlinewidth": 0,
             "ticks": ""
            },
            "colorscale": [
             [
              0,
              "#0d0887"
             ],
             [
              0.1111111111111111,
              "#46039f"
             ],
             [
              0.2222222222222222,
              "#7201a8"
             ],
             [
              0.3333333333333333,
              "#9c179e"
             ],
             [
              0.4444444444444444,
              "#bd3786"
             ],
             [
              0.5555555555555556,
              "#d8576b"
             ],
             [
              0.6666666666666666,
              "#ed7953"
             ],
             [
              0.7777777777777778,
              "#fb9f3a"
             ],
             [
              0.8888888888888888,
              "#fdca26"
             ],
             [
              1,
              "#f0f921"
             ]
            ],
            "type": "surface"
           }
          ],
          "table": [
           {
            "cells": {
             "fill": {
              "color": "#EBF0F8"
             },
             "line": {
              "color": "white"
             }
            },
            "header": {
             "fill": {
              "color": "#C8D4E3"
             },
             "line": {
              "color": "white"
             }
            },
            "type": "table"
           }
          ]
         },
         "layout": {
          "annotationdefaults": {
           "arrowcolor": "#2a3f5f",
           "arrowhead": 0,
           "arrowwidth": 1
          },
          "autotypenumbers": "strict",
          "coloraxis": {
           "colorbar": {
            "outlinewidth": 0,
            "ticks": ""
           }
          },
          "colorscale": {
           "diverging": [
            [
             0,
             "#8e0152"
            ],
            [
             0.1,
             "#c51b7d"
            ],
            [
             0.2,
             "#de77ae"
            ],
            [
             0.3,
             "#f1b6da"
            ],
            [
             0.4,
             "#fde0ef"
            ],
            [
             0.5,
             "#f7f7f7"
            ],
            [
             0.6,
             "#e6f5d0"
            ],
            [
             0.7,
             "#b8e186"
            ],
            [
             0.8,
             "#7fbc41"
            ],
            [
             0.9,
             "#4d9221"
            ],
            [
             1,
             "#276419"
            ]
           ],
           "sequential": [
            [
             0,
             "#0d0887"
            ],
            [
             0.1111111111111111,
             "#46039f"
            ],
            [
             0.2222222222222222,
             "#7201a8"
            ],
            [
             0.3333333333333333,
             "#9c179e"
            ],
            [
             0.4444444444444444,
             "#bd3786"
            ],
            [
             0.5555555555555556,
             "#d8576b"
            ],
            [
             0.6666666666666666,
             "#ed7953"
            ],
            [
             0.7777777777777778,
             "#fb9f3a"
            ],
            [
             0.8888888888888888,
             "#fdca26"
            ],
            [
             1,
             "#f0f921"
            ]
           ],
           "sequentialminus": [
            [
             0,
             "#0d0887"
            ],
            [
             0.1111111111111111,
             "#46039f"
            ],
            [
             0.2222222222222222,
             "#7201a8"
            ],
            [
             0.3333333333333333,
             "#9c179e"
            ],
            [
             0.4444444444444444,
             "#bd3786"
            ],
            [
             0.5555555555555556,
             "#d8576b"
            ],
            [
             0.6666666666666666,
             "#ed7953"
            ],
            [
             0.7777777777777778,
             "#fb9f3a"
            ],
            [
             0.8888888888888888,
             "#fdca26"
            ],
            [
             1,
             "#f0f921"
            ]
           ]
          },
          "colorway": [
           "#636efa",
           "#EF553B",
           "#00cc96",
           "#ab63fa",
           "#FFA15A",
           "#19d3f3",
           "#FF6692",
           "#B6E880",
           "#FF97FF",
           "#FECB52"
          ],
          "font": {
           "color": "#2a3f5f"
          },
          "geo": {
           "bgcolor": "white",
           "lakecolor": "white",
           "landcolor": "#E5ECF6",
           "showlakes": true,
           "showland": true,
           "subunitcolor": "white"
          },
          "hoverlabel": {
           "align": "left"
          },
          "hovermode": "closest",
          "mapbox": {
           "style": "light"
          },
          "paper_bgcolor": "white",
          "plot_bgcolor": "#E5ECF6",
          "polar": {
           "angularaxis": {
            "gridcolor": "white",
            "linecolor": "white",
            "ticks": ""
           },
           "bgcolor": "#E5ECF6",
           "radialaxis": {
            "gridcolor": "white",
            "linecolor": "white",
            "ticks": ""
           }
          },
          "scene": {
           "xaxis": {
            "backgroundcolor": "#E5ECF6",
            "gridcolor": "white",
            "gridwidth": 2,
            "linecolor": "white",
            "showbackground": true,
            "ticks": "",
            "zerolinecolor": "white"
           },
           "yaxis": {
            "backgroundcolor": "#E5ECF6",
            "gridcolor": "white",
            "gridwidth": 2,
            "linecolor": "white",
            "showbackground": true,
            "ticks": "",
            "zerolinecolor": "white"
           },
           "zaxis": {
            "backgroundcolor": "#E5ECF6",
            "gridcolor": "white",
            "gridwidth": 2,
            "linecolor": "white",
            "showbackground": true,
            "ticks": "",
            "zerolinecolor": "white"
           }
          },
          "shapedefaults": {
           "line": {
            "color": "#2a3f5f"
           }
          },
          "ternary": {
           "aaxis": {
            "gridcolor": "white",
            "linecolor": "white",
            "ticks": ""
           },
           "baxis": {
            "gridcolor": "white",
            "linecolor": "white",
            "ticks": ""
           },
           "bgcolor": "#E5ECF6",
           "caxis": {
            "gridcolor": "white",
            "linecolor": "white",
            "ticks": ""
           }
          },
          "title": {
           "x": 0.05
          },
          "xaxis": {
           "automargin": true,
           "gridcolor": "white",
           "linecolor": "white",
           "ticks": "",
           "title": {
            "standoff": 15
           },
           "zerolinecolor": "white",
           "zerolinewidth": 2
          },
          "yaxis": {
           "automargin": true,
           "gridcolor": "white",
           "linecolor": "white",
           "ticks": "",
           "title": {
            "standoff": 15
           },
           "zerolinecolor": "white",
           "zerolinewidth": 2
          }
         }
        },
        "title": {
         "font": {
          "color": "#4D5663"
         }
        },
        "xaxis": {
         "gridcolor": "#E1E5ED",
         "showgrid": true,
         "tickfont": {
          "color": "#4D5663"
         },
         "title": {
          "font": {
           "color": "#4D5663"
          },
          "text": ""
         },
         "zerolinecolor": "#E1E5ED"
        },
        "yaxis": {
         "gridcolor": "#E1E5ED",
         "showgrid": true,
         "tickfont": {
          "color": "#4D5663"
         },
         "title": {
          "font": {
           "color": "#4D5663"
          },
          "text": ""
         },
         "zerolinecolor": "#E1E5ED"
        }
       }
      },
      "text/html": [
       "<div>                            <div id=\"14e8557a-27cd-4c22-8193-e69f7a410b16\" class=\"plotly-graph-div\" style=\"height:525px; width:100%;\"></div>            <script type=\"text/javascript\">                require([\"plotly\"], function(Plotly) {                    window.PLOTLYENV=window.PLOTLYENV || {};\n",
       "                    window.PLOTLYENV.BASE_URL='https://plot.ly';                                    if (document.getElementById(\"14e8557a-27cd-4c22-8193-e69f7a410b16\")) {                    Plotly.newPlot(                        \"14e8557a-27cd-4c22-8193-e69f7a410b16\",                        [{\"marker\":{\"color\":\"rgba(255, 153, 51, 0.6)\",\"line\":{\"color\":\"rgba(255, 153, 51, 1.0)\",\"width\":1}},\"name\":\"Values\",\"orientation\":\"v\",\"text\":\"\",\"x\":[\"A\",\"B\",\"C\",\"d\"],\"y\":[32,43,50,10],\"type\":\"bar\"}],                        {\"legend\":{\"bgcolor\":\"#F5F6F9\",\"font\":{\"color\":\"#4D5663\"}},\"paper_bgcolor\":\"#F5F6F9\",\"plot_bgcolor\":\"#F5F6F9\",\"template\":{\"data\":{\"barpolar\":[{\"marker\":{\"line\":{\"color\":\"#E5ECF6\",\"width\":0.5},\"pattern\":{\"fillmode\":\"overlay\",\"size\":10,\"solidity\":0.2}},\"type\":\"barpolar\"}],\"bar\":[{\"error_x\":{\"color\":\"#2a3f5f\"},\"error_y\":{\"color\":\"#2a3f5f\"},\"marker\":{\"line\":{\"color\":\"#E5ECF6\",\"width\":0.5},\"pattern\":{\"fillmode\":\"overlay\",\"size\":10,\"solidity\":0.2}},\"type\":\"bar\"}],\"carpet\":[{\"aaxis\":{\"endlinecolor\":\"#2a3f5f\",\"gridcolor\":\"white\",\"linecolor\":\"white\",\"minorgridcolor\":\"white\",\"startlinecolor\":\"#2a3f5f\"},\"baxis\":{\"endlinecolor\":\"#2a3f5f\",\"gridcolor\":\"white\",\"linecolor\":\"white\",\"minorgridcolor\":\"white\",\"startlinecolor\":\"#2a3f5f\"},\"type\":\"carpet\"}],\"choropleth\":[{\"colorbar\":{\"outlinewidth\":0,\"ticks\":\"\"},\"type\":\"choropleth\"}],\"contourcarpet\":[{\"colorbar\":{\"outlinewidth\":0,\"ticks\":\"\"},\"type\":\"contourcarpet\"}],\"contour\":[{\"colorbar\":{\"outlinewidth\":0,\"ticks\":\"\"},\"colorscale\":[[0.0,\"#0d0887\"],[0.1111111111111111,\"#46039f\"],[0.2222222222222222,\"#7201a8\"],[0.3333333333333333,\"#9c179e\"],[0.4444444444444444,\"#bd3786\"],[0.5555555555555556,\"#d8576b\"],[0.6666666666666666,\"#ed7953\"],[0.7777777777777778,\"#fb9f3a\"],[0.8888888888888888,\"#fdca26\"],[1.0,\"#f0f921\"]],\"type\":\"contour\"}],\"heatmapgl\":[{\"colorbar\":{\"outlinewidth\":0,\"ticks\":\"\"},\"colorscale\":[[0.0,\"#0d0887\"],[0.1111111111111111,\"#46039f\"],[0.2222222222222222,\"#7201a8\"],[0.3333333333333333,\"#9c179e\"],[0.4444444444444444,\"#bd3786\"],[0.5555555555555556,\"#d8576b\"],[0.6666666666666666,\"#ed7953\"],[0.7777777777777778,\"#fb9f3a\"],[0.8888888888888888,\"#fdca26\"],[1.0,\"#f0f921\"]],\"type\":\"heatmapgl\"}],\"heatmap\":[{\"colorbar\":{\"outlinewidth\":0,\"ticks\":\"\"},\"colorscale\":[[0.0,\"#0d0887\"],[0.1111111111111111,\"#46039f\"],[0.2222222222222222,\"#7201a8\"],[0.3333333333333333,\"#9c179e\"],[0.4444444444444444,\"#bd3786\"],[0.5555555555555556,\"#d8576b\"],[0.6666666666666666,\"#ed7953\"],[0.7777777777777778,\"#fb9f3a\"],[0.8888888888888888,\"#fdca26\"],[1.0,\"#f0f921\"]],\"type\":\"heatmap\"}],\"histogram2dcontour\":[{\"colorbar\":{\"outlinewidth\":0,\"ticks\":\"\"},\"colorscale\":[[0.0,\"#0d0887\"],[0.1111111111111111,\"#46039f\"],[0.2222222222222222,\"#7201a8\"],[0.3333333333333333,\"#9c179e\"],[0.4444444444444444,\"#bd3786\"],[0.5555555555555556,\"#d8576b\"],[0.6666666666666666,\"#ed7953\"],[0.7777777777777778,\"#fb9f3a\"],[0.8888888888888888,\"#fdca26\"],[1.0,\"#f0f921\"]],\"type\":\"histogram2dcontour\"}],\"histogram2d\":[{\"colorbar\":{\"outlinewidth\":0,\"ticks\":\"\"},\"colorscale\":[[0.0,\"#0d0887\"],[0.1111111111111111,\"#46039f\"],[0.2222222222222222,\"#7201a8\"],[0.3333333333333333,\"#9c179e\"],[0.4444444444444444,\"#bd3786\"],[0.5555555555555556,\"#d8576b\"],[0.6666666666666666,\"#ed7953\"],[0.7777777777777778,\"#fb9f3a\"],[0.8888888888888888,\"#fdca26\"],[1.0,\"#f0f921\"]],\"type\":\"histogram2d\"}],\"histogram\":[{\"marker\":{\"pattern\":{\"fillmode\":\"overlay\",\"size\":10,\"solidity\":0.2}},\"type\":\"histogram\"}],\"mesh3d\":[{\"colorbar\":{\"outlinewidth\":0,\"ticks\":\"\"},\"type\":\"mesh3d\"}],\"parcoords\":[{\"line\":{\"colorbar\":{\"outlinewidth\":0,\"ticks\":\"\"}},\"type\":\"parcoords\"}],\"pie\":[{\"automargin\":true,\"type\":\"pie\"}],\"scatter3d\":[{\"line\":{\"colorbar\":{\"outlinewidth\":0,\"ticks\":\"\"}},\"marker\":{\"colorbar\":{\"outlinewidth\":0,\"ticks\":\"\"}},\"type\":\"scatter3d\"}],\"scattercarpet\":[{\"marker\":{\"colorbar\":{\"outlinewidth\":0,\"ticks\":\"\"}},\"type\":\"scattercarpet\"}],\"scattergeo\":[{\"marker\":{\"colorbar\":{\"outlinewidth\":0,\"ticks\":\"\"}},\"type\":\"scattergeo\"}],\"scattergl\":[{\"marker\":{\"colorbar\":{\"outlinewidth\":0,\"ticks\":\"\"}},\"type\":\"scattergl\"}],\"scattermapbox\":[{\"marker\":{\"colorbar\":{\"outlinewidth\":0,\"ticks\":\"\"}},\"type\":\"scattermapbox\"}],\"scatterpolargl\":[{\"marker\":{\"colorbar\":{\"outlinewidth\":0,\"ticks\":\"\"}},\"type\":\"scatterpolargl\"}],\"scatterpolar\":[{\"marker\":{\"colorbar\":{\"outlinewidth\":0,\"ticks\":\"\"}},\"type\":\"scatterpolar\"}],\"scatter\":[{\"fillpattern\":{\"fillmode\":\"overlay\",\"size\":10,\"solidity\":0.2},\"type\":\"scatter\"}],\"scatterternary\":[{\"marker\":{\"colorbar\":{\"outlinewidth\":0,\"ticks\":\"\"}},\"type\":\"scatterternary\"}],\"surface\":[{\"colorbar\":{\"outlinewidth\":0,\"ticks\":\"\"},\"colorscale\":[[0.0,\"#0d0887\"],[0.1111111111111111,\"#46039f\"],[0.2222222222222222,\"#7201a8\"],[0.3333333333333333,\"#9c179e\"],[0.4444444444444444,\"#bd3786\"],[0.5555555555555556,\"#d8576b\"],[0.6666666666666666,\"#ed7953\"],[0.7777777777777778,\"#fb9f3a\"],[0.8888888888888888,\"#fdca26\"],[1.0,\"#f0f921\"]],\"type\":\"surface\"}],\"table\":[{\"cells\":{\"fill\":{\"color\":\"#EBF0F8\"},\"line\":{\"color\":\"white\"}},\"header\":{\"fill\":{\"color\":\"#C8D4E3\"},\"line\":{\"color\":\"white\"}},\"type\":\"table\"}]},\"layout\":{\"annotationdefaults\":{\"arrowcolor\":\"#2a3f5f\",\"arrowhead\":0,\"arrowwidth\":1},\"autotypenumbers\":\"strict\",\"coloraxis\":{\"colorbar\":{\"outlinewidth\":0,\"ticks\":\"\"}},\"colorscale\":{\"diverging\":[[0,\"#8e0152\"],[0.1,\"#c51b7d\"],[0.2,\"#de77ae\"],[0.3,\"#f1b6da\"],[0.4,\"#fde0ef\"],[0.5,\"#f7f7f7\"],[0.6,\"#e6f5d0\"],[0.7,\"#b8e186\"],[0.8,\"#7fbc41\"],[0.9,\"#4d9221\"],[1,\"#276419\"]],\"sequential\":[[0.0,\"#0d0887\"],[0.1111111111111111,\"#46039f\"],[0.2222222222222222,\"#7201a8\"],[0.3333333333333333,\"#9c179e\"],[0.4444444444444444,\"#bd3786\"],[0.5555555555555556,\"#d8576b\"],[0.6666666666666666,\"#ed7953\"],[0.7777777777777778,\"#fb9f3a\"],[0.8888888888888888,\"#fdca26\"],[1.0,\"#f0f921\"]],\"sequentialminus\":[[0.0,\"#0d0887\"],[0.1111111111111111,\"#46039f\"],[0.2222222222222222,\"#7201a8\"],[0.3333333333333333,\"#9c179e\"],[0.4444444444444444,\"#bd3786\"],[0.5555555555555556,\"#d8576b\"],[0.6666666666666666,\"#ed7953\"],[0.7777777777777778,\"#fb9f3a\"],[0.8888888888888888,\"#fdca26\"],[1.0,\"#f0f921\"]]},\"colorway\":[\"#636efa\",\"#EF553B\",\"#00cc96\",\"#ab63fa\",\"#FFA15A\",\"#19d3f3\",\"#FF6692\",\"#B6E880\",\"#FF97FF\",\"#FECB52\"],\"font\":{\"color\":\"#2a3f5f\"},\"geo\":{\"bgcolor\":\"white\",\"lakecolor\":\"white\",\"landcolor\":\"#E5ECF6\",\"showlakes\":true,\"showland\":true,\"subunitcolor\":\"white\"},\"hoverlabel\":{\"align\":\"left\"},\"hovermode\":\"closest\",\"mapbox\":{\"style\":\"light\"},\"paper_bgcolor\":\"white\",\"plot_bgcolor\":\"#E5ECF6\",\"polar\":{\"angularaxis\":{\"gridcolor\":\"white\",\"linecolor\":\"white\",\"ticks\":\"\"},\"bgcolor\":\"#E5ECF6\",\"radialaxis\":{\"gridcolor\":\"white\",\"linecolor\":\"white\",\"ticks\":\"\"}},\"scene\":{\"xaxis\":{\"backgroundcolor\":\"#E5ECF6\",\"gridcolor\":\"white\",\"gridwidth\":2,\"linecolor\":\"white\",\"showbackground\":true,\"ticks\":\"\",\"zerolinecolor\":\"white\"},\"yaxis\":{\"backgroundcolor\":\"#E5ECF6\",\"gridcolor\":\"white\",\"gridwidth\":2,\"linecolor\":\"white\",\"showbackground\":true,\"ticks\":\"\",\"zerolinecolor\":\"white\"},\"zaxis\":{\"backgroundcolor\":\"#E5ECF6\",\"gridcolor\":\"white\",\"gridwidth\":2,\"linecolor\":\"white\",\"showbackground\":true,\"ticks\":\"\",\"zerolinecolor\":\"white\"}},\"shapedefaults\":{\"line\":{\"color\":\"#2a3f5f\"}},\"ternary\":{\"aaxis\":{\"gridcolor\":\"white\",\"linecolor\":\"white\",\"ticks\":\"\"},\"baxis\":{\"gridcolor\":\"white\",\"linecolor\":\"white\",\"ticks\":\"\"},\"bgcolor\":\"#E5ECF6\",\"caxis\":{\"gridcolor\":\"white\",\"linecolor\":\"white\",\"ticks\":\"\"}},\"title\":{\"x\":0.05},\"xaxis\":{\"automargin\":true,\"gridcolor\":\"white\",\"linecolor\":\"white\",\"ticks\":\"\",\"title\":{\"standoff\":15},\"zerolinecolor\":\"white\",\"zerolinewidth\":2},\"yaxis\":{\"automargin\":true,\"gridcolor\":\"white\",\"linecolor\":\"white\",\"ticks\":\"\",\"title\":{\"standoff\":15},\"zerolinecolor\":\"white\",\"zerolinewidth\":2}}},\"title\":{\"font\":{\"color\":\"#4D5663\"}},\"xaxis\":{\"gridcolor\":\"#E1E5ED\",\"showgrid\":true,\"tickfont\":{\"color\":\"#4D5663\"},\"title\":{\"font\":{\"color\":\"#4D5663\"},\"text\":\"\"},\"zerolinecolor\":\"#E1E5ED\"},\"yaxis\":{\"gridcolor\":\"#E1E5ED\",\"showgrid\":true,\"tickfont\":{\"color\":\"#4D5663\"},\"title\":{\"font\":{\"color\":\"#4D5663\"},\"text\":\"\"},\"zerolinecolor\":\"#E1E5ED\"}},                        {\"showLink\": true, \"linkText\": \"Export to plot.ly\", \"plotlyServerURL\": \"https://plot.ly\", \"responsive\": true}                    ).then(function(){\n",
       "                            \n",
       "var gd = document.getElementById('14e8557a-27cd-4c22-8193-e69f7a410b16');\n",
       "var x = new MutationObserver(function (mutations, observer) {{\n",
       "        var display = window.getComputedStyle(gd).display;\n",
       "        if (!display || display === 'none') {{\n",
       "            console.log([gd, 'removed!']);\n",
       "            Plotly.purge(gd);\n",
       "            observer.disconnect();\n",
       "        }}\n",
       "}});\n",
       "\n",
       "// Listen for the removal of the full notebook cells\n",
       "var notebookContainer = gd.closest('#notebook-container');\n",
       "if (notebookContainer) {{\n",
       "    x.observe(notebookContainer, {childList: true});\n",
       "}}\n",
       "\n",
       "// Listen for the clearing of the current output cell\n",
       "var outputEl = gd.closest('.output');\n",
       "if (outputEl) {{\n",
       "    x.observe(outputEl, {childList: true});\n",
       "}}\n",
       "\n",
       "                        })                };                });            </script>        </div>"
      ]
     },
     "metadata": {},
     "output_type": "display_data"
    }
   ],
   "source": [
    "df2.iplot(kind='bar',x='Category',y='Values')"
   ]
  },
  {
   "cell_type": "code",
   "execution_count": 29,
   "metadata": {},
   "outputs": [
    {
     "data": {
      "application/vnd.plotly.v1+json": {
       "config": {
        "linkText": "Export to plot.ly",
        "plotlyServerURL": "https://plot.ly",
        "showLink": true
       },
       "data": [
        {
         "marker": {
          "color": "rgba(255, 153, 51, 0.6)",
          "line": {
           "color": "rgba(255, 153, 51, 1.0)",
           "width": 1
          }
         },
         "name": "None",
         "orientation": "v",
         "text": "",
         "type": "bar",
         "x": [
          "A",
          "B",
          "C",
          "D"
         ],
         "y": [
          100,
          100,
          100,
          100
         ]
        }
       ],
       "layout": {
        "legend": {
         "bgcolor": "#F5F6F9",
         "font": {
          "color": "#4D5663"
         }
        },
        "paper_bgcolor": "#F5F6F9",
        "plot_bgcolor": "#F5F6F9",
        "template": {
         "data": {
          "bar": [
           {
            "error_x": {
             "color": "#2a3f5f"
            },
            "error_y": {
             "color": "#2a3f5f"
            },
            "marker": {
             "line": {
              "color": "#E5ECF6",
              "width": 0.5
             },
             "pattern": {
              "fillmode": "overlay",
              "size": 10,
              "solidity": 0.2
             }
            },
            "type": "bar"
           }
          ],
          "barpolar": [
           {
            "marker": {
             "line": {
              "color": "#E5ECF6",
              "width": 0.5
             },
             "pattern": {
              "fillmode": "overlay",
              "size": 10,
              "solidity": 0.2
             }
            },
            "type": "barpolar"
           }
          ],
          "carpet": [
           {
            "aaxis": {
             "endlinecolor": "#2a3f5f",
             "gridcolor": "white",
             "linecolor": "white",
             "minorgridcolor": "white",
             "startlinecolor": "#2a3f5f"
            },
            "baxis": {
             "endlinecolor": "#2a3f5f",
             "gridcolor": "white",
             "linecolor": "white",
             "minorgridcolor": "white",
             "startlinecolor": "#2a3f5f"
            },
            "type": "carpet"
           }
          ],
          "choropleth": [
           {
            "colorbar": {
             "outlinewidth": 0,
             "ticks": ""
            },
            "type": "choropleth"
           }
          ],
          "contour": [
           {
            "colorbar": {
             "outlinewidth": 0,
             "ticks": ""
            },
            "colorscale": [
             [
              0,
              "#0d0887"
             ],
             [
              0.1111111111111111,
              "#46039f"
             ],
             [
              0.2222222222222222,
              "#7201a8"
             ],
             [
              0.3333333333333333,
              "#9c179e"
             ],
             [
              0.4444444444444444,
              "#bd3786"
             ],
             [
              0.5555555555555556,
              "#d8576b"
             ],
             [
              0.6666666666666666,
              "#ed7953"
             ],
             [
              0.7777777777777778,
              "#fb9f3a"
             ],
             [
              0.8888888888888888,
              "#fdca26"
             ],
             [
              1,
              "#f0f921"
             ]
            ],
            "type": "contour"
           }
          ],
          "contourcarpet": [
           {
            "colorbar": {
             "outlinewidth": 0,
             "ticks": ""
            },
            "type": "contourcarpet"
           }
          ],
          "heatmap": [
           {
            "colorbar": {
             "outlinewidth": 0,
             "ticks": ""
            },
            "colorscale": [
             [
              0,
              "#0d0887"
             ],
             [
              0.1111111111111111,
              "#46039f"
             ],
             [
              0.2222222222222222,
              "#7201a8"
             ],
             [
              0.3333333333333333,
              "#9c179e"
             ],
             [
              0.4444444444444444,
              "#bd3786"
             ],
             [
              0.5555555555555556,
              "#d8576b"
             ],
             [
              0.6666666666666666,
              "#ed7953"
             ],
             [
              0.7777777777777778,
              "#fb9f3a"
             ],
             [
              0.8888888888888888,
              "#fdca26"
             ],
             [
              1,
              "#f0f921"
             ]
            ],
            "type": "heatmap"
           }
          ],
          "heatmapgl": [
           {
            "colorbar": {
             "outlinewidth": 0,
             "ticks": ""
            },
            "colorscale": [
             [
              0,
              "#0d0887"
             ],
             [
              0.1111111111111111,
              "#46039f"
             ],
             [
              0.2222222222222222,
              "#7201a8"
             ],
             [
              0.3333333333333333,
              "#9c179e"
             ],
             [
              0.4444444444444444,
              "#bd3786"
             ],
             [
              0.5555555555555556,
              "#d8576b"
             ],
             [
              0.6666666666666666,
              "#ed7953"
             ],
             [
              0.7777777777777778,
              "#fb9f3a"
             ],
             [
              0.8888888888888888,
              "#fdca26"
             ],
             [
              1,
              "#f0f921"
             ]
            ],
            "type": "heatmapgl"
           }
          ],
          "histogram": [
           {
            "marker": {
             "pattern": {
              "fillmode": "overlay",
              "size": 10,
              "solidity": 0.2
             }
            },
            "type": "histogram"
           }
          ],
          "histogram2d": [
           {
            "colorbar": {
             "outlinewidth": 0,
             "ticks": ""
            },
            "colorscale": [
             [
              0,
              "#0d0887"
             ],
             [
              0.1111111111111111,
              "#46039f"
             ],
             [
              0.2222222222222222,
              "#7201a8"
             ],
             [
              0.3333333333333333,
              "#9c179e"
             ],
             [
              0.4444444444444444,
              "#bd3786"
             ],
             [
              0.5555555555555556,
              "#d8576b"
             ],
             [
              0.6666666666666666,
              "#ed7953"
             ],
             [
              0.7777777777777778,
              "#fb9f3a"
             ],
             [
              0.8888888888888888,
              "#fdca26"
             ],
             [
              1,
              "#f0f921"
             ]
            ],
            "type": "histogram2d"
           }
          ],
          "histogram2dcontour": [
           {
            "colorbar": {
             "outlinewidth": 0,
             "ticks": ""
            },
            "colorscale": [
             [
              0,
              "#0d0887"
             ],
             [
              0.1111111111111111,
              "#46039f"
             ],
             [
              0.2222222222222222,
              "#7201a8"
             ],
             [
              0.3333333333333333,
              "#9c179e"
             ],
             [
              0.4444444444444444,
              "#bd3786"
             ],
             [
              0.5555555555555556,
              "#d8576b"
             ],
             [
              0.6666666666666666,
              "#ed7953"
             ],
             [
              0.7777777777777778,
              "#fb9f3a"
             ],
             [
              0.8888888888888888,
              "#fdca26"
             ],
             [
              1,
              "#f0f921"
             ]
            ],
            "type": "histogram2dcontour"
           }
          ],
          "mesh3d": [
           {
            "colorbar": {
             "outlinewidth": 0,
             "ticks": ""
            },
            "type": "mesh3d"
           }
          ],
          "parcoords": [
           {
            "line": {
             "colorbar": {
              "outlinewidth": 0,
              "ticks": ""
             }
            },
            "type": "parcoords"
           }
          ],
          "pie": [
           {
            "automargin": true,
            "type": "pie"
           }
          ],
          "scatter": [
           {
            "fillpattern": {
             "fillmode": "overlay",
             "size": 10,
             "solidity": 0.2
            },
            "type": "scatter"
           }
          ],
          "scatter3d": [
           {
            "line": {
             "colorbar": {
              "outlinewidth": 0,
              "ticks": ""
             }
            },
            "marker": {
             "colorbar": {
              "outlinewidth": 0,
              "ticks": ""
             }
            },
            "type": "scatter3d"
           }
          ],
          "scattercarpet": [
           {
            "marker": {
             "colorbar": {
              "outlinewidth": 0,
              "ticks": ""
             }
            },
            "type": "scattercarpet"
           }
          ],
          "scattergeo": [
           {
            "marker": {
             "colorbar": {
              "outlinewidth": 0,
              "ticks": ""
             }
            },
            "type": "scattergeo"
           }
          ],
          "scattergl": [
           {
            "marker": {
             "colorbar": {
              "outlinewidth": 0,
              "ticks": ""
             }
            },
            "type": "scattergl"
           }
          ],
          "scattermapbox": [
           {
            "marker": {
             "colorbar": {
              "outlinewidth": 0,
              "ticks": ""
             }
            },
            "type": "scattermapbox"
           }
          ],
          "scatterpolar": [
           {
            "marker": {
             "colorbar": {
              "outlinewidth": 0,
              "ticks": ""
             }
            },
            "type": "scatterpolar"
           }
          ],
          "scatterpolargl": [
           {
            "marker": {
             "colorbar": {
              "outlinewidth": 0,
              "ticks": ""
             }
            },
            "type": "scatterpolargl"
           }
          ],
          "scatterternary": [
           {
            "marker": {
             "colorbar": {
              "outlinewidth": 0,
              "ticks": ""
             }
            },
            "type": "scatterternary"
           }
          ],
          "surface": [
           {
            "colorbar": {
             "outlinewidth": 0,
             "ticks": ""
            },
            "colorscale": [
             [
              0,
              "#0d0887"
             ],
             [
              0.1111111111111111,
              "#46039f"
             ],
             [
              0.2222222222222222,
              "#7201a8"
             ],
             [
              0.3333333333333333,
              "#9c179e"
             ],
             [
              0.4444444444444444,
              "#bd3786"
             ],
             [
              0.5555555555555556,
              "#d8576b"
             ],
             [
              0.6666666666666666,
              "#ed7953"
             ],
             [
              0.7777777777777778,
              "#fb9f3a"
             ],
             [
              0.8888888888888888,
              "#fdca26"
             ],
             [
              1,
              "#f0f921"
             ]
            ],
            "type": "surface"
           }
          ],
          "table": [
           {
            "cells": {
             "fill": {
              "color": "#EBF0F8"
             },
             "line": {
              "color": "white"
             }
            },
            "header": {
             "fill": {
              "color": "#C8D4E3"
             },
             "line": {
              "color": "white"
             }
            },
            "type": "table"
           }
          ]
         },
         "layout": {
          "annotationdefaults": {
           "arrowcolor": "#2a3f5f",
           "arrowhead": 0,
           "arrowwidth": 1
          },
          "autotypenumbers": "strict",
          "coloraxis": {
           "colorbar": {
            "outlinewidth": 0,
            "ticks": ""
           }
          },
          "colorscale": {
           "diverging": [
            [
             0,
             "#8e0152"
            ],
            [
             0.1,
             "#c51b7d"
            ],
            [
             0.2,
             "#de77ae"
            ],
            [
             0.3,
             "#f1b6da"
            ],
            [
             0.4,
             "#fde0ef"
            ],
            [
             0.5,
             "#f7f7f7"
            ],
            [
             0.6,
             "#e6f5d0"
            ],
            [
             0.7,
             "#b8e186"
            ],
            [
             0.8,
             "#7fbc41"
            ],
            [
             0.9,
             "#4d9221"
            ],
            [
             1,
             "#276419"
            ]
           ],
           "sequential": [
            [
             0,
             "#0d0887"
            ],
            [
             0.1111111111111111,
             "#46039f"
            ],
            [
             0.2222222222222222,
             "#7201a8"
            ],
            [
             0.3333333333333333,
             "#9c179e"
            ],
            [
             0.4444444444444444,
             "#bd3786"
            ],
            [
             0.5555555555555556,
             "#d8576b"
            ],
            [
             0.6666666666666666,
             "#ed7953"
            ],
            [
             0.7777777777777778,
             "#fb9f3a"
            ],
            [
             0.8888888888888888,
             "#fdca26"
            ],
            [
             1,
             "#f0f921"
            ]
           ],
           "sequentialminus": [
            [
             0,
             "#0d0887"
            ],
            [
             0.1111111111111111,
             "#46039f"
            ],
            [
             0.2222222222222222,
             "#7201a8"
            ],
            [
             0.3333333333333333,
             "#9c179e"
            ],
            [
             0.4444444444444444,
             "#bd3786"
            ],
            [
             0.5555555555555556,
             "#d8576b"
            ],
            [
             0.6666666666666666,
             "#ed7953"
            ],
            [
             0.7777777777777778,
             "#fb9f3a"
            ],
            [
             0.8888888888888888,
             "#fdca26"
            ],
            [
             1,
             "#f0f921"
            ]
           ]
          },
          "colorway": [
           "#636efa",
           "#EF553B",
           "#00cc96",
           "#ab63fa",
           "#FFA15A",
           "#19d3f3",
           "#FF6692",
           "#B6E880",
           "#FF97FF",
           "#FECB52"
          ],
          "font": {
           "color": "#2a3f5f"
          },
          "geo": {
           "bgcolor": "white",
           "lakecolor": "white",
           "landcolor": "#E5ECF6",
           "showlakes": true,
           "showland": true,
           "subunitcolor": "white"
          },
          "hoverlabel": {
           "align": "left"
          },
          "hovermode": "closest",
          "mapbox": {
           "style": "light"
          },
          "paper_bgcolor": "white",
          "plot_bgcolor": "#E5ECF6",
          "polar": {
           "angularaxis": {
            "gridcolor": "white",
            "linecolor": "white",
            "ticks": ""
           },
           "bgcolor": "#E5ECF6",
           "radialaxis": {
            "gridcolor": "white",
            "linecolor": "white",
            "ticks": ""
           }
          },
          "scene": {
           "xaxis": {
            "backgroundcolor": "#E5ECF6",
            "gridcolor": "white",
            "gridwidth": 2,
            "linecolor": "white",
            "showbackground": true,
            "ticks": "",
            "zerolinecolor": "white"
           },
           "yaxis": {
            "backgroundcolor": "#E5ECF6",
            "gridcolor": "white",
            "gridwidth": 2,
            "linecolor": "white",
            "showbackground": true,
            "ticks": "",
            "zerolinecolor": "white"
           },
           "zaxis": {
            "backgroundcolor": "#E5ECF6",
            "gridcolor": "white",
            "gridwidth": 2,
            "linecolor": "white",
            "showbackground": true,
            "ticks": "",
            "zerolinecolor": "white"
           }
          },
          "shapedefaults": {
           "line": {
            "color": "#2a3f5f"
           }
          },
          "ternary": {
           "aaxis": {
            "gridcolor": "white",
            "linecolor": "white",
            "ticks": ""
           },
           "baxis": {
            "gridcolor": "white",
            "linecolor": "white",
            "ticks": ""
           },
           "bgcolor": "#E5ECF6",
           "caxis": {
            "gridcolor": "white",
            "linecolor": "white",
            "ticks": ""
           }
          },
          "title": {
           "x": 0.05
          },
          "xaxis": {
           "automargin": true,
           "gridcolor": "white",
           "linecolor": "white",
           "ticks": "",
           "title": {
            "standoff": 15
           },
           "zerolinecolor": "white",
           "zerolinewidth": 2
          },
          "yaxis": {
           "automargin": true,
           "gridcolor": "white",
           "linecolor": "white",
           "ticks": "",
           "title": {
            "standoff": 15
           },
           "zerolinecolor": "white",
           "zerolinewidth": 2
          }
         }
        },
        "title": {
         "font": {
          "color": "#4D5663"
         }
        },
        "xaxis": {
         "gridcolor": "#E1E5ED",
         "showgrid": true,
         "tickfont": {
          "color": "#4D5663"
         },
         "title": {
          "font": {
           "color": "#4D5663"
          },
          "text": ""
         },
         "zerolinecolor": "#E1E5ED"
        },
        "yaxis": {
         "gridcolor": "#E1E5ED",
         "showgrid": true,
         "tickfont": {
          "color": "#4D5663"
         },
         "title": {
          "font": {
           "color": "#4D5663"
          },
          "text": ""
         },
         "zerolinecolor": "#E1E5ED"
        }
       }
      },
      "text/html": [
       "<div>                            <div id=\"ef6620fa-c0c5-4dd2-ac5b-fa5232ee71c0\" class=\"plotly-graph-div\" style=\"height:525px; width:100%;\"></div>            <script type=\"text/javascript\">                require([\"plotly\"], function(Plotly) {                    window.PLOTLYENV=window.PLOTLYENV || {};\n",
       "                    window.PLOTLYENV.BASE_URL='https://plot.ly';                                    if (document.getElementById(\"ef6620fa-c0c5-4dd2-ac5b-fa5232ee71c0\")) {                    Plotly.newPlot(                        \"ef6620fa-c0c5-4dd2-ac5b-fa5232ee71c0\",                        [{\"marker\":{\"color\":\"rgba(255, 153, 51, 0.6)\",\"line\":{\"color\":\"rgba(255, 153, 51, 1.0)\",\"width\":1}},\"name\":\"None\",\"orientation\":\"v\",\"text\":\"\",\"x\":[\"A\",\"B\",\"C\",\"D\"],\"y\":[100,100,100,100],\"type\":\"bar\"}],                        {\"legend\":{\"bgcolor\":\"#F5F6F9\",\"font\":{\"color\":\"#4D5663\"}},\"paper_bgcolor\":\"#F5F6F9\",\"plot_bgcolor\":\"#F5F6F9\",\"template\":{\"data\":{\"barpolar\":[{\"marker\":{\"line\":{\"color\":\"#E5ECF6\",\"width\":0.5},\"pattern\":{\"fillmode\":\"overlay\",\"size\":10,\"solidity\":0.2}},\"type\":\"barpolar\"}],\"bar\":[{\"error_x\":{\"color\":\"#2a3f5f\"},\"error_y\":{\"color\":\"#2a3f5f\"},\"marker\":{\"line\":{\"color\":\"#E5ECF6\",\"width\":0.5},\"pattern\":{\"fillmode\":\"overlay\",\"size\":10,\"solidity\":0.2}},\"type\":\"bar\"}],\"carpet\":[{\"aaxis\":{\"endlinecolor\":\"#2a3f5f\",\"gridcolor\":\"white\",\"linecolor\":\"white\",\"minorgridcolor\":\"white\",\"startlinecolor\":\"#2a3f5f\"},\"baxis\":{\"endlinecolor\":\"#2a3f5f\",\"gridcolor\":\"white\",\"linecolor\":\"white\",\"minorgridcolor\":\"white\",\"startlinecolor\":\"#2a3f5f\"},\"type\":\"carpet\"}],\"choropleth\":[{\"colorbar\":{\"outlinewidth\":0,\"ticks\":\"\"},\"type\":\"choropleth\"}],\"contourcarpet\":[{\"colorbar\":{\"outlinewidth\":0,\"ticks\":\"\"},\"type\":\"contourcarpet\"}],\"contour\":[{\"colorbar\":{\"outlinewidth\":0,\"ticks\":\"\"},\"colorscale\":[[0.0,\"#0d0887\"],[0.1111111111111111,\"#46039f\"],[0.2222222222222222,\"#7201a8\"],[0.3333333333333333,\"#9c179e\"],[0.4444444444444444,\"#bd3786\"],[0.5555555555555556,\"#d8576b\"],[0.6666666666666666,\"#ed7953\"],[0.7777777777777778,\"#fb9f3a\"],[0.8888888888888888,\"#fdca26\"],[1.0,\"#f0f921\"]],\"type\":\"contour\"}],\"heatmapgl\":[{\"colorbar\":{\"outlinewidth\":0,\"ticks\":\"\"},\"colorscale\":[[0.0,\"#0d0887\"],[0.1111111111111111,\"#46039f\"],[0.2222222222222222,\"#7201a8\"],[0.3333333333333333,\"#9c179e\"],[0.4444444444444444,\"#bd3786\"],[0.5555555555555556,\"#d8576b\"],[0.6666666666666666,\"#ed7953\"],[0.7777777777777778,\"#fb9f3a\"],[0.8888888888888888,\"#fdca26\"],[1.0,\"#f0f921\"]],\"type\":\"heatmapgl\"}],\"heatmap\":[{\"colorbar\":{\"outlinewidth\":0,\"ticks\":\"\"},\"colorscale\":[[0.0,\"#0d0887\"],[0.1111111111111111,\"#46039f\"],[0.2222222222222222,\"#7201a8\"],[0.3333333333333333,\"#9c179e\"],[0.4444444444444444,\"#bd3786\"],[0.5555555555555556,\"#d8576b\"],[0.6666666666666666,\"#ed7953\"],[0.7777777777777778,\"#fb9f3a\"],[0.8888888888888888,\"#fdca26\"],[1.0,\"#f0f921\"]],\"type\":\"heatmap\"}],\"histogram2dcontour\":[{\"colorbar\":{\"outlinewidth\":0,\"ticks\":\"\"},\"colorscale\":[[0.0,\"#0d0887\"],[0.1111111111111111,\"#46039f\"],[0.2222222222222222,\"#7201a8\"],[0.3333333333333333,\"#9c179e\"],[0.4444444444444444,\"#bd3786\"],[0.5555555555555556,\"#d8576b\"],[0.6666666666666666,\"#ed7953\"],[0.7777777777777778,\"#fb9f3a\"],[0.8888888888888888,\"#fdca26\"],[1.0,\"#f0f921\"]],\"type\":\"histogram2dcontour\"}],\"histogram2d\":[{\"colorbar\":{\"outlinewidth\":0,\"ticks\":\"\"},\"colorscale\":[[0.0,\"#0d0887\"],[0.1111111111111111,\"#46039f\"],[0.2222222222222222,\"#7201a8\"],[0.3333333333333333,\"#9c179e\"],[0.4444444444444444,\"#bd3786\"],[0.5555555555555556,\"#d8576b\"],[0.6666666666666666,\"#ed7953\"],[0.7777777777777778,\"#fb9f3a\"],[0.8888888888888888,\"#fdca26\"],[1.0,\"#f0f921\"]],\"type\":\"histogram2d\"}],\"histogram\":[{\"marker\":{\"pattern\":{\"fillmode\":\"overlay\",\"size\":10,\"solidity\":0.2}},\"type\":\"histogram\"}],\"mesh3d\":[{\"colorbar\":{\"outlinewidth\":0,\"ticks\":\"\"},\"type\":\"mesh3d\"}],\"parcoords\":[{\"line\":{\"colorbar\":{\"outlinewidth\":0,\"ticks\":\"\"}},\"type\":\"parcoords\"}],\"pie\":[{\"automargin\":true,\"type\":\"pie\"}],\"scatter3d\":[{\"line\":{\"colorbar\":{\"outlinewidth\":0,\"ticks\":\"\"}},\"marker\":{\"colorbar\":{\"outlinewidth\":0,\"ticks\":\"\"}},\"type\":\"scatter3d\"}],\"scattercarpet\":[{\"marker\":{\"colorbar\":{\"outlinewidth\":0,\"ticks\":\"\"}},\"type\":\"scattercarpet\"}],\"scattergeo\":[{\"marker\":{\"colorbar\":{\"outlinewidth\":0,\"ticks\":\"\"}},\"type\":\"scattergeo\"}],\"scattergl\":[{\"marker\":{\"colorbar\":{\"outlinewidth\":0,\"ticks\":\"\"}},\"type\":\"scattergl\"}],\"scattermapbox\":[{\"marker\":{\"colorbar\":{\"outlinewidth\":0,\"ticks\":\"\"}},\"type\":\"scattermapbox\"}],\"scatterpolargl\":[{\"marker\":{\"colorbar\":{\"outlinewidth\":0,\"ticks\":\"\"}},\"type\":\"scatterpolargl\"}],\"scatterpolar\":[{\"marker\":{\"colorbar\":{\"outlinewidth\":0,\"ticks\":\"\"}},\"type\":\"scatterpolar\"}],\"scatter\":[{\"fillpattern\":{\"fillmode\":\"overlay\",\"size\":10,\"solidity\":0.2},\"type\":\"scatter\"}],\"scatterternary\":[{\"marker\":{\"colorbar\":{\"outlinewidth\":0,\"ticks\":\"\"}},\"type\":\"scatterternary\"}],\"surface\":[{\"colorbar\":{\"outlinewidth\":0,\"ticks\":\"\"},\"colorscale\":[[0.0,\"#0d0887\"],[0.1111111111111111,\"#46039f\"],[0.2222222222222222,\"#7201a8\"],[0.3333333333333333,\"#9c179e\"],[0.4444444444444444,\"#bd3786\"],[0.5555555555555556,\"#d8576b\"],[0.6666666666666666,\"#ed7953\"],[0.7777777777777778,\"#fb9f3a\"],[0.8888888888888888,\"#fdca26\"],[1.0,\"#f0f921\"]],\"type\":\"surface\"}],\"table\":[{\"cells\":{\"fill\":{\"color\":\"#EBF0F8\"},\"line\":{\"color\":\"white\"}},\"header\":{\"fill\":{\"color\":\"#C8D4E3\"},\"line\":{\"color\":\"white\"}},\"type\":\"table\"}]},\"layout\":{\"annotationdefaults\":{\"arrowcolor\":\"#2a3f5f\",\"arrowhead\":0,\"arrowwidth\":1},\"autotypenumbers\":\"strict\",\"coloraxis\":{\"colorbar\":{\"outlinewidth\":0,\"ticks\":\"\"}},\"colorscale\":{\"diverging\":[[0,\"#8e0152\"],[0.1,\"#c51b7d\"],[0.2,\"#de77ae\"],[0.3,\"#f1b6da\"],[0.4,\"#fde0ef\"],[0.5,\"#f7f7f7\"],[0.6,\"#e6f5d0\"],[0.7,\"#b8e186\"],[0.8,\"#7fbc41\"],[0.9,\"#4d9221\"],[1,\"#276419\"]],\"sequential\":[[0.0,\"#0d0887\"],[0.1111111111111111,\"#46039f\"],[0.2222222222222222,\"#7201a8\"],[0.3333333333333333,\"#9c179e\"],[0.4444444444444444,\"#bd3786\"],[0.5555555555555556,\"#d8576b\"],[0.6666666666666666,\"#ed7953\"],[0.7777777777777778,\"#fb9f3a\"],[0.8888888888888888,\"#fdca26\"],[1.0,\"#f0f921\"]],\"sequentialminus\":[[0.0,\"#0d0887\"],[0.1111111111111111,\"#46039f\"],[0.2222222222222222,\"#7201a8\"],[0.3333333333333333,\"#9c179e\"],[0.4444444444444444,\"#bd3786\"],[0.5555555555555556,\"#d8576b\"],[0.6666666666666666,\"#ed7953\"],[0.7777777777777778,\"#fb9f3a\"],[0.8888888888888888,\"#fdca26\"],[1.0,\"#f0f921\"]]},\"colorway\":[\"#636efa\",\"#EF553B\",\"#00cc96\",\"#ab63fa\",\"#FFA15A\",\"#19d3f3\",\"#FF6692\",\"#B6E880\",\"#FF97FF\",\"#FECB52\"],\"font\":{\"color\":\"#2a3f5f\"},\"geo\":{\"bgcolor\":\"white\",\"lakecolor\":\"white\",\"landcolor\":\"#E5ECF6\",\"showlakes\":true,\"showland\":true,\"subunitcolor\":\"white\"},\"hoverlabel\":{\"align\":\"left\"},\"hovermode\":\"closest\",\"mapbox\":{\"style\":\"light\"},\"paper_bgcolor\":\"white\",\"plot_bgcolor\":\"#E5ECF6\",\"polar\":{\"angularaxis\":{\"gridcolor\":\"white\",\"linecolor\":\"white\",\"ticks\":\"\"},\"bgcolor\":\"#E5ECF6\",\"radialaxis\":{\"gridcolor\":\"white\",\"linecolor\":\"white\",\"ticks\":\"\"}},\"scene\":{\"xaxis\":{\"backgroundcolor\":\"#E5ECF6\",\"gridcolor\":\"white\",\"gridwidth\":2,\"linecolor\":\"white\",\"showbackground\":true,\"ticks\":\"\",\"zerolinecolor\":\"white\"},\"yaxis\":{\"backgroundcolor\":\"#E5ECF6\",\"gridcolor\":\"white\",\"gridwidth\":2,\"linecolor\":\"white\",\"showbackground\":true,\"ticks\":\"\",\"zerolinecolor\":\"white\"},\"zaxis\":{\"backgroundcolor\":\"#E5ECF6\",\"gridcolor\":\"white\",\"gridwidth\":2,\"linecolor\":\"white\",\"showbackground\":true,\"ticks\":\"\",\"zerolinecolor\":\"white\"}},\"shapedefaults\":{\"line\":{\"color\":\"#2a3f5f\"}},\"ternary\":{\"aaxis\":{\"gridcolor\":\"white\",\"linecolor\":\"white\",\"ticks\":\"\"},\"baxis\":{\"gridcolor\":\"white\",\"linecolor\":\"white\",\"ticks\":\"\"},\"bgcolor\":\"#E5ECF6\",\"caxis\":{\"gridcolor\":\"white\",\"linecolor\":\"white\",\"ticks\":\"\"}},\"title\":{\"x\":0.05},\"xaxis\":{\"automargin\":true,\"gridcolor\":\"white\",\"linecolor\":\"white\",\"ticks\":\"\",\"title\":{\"standoff\":15},\"zerolinecolor\":\"white\",\"zerolinewidth\":2},\"yaxis\":{\"automargin\":true,\"gridcolor\":\"white\",\"linecolor\":\"white\",\"ticks\":\"\",\"title\":{\"standoff\":15},\"zerolinecolor\":\"white\",\"zerolinewidth\":2}}},\"title\":{\"font\":{\"color\":\"#4D5663\"}},\"xaxis\":{\"gridcolor\":\"#E1E5ED\",\"showgrid\":true,\"tickfont\":{\"color\":\"#4D5663\"},\"title\":{\"font\":{\"color\":\"#4D5663\"},\"text\":\"\"},\"zerolinecolor\":\"#E1E5ED\"},\"yaxis\":{\"gridcolor\":\"#E1E5ED\",\"showgrid\":true,\"tickfont\":{\"color\":\"#4D5663\"},\"title\":{\"font\":{\"color\":\"#4D5663\"},\"text\":\"\"},\"zerolinecolor\":\"#E1E5ED\"}},                        {\"showLink\": true, \"linkText\": \"Export to plot.ly\", \"plotlyServerURL\": \"https://plot.ly\", \"responsive\": true}                    ).then(function(){\n",
       "                            \n",
       "var gd = document.getElementById('ef6620fa-c0c5-4dd2-ac5b-fa5232ee71c0');\n",
       "var x = new MutationObserver(function (mutations, observer) {{\n",
       "        var display = window.getComputedStyle(gd).display;\n",
       "        if (!display || display === 'none') {{\n",
       "            console.log([gd, 'removed!']);\n",
       "            Plotly.purge(gd);\n",
       "            observer.disconnect();\n",
       "        }}\n",
       "}});\n",
       "\n",
       "// Listen for the removal of the full notebook cells\n",
       "var notebookContainer = gd.closest('#notebook-container');\n",
       "if (notebookContainer) {{\n",
       "    x.observe(notebookContainer, {childList: true});\n",
       "}}\n",
       "\n",
       "// Listen for the clearing of the current output cell\n",
       "var outputEl = gd.closest('.output');\n",
       "if (outputEl) {{\n",
       "    x.observe(outputEl, {childList: true});\n",
       "}}\n",
       "\n",
       "                        })                };                });            </script>        </div>"
      ]
     },
     "metadata": {},
     "output_type": "display_data"
    }
   ],
   "source": [
    "df.count().iplot(kind='bar') # kind = 'bar', 'scatter', 'box', 'surface', 'histogram'"
   ]
  },
  {
   "cell_type": "markdown",
   "metadata": {},
   "source": [
    "## Boxplots"
   ]
  },
  {
   "cell_type": "code",
   "execution_count": 39,
   "metadata": {},
   "outputs": [
    {
     "data": {
      "application/vnd.plotly.v1+json": {
       "config": {
        "linkText": "Export to plot.ly",
        "plotlyServerURL": "https://plot.ly",
        "showLink": true
       },
       "data": [
        {
         "boxpoints": false,
         "line": {
          "width": 1.3
         },
         "marker": {
          "color": "rgba(255, 153, 51, 1.0)"
         },
         "name": "A",
         "orientation": "v",
         "type": "box",
         "y": [
          0.7564148323989057,
          -0.7823269068609948,
          -0.6679174325975421,
          0.7235504577605787,
          0.6763583983443798,
          1.6113674312227713,
          0.3252015273144834,
          0.09745320106895272,
          1.0649772116322407,
          -0.7859675316540942,
          0.08690115585301378,
          0.9124025065812114,
          1.3087334560716568,
          1.4912116709568073,
          0.29323517954194406,
          0.5629978990864077,
          -0.17696272403977917,
          0.7202519868531352,
          -0.4472416619570027,
          -0.660042052378561,
          -0.4397720161985938,
          0.36183913297429054,
          0.1906764296882429,
          0.27408170227575673,
          0.1628582735776629,
          0.5419999037348392,
          0.32244203981230574,
          -1.2923184092498095,
          -0.009592358103626993,
          -0.23483095390226533,
          0.18411729182079248,
          -0.1852600830234388,
          0.8368833908066343,
          1.6994622242236421,
          0.649640777805914,
          1.5448735980291246,
          1.6270987436436612,
          0.4542284041676613,
          -0.4339774915395808,
          0.30665794494472826,
          -3.0884024397121084,
          0.3451163531976607,
          0.6613568430139521,
          1.3718747343032527,
          -1.285891701134262,
          -0.8783682945663221,
          1.4174311776154207,
          -0.6249606412129409,
          -0.5342037438274139,
          -0.307321938309405,
          -2.2111762025380677,
          0.117896763562164,
          1.9426338686747864,
          1.0168105624881245,
          0.3869886209354972,
          -0.8659122284321883,
          -0.11578510886853562,
          -1.1044854111223756,
          -0.287017688548948,
          0.26941239292262464,
          -0.7721015839501733,
          0.08547677454955224,
          0.7253610559010434,
          0.7161489578101378,
          0.5128370699212017,
          -1.7628809336520286,
          0.16456924899681624,
          0.0594714216728452,
          0.3365873177762397,
          0.8803056482467614,
          -0.5938200363087336,
          0.6800430927857745,
          0.3235617112715458,
          0.422123778250071,
          -0.6941982779585049,
          -0.8762368200842747,
          -0.9242598560469263,
          -0.9583537917768091,
          -1.0755751128260154,
          0.43081351893442565,
          -1.6547441309159239,
          -0.1884358000165739,
          1.253583356296939,
          -1.1401442981765864,
          -0.6320394030275134,
          0.010293848187346874,
          -0.3772064178610946,
          0.8921343285996494,
          0.14347786896033332,
          -1.1206987434644389,
          0.8955106344603044,
          -1.042340672290424,
          -0.7800271391209364,
          -0.5450798609737193,
          -0.49155899434435724,
          0.08785907358821855,
          1.0182645649729956,
          0.19540175660096615,
          0.9465171960423777,
          -1.6119347742049708
         ]
        },
        {
         "boxpoints": false,
         "line": {
          "width": 1.3
         },
         "marker": {
          "color": "rgba(55, 128, 191, 1.0)"
         },
         "name": "B",
         "orientation": "v",
         "type": "box",
         "y": [
          -0.7202641597043901,
          1.6111205987959558,
          -1.4045100480600723,
          -0.2305213090636333,
          0.09197263343256602,
          0.45650077090452507,
          -0.6090188815380735,
          -0.5309964497803003,
          -1.2141722737221585,
          0.3212170216275696,
          0.828923518012042,
          -0.00933759673273959,
          -0.8335054288748508,
          -0.22221466515421448,
          0.04137618145202107,
          0.17951244762335802,
          -1.2696099673173946,
          0.5169171178129851,
          0.5065825166155579,
          1.8727156509898149,
          -0.5946116913527016,
          -0.22748976950221245,
          1.4451419764392834,
          0.8734901467478385,
          0.08935941642291524,
          0.29568606105209533,
          -0.32030634026059673,
          -1.6041681395208156,
          0.028851909646146416,
          1.1615069704693648,
          1.3514765080377995,
          -0.4202353106446499,
          -0.4143726260211676,
          -1.7417579765985356,
          -0.6273257368167466,
          1.8605844366345645,
          0.7252898789669653,
          0.21722302774247051,
          0.6588080497650206,
          1.827701914229741,
          -1.3562021106860425,
          -1.6458974264261332,
          -1.890046325987327,
          0.5737985522903889,
          0.3349639343196755,
          -0.2275114335122723,
          0.45931782624536954,
          0.6009662483616324,
          -1.7640307386103249,
          -0.9698541623961516,
          0.5199410633750858,
          0.9722666787904833,
          1.1787911690208148,
          1.8889928269480079,
          0.1566215641713116,
          -0.6081716736322273,
          -1.9602317892889807,
          1.2965973839107108,
          0.7159400166046389,
          0.4104977037587753,
          0.7680084938921184,
          0.9102155990867794,
          1.4943969050212076,
          -1.1648035311483567,
          -1.8230587897093773,
          -0.4858606905365588,
          -1.342820546572071,
          1.1537637404540777,
          1.366678250402521,
          0.39291878057448937,
          -0.15295787191672727,
          -0.6164898683069034,
          -0.5028267703717849,
          -2.7191095485107715,
          0.43783276284416356,
          -0.7997778310334515,
          -0.11487376829842402,
          -1.260999076134505,
          0.11399726686639165,
          0.2452984918996693,
          0.030593204208160456,
          -0.2251417106641021,
          -0.38244207641083616,
          0.5386447328890802,
          -0.15681869059494968,
          -0.05021440734054216,
          -0.7789516064974458,
          -0.15034282374484073,
          -0.3131345538869527,
          1.774215079269531,
          0.9865362990987013,
          1.8749138989827594,
          0.37332922832157256,
          -1.6426544840578008,
          -0.3729810561155604,
          0.4118726167714622,
          1.029847585474093,
          0.8452000799540336,
          -0.7562889275417679,
          -1.2211260855955912
         ]
        },
        {
         "boxpoints": false,
         "line": {
          "width": 1.3
         },
         "marker": {
          "color": "rgba(50, 171, 96, 1.0)"
         },
         "name": "C",
         "orientation": "v",
         "type": "box",
         "y": [
          -0.03702877339300592,
          1.2331533142400917,
          -0.07801796479441349,
          -0.7022272834484142,
          0.16055904048652556,
          0.6929775355441083,
          -1.1449585593341554,
          0.40135645324400365,
          -0.889659903514935,
          0.38452554129214334,
          -0.2974578249115507,
          0.5731119993941826,
          0.4696251624142449,
          -1.5016012050161727,
          0.9943453955463964,
          -0.31305809335522206,
          -0.7892174106875199,
          0.3970078958743742,
          0.5714551589461301,
          -1.2066921358074794,
          -0.03916757553491572,
          0.23398654419873882,
          -0.28626344026281697,
          0.4439016799270692,
          -0.7991734907578689,
          0.7881738846112302,
          0.6379973315075914,
          -1.2830615123765934,
          1.6882900489987276,
          0.8266803198098865,
          0.2419021321773128,
          0.06775806315874908,
          -0.9970942772691014,
          0.05186019900237702,
          -0.18617515656074715,
          -0.5500921313908232,
          0.8579128652098441,
          -0.5116745793291424,
          0.30172082956830354,
          -0.5142601512813955,
          -0.420210836594552,
          0.17003545771266135,
          -1.9983573113151523,
          1.7740554152108934,
          -0.6638565827752227,
          -0.8297814245822754,
          -0.708663491298998,
          0.28522687857953893,
          -0.9506172941009644,
          -0.9739444326745847,
          0.5959920182834592,
          -0.3730617083924842,
          -0.9395409108533466,
          0.3953506978580014,
          0.7354822350294352,
          -0.0561228057421114,
          1.5304477807925632,
          -0.9172322879097585,
          0.45105690524118264,
          -0.47166247399874434,
          1.9374194002871825,
          -1.2826167144649756,
          0.28127733865751,
          1.2133772280926907,
          0.9105399864905382,
          2.6737388260590977,
          1.5537777593044229,
          -1.6042838907765453,
          -0.21635330257050345,
          0.14297271198687375,
          -0.41236779964503906,
          0.9398706840773439,
          1.6353543625830789,
          -0.841009031316667,
          0.937751206446483,
          -0.19736424892746166,
          0.1324504360304438,
          -0.06596259590925552,
          1.5055524764575179,
          -1.0957502313993932,
          -1.106030877978789,
          0.4852737804914742,
          0.8552865262140152,
          -0.08584910479123904,
          -0.7136330802812939,
          -0.5872515162723292,
          0.4589158663294076,
          0.585492152852584,
          -0.46661448830111424,
          0.5473780607940563,
          0.3548314533758728,
          0.10120052546689835,
          0.47244966968598817,
          -0.6211724569824977,
          1.2702029090922695,
          -1.801943386303626,
          -0.3977648442931152,
          0.5305927196043201,
          -0.8318740959515525,
          -0.0999865483109285
         ]
        },
        {
         "boxpoints": false,
         "line": {
          "width": 1.3
         },
         "marker": {
          "color": "rgba(128, 0, 128, 1.0)"
         },
         "name": "D",
         "orientation": "v",
         "type": "box",
         "y": [
          -0.8734490919449758,
          -0.6377165182152058,
          -0.9347398277176195,
          0.5406399529890071,
          1.341173967904742,
          0.41387998070743537,
          0.5537218267039099,
          1.1467377881568175,
          -0.3911521227294417,
          0.032938045468640875,
          0.21360681464061274,
          0.574292242304888,
          -0.058072042531966635,
          -0.5856505706098373,
          -0.14173900106861057,
          0.41192650711160295,
          -0.19085476467479195,
          -1.308603853535363,
          -0.031867599813434594,
          1.0738654245537662,
          3.388810624441809,
          0.9351645918281237,
          0.21556793789102505,
          -0.25270809218800333,
          -0.7421025237070608,
          -1.5762235008352279,
          1.574517541342876,
          0.5985193109908948,
          0.09785221855150467,
          -0.8939627568218563,
          -0.9114314007148135,
          -0.7852927743123335,
          0.09539761403913215,
          -1.3273030823342173,
          -0.42856470672001673,
          0.552020456198069,
          -1.174373095441438,
          2.2563731583912756,
          -1.2037301297350371,
          0.9807112255372464,
          -1.1235948900923094,
          1.7670965259683982,
          -0.17021676615415063,
          -1.8333956792458719,
          -0.9382658499497022,
          -1.1894448769715698,
          1.1097280235427942,
          -0.05285747126028578,
          0.2662053187286402,
          0.9641926838169147,
          0.49708149119080225,
          1.3355327415526494,
          0.7959244674162735,
          0.25908089060661355,
          -0.7709957797796189,
          -1.8867996732239452,
          1.6007369716116406,
          0.22346676721610725,
          -0.25709166669861605,
          -0.6126254873783411,
          0.3379494556326407,
          1.7238715109014708,
          -1.6342016111857502,
          -1.8054209648457757,
          0.0057656863266193695,
          0.5807572429887081,
          -0.24084930158420273,
          0.46339495964105354,
          -0.7274227579627042,
          -0.5908781317043639,
          1.5807677607461796,
          0.28292144157482824,
          -1.2048725161584564,
          1.3186367045540346,
          -0.9044688174167138,
          0.543196625595008,
          2.3159964110839013,
          1.277936910956555,
          0.7186612173467221,
          -0.45685369846256685,
          -0.3179223952427716,
          -1.0765462891961397,
          0.36217185983351236,
          0.6181520195982304,
          -0.737585726286838,
          0.27036714038230936,
          0.12241782704649012,
          -0.9196487723647185,
          0.2629775652016023,
          1.7955012830654227,
          1.0460540868648192,
          0.2397550091957434,
          -0.22248193491512402,
          1.5417903540225741,
          -1.1513077965149632,
          -0.32730940498417577,
          -0.6269467248298358,
          0.44257361476171037,
          1.3999372607169542,
          0.06443005050411026
         ]
        }
       ],
       "layout": {
        "legend": {
         "bgcolor": "#F5F6F9",
         "font": {
          "color": "#4D5663"
         }
        },
        "paper_bgcolor": "#F5F6F9",
        "plot_bgcolor": "#F5F6F9",
        "template": {
         "data": {
          "bar": [
           {
            "error_x": {
             "color": "#2a3f5f"
            },
            "error_y": {
             "color": "#2a3f5f"
            },
            "marker": {
             "line": {
              "color": "#E5ECF6",
              "width": 0.5
             },
             "pattern": {
              "fillmode": "overlay",
              "size": 10,
              "solidity": 0.2
             }
            },
            "type": "bar"
           }
          ],
          "barpolar": [
           {
            "marker": {
             "line": {
              "color": "#E5ECF6",
              "width": 0.5
             },
             "pattern": {
              "fillmode": "overlay",
              "size": 10,
              "solidity": 0.2
             }
            },
            "type": "barpolar"
           }
          ],
          "carpet": [
           {
            "aaxis": {
             "endlinecolor": "#2a3f5f",
             "gridcolor": "white",
             "linecolor": "white",
             "minorgridcolor": "white",
             "startlinecolor": "#2a3f5f"
            },
            "baxis": {
             "endlinecolor": "#2a3f5f",
             "gridcolor": "white",
             "linecolor": "white",
             "minorgridcolor": "white",
             "startlinecolor": "#2a3f5f"
            },
            "type": "carpet"
           }
          ],
          "choropleth": [
           {
            "colorbar": {
             "outlinewidth": 0,
             "ticks": ""
            },
            "type": "choropleth"
           }
          ],
          "contour": [
           {
            "colorbar": {
             "outlinewidth": 0,
             "ticks": ""
            },
            "colorscale": [
             [
              0,
              "#0d0887"
             ],
             [
              0.1111111111111111,
              "#46039f"
             ],
             [
              0.2222222222222222,
              "#7201a8"
             ],
             [
              0.3333333333333333,
              "#9c179e"
             ],
             [
              0.4444444444444444,
              "#bd3786"
             ],
             [
              0.5555555555555556,
              "#d8576b"
             ],
             [
              0.6666666666666666,
              "#ed7953"
             ],
             [
              0.7777777777777778,
              "#fb9f3a"
             ],
             [
              0.8888888888888888,
              "#fdca26"
             ],
             [
              1,
              "#f0f921"
             ]
            ],
            "type": "contour"
           }
          ],
          "contourcarpet": [
           {
            "colorbar": {
             "outlinewidth": 0,
             "ticks": ""
            },
            "type": "contourcarpet"
           }
          ],
          "heatmap": [
           {
            "colorbar": {
             "outlinewidth": 0,
             "ticks": ""
            },
            "colorscale": [
             [
              0,
              "#0d0887"
             ],
             [
              0.1111111111111111,
              "#46039f"
             ],
             [
              0.2222222222222222,
              "#7201a8"
             ],
             [
              0.3333333333333333,
              "#9c179e"
             ],
             [
              0.4444444444444444,
              "#bd3786"
             ],
             [
              0.5555555555555556,
              "#d8576b"
             ],
             [
              0.6666666666666666,
              "#ed7953"
             ],
             [
              0.7777777777777778,
              "#fb9f3a"
             ],
             [
              0.8888888888888888,
              "#fdca26"
             ],
             [
              1,
              "#f0f921"
             ]
            ],
            "type": "heatmap"
           }
          ],
          "heatmapgl": [
           {
            "colorbar": {
             "outlinewidth": 0,
             "ticks": ""
            },
            "colorscale": [
             [
              0,
              "#0d0887"
             ],
             [
              0.1111111111111111,
              "#46039f"
             ],
             [
              0.2222222222222222,
              "#7201a8"
             ],
             [
              0.3333333333333333,
              "#9c179e"
             ],
             [
              0.4444444444444444,
              "#bd3786"
             ],
             [
              0.5555555555555556,
              "#d8576b"
             ],
             [
              0.6666666666666666,
              "#ed7953"
             ],
             [
              0.7777777777777778,
              "#fb9f3a"
             ],
             [
              0.8888888888888888,
              "#fdca26"
             ],
             [
              1,
              "#f0f921"
             ]
            ],
            "type": "heatmapgl"
           }
          ],
          "histogram": [
           {
            "marker": {
             "pattern": {
              "fillmode": "overlay",
              "size": 10,
              "solidity": 0.2
             }
            },
            "type": "histogram"
           }
          ],
          "histogram2d": [
           {
            "colorbar": {
             "outlinewidth": 0,
             "ticks": ""
            },
            "colorscale": [
             [
              0,
              "#0d0887"
             ],
             [
              0.1111111111111111,
              "#46039f"
             ],
             [
              0.2222222222222222,
              "#7201a8"
             ],
             [
              0.3333333333333333,
              "#9c179e"
             ],
             [
              0.4444444444444444,
              "#bd3786"
             ],
             [
              0.5555555555555556,
              "#d8576b"
             ],
             [
              0.6666666666666666,
              "#ed7953"
             ],
             [
              0.7777777777777778,
              "#fb9f3a"
             ],
             [
              0.8888888888888888,
              "#fdca26"
             ],
             [
              1,
              "#f0f921"
             ]
            ],
            "type": "histogram2d"
           }
          ],
          "histogram2dcontour": [
           {
            "colorbar": {
             "outlinewidth": 0,
             "ticks": ""
            },
            "colorscale": [
             [
              0,
              "#0d0887"
             ],
             [
              0.1111111111111111,
              "#46039f"
             ],
             [
              0.2222222222222222,
              "#7201a8"
             ],
             [
              0.3333333333333333,
              "#9c179e"
             ],
             [
              0.4444444444444444,
              "#bd3786"
             ],
             [
              0.5555555555555556,
              "#d8576b"
             ],
             [
              0.6666666666666666,
              "#ed7953"
             ],
             [
              0.7777777777777778,
              "#fb9f3a"
             ],
             [
              0.8888888888888888,
              "#fdca26"
             ],
             [
              1,
              "#f0f921"
             ]
            ],
            "type": "histogram2dcontour"
           }
          ],
          "mesh3d": [
           {
            "colorbar": {
             "outlinewidth": 0,
             "ticks": ""
            },
            "type": "mesh3d"
           }
          ],
          "parcoords": [
           {
            "line": {
             "colorbar": {
              "outlinewidth": 0,
              "ticks": ""
             }
            },
            "type": "parcoords"
           }
          ],
          "pie": [
           {
            "automargin": true,
            "type": "pie"
           }
          ],
          "scatter": [
           {
            "fillpattern": {
             "fillmode": "overlay",
             "size": 10,
             "solidity": 0.2
            },
            "type": "scatter"
           }
          ],
          "scatter3d": [
           {
            "line": {
             "colorbar": {
              "outlinewidth": 0,
              "ticks": ""
             }
            },
            "marker": {
             "colorbar": {
              "outlinewidth": 0,
              "ticks": ""
             }
            },
            "type": "scatter3d"
           }
          ],
          "scattercarpet": [
           {
            "marker": {
             "colorbar": {
              "outlinewidth": 0,
              "ticks": ""
             }
            },
            "type": "scattercarpet"
           }
          ],
          "scattergeo": [
           {
            "marker": {
             "colorbar": {
              "outlinewidth": 0,
              "ticks": ""
             }
            },
            "type": "scattergeo"
           }
          ],
          "scattergl": [
           {
            "marker": {
             "colorbar": {
              "outlinewidth": 0,
              "ticks": ""
             }
            },
            "type": "scattergl"
           }
          ],
          "scattermapbox": [
           {
            "marker": {
             "colorbar": {
              "outlinewidth": 0,
              "ticks": ""
             }
            },
            "type": "scattermapbox"
           }
          ],
          "scatterpolar": [
           {
            "marker": {
             "colorbar": {
              "outlinewidth": 0,
              "ticks": ""
             }
            },
            "type": "scatterpolar"
           }
          ],
          "scatterpolargl": [
           {
            "marker": {
             "colorbar": {
              "outlinewidth": 0,
              "ticks": ""
             }
            },
            "type": "scatterpolargl"
           }
          ],
          "scatterternary": [
           {
            "marker": {
             "colorbar": {
              "outlinewidth": 0,
              "ticks": ""
             }
            },
            "type": "scatterternary"
           }
          ],
          "surface": [
           {
            "colorbar": {
             "outlinewidth": 0,
             "ticks": ""
            },
            "colorscale": [
             [
              0,
              "#0d0887"
             ],
             [
              0.1111111111111111,
              "#46039f"
             ],
             [
              0.2222222222222222,
              "#7201a8"
             ],
             [
              0.3333333333333333,
              "#9c179e"
             ],
             [
              0.4444444444444444,
              "#bd3786"
             ],
             [
              0.5555555555555556,
              "#d8576b"
             ],
             [
              0.6666666666666666,
              "#ed7953"
             ],
             [
              0.7777777777777778,
              "#fb9f3a"
             ],
             [
              0.8888888888888888,
              "#fdca26"
             ],
             [
              1,
              "#f0f921"
             ]
            ],
            "type": "surface"
           }
          ],
          "table": [
           {
            "cells": {
             "fill": {
              "color": "#EBF0F8"
             },
             "line": {
              "color": "white"
             }
            },
            "header": {
             "fill": {
              "color": "#C8D4E3"
             },
             "line": {
              "color": "white"
             }
            },
            "type": "table"
           }
          ]
         },
         "layout": {
          "annotationdefaults": {
           "arrowcolor": "#2a3f5f",
           "arrowhead": 0,
           "arrowwidth": 1
          },
          "autotypenumbers": "strict",
          "coloraxis": {
           "colorbar": {
            "outlinewidth": 0,
            "ticks": ""
           }
          },
          "colorscale": {
           "diverging": [
            [
             0,
             "#8e0152"
            ],
            [
             0.1,
             "#c51b7d"
            ],
            [
             0.2,
             "#de77ae"
            ],
            [
             0.3,
             "#f1b6da"
            ],
            [
             0.4,
             "#fde0ef"
            ],
            [
             0.5,
             "#f7f7f7"
            ],
            [
             0.6,
             "#e6f5d0"
            ],
            [
             0.7,
             "#b8e186"
            ],
            [
             0.8,
             "#7fbc41"
            ],
            [
             0.9,
             "#4d9221"
            ],
            [
             1,
             "#276419"
            ]
           ],
           "sequential": [
            [
             0,
             "#0d0887"
            ],
            [
             0.1111111111111111,
             "#46039f"
            ],
            [
             0.2222222222222222,
             "#7201a8"
            ],
            [
             0.3333333333333333,
             "#9c179e"
            ],
            [
             0.4444444444444444,
             "#bd3786"
            ],
            [
             0.5555555555555556,
             "#d8576b"
            ],
            [
             0.6666666666666666,
             "#ed7953"
            ],
            [
             0.7777777777777778,
             "#fb9f3a"
            ],
            [
             0.8888888888888888,
             "#fdca26"
            ],
            [
             1,
             "#f0f921"
            ]
           ],
           "sequentialminus": [
            [
             0,
             "#0d0887"
            ],
            [
             0.1111111111111111,
             "#46039f"
            ],
            [
             0.2222222222222222,
             "#7201a8"
            ],
            [
             0.3333333333333333,
             "#9c179e"
            ],
            [
             0.4444444444444444,
             "#bd3786"
            ],
            [
             0.5555555555555556,
             "#d8576b"
            ],
            [
             0.6666666666666666,
             "#ed7953"
            ],
            [
             0.7777777777777778,
             "#fb9f3a"
            ],
            [
             0.8888888888888888,
             "#fdca26"
            ],
            [
             1,
             "#f0f921"
            ]
           ]
          },
          "colorway": [
           "#636efa",
           "#EF553B",
           "#00cc96",
           "#ab63fa",
           "#FFA15A",
           "#19d3f3",
           "#FF6692",
           "#B6E880",
           "#FF97FF",
           "#FECB52"
          ],
          "font": {
           "color": "#2a3f5f"
          },
          "geo": {
           "bgcolor": "white",
           "lakecolor": "white",
           "landcolor": "#E5ECF6",
           "showlakes": true,
           "showland": true,
           "subunitcolor": "white"
          },
          "hoverlabel": {
           "align": "left"
          },
          "hovermode": "closest",
          "mapbox": {
           "style": "light"
          },
          "paper_bgcolor": "white",
          "plot_bgcolor": "#E5ECF6",
          "polar": {
           "angularaxis": {
            "gridcolor": "white",
            "linecolor": "white",
            "ticks": ""
           },
           "bgcolor": "#E5ECF6",
           "radialaxis": {
            "gridcolor": "white",
            "linecolor": "white",
            "ticks": ""
           }
          },
          "scene": {
           "xaxis": {
            "backgroundcolor": "#E5ECF6",
            "gridcolor": "white",
            "gridwidth": 2,
            "linecolor": "white",
            "showbackground": true,
            "ticks": "",
            "zerolinecolor": "white"
           },
           "yaxis": {
            "backgroundcolor": "#E5ECF6",
            "gridcolor": "white",
            "gridwidth": 2,
            "linecolor": "white",
            "showbackground": true,
            "ticks": "",
            "zerolinecolor": "white"
           },
           "zaxis": {
            "backgroundcolor": "#E5ECF6",
            "gridcolor": "white",
            "gridwidth": 2,
            "linecolor": "white",
            "showbackground": true,
            "ticks": "",
            "zerolinecolor": "white"
           }
          },
          "shapedefaults": {
           "line": {
            "color": "#2a3f5f"
           }
          },
          "ternary": {
           "aaxis": {
            "gridcolor": "white",
            "linecolor": "white",
            "ticks": ""
           },
           "baxis": {
            "gridcolor": "white",
            "linecolor": "white",
            "ticks": ""
           },
           "bgcolor": "#E5ECF6",
           "caxis": {
            "gridcolor": "white",
            "linecolor": "white",
            "ticks": ""
           }
          },
          "title": {
           "x": 0.05
          },
          "xaxis": {
           "automargin": true,
           "gridcolor": "white",
           "linecolor": "white",
           "ticks": "",
           "title": {
            "standoff": 15
           },
           "zerolinecolor": "white",
           "zerolinewidth": 2
          },
          "yaxis": {
           "automargin": true,
           "gridcolor": "white",
           "linecolor": "white",
           "ticks": "",
           "title": {
            "standoff": 15
           },
           "zerolinecolor": "white",
           "zerolinewidth": 2
          }
         }
        },
        "title": {
         "font": {
          "color": "#4D5663"
         }
        },
        "xaxis": {
         "gridcolor": "#E1E5ED",
         "showgrid": true,
         "tickfont": {
          "color": "#4D5663"
         },
         "title": {
          "font": {
           "color": "#4D5663"
          },
          "text": ""
         },
         "zerolinecolor": "#E1E5ED"
        },
        "yaxis": {
         "gridcolor": "#E1E5ED",
         "showgrid": true,
         "tickfont": {
          "color": "#4D5663"
         },
         "title": {
          "font": {
           "color": "#4D5663"
          },
          "text": ""
         },
         "zerolinecolor": "#E1E5ED"
        }
       }
      },
      "text/html": [
       "<div>                            <div id=\"5b9f12c2-c6c9-4666-ba6d-09ce7becfa51\" class=\"plotly-graph-div\" style=\"height:525px; width:100%;\"></div>            <script type=\"text/javascript\">                require([\"plotly\"], function(Plotly) {                    window.PLOTLYENV=window.PLOTLYENV || {};\n",
       "                    window.PLOTLYENV.BASE_URL='https://plot.ly';                                    if (document.getElementById(\"5b9f12c2-c6c9-4666-ba6d-09ce7becfa51\")) {                    Plotly.newPlot(                        \"5b9f12c2-c6c9-4666-ba6d-09ce7becfa51\",                        [{\"boxpoints\":false,\"line\":{\"width\":1.3},\"marker\":{\"color\":\"rgba(255, 153, 51, 1.0)\"},\"name\":\"A\",\"orientation\":\"v\",\"y\":[0.7564148323989057,-0.7823269068609948,-0.6679174325975421,0.7235504577605787,0.6763583983443798,1.6113674312227713,0.3252015273144834,0.09745320106895272,1.0649772116322407,-0.7859675316540942,0.08690115585301378,0.9124025065812114,1.3087334560716568,1.4912116709568073,0.29323517954194406,0.5629978990864077,-0.17696272403977917,0.7202519868531352,-0.4472416619570027,-0.660042052378561,-0.4397720161985938,0.36183913297429054,0.1906764296882429,0.27408170227575673,0.1628582735776629,0.5419999037348392,0.32244203981230574,-1.2923184092498095,-0.009592358103626993,-0.23483095390226533,0.18411729182079248,-0.1852600830234388,0.8368833908066343,1.6994622242236421,0.649640777805914,1.5448735980291246,1.6270987436436612,0.4542284041676613,-0.4339774915395808,0.30665794494472826,-3.0884024397121084,0.3451163531976607,0.6613568430139521,1.3718747343032527,-1.285891701134262,-0.8783682945663221,1.4174311776154207,-0.6249606412129409,-0.5342037438274139,-0.307321938309405,-2.2111762025380677,0.117896763562164,1.9426338686747864,1.0168105624881245,0.3869886209354972,-0.8659122284321883,-0.11578510886853562,-1.1044854111223756,-0.287017688548948,0.26941239292262464,-0.7721015839501733,0.08547677454955224,0.7253610559010434,0.7161489578101378,0.5128370699212017,-1.7628809336520286,0.16456924899681624,0.0594714216728452,0.3365873177762397,0.8803056482467614,-0.5938200363087336,0.6800430927857745,0.3235617112715458,0.422123778250071,-0.6941982779585049,-0.8762368200842747,-0.9242598560469263,-0.9583537917768091,-1.0755751128260154,0.43081351893442565,-1.6547441309159239,-0.1884358000165739,1.253583356296939,-1.1401442981765864,-0.6320394030275134,0.010293848187346874,-0.3772064178610946,0.8921343285996494,0.14347786896033332,-1.1206987434644389,0.8955106344603044,-1.042340672290424,-0.7800271391209364,-0.5450798609737193,-0.49155899434435724,0.08785907358821855,1.0182645649729956,0.19540175660096615,0.9465171960423777,-1.6119347742049708],\"type\":\"box\"},{\"boxpoints\":false,\"line\":{\"width\":1.3},\"marker\":{\"color\":\"rgba(55, 128, 191, 1.0)\"},\"name\":\"B\",\"orientation\":\"v\",\"y\":[-0.7202641597043901,1.6111205987959558,-1.4045100480600723,-0.2305213090636333,0.09197263343256602,0.45650077090452507,-0.6090188815380735,-0.5309964497803003,-1.2141722737221585,0.3212170216275696,0.828923518012042,-0.00933759673273959,-0.8335054288748508,-0.22221466515421448,0.04137618145202107,0.17951244762335802,-1.2696099673173946,0.5169171178129851,0.5065825166155579,1.8727156509898149,-0.5946116913527016,-0.22748976950221245,1.4451419764392834,0.8734901467478385,0.08935941642291524,0.29568606105209533,-0.32030634026059673,-1.6041681395208156,0.028851909646146416,1.1615069704693648,1.3514765080377995,-0.4202353106446499,-0.4143726260211676,-1.7417579765985356,-0.6273257368167466,1.8605844366345645,0.7252898789669653,0.21722302774247051,0.6588080497650206,1.827701914229741,-1.3562021106860425,-1.6458974264261332,-1.890046325987327,0.5737985522903889,0.3349639343196755,-0.2275114335122723,0.45931782624536954,0.6009662483616324,-1.7640307386103249,-0.9698541623961516,0.5199410633750858,0.9722666787904833,1.1787911690208148,1.8889928269480079,0.1566215641713116,-0.6081716736322273,-1.9602317892889807,1.2965973839107108,0.7159400166046389,0.4104977037587753,0.7680084938921184,0.9102155990867794,1.4943969050212076,-1.1648035311483567,-1.8230587897093773,-0.4858606905365588,-1.342820546572071,1.1537637404540777,1.366678250402521,0.39291878057448937,-0.15295787191672727,-0.6164898683069034,-0.5028267703717849,-2.7191095485107715,0.43783276284416356,-0.7997778310334515,-0.11487376829842402,-1.260999076134505,0.11399726686639165,0.2452984918996693,0.030593204208160456,-0.2251417106641021,-0.38244207641083616,0.5386447328890802,-0.15681869059494968,-0.05021440734054216,-0.7789516064974458,-0.15034282374484073,-0.3131345538869527,1.774215079269531,0.9865362990987013,1.8749138989827594,0.37332922832157256,-1.6426544840578008,-0.3729810561155604,0.4118726167714622,1.029847585474093,0.8452000799540336,-0.7562889275417679,-1.2211260855955912],\"type\":\"box\"},{\"boxpoints\":false,\"line\":{\"width\":1.3},\"marker\":{\"color\":\"rgba(50, 171, 96, 1.0)\"},\"name\":\"C\",\"orientation\":\"v\",\"y\":[-0.03702877339300592,1.2331533142400917,-0.07801796479441349,-0.7022272834484142,0.16055904048652556,0.6929775355441083,-1.1449585593341554,0.40135645324400365,-0.889659903514935,0.38452554129214334,-0.2974578249115507,0.5731119993941826,0.4696251624142449,-1.5016012050161727,0.9943453955463964,-0.31305809335522206,-0.7892174106875199,0.3970078958743742,0.5714551589461301,-1.2066921358074794,-0.03916757553491572,0.23398654419873882,-0.28626344026281697,0.4439016799270692,-0.7991734907578689,0.7881738846112302,0.6379973315075914,-1.2830615123765934,1.6882900489987276,0.8266803198098865,0.2419021321773128,0.06775806315874908,-0.9970942772691014,0.05186019900237702,-0.18617515656074715,-0.5500921313908232,0.8579128652098441,-0.5116745793291424,0.30172082956830354,-0.5142601512813955,-0.420210836594552,0.17003545771266135,-1.9983573113151523,1.7740554152108934,-0.6638565827752227,-0.8297814245822754,-0.708663491298998,0.28522687857953893,-0.9506172941009644,-0.9739444326745847,0.5959920182834592,-0.3730617083924842,-0.9395409108533466,0.3953506978580014,0.7354822350294352,-0.0561228057421114,1.5304477807925632,-0.9172322879097585,0.45105690524118264,-0.47166247399874434,1.9374194002871825,-1.2826167144649756,0.28127733865751,1.2133772280926907,0.9105399864905382,2.6737388260590977,1.5537777593044229,-1.6042838907765453,-0.21635330257050345,0.14297271198687375,-0.41236779964503906,0.9398706840773439,1.6353543625830789,-0.841009031316667,0.937751206446483,-0.19736424892746166,0.1324504360304438,-0.06596259590925552,1.5055524764575179,-1.0957502313993932,-1.106030877978789,0.4852737804914742,0.8552865262140152,-0.08584910479123904,-0.7136330802812939,-0.5872515162723292,0.4589158663294076,0.585492152852584,-0.46661448830111424,0.5473780607940563,0.3548314533758728,0.10120052546689835,0.47244966968598817,-0.6211724569824977,1.2702029090922695,-1.801943386303626,-0.3977648442931152,0.5305927196043201,-0.8318740959515525,-0.0999865483109285],\"type\":\"box\"},{\"boxpoints\":false,\"line\":{\"width\":1.3},\"marker\":{\"color\":\"rgba(128, 0, 128, 1.0)\"},\"name\":\"D\",\"orientation\":\"v\",\"y\":[-0.8734490919449758,-0.6377165182152058,-0.9347398277176195,0.5406399529890071,1.341173967904742,0.41387998070743537,0.5537218267039099,1.1467377881568175,-0.3911521227294417,0.032938045468640875,0.21360681464061274,0.574292242304888,-0.058072042531966635,-0.5856505706098373,-0.14173900106861057,0.41192650711160295,-0.19085476467479195,-1.308603853535363,-0.031867599813434594,1.0738654245537662,3.388810624441809,0.9351645918281237,0.21556793789102505,-0.25270809218800333,-0.7421025237070608,-1.5762235008352279,1.574517541342876,0.5985193109908948,0.09785221855150467,-0.8939627568218563,-0.9114314007148135,-0.7852927743123335,0.09539761403913215,-1.3273030823342173,-0.42856470672001673,0.552020456198069,-1.174373095441438,2.2563731583912756,-1.2037301297350371,0.9807112255372464,-1.1235948900923094,1.7670965259683982,-0.17021676615415063,-1.8333956792458719,-0.9382658499497022,-1.1894448769715698,1.1097280235427942,-0.05285747126028578,0.2662053187286402,0.9641926838169147,0.49708149119080225,1.3355327415526494,0.7959244674162735,0.25908089060661355,-0.7709957797796189,-1.8867996732239452,1.6007369716116406,0.22346676721610725,-0.25709166669861605,-0.6126254873783411,0.3379494556326407,1.7238715109014708,-1.6342016111857502,-1.8054209648457757,0.0057656863266193695,0.5807572429887081,-0.24084930158420273,0.46339495964105354,-0.7274227579627042,-0.5908781317043639,1.5807677607461796,0.28292144157482824,-1.2048725161584564,1.3186367045540346,-0.9044688174167138,0.543196625595008,2.3159964110839013,1.277936910956555,0.7186612173467221,-0.45685369846256685,-0.3179223952427716,-1.0765462891961397,0.36217185983351236,0.6181520195982304,-0.737585726286838,0.27036714038230936,0.12241782704649012,-0.9196487723647185,0.2629775652016023,1.7955012830654227,1.0460540868648192,0.2397550091957434,-0.22248193491512402,1.5417903540225741,-1.1513077965149632,-0.32730940498417577,-0.6269467248298358,0.44257361476171037,1.3999372607169542,0.06443005050411026],\"type\":\"box\"}],                        {\"legend\":{\"bgcolor\":\"#F5F6F9\",\"font\":{\"color\":\"#4D5663\"}},\"paper_bgcolor\":\"#F5F6F9\",\"plot_bgcolor\":\"#F5F6F9\",\"template\":{\"data\":{\"barpolar\":[{\"marker\":{\"line\":{\"color\":\"#E5ECF6\",\"width\":0.5},\"pattern\":{\"fillmode\":\"overlay\",\"size\":10,\"solidity\":0.2}},\"type\":\"barpolar\"}],\"bar\":[{\"error_x\":{\"color\":\"#2a3f5f\"},\"error_y\":{\"color\":\"#2a3f5f\"},\"marker\":{\"line\":{\"color\":\"#E5ECF6\",\"width\":0.5},\"pattern\":{\"fillmode\":\"overlay\",\"size\":10,\"solidity\":0.2}},\"type\":\"bar\"}],\"carpet\":[{\"aaxis\":{\"endlinecolor\":\"#2a3f5f\",\"gridcolor\":\"white\",\"linecolor\":\"white\",\"minorgridcolor\":\"white\",\"startlinecolor\":\"#2a3f5f\"},\"baxis\":{\"endlinecolor\":\"#2a3f5f\",\"gridcolor\":\"white\",\"linecolor\":\"white\",\"minorgridcolor\":\"white\",\"startlinecolor\":\"#2a3f5f\"},\"type\":\"carpet\"}],\"choropleth\":[{\"colorbar\":{\"outlinewidth\":0,\"ticks\":\"\"},\"type\":\"choropleth\"}],\"contourcarpet\":[{\"colorbar\":{\"outlinewidth\":0,\"ticks\":\"\"},\"type\":\"contourcarpet\"}],\"contour\":[{\"colorbar\":{\"outlinewidth\":0,\"ticks\":\"\"},\"colorscale\":[[0.0,\"#0d0887\"],[0.1111111111111111,\"#46039f\"],[0.2222222222222222,\"#7201a8\"],[0.3333333333333333,\"#9c179e\"],[0.4444444444444444,\"#bd3786\"],[0.5555555555555556,\"#d8576b\"],[0.6666666666666666,\"#ed7953\"],[0.7777777777777778,\"#fb9f3a\"],[0.8888888888888888,\"#fdca26\"],[1.0,\"#f0f921\"]],\"type\":\"contour\"}],\"heatmapgl\":[{\"colorbar\":{\"outlinewidth\":0,\"ticks\":\"\"},\"colorscale\":[[0.0,\"#0d0887\"],[0.1111111111111111,\"#46039f\"],[0.2222222222222222,\"#7201a8\"],[0.3333333333333333,\"#9c179e\"],[0.4444444444444444,\"#bd3786\"],[0.5555555555555556,\"#d8576b\"],[0.6666666666666666,\"#ed7953\"],[0.7777777777777778,\"#fb9f3a\"],[0.8888888888888888,\"#fdca26\"],[1.0,\"#f0f921\"]],\"type\":\"heatmapgl\"}],\"heatmap\":[{\"colorbar\":{\"outlinewidth\":0,\"ticks\":\"\"},\"colorscale\":[[0.0,\"#0d0887\"],[0.1111111111111111,\"#46039f\"],[0.2222222222222222,\"#7201a8\"],[0.3333333333333333,\"#9c179e\"],[0.4444444444444444,\"#bd3786\"],[0.5555555555555556,\"#d8576b\"],[0.6666666666666666,\"#ed7953\"],[0.7777777777777778,\"#fb9f3a\"],[0.8888888888888888,\"#fdca26\"],[1.0,\"#f0f921\"]],\"type\":\"heatmap\"}],\"histogram2dcontour\":[{\"colorbar\":{\"outlinewidth\":0,\"ticks\":\"\"},\"colorscale\":[[0.0,\"#0d0887\"],[0.1111111111111111,\"#46039f\"],[0.2222222222222222,\"#7201a8\"],[0.3333333333333333,\"#9c179e\"],[0.4444444444444444,\"#bd3786\"],[0.5555555555555556,\"#d8576b\"],[0.6666666666666666,\"#ed7953\"],[0.7777777777777778,\"#fb9f3a\"],[0.8888888888888888,\"#fdca26\"],[1.0,\"#f0f921\"]],\"type\":\"histogram2dcontour\"}],\"histogram2d\":[{\"colorbar\":{\"outlinewidth\":0,\"ticks\":\"\"},\"colorscale\":[[0.0,\"#0d0887\"],[0.1111111111111111,\"#46039f\"],[0.2222222222222222,\"#7201a8\"],[0.3333333333333333,\"#9c179e\"],[0.4444444444444444,\"#bd3786\"],[0.5555555555555556,\"#d8576b\"],[0.6666666666666666,\"#ed7953\"],[0.7777777777777778,\"#fb9f3a\"],[0.8888888888888888,\"#fdca26\"],[1.0,\"#f0f921\"]],\"type\":\"histogram2d\"}],\"histogram\":[{\"marker\":{\"pattern\":{\"fillmode\":\"overlay\",\"size\":10,\"solidity\":0.2}},\"type\":\"histogram\"}],\"mesh3d\":[{\"colorbar\":{\"outlinewidth\":0,\"ticks\":\"\"},\"type\":\"mesh3d\"}],\"parcoords\":[{\"line\":{\"colorbar\":{\"outlinewidth\":0,\"ticks\":\"\"}},\"type\":\"parcoords\"}],\"pie\":[{\"automargin\":true,\"type\":\"pie\"}],\"scatter3d\":[{\"line\":{\"colorbar\":{\"outlinewidth\":0,\"ticks\":\"\"}},\"marker\":{\"colorbar\":{\"outlinewidth\":0,\"ticks\":\"\"}},\"type\":\"scatter3d\"}],\"scattercarpet\":[{\"marker\":{\"colorbar\":{\"outlinewidth\":0,\"ticks\":\"\"}},\"type\":\"scattercarpet\"}],\"scattergeo\":[{\"marker\":{\"colorbar\":{\"outlinewidth\":0,\"ticks\":\"\"}},\"type\":\"scattergeo\"}],\"scattergl\":[{\"marker\":{\"colorbar\":{\"outlinewidth\":0,\"ticks\":\"\"}},\"type\":\"scattergl\"}],\"scattermapbox\":[{\"marker\":{\"colorbar\":{\"outlinewidth\":0,\"ticks\":\"\"}},\"type\":\"scattermapbox\"}],\"scatterpolargl\":[{\"marker\":{\"colorbar\":{\"outlinewidth\":0,\"ticks\":\"\"}},\"type\":\"scatterpolargl\"}],\"scatterpolar\":[{\"marker\":{\"colorbar\":{\"outlinewidth\":0,\"ticks\":\"\"}},\"type\":\"scatterpolar\"}],\"scatter\":[{\"fillpattern\":{\"fillmode\":\"overlay\",\"size\":10,\"solidity\":0.2},\"type\":\"scatter\"}],\"scatterternary\":[{\"marker\":{\"colorbar\":{\"outlinewidth\":0,\"ticks\":\"\"}},\"type\":\"scatterternary\"}],\"surface\":[{\"colorbar\":{\"outlinewidth\":0,\"ticks\":\"\"},\"colorscale\":[[0.0,\"#0d0887\"],[0.1111111111111111,\"#46039f\"],[0.2222222222222222,\"#7201a8\"],[0.3333333333333333,\"#9c179e\"],[0.4444444444444444,\"#bd3786\"],[0.5555555555555556,\"#d8576b\"],[0.6666666666666666,\"#ed7953\"],[0.7777777777777778,\"#fb9f3a\"],[0.8888888888888888,\"#fdca26\"],[1.0,\"#f0f921\"]],\"type\":\"surface\"}],\"table\":[{\"cells\":{\"fill\":{\"color\":\"#EBF0F8\"},\"line\":{\"color\":\"white\"}},\"header\":{\"fill\":{\"color\":\"#C8D4E3\"},\"line\":{\"color\":\"white\"}},\"type\":\"table\"}]},\"layout\":{\"annotationdefaults\":{\"arrowcolor\":\"#2a3f5f\",\"arrowhead\":0,\"arrowwidth\":1},\"autotypenumbers\":\"strict\",\"coloraxis\":{\"colorbar\":{\"outlinewidth\":0,\"ticks\":\"\"}},\"colorscale\":{\"diverging\":[[0,\"#8e0152\"],[0.1,\"#c51b7d\"],[0.2,\"#de77ae\"],[0.3,\"#f1b6da\"],[0.4,\"#fde0ef\"],[0.5,\"#f7f7f7\"],[0.6,\"#e6f5d0\"],[0.7,\"#b8e186\"],[0.8,\"#7fbc41\"],[0.9,\"#4d9221\"],[1,\"#276419\"]],\"sequential\":[[0.0,\"#0d0887\"],[0.1111111111111111,\"#46039f\"],[0.2222222222222222,\"#7201a8\"],[0.3333333333333333,\"#9c179e\"],[0.4444444444444444,\"#bd3786\"],[0.5555555555555556,\"#d8576b\"],[0.6666666666666666,\"#ed7953\"],[0.7777777777777778,\"#fb9f3a\"],[0.8888888888888888,\"#fdca26\"],[1.0,\"#f0f921\"]],\"sequentialminus\":[[0.0,\"#0d0887\"],[0.1111111111111111,\"#46039f\"],[0.2222222222222222,\"#7201a8\"],[0.3333333333333333,\"#9c179e\"],[0.4444444444444444,\"#bd3786\"],[0.5555555555555556,\"#d8576b\"],[0.6666666666666666,\"#ed7953\"],[0.7777777777777778,\"#fb9f3a\"],[0.8888888888888888,\"#fdca26\"],[1.0,\"#f0f921\"]]},\"colorway\":[\"#636efa\",\"#EF553B\",\"#00cc96\",\"#ab63fa\",\"#FFA15A\",\"#19d3f3\",\"#FF6692\",\"#B6E880\",\"#FF97FF\",\"#FECB52\"],\"font\":{\"color\":\"#2a3f5f\"},\"geo\":{\"bgcolor\":\"white\",\"lakecolor\":\"white\",\"landcolor\":\"#E5ECF6\",\"showlakes\":true,\"showland\":true,\"subunitcolor\":\"white\"},\"hoverlabel\":{\"align\":\"left\"},\"hovermode\":\"closest\",\"mapbox\":{\"style\":\"light\"},\"paper_bgcolor\":\"white\",\"plot_bgcolor\":\"#E5ECF6\",\"polar\":{\"angularaxis\":{\"gridcolor\":\"white\",\"linecolor\":\"white\",\"ticks\":\"\"},\"bgcolor\":\"#E5ECF6\",\"radialaxis\":{\"gridcolor\":\"white\",\"linecolor\":\"white\",\"ticks\":\"\"}},\"scene\":{\"xaxis\":{\"backgroundcolor\":\"#E5ECF6\",\"gridcolor\":\"white\",\"gridwidth\":2,\"linecolor\":\"white\",\"showbackground\":true,\"ticks\":\"\",\"zerolinecolor\":\"white\"},\"yaxis\":{\"backgroundcolor\":\"#E5ECF6\",\"gridcolor\":\"white\",\"gridwidth\":2,\"linecolor\":\"white\",\"showbackground\":true,\"ticks\":\"\",\"zerolinecolor\":\"white\"},\"zaxis\":{\"backgroundcolor\":\"#E5ECF6\",\"gridcolor\":\"white\",\"gridwidth\":2,\"linecolor\":\"white\",\"showbackground\":true,\"ticks\":\"\",\"zerolinecolor\":\"white\"}},\"shapedefaults\":{\"line\":{\"color\":\"#2a3f5f\"}},\"ternary\":{\"aaxis\":{\"gridcolor\":\"white\",\"linecolor\":\"white\",\"ticks\":\"\"},\"baxis\":{\"gridcolor\":\"white\",\"linecolor\":\"white\",\"ticks\":\"\"},\"bgcolor\":\"#E5ECF6\",\"caxis\":{\"gridcolor\":\"white\",\"linecolor\":\"white\",\"ticks\":\"\"}},\"title\":{\"x\":0.05},\"xaxis\":{\"automargin\":true,\"gridcolor\":\"white\",\"linecolor\":\"white\",\"ticks\":\"\",\"title\":{\"standoff\":15},\"zerolinecolor\":\"white\",\"zerolinewidth\":2},\"yaxis\":{\"automargin\":true,\"gridcolor\":\"white\",\"linecolor\":\"white\",\"ticks\":\"\",\"title\":{\"standoff\":15},\"zerolinecolor\":\"white\",\"zerolinewidth\":2}}},\"title\":{\"font\":{\"color\":\"#4D5663\"}},\"xaxis\":{\"gridcolor\":\"#E1E5ED\",\"showgrid\":true,\"tickfont\":{\"color\":\"#4D5663\"},\"title\":{\"font\":{\"color\":\"#4D5663\"},\"text\":\"\"},\"zerolinecolor\":\"#E1E5ED\"},\"yaxis\":{\"gridcolor\":\"#E1E5ED\",\"showgrid\":true,\"tickfont\":{\"color\":\"#4D5663\"},\"title\":{\"font\":{\"color\":\"#4D5663\"},\"text\":\"\"},\"zerolinecolor\":\"#E1E5ED\"}},                        {\"showLink\": true, \"linkText\": \"Export to plot.ly\", \"plotlyServerURL\": \"https://plot.ly\", \"responsive\": true}                    ).then(function(){\n",
       "                            \n",
       "var gd = document.getElementById('5b9f12c2-c6c9-4666-ba6d-09ce7becfa51');\n",
       "var x = new MutationObserver(function (mutations, observer) {{\n",
       "        var display = window.getComputedStyle(gd).display;\n",
       "        if (!display || display === 'none') {{\n",
       "            console.log([gd, 'removed!']);\n",
       "            Plotly.purge(gd);\n",
       "            observer.disconnect();\n",
       "        }}\n",
       "}});\n",
       "\n",
       "// Listen for the removal of the full notebook cells\n",
       "var notebookContainer = gd.closest('#notebook-container');\n",
       "if (notebookContainer) {{\n",
       "    x.observe(notebookContainer, {childList: true});\n",
       "}}\n",
       "\n",
       "// Listen for the clearing of the current output cell\n",
       "var outputEl = gd.closest('.output');\n",
       "if (outputEl) {{\n",
       "    x.observe(outputEl, {childList: true});\n",
       "}}\n",
       "\n",
       "                        })                };                });            </script>        </div>"
      ]
     },
     "metadata": {},
     "output_type": "display_data"
    }
   ],
   "source": [
    "df.iplot(kind='box')"
   ]
  },
  {
   "cell_type": "markdown",
   "metadata": {},
   "source": [
    "## Superficie 3D"
   ]
  },
  {
   "cell_type": "code",
   "execution_count": 41,
   "metadata": {},
   "outputs": [
    {
     "data": {
      "application/vnd.plotly.v1+json": {
       "config": {
        "linkText": "Export to plot.ly",
        "plotlyServerURL": "https://plot.ly",
        "showLink": true
       },
       "data": [
        {
         "colorscale": [
          [
           0,
           "rgb(165,0,38)"
          ],
          [
           0.1,
           "rgb(215,48,39)"
          ],
          [
           0.2,
           "rgb(244,109,67)"
          ],
          [
           0.3,
           "rgb(253,174,97)"
          ],
          [
           0.4,
           "rgb(254,224,144)"
          ],
          [
           0.5,
           "rgb(255,255,191)"
          ],
          [
           0.6,
           "rgb(224,243,248)"
          ],
          [
           0.7,
           "rgb(171,217,233)"
          ],
          [
           0.8,
           "rgb(116,173,209)"
          ],
          [
           0.9,
           "rgb(69,117,180)"
          ],
          [
           1,
           "rgb(49,54,149)"
          ]
         ],
         "type": "surface",
         "x": [
          0,
          1,
          2,
          3,
          4
         ],
         "y": [
          "x",
          "y",
          "z"
         ],
         "z": [
          [
           1,
           2,
           3,
           4,
           5
          ],
          [
           10,
           20,
           30,
           20,
           10
          ],
          [
           5,
           4,
           3,
           2,
           1
          ]
         ]
        }
       ],
       "layout": {
        "legend": {
         "bgcolor": "#F5F6F9",
         "font": {
          "color": "#4D5663"
         }
        },
        "paper_bgcolor": "#F5F6F9",
        "plot_bgcolor": "#F5F6F9",
        "template": {
         "data": {
          "bar": [
           {
            "error_x": {
             "color": "#2a3f5f"
            },
            "error_y": {
             "color": "#2a3f5f"
            },
            "marker": {
             "line": {
              "color": "#E5ECF6",
              "width": 0.5
             },
             "pattern": {
              "fillmode": "overlay",
              "size": 10,
              "solidity": 0.2
             }
            },
            "type": "bar"
           }
          ],
          "barpolar": [
           {
            "marker": {
             "line": {
              "color": "#E5ECF6",
              "width": 0.5
             },
             "pattern": {
              "fillmode": "overlay",
              "size": 10,
              "solidity": 0.2
             }
            },
            "type": "barpolar"
           }
          ],
          "carpet": [
           {
            "aaxis": {
             "endlinecolor": "#2a3f5f",
             "gridcolor": "white",
             "linecolor": "white",
             "minorgridcolor": "white",
             "startlinecolor": "#2a3f5f"
            },
            "baxis": {
             "endlinecolor": "#2a3f5f",
             "gridcolor": "white",
             "linecolor": "white",
             "minorgridcolor": "white",
             "startlinecolor": "#2a3f5f"
            },
            "type": "carpet"
           }
          ],
          "choropleth": [
           {
            "colorbar": {
             "outlinewidth": 0,
             "ticks": ""
            },
            "type": "choropleth"
           }
          ],
          "contour": [
           {
            "colorbar": {
             "outlinewidth": 0,
             "ticks": ""
            },
            "colorscale": [
             [
              0,
              "#0d0887"
             ],
             [
              0.1111111111111111,
              "#46039f"
             ],
             [
              0.2222222222222222,
              "#7201a8"
             ],
             [
              0.3333333333333333,
              "#9c179e"
             ],
             [
              0.4444444444444444,
              "#bd3786"
             ],
             [
              0.5555555555555556,
              "#d8576b"
             ],
             [
              0.6666666666666666,
              "#ed7953"
             ],
             [
              0.7777777777777778,
              "#fb9f3a"
             ],
             [
              0.8888888888888888,
              "#fdca26"
             ],
             [
              1,
              "#f0f921"
             ]
            ],
            "type": "contour"
           }
          ],
          "contourcarpet": [
           {
            "colorbar": {
             "outlinewidth": 0,
             "ticks": ""
            },
            "type": "contourcarpet"
           }
          ],
          "heatmap": [
           {
            "colorbar": {
             "outlinewidth": 0,
             "ticks": ""
            },
            "colorscale": [
             [
              0,
              "#0d0887"
             ],
             [
              0.1111111111111111,
              "#46039f"
             ],
             [
              0.2222222222222222,
              "#7201a8"
             ],
             [
              0.3333333333333333,
              "#9c179e"
             ],
             [
              0.4444444444444444,
              "#bd3786"
             ],
             [
              0.5555555555555556,
              "#d8576b"
             ],
             [
              0.6666666666666666,
              "#ed7953"
             ],
             [
              0.7777777777777778,
              "#fb9f3a"
             ],
             [
              0.8888888888888888,
              "#fdca26"
             ],
             [
              1,
              "#f0f921"
             ]
            ],
            "type": "heatmap"
           }
          ],
          "heatmapgl": [
           {
            "colorbar": {
             "outlinewidth": 0,
             "ticks": ""
            },
            "colorscale": [
             [
              0,
              "#0d0887"
             ],
             [
              0.1111111111111111,
              "#46039f"
             ],
             [
              0.2222222222222222,
              "#7201a8"
             ],
             [
              0.3333333333333333,
              "#9c179e"
             ],
             [
              0.4444444444444444,
              "#bd3786"
             ],
             [
              0.5555555555555556,
              "#d8576b"
             ],
             [
              0.6666666666666666,
              "#ed7953"
             ],
             [
              0.7777777777777778,
              "#fb9f3a"
             ],
             [
              0.8888888888888888,
              "#fdca26"
             ],
             [
              1,
              "#f0f921"
             ]
            ],
            "type": "heatmapgl"
           }
          ],
          "histogram": [
           {
            "marker": {
             "pattern": {
              "fillmode": "overlay",
              "size": 10,
              "solidity": 0.2
             }
            },
            "type": "histogram"
           }
          ],
          "histogram2d": [
           {
            "colorbar": {
             "outlinewidth": 0,
             "ticks": ""
            },
            "colorscale": [
             [
              0,
              "#0d0887"
             ],
             [
              0.1111111111111111,
              "#46039f"
             ],
             [
              0.2222222222222222,
              "#7201a8"
             ],
             [
              0.3333333333333333,
              "#9c179e"
             ],
             [
              0.4444444444444444,
              "#bd3786"
             ],
             [
              0.5555555555555556,
              "#d8576b"
             ],
             [
              0.6666666666666666,
              "#ed7953"
             ],
             [
              0.7777777777777778,
              "#fb9f3a"
             ],
             [
              0.8888888888888888,
              "#fdca26"
             ],
             [
              1,
              "#f0f921"
             ]
            ],
            "type": "histogram2d"
           }
          ],
          "histogram2dcontour": [
           {
            "colorbar": {
             "outlinewidth": 0,
             "ticks": ""
            },
            "colorscale": [
             [
              0,
              "#0d0887"
             ],
             [
              0.1111111111111111,
              "#46039f"
             ],
             [
              0.2222222222222222,
              "#7201a8"
             ],
             [
              0.3333333333333333,
              "#9c179e"
             ],
             [
              0.4444444444444444,
              "#bd3786"
             ],
             [
              0.5555555555555556,
              "#d8576b"
             ],
             [
              0.6666666666666666,
              "#ed7953"
             ],
             [
              0.7777777777777778,
              "#fb9f3a"
             ],
             [
              0.8888888888888888,
              "#fdca26"
             ],
             [
              1,
              "#f0f921"
             ]
            ],
            "type": "histogram2dcontour"
           }
          ],
          "mesh3d": [
           {
            "colorbar": {
             "outlinewidth": 0,
             "ticks": ""
            },
            "type": "mesh3d"
           }
          ],
          "parcoords": [
           {
            "line": {
             "colorbar": {
              "outlinewidth": 0,
              "ticks": ""
             }
            },
            "type": "parcoords"
           }
          ],
          "pie": [
           {
            "automargin": true,
            "type": "pie"
           }
          ],
          "scatter": [
           {
            "fillpattern": {
             "fillmode": "overlay",
             "size": 10,
             "solidity": 0.2
            },
            "type": "scatter"
           }
          ],
          "scatter3d": [
           {
            "line": {
             "colorbar": {
              "outlinewidth": 0,
              "ticks": ""
             }
            },
            "marker": {
             "colorbar": {
              "outlinewidth": 0,
              "ticks": ""
             }
            },
            "type": "scatter3d"
           }
          ],
          "scattercarpet": [
           {
            "marker": {
             "colorbar": {
              "outlinewidth": 0,
              "ticks": ""
             }
            },
            "type": "scattercarpet"
           }
          ],
          "scattergeo": [
           {
            "marker": {
             "colorbar": {
              "outlinewidth": 0,
              "ticks": ""
             }
            },
            "type": "scattergeo"
           }
          ],
          "scattergl": [
           {
            "marker": {
             "colorbar": {
              "outlinewidth": 0,
              "ticks": ""
             }
            },
            "type": "scattergl"
           }
          ],
          "scattermapbox": [
           {
            "marker": {
             "colorbar": {
              "outlinewidth": 0,
              "ticks": ""
             }
            },
            "type": "scattermapbox"
           }
          ],
          "scatterpolar": [
           {
            "marker": {
             "colorbar": {
              "outlinewidth": 0,
              "ticks": ""
             }
            },
            "type": "scatterpolar"
           }
          ],
          "scatterpolargl": [
           {
            "marker": {
             "colorbar": {
              "outlinewidth": 0,
              "ticks": ""
             }
            },
            "type": "scatterpolargl"
           }
          ],
          "scatterternary": [
           {
            "marker": {
             "colorbar": {
              "outlinewidth": 0,
              "ticks": ""
             }
            },
            "type": "scatterternary"
           }
          ],
          "surface": [
           {
            "colorbar": {
             "outlinewidth": 0,
             "ticks": ""
            },
            "colorscale": [
             [
              0,
              "#0d0887"
             ],
             [
              0.1111111111111111,
              "#46039f"
             ],
             [
              0.2222222222222222,
              "#7201a8"
             ],
             [
              0.3333333333333333,
              "#9c179e"
             ],
             [
              0.4444444444444444,
              "#bd3786"
             ],
             [
              0.5555555555555556,
              "#d8576b"
             ],
             [
              0.6666666666666666,
              "#ed7953"
             ],
             [
              0.7777777777777778,
              "#fb9f3a"
             ],
             [
              0.8888888888888888,
              "#fdca26"
             ],
             [
              1,
              "#f0f921"
             ]
            ],
            "type": "surface"
           }
          ],
          "table": [
           {
            "cells": {
             "fill": {
              "color": "#EBF0F8"
             },
             "line": {
              "color": "white"
             }
            },
            "header": {
             "fill": {
              "color": "#C8D4E3"
             },
             "line": {
              "color": "white"
             }
            },
            "type": "table"
           }
          ]
         },
         "layout": {
          "annotationdefaults": {
           "arrowcolor": "#2a3f5f",
           "arrowhead": 0,
           "arrowwidth": 1
          },
          "autotypenumbers": "strict",
          "coloraxis": {
           "colorbar": {
            "outlinewidth": 0,
            "ticks": ""
           }
          },
          "colorscale": {
           "diverging": [
            [
             0,
             "#8e0152"
            ],
            [
             0.1,
             "#c51b7d"
            ],
            [
             0.2,
             "#de77ae"
            ],
            [
             0.3,
             "#f1b6da"
            ],
            [
             0.4,
             "#fde0ef"
            ],
            [
             0.5,
             "#f7f7f7"
            ],
            [
             0.6,
             "#e6f5d0"
            ],
            [
             0.7,
             "#b8e186"
            ],
            [
             0.8,
             "#7fbc41"
            ],
            [
             0.9,
             "#4d9221"
            ],
            [
             1,
             "#276419"
            ]
           ],
           "sequential": [
            [
             0,
             "#0d0887"
            ],
            [
             0.1111111111111111,
             "#46039f"
            ],
            [
             0.2222222222222222,
             "#7201a8"
            ],
            [
             0.3333333333333333,
             "#9c179e"
            ],
            [
             0.4444444444444444,
             "#bd3786"
            ],
            [
             0.5555555555555556,
             "#d8576b"
            ],
            [
             0.6666666666666666,
             "#ed7953"
            ],
            [
             0.7777777777777778,
             "#fb9f3a"
            ],
            [
             0.8888888888888888,
             "#fdca26"
            ],
            [
             1,
             "#f0f921"
            ]
           ],
           "sequentialminus": [
            [
             0,
             "#0d0887"
            ],
            [
             0.1111111111111111,
             "#46039f"
            ],
            [
             0.2222222222222222,
             "#7201a8"
            ],
            [
             0.3333333333333333,
             "#9c179e"
            ],
            [
             0.4444444444444444,
             "#bd3786"
            ],
            [
             0.5555555555555556,
             "#d8576b"
            ],
            [
             0.6666666666666666,
             "#ed7953"
            ],
            [
             0.7777777777777778,
             "#fb9f3a"
            ],
            [
             0.8888888888888888,
             "#fdca26"
            ],
            [
             1,
             "#f0f921"
            ]
           ]
          },
          "colorway": [
           "#636efa",
           "#EF553B",
           "#00cc96",
           "#ab63fa",
           "#FFA15A",
           "#19d3f3",
           "#FF6692",
           "#B6E880",
           "#FF97FF",
           "#FECB52"
          ],
          "font": {
           "color": "#2a3f5f"
          },
          "geo": {
           "bgcolor": "white",
           "lakecolor": "white",
           "landcolor": "#E5ECF6",
           "showlakes": true,
           "showland": true,
           "subunitcolor": "white"
          },
          "hoverlabel": {
           "align": "left"
          },
          "hovermode": "closest",
          "mapbox": {
           "style": "light"
          },
          "paper_bgcolor": "white",
          "plot_bgcolor": "#E5ECF6",
          "polar": {
           "angularaxis": {
            "gridcolor": "white",
            "linecolor": "white",
            "ticks": ""
           },
           "bgcolor": "#E5ECF6",
           "radialaxis": {
            "gridcolor": "white",
            "linecolor": "white",
            "ticks": ""
           }
          },
          "scene": {
           "xaxis": {
            "backgroundcolor": "#E5ECF6",
            "gridcolor": "white",
            "gridwidth": 2,
            "linecolor": "white",
            "showbackground": true,
            "ticks": "",
            "zerolinecolor": "white"
           },
           "yaxis": {
            "backgroundcolor": "#E5ECF6",
            "gridcolor": "white",
            "gridwidth": 2,
            "linecolor": "white",
            "showbackground": true,
            "ticks": "",
            "zerolinecolor": "white"
           },
           "zaxis": {
            "backgroundcolor": "#E5ECF6",
            "gridcolor": "white",
            "gridwidth": 2,
            "linecolor": "white",
            "showbackground": true,
            "ticks": "",
            "zerolinecolor": "white"
           }
          },
          "shapedefaults": {
           "line": {
            "color": "#2a3f5f"
           }
          },
          "ternary": {
           "aaxis": {
            "gridcolor": "white",
            "linecolor": "white",
            "ticks": ""
           },
           "baxis": {
            "gridcolor": "white",
            "linecolor": "white",
            "ticks": ""
           },
           "bgcolor": "#E5ECF6",
           "caxis": {
            "gridcolor": "white",
            "linecolor": "white",
            "ticks": ""
           }
          },
          "title": {
           "x": 0.05
          },
          "xaxis": {
           "automargin": true,
           "gridcolor": "white",
           "linecolor": "white",
           "ticks": "",
           "title": {
            "standoff": 15
           },
           "zerolinecolor": "white",
           "zerolinewidth": 2
          },
          "yaxis": {
           "automargin": true,
           "gridcolor": "white",
           "linecolor": "white",
           "ticks": "",
           "title": {
            "standoff": 15
           },
           "zerolinecolor": "white",
           "zerolinewidth": 2
          }
         }
        },
        "title": {
         "font": {
          "color": "#4D5663"
         }
        },
        "xaxis": {
         "gridcolor": "#E1E5ED",
         "showgrid": true,
         "tickfont": {
          "color": "#4D5663"
         },
         "title": {
          "font": {
           "color": "#4D5663"
          },
          "text": ""
         },
         "zerolinecolor": "#E1E5ED"
        },
        "yaxis": {
         "gridcolor": "#E1E5ED",
         "showgrid": true,
         "tickfont": {
          "color": "#4D5663"
         },
         "title": {
          "font": {
           "color": "#4D5663"
          },
          "text": ""
         },
         "zerolinecolor": "#E1E5ED"
        }
       }
      },
      "text/html": [
       "<div>                            <div id=\"8d4fd6d3-5d6c-456e-85d3-77cc9435af8d\" class=\"plotly-graph-div\" style=\"height:525px; width:100%;\"></div>            <script type=\"text/javascript\">                require([\"plotly\"], function(Plotly) {                    window.PLOTLYENV=window.PLOTLYENV || {};\n",
       "                    window.PLOTLYENV.BASE_URL='https://plot.ly';                                    if (document.getElementById(\"8d4fd6d3-5d6c-456e-85d3-77cc9435af8d\")) {                    Plotly.newPlot(                        \"8d4fd6d3-5d6c-456e-85d3-77cc9435af8d\",                        [{\"colorscale\":[[0.0,\"rgb(165,0,38)\"],[0.1,\"rgb(215,48,39)\"],[0.2,\"rgb(244,109,67)\"],[0.3,\"rgb(253,174,97)\"],[0.4,\"rgb(254,224,144)\"],[0.5,\"rgb(255,255,191)\"],[0.6,\"rgb(224,243,248)\"],[0.7,\"rgb(171,217,233)\"],[0.8,\"rgb(116,173,209)\"],[0.9,\"rgb(69,117,180)\"],[1.0,\"rgb(49,54,149)\"]],\"x\":[0,1,2,3,4],\"y\":[\"x\",\"y\",\"z\"],\"z\":[[1,2,3,4,5],[10,20,30,20,10],[5,4,3,2,1]],\"type\":\"surface\"}],                        {\"legend\":{\"bgcolor\":\"#F5F6F9\",\"font\":{\"color\":\"#4D5663\"}},\"paper_bgcolor\":\"#F5F6F9\",\"plot_bgcolor\":\"#F5F6F9\",\"template\":{\"data\":{\"barpolar\":[{\"marker\":{\"line\":{\"color\":\"#E5ECF6\",\"width\":0.5},\"pattern\":{\"fillmode\":\"overlay\",\"size\":10,\"solidity\":0.2}},\"type\":\"barpolar\"}],\"bar\":[{\"error_x\":{\"color\":\"#2a3f5f\"},\"error_y\":{\"color\":\"#2a3f5f\"},\"marker\":{\"line\":{\"color\":\"#E5ECF6\",\"width\":0.5},\"pattern\":{\"fillmode\":\"overlay\",\"size\":10,\"solidity\":0.2}},\"type\":\"bar\"}],\"carpet\":[{\"aaxis\":{\"endlinecolor\":\"#2a3f5f\",\"gridcolor\":\"white\",\"linecolor\":\"white\",\"minorgridcolor\":\"white\",\"startlinecolor\":\"#2a3f5f\"},\"baxis\":{\"endlinecolor\":\"#2a3f5f\",\"gridcolor\":\"white\",\"linecolor\":\"white\",\"minorgridcolor\":\"white\",\"startlinecolor\":\"#2a3f5f\"},\"type\":\"carpet\"}],\"choropleth\":[{\"colorbar\":{\"outlinewidth\":0,\"ticks\":\"\"},\"type\":\"choropleth\"}],\"contourcarpet\":[{\"colorbar\":{\"outlinewidth\":0,\"ticks\":\"\"},\"type\":\"contourcarpet\"}],\"contour\":[{\"colorbar\":{\"outlinewidth\":0,\"ticks\":\"\"},\"colorscale\":[[0.0,\"#0d0887\"],[0.1111111111111111,\"#46039f\"],[0.2222222222222222,\"#7201a8\"],[0.3333333333333333,\"#9c179e\"],[0.4444444444444444,\"#bd3786\"],[0.5555555555555556,\"#d8576b\"],[0.6666666666666666,\"#ed7953\"],[0.7777777777777778,\"#fb9f3a\"],[0.8888888888888888,\"#fdca26\"],[1.0,\"#f0f921\"]],\"type\":\"contour\"}],\"heatmapgl\":[{\"colorbar\":{\"outlinewidth\":0,\"ticks\":\"\"},\"colorscale\":[[0.0,\"#0d0887\"],[0.1111111111111111,\"#46039f\"],[0.2222222222222222,\"#7201a8\"],[0.3333333333333333,\"#9c179e\"],[0.4444444444444444,\"#bd3786\"],[0.5555555555555556,\"#d8576b\"],[0.6666666666666666,\"#ed7953\"],[0.7777777777777778,\"#fb9f3a\"],[0.8888888888888888,\"#fdca26\"],[1.0,\"#f0f921\"]],\"type\":\"heatmapgl\"}],\"heatmap\":[{\"colorbar\":{\"outlinewidth\":0,\"ticks\":\"\"},\"colorscale\":[[0.0,\"#0d0887\"],[0.1111111111111111,\"#46039f\"],[0.2222222222222222,\"#7201a8\"],[0.3333333333333333,\"#9c179e\"],[0.4444444444444444,\"#bd3786\"],[0.5555555555555556,\"#d8576b\"],[0.6666666666666666,\"#ed7953\"],[0.7777777777777778,\"#fb9f3a\"],[0.8888888888888888,\"#fdca26\"],[1.0,\"#f0f921\"]],\"type\":\"heatmap\"}],\"histogram2dcontour\":[{\"colorbar\":{\"outlinewidth\":0,\"ticks\":\"\"},\"colorscale\":[[0.0,\"#0d0887\"],[0.1111111111111111,\"#46039f\"],[0.2222222222222222,\"#7201a8\"],[0.3333333333333333,\"#9c179e\"],[0.4444444444444444,\"#bd3786\"],[0.5555555555555556,\"#d8576b\"],[0.6666666666666666,\"#ed7953\"],[0.7777777777777778,\"#fb9f3a\"],[0.8888888888888888,\"#fdca26\"],[1.0,\"#f0f921\"]],\"type\":\"histogram2dcontour\"}],\"histogram2d\":[{\"colorbar\":{\"outlinewidth\":0,\"ticks\":\"\"},\"colorscale\":[[0.0,\"#0d0887\"],[0.1111111111111111,\"#46039f\"],[0.2222222222222222,\"#7201a8\"],[0.3333333333333333,\"#9c179e\"],[0.4444444444444444,\"#bd3786\"],[0.5555555555555556,\"#d8576b\"],[0.6666666666666666,\"#ed7953\"],[0.7777777777777778,\"#fb9f3a\"],[0.8888888888888888,\"#fdca26\"],[1.0,\"#f0f921\"]],\"type\":\"histogram2d\"}],\"histogram\":[{\"marker\":{\"pattern\":{\"fillmode\":\"overlay\",\"size\":10,\"solidity\":0.2}},\"type\":\"histogram\"}],\"mesh3d\":[{\"colorbar\":{\"outlinewidth\":0,\"ticks\":\"\"},\"type\":\"mesh3d\"}],\"parcoords\":[{\"line\":{\"colorbar\":{\"outlinewidth\":0,\"ticks\":\"\"}},\"type\":\"parcoords\"}],\"pie\":[{\"automargin\":true,\"type\":\"pie\"}],\"scatter3d\":[{\"line\":{\"colorbar\":{\"outlinewidth\":0,\"ticks\":\"\"}},\"marker\":{\"colorbar\":{\"outlinewidth\":0,\"ticks\":\"\"}},\"type\":\"scatter3d\"}],\"scattercarpet\":[{\"marker\":{\"colorbar\":{\"outlinewidth\":0,\"ticks\":\"\"}},\"type\":\"scattercarpet\"}],\"scattergeo\":[{\"marker\":{\"colorbar\":{\"outlinewidth\":0,\"ticks\":\"\"}},\"type\":\"scattergeo\"}],\"scattergl\":[{\"marker\":{\"colorbar\":{\"outlinewidth\":0,\"ticks\":\"\"}},\"type\":\"scattergl\"}],\"scattermapbox\":[{\"marker\":{\"colorbar\":{\"outlinewidth\":0,\"ticks\":\"\"}},\"type\":\"scattermapbox\"}],\"scatterpolargl\":[{\"marker\":{\"colorbar\":{\"outlinewidth\":0,\"ticks\":\"\"}},\"type\":\"scatterpolargl\"}],\"scatterpolar\":[{\"marker\":{\"colorbar\":{\"outlinewidth\":0,\"ticks\":\"\"}},\"type\":\"scatterpolar\"}],\"scatter\":[{\"fillpattern\":{\"fillmode\":\"overlay\",\"size\":10,\"solidity\":0.2},\"type\":\"scatter\"}],\"scatterternary\":[{\"marker\":{\"colorbar\":{\"outlinewidth\":0,\"ticks\":\"\"}},\"type\":\"scatterternary\"}],\"surface\":[{\"colorbar\":{\"outlinewidth\":0,\"ticks\":\"\"},\"colorscale\":[[0.0,\"#0d0887\"],[0.1111111111111111,\"#46039f\"],[0.2222222222222222,\"#7201a8\"],[0.3333333333333333,\"#9c179e\"],[0.4444444444444444,\"#bd3786\"],[0.5555555555555556,\"#d8576b\"],[0.6666666666666666,\"#ed7953\"],[0.7777777777777778,\"#fb9f3a\"],[0.8888888888888888,\"#fdca26\"],[1.0,\"#f0f921\"]],\"type\":\"surface\"}],\"table\":[{\"cells\":{\"fill\":{\"color\":\"#EBF0F8\"},\"line\":{\"color\":\"white\"}},\"header\":{\"fill\":{\"color\":\"#C8D4E3\"},\"line\":{\"color\":\"white\"}},\"type\":\"table\"}]},\"layout\":{\"annotationdefaults\":{\"arrowcolor\":\"#2a3f5f\",\"arrowhead\":0,\"arrowwidth\":1},\"autotypenumbers\":\"strict\",\"coloraxis\":{\"colorbar\":{\"outlinewidth\":0,\"ticks\":\"\"}},\"colorscale\":{\"diverging\":[[0,\"#8e0152\"],[0.1,\"#c51b7d\"],[0.2,\"#de77ae\"],[0.3,\"#f1b6da\"],[0.4,\"#fde0ef\"],[0.5,\"#f7f7f7\"],[0.6,\"#e6f5d0\"],[0.7,\"#b8e186\"],[0.8,\"#7fbc41\"],[0.9,\"#4d9221\"],[1,\"#276419\"]],\"sequential\":[[0.0,\"#0d0887\"],[0.1111111111111111,\"#46039f\"],[0.2222222222222222,\"#7201a8\"],[0.3333333333333333,\"#9c179e\"],[0.4444444444444444,\"#bd3786\"],[0.5555555555555556,\"#d8576b\"],[0.6666666666666666,\"#ed7953\"],[0.7777777777777778,\"#fb9f3a\"],[0.8888888888888888,\"#fdca26\"],[1.0,\"#f0f921\"]],\"sequentialminus\":[[0.0,\"#0d0887\"],[0.1111111111111111,\"#46039f\"],[0.2222222222222222,\"#7201a8\"],[0.3333333333333333,\"#9c179e\"],[0.4444444444444444,\"#bd3786\"],[0.5555555555555556,\"#d8576b\"],[0.6666666666666666,\"#ed7953\"],[0.7777777777777778,\"#fb9f3a\"],[0.8888888888888888,\"#fdca26\"],[1.0,\"#f0f921\"]]},\"colorway\":[\"#636efa\",\"#EF553B\",\"#00cc96\",\"#ab63fa\",\"#FFA15A\",\"#19d3f3\",\"#FF6692\",\"#B6E880\",\"#FF97FF\",\"#FECB52\"],\"font\":{\"color\":\"#2a3f5f\"},\"geo\":{\"bgcolor\":\"white\",\"lakecolor\":\"white\",\"landcolor\":\"#E5ECF6\",\"showlakes\":true,\"showland\":true,\"subunitcolor\":\"white\"},\"hoverlabel\":{\"align\":\"left\"},\"hovermode\":\"closest\",\"mapbox\":{\"style\":\"light\"},\"paper_bgcolor\":\"white\",\"plot_bgcolor\":\"#E5ECF6\",\"polar\":{\"angularaxis\":{\"gridcolor\":\"white\",\"linecolor\":\"white\",\"ticks\":\"\"},\"bgcolor\":\"#E5ECF6\",\"radialaxis\":{\"gridcolor\":\"white\",\"linecolor\":\"white\",\"ticks\":\"\"}},\"scene\":{\"xaxis\":{\"backgroundcolor\":\"#E5ECF6\",\"gridcolor\":\"white\",\"gridwidth\":2,\"linecolor\":\"white\",\"showbackground\":true,\"ticks\":\"\",\"zerolinecolor\":\"white\"},\"yaxis\":{\"backgroundcolor\":\"#E5ECF6\",\"gridcolor\":\"white\",\"gridwidth\":2,\"linecolor\":\"white\",\"showbackground\":true,\"ticks\":\"\",\"zerolinecolor\":\"white\"},\"zaxis\":{\"backgroundcolor\":\"#E5ECF6\",\"gridcolor\":\"white\",\"gridwidth\":2,\"linecolor\":\"white\",\"showbackground\":true,\"ticks\":\"\",\"zerolinecolor\":\"white\"}},\"shapedefaults\":{\"line\":{\"color\":\"#2a3f5f\"}},\"ternary\":{\"aaxis\":{\"gridcolor\":\"white\",\"linecolor\":\"white\",\"ticks\":\"\"},\"baxis\":{\"gridcolor\":\"white\",\"linecolor\":\"white\",\"ticks\":\"\"},\"bgcolor\":\"#E5ECF6\",\"caxis\":{\"gridcolor\":\"white\",\"linecolor\":\"white\",\"ticks\":\"\"}},\"title\":{\"x\":0.05},\"xaxis\":{\"automargin\":true,\"gridcolor\":\"white\",\"linecolor\":\"white\",\"ticks\":\"\",\"title\":{\"standoff\":15},\"zerolinecolor\":\"white\",\"zerolinewidth\":2},\"yaxis\":{\"automargin\":true,\"gridcolor\":\"white\",\"linecolor\":\"white\",\"ticks\":\"\",\"title\":{\"standoff\":15},\"zerolinecolor\":\"white\",\"zerolinewidth\":2}}},\"title\":{\"font\":{\"color\":\"#4D5663\"}},\"xaxis\":{\"gridcolor\":\"#E1E5ED\",\"showgrid\":true,\"tickfont\":{\"color\":\"#4D5663\"},\"title\":{\"font\":{\"color\":\"#4D5663\"},\"text\":\"\"},\"zerolinecolor\":\"#E1E5ED\"},\"yaxis\":{\"gridcolor\":\"#E1E5ED\",\"showgrid\":true,\"tickfont\":{\"color\":\"#4D5663\"},\"title\":{\"font\":{\"color\":\"#4D5663\"},\"text\":\"\"},\"zerolinecolor\":\"#E1E5ED\"}},                        {\"showLink\": true, \"linkText\": \"Export to plot.ly\", \"plotlyServerURL\": \"https://plot.ly\", \"responsive\": true}                    ).then(function(){\n",
       "                            \n",
       "var gd = document.getElementById('8d4fd6d3-5d6c-456e-85d3-77cc9435af8d');\n",
       "var x = new MutationObserver(function (mutations, observer) {{\n",
       "        var display = window.getComputedStyle(gd).display;\n",
       "        if (!display || display === 'none') {{\n",
       "            console.log([gd, 'removed!']);\n",
       "            Plotly.purge(gd);\n",
       "            observer.disconnect();\n",
       "        }}\n",
       "}});\n",
       "\n",
       "// Listen for the removal of the full notebook cells\n",
       "var notebookContainer = gd.closest('#notebook-container');\n",
       "if (notebookContainer) {{\n",
       "    x.observe(notebookContainer, {childList: true});\n",
       "}}\n",
       "\n",
       "// Listen for the clearing of the current output cell\n",
       "var outputEl = gd.closest('.output');\n",
       "if (outputEl) {{\n",
       "    x.observe(outputEl, {childList: true});\n",
       "}}\n",
       "\n",
       "                        })                };                });            </script>        </div>"
      ]
     },
     "metadata": {},
     "output_type": "display_data"
    }
   ],
   "source": [
    "df3 = pd.DataFrame({'x':[1,2,3,4,5],'y':[10,20,30,20,10],'z':[5,4,3,2,1]})\n",
    "df3.iplot(kind='surface',colorscale='rdylbu')"
   ]
  },
  {
   "cell_type": "markdown",
   "metadata": {},
   "source": [
    "## histogram"
   ]
  },
  {
   "cell_type": "code",
   "execution_count": 42,
   "metadata": {},
   "outputs": [
    {
     "data": {
      "application/vnd.plotly.v1+json": {
       "config": {
        "linkText": "Export to plot.ly",
        "plotlyServerURL": "https://plot.ly",
        "showLink": true
       },
       "data": [
        {
         "histfunc": "count",
         "histnorm": "",
         "marker": {
          "color": "rgba(255, 153, 51, 1.0)",
          "line": {
           "color": "#4D5663",
           "width": 1.3
          }
         },
         "name": "A",
         "nbinsx": 25,
         "opacity": 0.8,
         "orientation": "v",
         "type": "histogram",
         "x": [
          0.7564148323989057,
          -0.7823269068609948,
          -0.6679174325975421,
          0.7235504577605787,
          0.6763583983443798,
          1.6113674312227713,
          0.3252015273144834,
          0.09745320106895272,
          1.0649772116322407,
          -0.7859675316540942,
          0.08690115585301378,
          0.9124025065812114,
          1.3087334560716568,
          1.4912116709568073,
          0.29323517954194406,
          0.5629978990864077,
          -0.17696272403977917,
          0.7202519868531352,
          -0.4472416619570027,
          -0.660042052378561,
          -0.4397720161985938,
          0.36183913297429054,
          0.1906764296882429,
          0.27408170227575673,
          0.1628582735776629,
          0.5419999037348392,
          0.32244203981230574,
          -1.2923184092498095,
          -0.009592358103626993,
          -0.23483095390226533,
          0.18411729182079248,
          -0.1852600830234388,
          0.8368833908066343,
          1.6994622242236421,
          0.649640777805914,
          1.5448735980291246,
          1.6270987436436612,
          0.4542284041676613,
          -0.4339774915395808,
          0.30665794494472826,
          -3.0884024397121084,
          0.3451163531976607,
          0.6613568430139521,
          1.3718747343032527,
          -1.285891701134262,
          -0.8783682945663221,
          1.4174311776154207,
          -0.6249606412129409,
          -0.5342037438274139,
          -0.307321938309405,
          -2.2111762025380677,
          0.117896763562164,
          1.9426338686747864,
          1.0168105624881245,
          0.3869886209354972,
          -0.8659122284321883,
          -0.11578510886853562,
          -1.1044854111223756,
          -0.287017688548948,
          0.26941239292262464,
          -0.7721015839501733,
          0.08547677454955224,
          0.7253610559010434,
          0.7161489578101378,
          0.5128370699212017,
          -1.7628809336520286,
          0.16456924899681624,
          0.0594714216728452,
          0.3365873177762397,
          0.8803056482467614,
          -0.5938200363087336,
          0.6800430927857745,
          0.3235617112715458,
          0.422123778250071,
          -0.6941982779585049,
          -0.8762368200842747,
          -0.9242598560469263,
          -0.9583537917768091,
          -1.0755751128260154,
          0.43081351893442565,
          -1.6547441309159239,
          -0.1884358000165739,
          1.253583356296939,
          -1.1401442981765864,
          -0.6320394030275134,
          0.010293848187346874,
          -0.3772064178610946,
          0.8921343285996494,
          0.14347786896033332,
          -1.1206987434644389,
          0.8955106344603044,
          -1.042340672290424,
          -0.7800271391209364,
          -0.5450798609737193,
          -0.49155899434435724,
          0.08785907358821855,
          1.0182645649729956,
          0.19540175660096615,
          0.9465171960423777,
          -1.6119347742049708
         ]
        }
       ],
       "layout": {
        "barmode": "overlay",
        "legend": {
         "bgcolor": "#F5F6F9",
         "font": {
          "color": "#4D5663"
         }
        },
        "paper_bgcolor": "#F5F6F9",
        "plot_bgcolor": "#F5F6F9",
        "template": {
         "data": {
          "bar": [
           {
            "error_x": {
             "color": "#2a3f5f"
            },
            "error_y": {
             "color": "#2a3f5f"
            },
            "marker": {
             "line": {
              "color": "#E5ECF6",
              "width": 0.5
             },
             "pattern": {
              "fillmode": "overlay",
              "size": 10,
              "solidity": 0.2
             }
            },
            "type": "bar"
           }
          ],
          "barpolar": [
           {
            "marker": {
             "line": {
              "color": "#E5ECF6",
              "width": 0.5
             },
             "pattern": {
              "fillmode": "overlay",
              "size": 10,
              "solidity": 0.2
             }
            },
            "type": "barpolar"
           }
          ],
          "carpet": [
           {
            "aaxis": {
             "endlinecolor": "#2a3f5f",
             "gridcolor": "white",
             "linecolor": "white",
             "minorgridcolor": "white",
             "startlinecolor": "#2a3f5f"
            },
            "baxis": {
             "endlinecolor": "#2a3f5f",
             "gridcolor": "white",
             "linecolor": "white",
             "minorgridcolor": "white",
             "startlinecolor": "#2a3f5f"
            },
            "type": "carpet"
           }
          ],
          "choropleth": [
           {
            "colorbar": {
             "outlinewidth": 0,
             "ticks": ""
            },
            "type": "choropleth"
           }
          ],
          "contour": [
           {
            "colorbar": {
             "outlinewidth": 0,
             "ticks": ""
            },
            "colorscale": [
             [
              0,
              "#0d0887"
             ],
             [
              0.1111111111111111,
              "#46039f"
             ],
             [
              0.2222222222222222,
              "#7201a8"
             ],
             [
              0.3333333333333333,
              "#9c179e"
             ],
             [
              0.4444444444444444,
              "#bd3786"
             ],
             [
              0.5555555555555556,
              "#d8576b"
             ],
             [
              0.6666666666666666,
              "#ed7953"
             ],
             [
              0.7777777777777778,
              "#fb9f3a"
             ],
             [
              0.8888888888888888,
              "#fdca26"
             ],
             [
              1,
              "#f0f921"
             ]
            ],
            "type": "contour"
           }
          ],
          "contourcarpet": [
           {
            "colorbar": {
             "outlinewidth": 0,
             "ticks": ""
            },
            "type": "contourcarpet"
           }
          ],
          "heatmap": [
           {
            "colorbar": {
             "outlinewidth": 0,
             "ticks": ""
            },
            "colorscale": [
             [
              0,
              "#0d0887"
             ],
             [
              0.1111111111111111,
              "#46039f"
             ],
             [
              0.2222222222222222,
              "#7201a8"
             ],
             [
              0.3333333333333333,
              "#9c179e"
             ],
             [
              0.4444444444444444,
              "#bd3786"
             ],
             [
              0.5555555555555556,
              "#d8576b"
             ],
             [
              0.6666666666666666,
              "#ed7953"
             ],
             [
              0.7777777777777778,
              "#fb9f3a"
             ],
             [
              0.8888888888888888,
              "#fdca26"
             ],
             [
              1,
              "#f0f921"
             ]
            ],
            "type": "heatmap"
           }
          ],
          "heatmapgl": [
           {
            "colorbar": {
             "outlinewidth": 0,
             "ticks": ""
            },
            "colorscale": [
             [
              0,
              "#0d0887"
             ],
             [
              0.1111111111111111,
              "#46039f"
             ],
             [
              0.2222222222222222,
              "#7201a8"
             ],
             [
              0.3333333333333333,
              "#9c179e"
             ],
             [
              0.4444444444444444,
              "#bd3786"
             ],
             [
              0.5555555555555556,
              "#d8576b"
             ],
             [
              0.6666666666666666,
              "#ed7953"
             ],
             [
              0.7777777777777778,
              "#fb9f3a"
             ],
             [
              0.8888888888888888,
              "#fdca26"
             ],
             [
              1,
              "#f0f921"
             ]
            ],
            "type": "heatmapgl"
           }
          ],
          "histogram": [
           {
            "marker": {
             "pattern": {
              "fillmode": "overlay",
              "size": 10,
              "solidity": 0.2
             }
            },
            "type": "histogram"
           }
          ],
          "histogram2d": [
           {
            "colorbar": {
             "outlinewidth": 0,
             "ticks": ""
            },
            "colorscale": [
             [
              0,
              "#0d0887"
             ],
             [
              0.1111111111111111,
              "#46039f"
             ],
             [
              0.2222222222222222,
              "#7201a8"
             ],
             [
              0.3333333333333333,
              "#9c179e"
             ],
             [
              0.4444444444444444,
              "#bd3786"
             ],
             [
              0.5555555555555556,
              "#d8576b"
             ],
             [
              0.6666666666666666,
              "#ed7953"
             ],
             [
              0.7777777777777778,
              "#fb9f3a"
             ],
             [
              0.8888888888888888,
              "#fdca26"
             ],
             [
              1,
              "#f0f921"
             ]
            ],
            "type": "histogram2d"
           }
          ],
          "histogram2dcontour": [
           {
            "colorbar": {
             "outlinewidth": 0,
             "ticks": ""
            },
            "colorscale": [
             [
              0,
              "#0d0887"
             ],
             [
              0.1111111111111111,
              "#46039f"
             ],
             [
              0.2222222222222222,
              "#7201a8"
             ],
             [
              0.3333333333333333,
              "#9c179e"
             ],
             [
              0.4444444444444444,
              "#bd3786"
             ],
             [
              0.5555555555555556,
              "#d8576b"
             ],
             [
              0.6666666666666666,
              "#ed7953"
             ],
             [
              0.7777777777777778,
              "#fb9f3a"
             ],
             [
              0.8888888888888888,
              "#fdca26"
             ],
             [
              1,
              "#f0f921"
             ]
            ],
            "type": "histogram2dcontour"
           }
          ],
          "mesh3d": [
           {
            "colorbar": {
             "outlinewidth": 0,
             "ticks": ""
            },
            "type": "mesh3d"
           }
          ],
          "parcoords": [
           {
            "line": {
             "colorbar": {
              "outlinewidth": 0,
              "ticks": ""
             }
            },
            "type": "parcoords"
           }
          ],
          "pie": [
           {
            "automargin": true,
            "type": "pie"
           }
          ],
          "scatter": [
           {
            "fillpattern": {
             "fillmode": "overlay",
             "size": 10,
             "solidity": 0.2
            },
            "type": "scatter"
           }
          ],
          "scatter3d": [
           {
            "line": {
             "colorbar": {
              "outlinewidth": 0,
              "ticks": ""
             }
            },
            "marker": {
             "colorbar": {
              "outlinewidth": 0,
              "ticks": ""
             }
            },
            "type": "scatter3d"
           }
          ],
          "scattercarpet": [
           {
            "marker": {
             "colorbar": {
              "outlinewidth": 0,
              "ticks": ""
             }
            },
            "type": "scattercarpet"
           }
          ],
          "scattergeo": [
           {
            "marker": {
             "colorbar": {
              "outlinewidth": 0,
              "ticks": ""
             }
            },
            "type": "scattergeo"
           }
          ],
          "scattergl": [
           {
            "marker": {
             "colorbar": {
              "outlinewidth": 0,
              "ticks": ""
             }
            },
            "type": "scattergl"
           }
          ],
          "scattermapbox": [
           {
            "marker": {
             "colorbar": {
              "outlinewidth": 0,
              "ticks": ""
             }
            },
            "type": "scattermapbox"
           }
          ],
          "scatterpolar": [
           {
            "marker": {
             "colorbar": {
              "outlinewidth": 0,
              "ticks": ""
             }
            },
            "type": "scatterpolar"
           }
          ],
          "scatterpolargl": [
           {
            "marker": {
             "colorbar": {
              "outlinewidth": 0,
              "ticks": ""
             }
            },
            "type": "scatterpolargl"
           }
          ],
          "scatterternary": [
           {
            "marker": {
             "colorbar": {
              "outlinewidth": 0,
              "ticks": ""
             }
            },
            "type": "scatterternary"
           }
          ],
          "surface": [
           {
            "colorbar": {
             "outlinewidth": 0,
             "ticks": ""
            },
            "colorscale": [
             [
              0,
              "#0d0887"
             ],
             [
              0.1111111111111111,
              "#46039f"
             ],
             [
              0.2222222222222222,
              "#7201a8"
             ],
             [
              0.3333333333333333,
              "#9c179e"
             ],
             [
              0.4444444444444444,
              "#bd3786"
             ],
             [
              0.5555555555555556,
              "#d8576b"
             ],
             [
              0.6666666666666666,
              "#ed7953"
             ],
             [
              0.7777777777777778,
              "#fb9f3a"
             ],
             [
              0.8888888888888888,
              "#fdca26"
             ],
             [
              1,
              "#f0f921"
             ]
            ],
            "type": "surface"
           }
          ],
          "table": [
           {
            "cells": {
             "fill": {
              "color": "#EBF0F8"
             },
             "line": {
              "color": "white"
             }
            },
            "header": {
             "fill": {
              "color": "#C8D4E3"
             },
             "line": {
              "color": "white"
             }
            },
            "type": "table"
           }
          ]
         },
         "layout": {
          "annotationdefaults": {
           "arrowcolor": "#2a3f5f",
           "arrowhead": 0,
           "arrowwidth": 1
          },
          "autotypenumbers": "strict",
          "coloraxis": {
           "colorbar": {
            "outlinewidth": 0,
            "ticks": ""
           }
          },
          "colorscale": {
           "diverging": [
            [
             0,
             "#8e0152"
            ],
            [
             0.1,
             "#c51b7d"
            ],
            [
             0.2,
             "#de77ae"
            ],
            [
             0.3,
             "#f1b6da"
            ],
            [
             0.4,
             "#fde0ef"
            ],
            [
             0.5,
             "#f7f7f7"
            ],
            [
             0.6,
             "#e6f5d0"
            ],
            [
             0.7,
             "#b8e186"
            ],
            [
             0.8,
             "#7fbc41"
            ],
            [
             0.9,
             "#4d9221"
            ],
            [
             1,
             "#276419"
            ]
           ],
           "sequential": [
            [
             0,
             "#0d0887"
            ],
            [
             0.1111111111111111,
             "#46039f"
            ],
            [
             0.2222222222222222,
             "#7201a8"
            ],
            [
             0.3333333333333333,
             "#9c179e"
            ],
            [
             0.4444444444444444,
             "#bd3786"
            ],
            [
             0.5555555555555556,
             "#d8576b"
            ],
            [
             0.6666666666666666,
             "#ed7953"
            ],
            [
             0.7777777777777778,
             "#fb9f3a"
            ],
            [
             0.8888888888888888,
             "#fdca26"
            ],
            [
             1,
             "#f0f921"
            ]
           ],
           "sequentialminus": [
            [
             0,
             "#0d0887"
            ],
            [
             0.1111111111111111,
             "#46039f"
            ],
            [
             0.2222222222222222,
             "#7201a8"
            ],
            [
             0.3333333333333333,
             "#9c179e"
            ],
            [
             0.4444444444444444,
             "#bd3786"
            ],
            [
             0.5555555555555556,
             "#d8576b"
            ],
            [
             0.6666666666666666,
             "#ed7953"
            ],
            [
             0.7777777777777778,
             "#fb9f3a"
            ],
            [
             0.8888888888888888,
             "#fdca26"
            ],
            [
             1,
             "#f0f921"
            ]
           ]
          },
          "colorway": [
           "#636efa",
           "#EF553B",
           "#00cc96",
           "#ab63fa",
           "#FFA15A",
           "#19d3f3",
           "#FF6692",
           "#B6E880",
           "#FF97FF",
           "#FECB52"
          ],
          "font": {
           "color": "#2a3f5f"
          },
          "geo": {
           "bgcolor": "white",
           "lakecolor": "white",
           "landcolor": "#E5ECF6",
           "showlakes": true,
           "showland": true,
           "subunitcolor": "white"
          },
          "hoverlabel": {
           "align": "left"
          },
          "hovermode": "closest",
          "mapbox": {
           "style": "light"
          },
          "paper_bgcolor": "white",
          "plot_bgcolor": "#E5ECF6",
          "polar": {
           "angularaxis": {
            "gridcolor": "white",
            "linecolor": "white",
            "ticks": ""
           },
           "bgcolor": "#E5ECF6",
           "radialaxis": {
            "gridcolor": "white",
            "linecolor": "white",
            "ticks": ""
           }
          },
          "scene": {
           "xaxis": {
            "backgroundcolor": "#E5ECF6",
            "gridcolor": "white",
            "gridwidth": 2,
            "linecolor": "white",
            "showbackground": true,
            "ticks": "",
            "zerolinecolor": "white"
           },
           "yaxis": {
            "backgroundcolor": "#E5ECF6",
            "gridcolor": "white",
            "gridwidth": 2,
            "linecolor": "white",
            "showbackground": true,
            "ticks": "",
            "zerolinecolor": "white"
           },
           "zaxis": {
            "backgroundcolor": "#E5ECF6",
            "gridcolor": "white",
            "gridwidth": 2,
            "linecolor": "white",
            "showbackground": true,
            "ticks": "",
            "zerolinecolor": "white"
           }
          },
          "shapedefaults": {
           "line": {
            "color": "#2a3f5f"
           }
          },
          "ternary": {
           "aaxis": {
            "gridcolor": "white",
            "linecolor": "white",
            "ticks": ""
           },
           "baxis": {
            "gridcolor": "white",
            "linecolor": "white",
            "ticks": ""
           },
           "bgcolor": "#E5ECF6",
           "caxis": {
            "gridcolor": "white",
            "linecolor": "white",
            "ticks": ""
           }
          },
          "title": {
           "x": 0.05
          },
          "xaxis": {
           "automargin": true,
           "gridcolor": "white",
           "linecolor": "white",
           "ticks": "",
           "title": {
            "standoff": 15
           },
           "zerolinecolor": "white",
           "zerolinewidth": 2
          },
          "yaxis": {
           "automargin": true,
           "gridcolor": "white",
           "linecolor": "white",
           "ticks": "",
           "title": {
            "standoff": 15
           },
           "zerolinecolor": "white",
           "zerolinewidth": 2
          }
         }
        },
        "title": {
         "font": {
          "color": "#4D5663"
         }
        },
        "xaxis": {
         "gridcolor": "#E1E5ED",
         "showgrid": true,
         "tickfont": {
          "color": "#4D5663"
         },
         "title": {
          "font": {
           "color": "#4D5663"
          },
          "text": ""
         },
         "zerolinecolor": "#E1E5ED"
        },
        "yaxis": {
         "gridcolor": "#E1E5ED",
         "showgrid": true,
         "tickfont": {
          "color": "#4D5663"
         },
         "title": {
          "font": {
           "color": "#4D5663"
          },
          "text": ""
         },
         "zerolinecolor": "#E1E5ED"
        }
       }
      },
      "text/html": [
       "<div>                            <div id=\"c8495281-f142-488d-9927-40ebfb882924\" class=\"plotly-graph-div\" style=\"height:525px; width:100%;\"></div>            <script type=\"text/javascript\">                require([\"plotly\"], function(Plotly) {                    window.PLOTLYENV=window.PLOTLYENV || {};\n",
       "                    window.PLOTLYENV.BASE_URL='https://plot.ly';                                    if (document.getElementById(\"c8495281-f142-488d-9927-40ebfb882924\")) {                    Plotly.newPlot(                        \"c8495281-f142-488d-9927-40ebfb882924\",                        [{\"histfunc\":\"count\",\"histnorm\":\"\",\"marker\":{\"color\":\"rgba(255, 153, 51, 1.0)\",\"line\":{\"color\":\"#4D5663\",\"width\":1.3}},\"name\":\"A\",\"nbinsx\":25,\"opacity\":0.8,\"orientation\":\"v\",\"x\":[0.7564148323989057,-0.7823269068609948,-0.6679174325975421,0.7235504577605787,0.6763583983443798,1.6113674312227713,0.3252015273144834,0.09745320106895272,1.0649772116322407,-0.7859675316540942,0.08690115585301378,0.9124025065812114,1.3087334560716568,1.4912116709568073,0.29323517954194406,0.5629978990864077,-0.17696272403977917,0.7202519868531352,-0.4472416619570027,-0.660042052378561,-0.4397720161985938,0.36183913297429054,0.1906764296882429,0.27408170227575673,0.1628582735776629,0.5419999037348392,0.32244203981230574,-1.2923184092498095,-0.009592358103626993,-0.23483095390226533,0.18411729182079248,-0.1852600830234388,0.8368833908066343,1.6994622242236421,0.649640777805914,1.5448735980291246,1.6270987436436612,0.4542284041676613,-0.4339774915395808,0.30665794494472826,-3.0884024397121084,0.3451163531976607,0.6613568430139521,1.3718747343032527,-1.285891701134262,-0.8783682945663221,1.4174311776154207,-0.6249606412129409,-0.5342037438274139,-0.307321938309405,-2.2111762025380677,0.117896763562164,1.9426338686747864,1.0168105624881245,0.3869886209354972,-0.8659122284321883,-0.11578510886853562,-1.1044854111223756,-0.287017688548948,0.26941239292262464,-0.7721015839501733,0.08547677454955224,0.7253610559010434,0.7161489578101378,0.5128370699212017,-1.7628809336520286,0.16456924899681624,0.0594714216728452,0.3365873177762397,0.8803056482467614,-0.5938200363087336,0.6800430927857745,0.3235617112715458,0.422123778250071,-0.6941982779585049,-0.8762368200842747,-0.9242598560469263,-0.9583537917768091,-1.0755751128260154,0.43081351893442565,-1.6547441309159239,-0.1884358000165739,1.253583356296939,-1.1401442981765864,-0.6320394030275134,0.010293848187346874,-0.3772064178610946,0.8921343285996494,0.14347786896033332,-1.1206987434644389,0.8955106344603044,-1.042340672290424,-0.7800271391209364,-0.5450798609737193,-0.49155899434435724,0.08785907358821855,1.0182645649729956,0.19540175660096615,0.9465171960423777,-1.6119347742049708],\"type\":\"histogram\"}],                        {\"barmode\":\"overlay\",\"legend\":{\"bgcolor\":\"#F5F6F9\",\"font\":{\"color\":\"#4D5663\"}},\"paper_bgcolor\":\"#F5F6F9\",\"plot_bgcolor\":\"#F5F6F9\",\"template\":{\"data\":{\"barpolar\":[{\"marker\":{\"line\":{\"color\":\"#E5ECF6\",\"width\":0.5},\"pattern\":{\"fillmode\":\"overlay\",\"size\":10,\"solidity\":0.2}},\"type\":\"barpolar\"}],\"bar\":[{\"error_x\":{\"color\":\"#2a3f5f\"},\"error_y\":{\"color\":\"#2a3f5f\"},\"marker\":{\"line\":{\"color\":\"#E5ECF6\",\"width\":0.5},\"pattern\":{\"fillmode\":\"overlay\",\"size\":10,\"solidity\":0.2}},\"type\":\"bar\"}],\"carpet\":[{\"aaxis\":{\"endlinecolor\":\"#2a3f5f\",\"gridcolor\":\"white\",\"linecolor\":\"white\",\"minorgridcolor\":\"white\",\"startlinecolor\":\"#2a3f5f\"},\"baxis\":{\"endlinecolor\":\"#2a3f5f\",\"gridcolor\":\"white\",\"linecolor\":\"white\",\"minorgridcolor\":\"white\",\"startlinecolor\":\"#2a3f5f\"},\"type\":\"carpet\"}],\"choropleth\":[{\"colorbar\":{\"outlinewidth\":0,\"ticks\":\"\"},\"type\":\"choropleth\"}],\"contourcarpet\":[{\"colorbar\":{\"outlinewidth\":0,\"ticks\":\"\"},\"type\":\"contourcarpet\"}],\"contour\":[{\"colorbar\":{\"outlinewidth\":0,\"ticks\":\"\"},\"colorscale\":[[0.0,\"#0d0887\"],[0.1111111111111111,\"#46039f\"],[0.2222222222222222,\"#7201a8\"],[0.3333333333333333,\"#9c179e\"],[0.4444444444444444,\"#bd3786\"],[0.5555555555555556,\"#d8576b\"],[0.6666666666666666,\"#ed7953\"],[0.7777777777777778,\"#fb9f3a\"],[0.8888888888888888,\"#fdca26\"],[1.0,\"#f0f921\"]],\"type\":\"contour\"}],\"heatmapgl\":[{\"colorbar\":{\"outlinewidth\":0,\"ticks\":\"\"},\"colorscale\":[[0.0,\"#0d0887\"],[0.1111111111111111,\"#46039f\"],[0.2222222222222222,\"#7201a8\"],[0.3333333333333333,\"#9c179e\"],[0.4444444444444444,\"#bd3786\"],[0.5555555555555556,\"#d8576b\"],[0.6666666666666666,\"#ed7953\"],[0.7777777777777778,\"#fb9f3a\"],[0.8888888888888888,\"#fdca26\"],[1.0,\"#f0f921\"]],\"type\":\"heatmapgl\"}],\"heatmap\":[{\"colorbar\":{\"outlinewidth\":0,\"ticks\":\"\"},\"colorscale\":[[0.0,\"#0d0887\"],[0.1111111111111111,\"#46039f\"],[0.2222222222222222,\"#7201a8\"],[0.3333333333333333,\"#9c179e\"],[0.4444444444444444,\"#bd3786\"],[0.5555555555555556,\"#d8576b\"],[0.6666666666666666,\"#ed7953\"],[0.7777777777777778,\"#fb9f3a\"],[0.8888888888888888,\"#fdca26\"],[1.0,\"#f0f921\"]],\"type\":\"heatmap\"}],\"histogram2dcontour\":[{\"colorbar\":{\"outlinewidth\":0,\"ticks\":\"\"},\"colorscale\":[[0.0,\"#0d0887\"],[0.1111111111111111,\"#46039f\"],[0.2222222222222222,\"#7201a8\"],[0.3333333333333333,\"#9c179e\"],[0.4444444444444444,\"#bd3786\"],[0.5555555555555556,\"#d8576b\"],[0.6666666666666666,\"#ed7953\"],[0.7777777777777778,\"#fb9f3a\"],[0.8888888888888888,\"#fdca26\"],[1.0,\"#f0f921\"]],\"type\":\"histogram2dcontour\"}],\"histogram2d\":[{\"colorbar\":{\"outlinewidth\":0,\"ticks\":\"\"},\"colorscale\":[[0.0,\"#0d0887\"],[0.1111111111111111,\"#46039f\"],[0.2222222222222222,\"#7201a8\"],[0.3333333333333333,\"#9c179e\"],[0.4444444444444444,\"#bd3786\"],[0.5555555555555556,\"#d8576b\"],[0.6666666666666666,\"#ed7953\"],[0.7777777777777778,\"#fb9f3a\"],[0.8888888888888888,\"#fdca26\"],[1.0,\"#f0f921\"]],\"type\":\"histogram2d\"}],\"histogram\":[{\"marker\":{\"pattern\":{\"fillmode\":\"overlay\",\"size\":10,\"solidity\":0.2}},\"type\":\"histogram\"}],\"mesh3d\":[{\"colorbar\":{\"outlinewidth\":0,\"ticks\":\"\"},\"type\":\"mesh3d\"}],\"parcoords\":[{\"line\":{\"colorbar\":{\"outlinewidth\":0,\"ticks\":\"\"}},\"type\":\"parcoords\"}],\"pie\":[{\"automargin\":true,\"type\":\"pie\"}],\"scatter3d\":[{\"line\":{\"colorbar\":{\"outlinewidth\":0,\"ticks\":\"\"}},\"marker\":{\"colorbar\":{\"outlinewidth\":0,\"ticks\":\"\"}},\"type\":\"scatter3d\"}],\"scattercarpet\":[{\"marker\":{\"colorbar\":{\"outlinewidth\":0,\"ticks\":\"\"}},\"type\":\"scattercarpet\"}],\"scattergeo\":[{\"marker\":{\"colorbar\":{\"outlinewidth\":0,\"ticks\":\"\"}},\"type\":\"scattergeo\"}],\"scattergl\":[{\"marker\":{\"colorbar\":{\"outlinewidth\":0,\"ticks\":\"\"}},\"type\":\"scattergl\"}],\"scattermapbox\":[{\"marker\":{\"colorbar\":{\"outlinewidth\":0,\"ticks\":\"\"}},\"type\":\"scattermapbox\"}],\"scatterpolargl\":[{\"marker\":{\"colorbar\":{\"outlinewidth\":0,\"ticks\":\"\"}},\"type\":\"scatterpolargl\"}],\"scatterpolar\":[{\"marker\":{\"colorbar\":{\"outlinewidth\":0,\"ticks\":\"\"}},\"type\":\"scatterpolar\"}],\"scatter\":[{\"fillpattern\":{\"fillmode\":\"overlay\",\"size\":10,\"solidity\":0.2},\"type\":\"scatter\"}],\"scatterternary\":[{\"marker\":{\"colorbar\":{\"outlinewidth\":0,\"ticks\":\"\"}},\"type\":\"scatterternary\"}],\"surface\":[{\"colorbar\":{\"outlinewidth\":0,\"ticks\":\"\"},\"colorscale\":[[0.0,\"#0d0887\"],[0.1111111111111111,\"#46039f\"],[0.2222222222222222,\"#7201a8\"],[0.3333333333333333,\"#9c179e\"],[0.4444444444444444,\"#bd3786\"],[0.5555555555555556,\"#d8576b\"],[0.6666666666666666,\"#ed7953\"],[0.7777777777777778,\"#fb9f3a\"],[0.8888888888888888,\"#fdca26\"],[1.0,\"#f0f921\"]],\"type\":\"surface\"}],\"table\":[{\"cells\":{\"fill\":{\"color\":\"#EBF0F8\"},\"line\":{\"color\":\"white\"}},\"header\":{\"fill\":{\"color\":\"#C8D4E3\"},\"line\":{\"color\":\"white\"}},\"type\":\"table\"}]},\"layout\":{\"annotationdefaults\":{\"arrowcolor\":\"#2a3f5f\",\"arrowhead\":0,\"arrowwidth\":1},\"autotypenumbers\":\"strict\",\"coloraxis\":{\"colorbar\":{\"outlinewidth\":0,\"ticks\":\"\"}},\"colorscale\":{\"diverging\":[[0,\"#8e0152\"],[0.1,\"#c51b7d\"],[0.2,\"#de77ae\"],[0.3,\"#f1b6da\"],[0.4,\"#fde0ef\"],[0.5,\"#f7f7f7\"],[0.6,\"#e6f5d0\"],[0.7,\"#b8e186\"],[0.8,\"#7fbc41\"],[0.9,\"#4d9221\"],[1,\"#276419\"]],\"sequential\":[[0.0,\"#0d0887\"],[0.1111111111111111,\"#46039f\"],[0.2222222222222222,\"#7201a8\"],[0.3333333333333333,\"#9c179e\"],[0.4444444444444444,\"#bd3786\"],[0.5555555555555556,\"#d8576b\"],[0.6666666666666666,\"#ed7953\"],[0.7777777777777778,\"#fb9f3a\"],[0.8888888888888888,\"#fdca26\"],[1.0,\"#f0f921\"]],\"sequentialminus\":[[0.0,\"#0d0887\"],[0.1111111111111111,\"#46039f\"],[0.2222222222222222,\"#7201a8\"],[0.3333333333333333,\"#9c179e\"],[0.4444444444444444,\"#bd3786\"],[0.5555555555555556,\"#d8576b\"],[0.6666666666666666,\"#ed7953\"],[0.7777777777777778,\"#fb9f3a\"],[0.8888888888888888,\"#fdca26\"],[1.0,\"#f0f921\"]]},\"colorway\":[\"#636efa\",\"#EF553B\",\"#00cc96\",\"#ab63fa\",\"#FFA15A\",\"#19d3f3\",\"#FF6692\",\"#B6E880\",\"#FF97FF\",\"#FECB52\"],\"font\":{\"color\":\"#2a3f5f\"},\"geo\":{\"bgcolor\":\"white\",\"lakecolor\":\"white\",\"landcolor\":\"#E5ECF6\",\"showlakes\":true,\"showland\":true,\"subunitcolor\":\"white\"},\"hoverlabel\":{\"align\":\"left\"},\"hovermode\":\"closest\",\"mapbox\":{\"style\":\"light\"},\"paper_bgcolor\":\"white\",\"plot_bgcolor\":\"#E5ECF6\",\"polar\":{\"angularaxis\":{\"gridcolor\":\"white\",\"linecolor\":\"white\",\"ticks\":\"\"},\"bgcolor\":\"#E5ECF6\",\"radialaxis\":{\"gridcolor\":\"white\",\"linecolor\":\"white\",\"ticks\":\"\"}},\"scene\":{\"xaxis\":{\"backgroundcolor\":\"#E5ECF6\",\"gridcolor\":\"white\",\"gridwidth\":2,\"linecolor\":\"white\",\"showbackground\":true,\"ticks\":\"\",\"zerolinecolor\":\"white\"},\"yaxis\":{\"backgroundcolor\":\"#E5ECF6\",\"gridcolor\":\"white\",\"gridwidth\":2,\"linecolor\":\"white\",\"showbackground\":true,\"ticks\":\"\",\"zerolinecolor\":\"white\"},\"zaxis\":{\"backgroundcolor\":\"#E5ECF6\",\"gridcolor\":\"white\",\"gridwidth\":2,\"linecolor\":\"white\",\"showbackground\":true,\"ticks\":\"\",\"zerolinecolor\":\"white\"}},\"shapedefaults\":{\"line\":{\"color\":\"#2a3f5f\"}},\"ternary\":{\"aaxis\":{\"gridcolor\":\"white\",\"linecolor\":\"white\",\"ticks\":\"\"},\"baxis\":{\"gridcolor\":\"white\",\"linecolor\":\"white\",\"ticks\":\"\"},\"bgcolor\":\"#E5ECF6\",\"caxis\":{\"gridcolor\":\"white\",\"linecolor\":\"white\",\"ticks\":\"\"}},\"title\":{\"x\":0.05},\"xaxis\":{\"automargin\":true,\"gridcolor\":\"white\",\"linecolor\":\"white\",\"ticks\":\"\",\"title\":{\"standoff\":15},\"zerolinecolor\":\"white\",\"zerolinewidth\":2},\"yaxis\":{\"automargin\":true,\"gridcolor\":\"white\",\"linecolor\":\"white\",\"ticks\":\"\",\"title\":{\"standoff\":15},\"zerolinecolor\":\"white\",\"zerolinewidth\":2}}},\"title\":{\"font\":{\"color\":\"#4D5663\"}},\"xaxis\":{\"gridcolor\":\"#E1E5ED\",\"showgrid\":true,\"tickfont\":{\"color\":\"#4D5663\"},\"title\":{\"font\":{\"color\":\"#4D5663\"},\"text\":\"\"},\"zerolinecolor\":\"#E1E5ED\"},\"yaxis\":{\"gridcolor\":\"#E1E5ED\",\"showgrid\":true,\"tickfont\":{\"color\":\"#4D5663\"},\"title\":{\"font\":{\"color\":\"#4D5663\"},\"text\":\"\"},\"zerolinecolor\":\"#E1E5ED\"}},                        {\"showLink\": true, \"linkText\": \"Export to plot.ly\", \"plotlyServerURL\": \"https://plot.ly\", \"responsive\": true}                    ).then(function(){\n",
       "                            \n",
       "var gd = document.getElementById('c8495281-f142-488d-9927-40ebfb882924');\n",
       "var x = new MutationObserver(function (mutations, observer) {{\n",
       "        var display = window.getComputedStyle(gd).display;\n",
       "        if (!display || display === 'none') {{\n",
       "            console.log([gd, 'removed!']);\n",
       "            Plotly.purge(gd);\n",
       "            observer.disconnect();\n",
       "        }}\n",
       "}});\n",
       "\n",
       "// Listen for the removal of the full notebook cells\n",
       "var notebookContainer = gd.closest('#notebook-container');\n",
       "if (notebookContainer) {{\n",
       "    x.observe(notebookContainer, {childList: true});\n",
       "}}\n",
       "\n",
       "// Listen for the clearing of the current output cell\n",
       "var outputEl = gd.closest('.output');\n",
       "if (outputEl) {{\n",
       "    x.observe(outputEl, {childList: true});\n",
       "}}\n",
       "\n",
       "                        })                };                });            </script>        </div>"
      ]
     },
     "metadata": {},
     "output_type": "display_data"
    }
   ],
   "source": [
    "df['A'].iplot(kind='hist',bins=25)"
   ]
  },
  {
   "cell_type": "code",
   "execution_count": 45,
   "metadata": {},
   "outputs": [
    {
     "data": {
      "application/vnd.plotly.v1+json": {
       "config": {
        "linkText": "Export to plot.ly",
        "plotlyServerURL": "https://plot.ly",
        "showLink": true
       },
       "data": [
        {
         "marker": {
          "color": [
           "rgb(255, 153, 51)",
           "rgb(55, 128, 191)",
           "rgb(50, 171, 96)",
           "rgb(128, 0, 128)",
           "rgb(219, 64, 82)",
           "rgb(0, 128, 128)",
           "rgb(255, 255, 51)",
           "rgb(128, 128, 0)",
           "rgb(251, 128, 114)",
           "rgb(128, 177, 211)"
          ],
          "line": {
           "width": 1.3
          },
          "size": [
           53,
           81,
           53,
           39,
           58,
           69,
           30,
           63,
           35,
           63,
           48,
           67,
           64,
           22,
           76,
           48,
           37,
           63,
           67,
           28,
           53,
           59,
           48,
           64,
           37,
           71,
           68,
           27,
           90,
           72,
           59,
           56,
           33,
           55,
           50,
           42,
           73,
           43,
           61,
           43,
           45,
           58,
           12,
           92,
           40,
           37,
           39,
           60,
           34,
           33,
           67,
           46,
           34,
           63,
           70,
           53,
           87,
           35,
           64,
           44,
           96,
           27,
           60,
           80,
           74,
           112,
           88,
           20,
           50,
           57,
           45,
           74,
           89,
           36,
           74,
           50,
           57,
           53,
           86,
           31,
           31,
           65,
           73,
           52,
           39,
           42,
           64,
           67,
           44,
           66,
           62,
           56,
           64,
           41,
           81,
           16,
           46,
           66,
           36,
           52
          ],
          "symbol": "circle"
         },
         "mode": "markers",
         "text": "",
         "type": "scatter",
         "x": [
          0.7564148323989057,
          -0.7823269068609948,
          -0.6679174325975421,
          0.7235504577605787,
          0.6763583983443798,
          1.6113674312227713,
          0.3252015273144834,
          0.09745320106895272,
          1.0649772116322407,
          -0.7859675316540942,
          0.08690115585301378,
          0.9124025065812114,
          1.3087334560716568,
          1.4912116709568073,
          0.29323517954194406,
          0.5629978990864077,
          -0.17696272403977917,
          0.7202519868531352,
          -0.4472416619570027,
          -0.660042052378561,
          -0.4397720161985938,
          0.36183913297429054,
          0.1906764296882429,
          0.27408170227575673,
          0.1628582735776629,
          0.5419999037348392,
          0.32244203981230574,
          -1.2923184092498095,
          -0.009592358103626993,
          -0.23483095390226533,
          0.18411729182079248,
          -0.1852600830234388,
          0.8368833908066343,
          1.6994622242236421,
          0.649640777805914,
          1.5448735980291246,
          1.6270987436436612,
          0.4542284041676613,
          -0.4339774915395808,
          0.30665794494472826,
          -3.0884024397121084,
          0.3451163531976607,
          0.6613568430139521,
          1.3718747343032527,
          -1.285891701134262,
          -0.8783682945663221,
          1.4174311776154207,
          -0.6249606412129409,
          -0.5342037438274139,
          -0.307321938309405,
          -2.2111762025380677,
          0.117896763562164,
          1.9426338686747864,
          1.0168105624881245,
          0.3869886209354972,
          -0.8659122284321883,
          -0.11578510886853562,
          -1.1044854111223756,
          -0.287017688548948,
          0.26941239292262464,
          -0.7721015839501733,
          0.08547677454955224,
          0.7253610559010434,
          0.7161489578101378,
          0.5128370699212017,
          -1.7628809336520286,
          0.16456924899681624,
          0.0594714216728452,
          0.3365873177762397,
          0.8803056482467614,
          -0.5938200363087336,
          0.6800430927857745,
          0.3235617112715458,
          0.422123778250071,
          -0.6941982779585049,
          -0.8762368200842747,
          -0.9242598560469263,
          -0.9583537917768091,
          -1.0755751128260154,
          0.43081351893442565,
          -1.6547441309159239,
          -0.1884358000165739,
          1.253583356296939,
          -1.1401442981765864,
          -0.6320394030275134,
          0.010293848187346874,
          -0.3772064178610946,
          0.8921343285996494,
          0.14347786896033332,
          -1.1206987434644389,
          0.8955106344603044,
          -1.042340672290424,
          -0.7800271391209364,
          -0.5450798609737193,
          -0.49155899434435724,
          0.08785907358821855,
          1.0182645649729956,
          0.19540175660096615,
          0.9465171960423777,
          -1.6119347742049708
         ],
         "y": [
          -0.7202641597043901,
          1.6111205987959558,
          -1.4045100480600723,
          -0.2305213090636333,
          0.09197263343256602,
          0.45650077090452507,
          -0.6090188815380735,
          -0.5309964497803003,
          -1.2141722737221585,
          0.3212170216275696,
          0.828923518012042,
          -0.00933759673273959,
          -0.8335054288748508,
          -0.22221466515421448,
          0.04137618145202107,
          0.17951244762335802,
          -1.2696099673173946,
          0.5169171178129851,
          0.5065825166155579,
          1.8727156509898149,
          -0.5946116913527016,
          -0.22748976950221245,
          1.4451419764392834,
          0.8734901467478385,
          0.08935941642291524,
          0.29568606105209533,
          -0.32030634026059673,
          -1.6041681395208156,
          0.028851909646146416,
          1.1615069704693648,
          1.3514765080377995,
          -0.4202353106446499,
          -0.4143726260211676,
          -1.7417579765985356,
          -0.6273257368167466,
          1.8605844366345645,
          0.7252898789669653,
          0.21722302774247051,
          0.6588080497650206,
          1.827701914229741,
          -1.3562021106860425,
          -1.6458974264261332,
          -1.890046325987327,
          0.5737985522903889,
          0.3349639343196755,
          -0.2275114335122723,
          0.45931782624536954,
          0.6009662483616324,
          -1.7640307386103249,
          -0.9698541623961516,
          0.5199410633750858,
          0.9722666787904833,
          1.1787911690208148,
          1.8889928269480079,
          0.1566215641713116,
          -0.6081716736322273,
          -1.9602317892889807,
          1.2965973839107108,
          0.7159400166046389,
          0.4104977037587753,
          0.7680084938921184,
          0.9102155990867794,
          1.4943969050212076,
          -1.1648035311483567,
          -1.8230587897093773,
          -0.4858606905365588,
          -1.342820546572071,
          1.1537637404540777,
          1.366678250402521,
          0.39291878057448937,
          -0.15295787191672727,
          -0.6164898683069034,
          -0.5028267703717849,
          -2.7191095485107715,
          0.43783276284416356,
          -0.7997778310334515,
          -0.11487376829842402,
          -1.260999076134505,
          0.11399726686639165,
          0.2452984918996693,
          0.030593204208160456,
          -0.2251417106641021,
          -0.38244207641083616,
          0.5386447328890802,
          -0.15681869059494968,
          -0.05021440734054216,
          -0.7789516064974458,
          -0.15034282374484073,
          -0.3131345538869527,
          1.774215079269531,
          0.9865362990987013,
          1.8749138989827594,
          0.37332922832157256,
          -1.6426544840578008,
          -0.3729810561155604,
          0.4118726167714622,
          1.029847585474093,
          0.8452000799540336,
          -0.7562889275417679,
          -1.2211260855955912
         ]
        }
       ],
       "layout": {
        "legend": {
         "bgcolor": "#F5F6F9",
         "font": {
          "color": "#4D5663"
         }
        },
        "paper_bgcolor": "#F5F6F9",
        "plot_bgcolor": "#F5F6F9",
        "template": {
         "data": {
          "bar": [
           {
            "error_x": {
             "color": "#2a3f5f"
            },
            "error_y": {
             "color": "#2a3f5f"
            },
            "marker": {
             "line": {
              "color": "#E5ECF6",
              "width": 0.5
             },
             "pattern": {
              "fillmode": "overlay",
              "size": 10,
              "solidity": 0.2
             }
            },
            "type": "bar"
           }
          ],
          "barpolar": [
           {
            "marker": {
             "line": {
              "color": "#E5ECF6",
              "width": 0.5
             },
             "pattern": {
              "fillmode": "overlay",
              "size": 10,
              "solidity": 0.2
             }
            },
            "type": "barpolar"
           }
          ],
          "carpet": [
           {
            "aaxis": {
             "endlinecolor": "#2a3f5f",
             "gridcolor": "white",
             "linecolor": "white",
             "minorgridcolor": "white",
             "startlinecolor": "#2a3f5f"
            },
            "baxis": {
             "endlinecolor": "#2a3f5f",
             "gridcolor": "white",
             "linecolor": "white",
             "minorgridcolor": "white",
             "startlinecolor": "#2a3f5f"
            },
            "type": "carpet"
           }
          ],
          "choropleth": [
           {
            "colorbar": {
             "outlinewidth": 0,
             "ticks": ""
            },
            "type": "choropleth"
           }
          ],
          "contour": [
           {
            "colorbar": {
             "outlinewidth": 0,
             "ticks": ""
            },
            "colorscale": [
             [
              0,
              "#0d0887"
             ],
             [
              0.1111111111111111,
              "#46039f"
             ],
             [
              0.2222222222222222,
              "#7201a8"
             ],
             [
              0.3333333333333333,
              "#9c179e"
             ],
             [
              0.4444444444444444,
              "#bd3786"
             ],
             [
              0.5555555555555556,
              "#d8576b"
             ],
             [
              0.6666666666666666,
              "#ed7953"
             ],
             [
              0.7777777777777778,
              "#fb9f3a"
             ],
             [
              0.8888888888888888,
              "#fdca26"
             ],
             [
              1,
              "#f0f921"
             ]
            ],
            "type": "contour"
           }
          ],
          "contourcarpet": [
           {
            "colorbar": {
             "outlinewidth": 0,
             "ticks": ""
            },
            "type": "contourcarpet"
           }
          ],
          "heatmap": [
           {
            "colorbar": {
             "outlinewidth": 0,
             "ticks": ""
            },
            "colorscale": [
             [
              0,
              "#0d0887"
             ],
             [
              0.1111111111111111,
              "#46039f"
             ],
             [
              0.2222222222222222,
              "#7201a8"
             ],
             [
              0.3333333333333333,
              "#9c179e"
             ],
             [
              0.4444444444444444,
              "#bd3786"
             ],
             [
              0.5555555555555556,
              "#d8576b"
             ],
             [
              0.6666666666666666,
              "#ed7953"
             ],
             [
              0.7777777777777778,
              "#fb9f3a"
             ],
             [
              0.8888888888888888,
              "#fdca26"
             ],
             [
              1,
              "#f0f921"
             ]
            ],
            "type": "heatmap"
           }
          ],
          "heatmapgl": [
           {
            "colorbar": {
             "outlinewidth": 0,
             "ticks": ""
            },
            "colorscale": [
             [
              0,
              "#0d0887"
             ],
             [
              0.1111111111111111,
              "#46039f"
             ],
             [
              0.2222222222222222,
              "#7201a8"
             ],
             [
              0.3333333333333333,
              "#9c179e"
             ],
             [
              0.4444444444444444,
              "#bd3786"
             ],
             [
              0.5555555555555556,
              "#d8576b"
             ],
             [
              0.6666666666666666,
              "#ed7953"
             ],
             [
              0.7777777777777778,
              "#fb9f3a"
             ],
             [
              0.8888888888888888,
              "#fdca26"
             ],
             [
              1,
              "#f0f921"
             ]
            ],
            "type": "heatmapgl"
           }
          ],
          "histogram": [
           {
            "marker": {
             "pattern": {
              "fillmode": "overlay",
              "size": 10,
              "solidity": 0.2
             }
            },
            "type": "histogram"
           }
          ],
          "histogram2d": [
           {
            "colorbar": {
             "outlinewidth": 0,
             "ticks": ""
            },
            "colorscale": [
             [
              0,
              "#0d0887"
             ],
             [
              0.1111111111111111,
              "#46039f"
             ],
             [
              0.2222222222222222,
              "#7201a8"
             ],
             [
              0.3333333333333333,
              "#9c179e"
             ],
             [
              0.4444444444444444,
              "#bd3786"
             ],
             [
              0.5555555555555556,
              "#d8576b"
             ],
             [
              0.6666666666666666,
              "#ed7953"
             ],
             [
              0.7777777777777778,
              "#fb9f3a"
             ],
             [
              0.8888888888888888,
              "#fdca26"
             ],
             [
              1,
              "#f0f921"
             ]
            ],
            "type": "histogram2d"
           }
          ],
          "histogram2dcontour": [
           {
            "colorbar": {
             "outlinewidth": 0,
             "ticks": ""
            },
            "colorscale": [
             [
              0,
              "#0d0887"
             ],
             [
              0.1111111111111111,
              "#46039f"
             ],
             [
              0.2222222222222222,
              "#7201a8"
             ],
             [
              0.3333333333333333,
              "#9c179e"
             ],
             [
              0.4444444444444444,
              "#bd3786"
             ],
             [
              0.5555555555555556,
              "#d8576b"
             ],
             [
              0.6666666666666666,
              "#ed7953"
             ],
             [
              0.7777777777777778,
              "#fb9f3a"
             ],
             [
              0.8888888888888888,
              "#fdca26"
             ],
             [
              1,
              "#f0f921"
             ]
            ],
            "type": "histogram2dcontour"
           }
          ],
          "mesh3d": [
           {
            "colorbar": {
             "outlinewidth": 0,
             "ticks": ""
            },
            "type": "mesh3d"
           }
          ],
          "parcoords": [
           {
            "line": {
             "colorbar": {
              "outlinewidth": 0,
              "ticks": ""
             }
            },
            "type": "parcoords"
           }
          ],
          "pie": [
           {
            "automargin": true,
            "type": "pie"
           }
          ],
          "scatter": [
           {
            "fillpattern": {
             "fillmode": "overlay",
             "size": 10,
             "solidity": 0.2
            },
            "type": "scatter"
           }
          ],
          "scatter3d": [
           {
            "line": {
             "colorbar": {
              "outlinewidth": 0,
              "ticks": ""
             }
            },
            "marker": {
             "colorbar": {
              "outlinewidth": 0,
              "ticks": ""
             }
            },
            "type": "scatter3d"
           }
          ],
          "scattercarpet": [
           {
            "marker": {
             "colorbar": {
              "outlinewidth": 0,
              "ticks": ""
             }
            },
            "type": "scattercarpet"
           }
          ],
          "scattergeo": [
           {
            "marker": {
             "colorbar": {
              "outlinewidth": 0,
              "ticks": ""
             }
            },
            "type": "scattergeo"
           }
          ],
          "scattergl": [
           {
            "marker": {
             "colorbar": {
              "outlinewidth": 0,
              "ticks": ""
             }
            },
            "type": "scattergl"
           }
          ],
          "scattermapbox": [
           {
            "marker": {
             "colorbar": {
              "outlinewidth": 0,
              "ticks": ""
             }
            },
            "type": "scattermapbox"
           }
          ],
          "scatterpolar": [
           {
            "marker": {
             "colorbar": {
              "outlinewidth": 0,
              "ticks": ""
             }
            },
            "type": "scatterpolar"
           }
          ],
          "scatterpolargl": [
           {
            "marker": {
             "colorbar": {
              "outlinewidth": 0,
              "ticks": ""
             }
            },
            "type": "scatterpolargl"
           }
          ],
          "scatterternary": [
           {
            "marker": {
             "colorbar": {
              "outlinewidth": 0,
              "ticks": ""
             }
            },
            "type": "scatterternary"
           }
          ],
          "surface": [
           {
            "colorbar": {
             "outlinewidth": 0,
             "ticks": ""
            },
            "colorscale": [
             [
              0,
              "#0d0887"
             ],
             [
              0.1111111111111111,
              "#46039f"
             ],
             [
              0.2222222222222222,
              "#7201a8"
             ],
             [
              0.3333333333333333,
              "#9c179e"
             ],
             [
              0.4444444444444444,
              "#bd3786"
             ],
             [
              0.5555555555555556,
              "#d8576b"
             ],
             [
              0.6666666666666666,
              "#ed7953"
             ],
             [
              0.7777777777777778,
              "#fb9f3a"
             ],
             [
              0.8888888888888888,
              "#fdca26"
             ],
             [
              1,
              "#f0f921"
             ]
            ],
            "type": "surface"
           }
          ],
          "table": [
           {
            "cells": {
             "fill": {
              "color": "#EBF0F8"
             },
             "line": {
              "color": "white"
             }
            },
            "header": {
             "fill": {
              "color": "#C8D4E3"
             },
             "line": {
              "color": "white"
             }
            },
            "type": "table"
           }
          ]
         },
         "layout": {
          "annotationdefaults": {
           "arrowcolor": "#2a3f5f",
           "arrowhead": 0,
           "arrowwidth": 1
          },
          "autotypenumbers": "strict",
          "coloraxis": {
           "colorbar": {
            "outlinewidth": 0,
            "ticks": ""
           }
          },
          "colorscale": {
           "diverging": [
            [
             0,
             "#8e0152"
            ],
            [
             0.1,
             "#c51b7d"
            ],
            [
             0.2,
             "#de77ae"
            ],
            [
             0.3,
             "#f1b6da"
            ],
            [
             0.4,
             "#fde0ef"
            ],
            [
             0.5,
             "#f7f7f7"
            ],
            [
             0.6,
             "#e6f5d0"
            ],
            [
             0.7,
             "#b8e186"
            ],
            [
             0.8,
             "#7fbc41"
            ],
            [
             0.9,
             "#4d9221"
            ],
            [
             1,
             "#276419"
            ]
           ],
           "sequential": [
            [
             0,
             "#0d0887"
            ],
            [
             0.1111111111111111,
             "#46039f"
            ],
            [
             0.2222222222222222,
             "#7201a8"
            ],
            [
             0.3333333333333333,
             "#9c179e"
            ],
            [
             0.4444444444444444,
             "#bd3786"
            ],
            [
             0.5555555555555556,
             "#d8576b"
            ],
            [
             0.6666666666666666,
             "#ed7953"
            ],
            [
             0.7777777777777778,
             "#fb9f3a"
            ],
            [
             0.8888888888888888,
             "#fdca26"
            ],
            [
             1,
             "#f0f921"
            ]
           ],
           "sequentialminus": [
            [
             0,
             "#0d0887"
            ],
            [
             0.1111111111111111,
             "#46039f"
            ],
            [
             0.2222222222222222,
             "#7201a8"
            ],
            [
             0.3333333333333333,
             "#9c179e"
            ],
            [
             0.4444444444444444,
             "#bd3786"
            ],
            [
             0.5555555555555556,
             "#d8576b"
            ],
            [
             0.6666666666666666,
             "#ed7953"
            ],
            [
             0.7777777777777778,
             "#fb9f3a"
            ],
            [
             0.8888888888888888,
             "#fdca26"
            ],
            [
             1,
             "#f0f921"
            ]
           ]
          },
          "colorway": [
           "#636efa",
           "#EF553B",
           "#00cc96",
           "#ab63fa",
           "#FFA15A",
           "#19d3f3",
           "#FF6692",
           "#B6E880",
           "#FF97FF",
           "#FECB52"
          ],
          "font": {
           "color": "#2a3f5f"
          },
          "geo": {
           "bgcolor": "white",
           "lakecolor": "white",
           "landcolor": "#E5ECF6",
           "showlakes": true,
           "showland": true,
           "subunitcolor": "white"
          },
          "hoverlabel": {
           "align": "left"
          },
          "hovermode": "closest",
          "mapbox": {
           "style": "light"
          },
          "paper_bgcolor": "white",
          "plot_bgcolor": "#E5ECF6",
          "polar": {
           "angularaxis": {
            "gridcolor": "white",
            "linecolor": "white",
            "ticks": ""
           },
           "bgcolor": "#E5ECF6",
           "radialaxis": {
            "gridcolor": "white",
            "linecolor": "white",
            "ticks": ""
           }
          },
          "scene": {
           "xaxis": {
            "backgroundcolor": "#E5ECF6",
            "gridcolor": "white",
            "gridwidth": 2,
            "linecolor": "white",
            "showbackground": true,
            "ticks": "",
            "zerolinecolor": "white"
           },
           "yaxis": {
            "backgroundcolor": "#E5ECF6",
            "gridcolor": "white",
            "gridwidth": 2,
            "linecolor": "white",
            "showbackground": true,
            "ticks": "",
            "zerolinecolor": "white"
           },
           "zaxis": {
            "backgroundcolor": "#E5ECF6",
            "gridcolor": "white",
            "gridwidth": 2,
            "linecolor": "white",
            "showbackground": true,
            "ticks": "",
            "zerolinecolor": "white"
           }
          },
          "shapedefaults": {
           "line": {
            "color": "#2a3f5f"
           }
          },
          "ternary": {
           "aaxis": {
            "gridcolor": "white",
            "linecolor": "white",
            "ticks": ""
           },
           "baxis": {
            "gridcolor": "white",
            "linecolor": "white",
            "ticks": ""
           },
           "bgcolor": "#E5ECF6",
           "caxis": {
            "gridcolor": "white",
            "linecolor": "white",
            "ticks": ""
           }
          },
          "title": {
           "x": 0.05
          },
          "xaxis": {
           "automargin": true,
           "gridcolor": "white",
           "linecolor": "white",
           "ticks": "",
           "title": {
            "standoff": 15
           },
           "zerolinecolor": "white",
           "zerolinewidth": 2
          },
          "yaxis": {
           "automargin": true,
           "gridcolor": "white",
           "linecolor": "white",
           "ticks": "",
           "title": {
            "standoff": 15
           },
           "zerolinecolor": "white",
           "zerolinewidth": 2
          }
         }
        },
        "title": {
         "font": {
          "color": "#4D5663"
         }
        },
        "xaxis": {
         "gridcolor": "#E1E5ED",
         "showgrid": true,
         "tickfont": {
          "color": "#4D5663"
         },
         "title": {
          "font": {
           "color": "#4D5663"
          },
          "text": ""
         },
         "zerolinecolor": "#E1E5ED"
        },
        "yaxis": {
         "gridcolor": "#E1E5ED",
         "showgrid": true,
         "tickfont": {
          "color": "#4D5663"
         },
         "title": {
          "font": {
           "color": "#4D5663"
          },
          "text": ""
         },
         "zerolinecolor": "#E1E5ED"
        }
       }
      },
      "text/html": [
       "<div>                            <div id=\"cf2d229b-2d11-4603-82d3-aecb58cfdb49\" class=\"plotly-graph-div\" style=\"height:525px; width:100%;\"></div>            <script type=\"text/javascript\">                require([\"plotly\"], function(Plotly) {                    window.PLOTLYENV=window.PLOTLYENV || {};\n",
       "                    window.PLOTLYENV.BASE_URL='https://plot.ly';                                    if (document.getElementById(\"cf2d229b-2d11-4603-82d3-aecb58cfdb49\")) {                    Plotly.newPlot(                        \"cf2d229b-2d11-4603-82d3-aecb58cfdb49\",                        [{\"marker\":{\"color\":[\"rgb(255, 153, 51)\",\"rgb(55, 128, 191)\",\"rgb(50, 171, 96)\",\"rgb(128, 0, 128)\",\"rgb(219, 64, 82)\",\"rgb(0, 128, 128)\",\"rgb(255, 255, 51)\",\"rgb(128, 128, 0)\",\"rgb(251, 128, 114)\",\"rgb(128, 177, 211)\"],\"line\":{\"width\":1.3},\"size\":[53,81,53,39,58,69,30,63,35,63,48,67,64,22,76,48,37,63,67,28,53,59,48,64,37,71,68,27,90,72,59,56,33,55,50,42,73,43,61,43,45,58,12,92,40,37,39,60,34,33,67,46,34,63,70,53,87,35,64,44,96,27,60,80,74,112,88,20,50,57,45,74,89,36,74,50,57,53,86,31,31,65,73,52,39,42,64,67,44,66,62,56,64,41,81,16,46,66,36,52],\"symbol\":\"circle\"},\"mode\":\"markers\",\"text\":\"\",\"x\":[0.7564148323989057,-0.7823269068609948,-0.6679174325975421,0.7235504577605787,0.6763583983443798,1.6113674312227713,0.3252015273144834,0.09745320106895272,1.0649772116322407,-0.7859675316540942,0.08690115585301378,0.9124025065812114,1.3087334560716568,1.4912116709568073,0.29323517954194406,0.5629978990864077,-0.17696272403977917,0.7202519868531352,-0.4472416619570027,-0.660042052378561,-0.4397720161985938,0.36183913297429054,0.1906764296882429,0.27408170227575673,0.1628582735776629,0.5419999037348392,0.32244203981230574,-1.2923184092498095,-0.009592358103626993,-0.23483095390226533,0.18411729182079248,-0.1852600830234388,0.8368833908066343,1.6994622242236421,0.649640777805914,1.5448735980291246,1.6270987436436612,0.4542284041676613,-0.4339774915395808,0.30665794494472826,-3.0884024397121084,0.3451163531976607,0.6613568430139521,1.3718747343032527,-1.285891701134262,-0.8783682945663221,1.4174311776154207,-0.6249606412129409,-0.5342037438274139,-0.307321938309405,-2.2111762025380677,0.117896763562164,1.9426338686747864,1.0168105624881245,0.3869886209354972,-0.8659122284321883,-0.11578510886853562,-1.1044854111223756,-0.287017688548948,0.26941239292262464,-0.7721015839501733,0.08547677454955224,0.7253610559010434,0.7161489578101378,0.5128370699212017,-1.7628809336520286,0.16456924899681624,0.0594714216728452,0.3365873177762397,0.8803056482467614,-0.5938200363087336,0.6800430927857745,0.3235617112715458,0.422123778250071,-0.6941982779585049,-0.8762368200842747,-0.9242598560469263,-0.9583537917768091,-1.0755751128260154,0.43081351893442565,-1.6547441309159239,-0.1884358000165739,1.253583356296939,-1.1401442981765864,-0.6320394030275134,0.010293848187346874,-0.3772064178610946,0.8921343285996494,0.14347786896033332,-1.1206987434644389,0.8955106344603044,-1.042340672290424,-0.7800271391209364,-0.5450798609737193,-0.49155899434435724,0.08785907358821855,1.0182645649729956,0.19540175660096615,0.9465171960423777,-1.6119347742049708],\"y\":[-0.7202641597043901,1.6111205987959558,-1.4045100480600723,-0.2305213090636333,0.09197263343256602,0.45650077090452507,-0.6090188815380735,-0.5309964497803003,-1.2141722737221585,0.3212170216275696,0.828923518012042,-0.00933759673273959,-0.8335054288748508,-0.22221466515421448,0.04137618145202107,0.17951244762335802,-1.2696099673173946,0.5169171178129851,0.5065825166155579,1.8727156509898149,-0.5946116913527016,-0.22748976950221245,1.4451419764392834,0.8734901467478385,0.08935941642291524,0.29568606105209533,-0.32030634026059673,-1.6041681395208156,0.028851909646146416,1.1615069704693648,1.3514765080377995,-0.4202353106446499,-0.4143726260211676,-1.7417579765985356,-0.6273257368167466,1.8605844366345645,0.7252898789669653,0.21722302774247051,0.6588080497650206,1.827701914229741,-1.3562021106860425,-1.6458974264261332,-1.890046325987327,0.5737985522903889,0.3349639343196755,-0.2275114335122723,0.45931782624536954,0.6009662483616324,-1.7640307386103249,-0.9698541623961516,0.5199410633750858,0.9722666787904833,1.1787911690208148,1.8889928269480079,0.1566215641713116,-0.6081716736322273,-1.9602317892889807,1.2965973839107108,0.7159400166046389,0.4104977037587753,0.7680084938921184,0.9102155990867794,1.4943969050212076,-1.1648035311483567,-1.8230587897093773,-0.4858606905365588,-1.342820546572071,1.1537637404540777,1.366678250402521,0.39291878057448937,-0.15295787191672727,-0.6164898683069034,-0.5028267703717849,-2.7191095485107715,0.43783276284416356,-0.7997778310334515,-0.11487376829842402,-1.260999076134505,0.11399726686639165,0.2452984918996693,0.030593204208160456,-0.2251417106641021,-0.38244207641083616,0.5386447328890802,-0.15681869059494968,-0.05021440734054216,-0.7789516064974458,-0.15034282374484073,-0.3131345538869527,1.774215079269531,0.9865362990987013,1.8749138989827594,0.37332922832157256,-1.6426544840578008,-0.3729810561155604,0.4118726167714622,1.029847585474093,0.8452000799540336,-0.7562889275417679,-1.2211260855955912],\"type\":\"scatter\"}],                        {\"legend\":{\"bgcolor\":\"#F5F6F9\",\"font\":{\"color\":\"#4D5663\"}},\"paper_bgcolor\":\"#F5F6F9\",\"plot_bgcolor\":\"#F5F6F9\",\"template\":{\"data\":{\"barpolar\":[{\"marker\":{\"line\":{\"color\":\"#E5ECF6\",\"width\":0.5},\"pattern\":{\"fillmode\":\"overlay\",\"size\":10,\"solidity\":0.2}},\"type\":\"barpolar\"}],\"bar\":[{\"error_x\":{\"color\":\"#2a3f5f\"},\"error_y\":{\"color\":\"#2a3f5f\"},\"marker\":{\"line\":{\"color\":\"#E5ECF6\",\"width\":0.5},\"pattern\":{\"fillmode\":\"overlay\",\"size\":10,\"solidity\":0.2}},\"type\":\"bar\"}],\"carpet\":[{\"aaxis\":{\"endlinecolor\":\"#2a3f5f\",\"gridcolor\":\"white\",\"linecolor\":\"white\",\"minorgridcolor\":\"white\",\"startlinecolor\":\"#2a3f5f\"},\"baxis\":{\"endlinecolor\":\"#2a3f5f\",\"gridcolor\":\"white\",\"linecolor\":\"white\",\"minorgridcolor\":\"white\",\"startlinecolor\":\"#2a3f5f\"},\"type\":\"carpet\"}],\"choropleth\":[{\"colorbar\":{\"outlinewidth\":0,\"ticks\":\"\"},\"type\":\"choropleth\"}],\"contourcarpet\":[{\"colorbar\":{\"outlinewidth\":0,\"ticks\":\"\"},\"type\":\"contourcarpet\"}],\"contour\":[{\"colorbar\":{\"outlinewidth\":0,\"ticks\":\"\"},\"colorscale\":[[0.0,\"#0d0887\"],[0.1111111111111111,\"#46039f\"],[0.2222222222222222,\"#7201a8\"],[0.3333333333333333,\"#9c179e\"],[0.4444444444444444,\"#bd3786\"],[0.5555555555555556,\"#d8576b\"],[0.6666666666666666,\"#ed7953\"],[0.7777777777777778,\"#fb9f3a\"],[0.8888888888888888,\"#fdca26\"],[1.0,\"#f0f921\"]],\"type\":\"contour\"}],\"heatmapgl\":[{\"colorbar\":{\"outlinewidth\":0,\"ticks\":\"\"},\"colorscale\":[[0.0,\"#0d0887\"],[0.1111111111111111,\"#46039f\"],[0.2222222222222222,\"#7201a8\"],[0.3333333333333333,\"#9c179e\"],[0.4444444444444444,\"#bd3786\"],[0.5555555555555556,\"#d8576b\"],[0.6666666666666666,\"#ed7953\"],[0.7777777777777778,\"#fb9f3a\"],[0.8888888888888888,\"#fdca26\"],[1.0,\"#f0f921\"]],\"type\":\"heatmapgl\"}],\"heatmap\":[{\"colorbar\":{\"outlinewidth\":0,\"ticks\":\"\"},\"colorscale\":[[0.0,\"#0d0887\"],[0.1111111111111111,\"#46039f\"],[0.2222222222222222,\"#7201a8\"],[0.3333333333333333,\"#9c179e\"],[0.4444444444444444,\"#bd3786\"],[0.5555555555555556,\"#d8576b\"],[0.6666666666666666,\"#ed7953\"],[0.7777777777777778,\"#fb9f3a\"],[0.8888888888888888,\"#fdca26\"],[1.0,\"#f0f921\"]],\"type\":\"heatmap\"}],\"histogram2dcontour\":[{\"colorbar\":{\"outlinewidth\":0,\"ticks\":\"\"},\"colorscale\":[[0.0,\"#0d0887\"],[0.1111111111111111,\"#46039f\"],[0.2222222222222222,\"#7201a8\"],[0.3333333333333333,\"#9c179e\"],[0.4444444444444444,\"#bd3786\"],[0.5555555555555556,\"#d8576b\"],[0.6666666666666666,\"#ed7953\"],[0.7777777777777778,\"#fb9f3a\"],[0.8888888888888888,\"#fdca26\"],[1.0,\"#f0f921\"]],\"type\":\"histogram2dcontour\"}],\"histogram2d\":[{\"colorbar\":{\"outlinewidth\":0,\"ticks\":\"\"},\"colorscale\":[[0.0,\"#0d0887\"],[0.1111111111111111,\"#46039f\"],[0.2222222222222222,\"#7201a8\"],[0.3333333333333333,\"#9c179e\"],[0.4444444444444444,\"#bd3786\"],[0.5555555555555556,\"#d8576b\"],[0.6666666666666666,\"#ed7953\"],[0.7777777777777778,\"#fb9f3a\"],[0.8888888888888888,\"#fdca26\"],[1.0,\"#f0f921\"]],\"type\":\"histogram2d\"}],\"histogram\":[{\"marker\":{\"pattern\":{\"fillmode\":\"overlay\",\"size\":10,\"solidity\":0.2}},\"type\":\"histogram\"}],\"mesh3d\":[{\"colorbar\":{\"outlinewidth\":0,\"ticks\":\"\"},\"type\":\"mesh3d\"}],\"parcoords\":[{\"line\":{\"colorbar\":{\"outlinewidth\":0,\"ticks\":\"\"}},\"type\":\"parcoords\"}],\"pie\":[{\"automargin\":true,\"type\":\"pie\"}],\"scatter3d\":[{\"line\":{\"colorbar\":{\"outlinewidth\":0,\"ticks\":\"\"}},\"marker\":{\"colorbar\":{\"outlinewidth\":0,\"ticks\":\"\"}},\"type\":\"scatter3d\"}],\"scattercarpet\":[{\"marker\":{\"colorbar\":{\"outlinewidth\":0,\"ticks\":\"\"}},\"type\":\"scattercarpet\"}],\"scattergeo\":[{\"marker\":{\"colorbar\":{\"outlinewidth\":0,\"ticks\":\"\"}},\"type\":\"scattergeo\"}],\"scattergl\":[{\"marker\":{\"colorbar\":{\"outlinewidth\":0,\"ticks\":\"\"}},\"type\":\"scattergl\"}],\"scattermapbox\":[{\"marker\":{\"colorbar\":{\"outlinewidth\":0,\"ticks\":\"\"}},\"type\":\"scattermapbox\"}],\"scatterpolargl\":[{\"marker\":{\"colorbar\":{\"outlinewidth\":0,\"ticks\":\"\"}},\"type\":\"scatterpolargl\"}],\"scatterpolar\":[{\"marker\":{\"colorbar\":{\"outlinewidth\":0,\"ticks\":\"\"}},\"type\":\"scatterpolar\"}],\"scatter\":[{\"fillpattern\":{\"fillmode\":\"overlay\",\"size\":10,\"solidity\":0.2},\"type\":\"scatter\"}],\"scatterternary\":[{\"marker\":{\"colorbar\":{\"outlinewidth\":0,\"ticks\":\"\"}},\"type\":\"scatterternary\"}],\"surface\":[{\"colorbar\":{\"outlinewidth\":0,\"ticks\":\"\"},\"colorscale\":[[0.0,\"#0d0887\"],[0.1111111111111111,\"#46039f\"],[0.2222222222222222,\"#7201a8\"],[0.3333333333333333,\"#9c179e\"],[0.4444444444444444,\"#bd3786\"],[0.5555555555555556,\"#d8576b\"],[0.6666666666666666,\"#ed7953\"],[0.7777777777777778,\"#fb9f3a\"],[0.8888888888888888,\"#fdca26\"],[1.0,\"#f0f921\"]],\"type\":\"surface\"}],\"table\":[{\"cells\":{\"fill\":{\"color\":\"#EBF0F8\"},\"line\":{\"color\":\"white\"}},\"header\":{\"fill\":{\"color\":\"#C8D4E3\"},\"line\":{\"color\":\"white\"}},\"type\":\"table\"}]},\"layout\":{\"annotationdefaults\":{\"arrowcolor\":\"#2a3f5f\",\"arrowhead\":0,\"arrowwidth\":1},\"autotypenumbers\":\"strict\",\"coloraxis\":{\"colorbar\":{\"outlinewidth\":0,\"ticks\":\"\"}},\"colorscale\":{\"diverging\":[[0,\"#8e0152\"],[0.1,\"#c51b7d\"],[0.2,\"#de77ae\"],[0.3,\"#f1b6da\"],[0.4,\"#fde0ef\"],[0.5,\"#f7f7f7\"],[0.6,\"#e6f5d0\"],[0.7,\"#b8e186\"],[0.8,\"#7fbc41\"],[0.9,\"#4d9221\"],[1,\"#276419\"]],\"sequential\":[[0.0,\"#0d0887\"],[0.1111111111111111,\"#46039f\"],[0.2222222222222222,\"#7201a8\"],[0.3333333333333333,\"#9c179e\"],[0.4444444444444444,\"#bd3786\"],[0.5555555555555556,\"#d8576b\"],[0.6666666666666666,\"#ed7953\"],[0.7777777777777778,\"#fb9f3a\"],[0.8888888888888888,\"#fdca26\"],[1.0,\"#f0f921\"]],\"sequentialminus\":[[0.0,\"#0d0887\"],[0.1111111111111111,\"#46039f\"],[0.2222222222222222,\"#7201a8\"],[0.3333333333333333,\"#9c179e\"],[0.4444444444444444,\"#bd3786\"],[0.5555555555555556,\"#d8576b\"],[0.6666666666666666,\"#ed7953\"],[0.7777777777777778,\"#fb9f3a\"],[0.8888888888888888,\"#fdca26\"],[1.0,\"#f0f921\"]]},\"colorway\":[\"#636efa\",\"#EF553B\",\"#00cc96\",\"#ab63fa\",\"#FFA15A\",\"#19d3f3\",\"#FF6692\",\"#B6E880\",\"#FF97FF\",\"#FECB52\"],\"font\":{\"color\":\"#2a3f5f\"},\"geo\":{\"bgcolor\":\"white\",\"lakecolor\":\"white\",\"landcolor\":\"#E5ECF6\",\"showlakes\":true,\"showland\":true,\"subunitcolor\":\"white\"},\"hoverlabel\":{\"align\":\"left\"},\"hovermode\":\"closest\",\"mapbox\":{\"style\":\"light\"},\"paper_bgcolor\":\"white\",\"plot_bgcolor\":\"#E5ECF6\",\"polar\":{\"angularaxis\":{\"gridcolor\":\"white\",\"linecolor\":\"white\",\"ticks\":\"\"},\"bgcolor\":\"#E5ECF6\",\"radialaxis\":{\"gridcolor\":\"white\",\"linecolor\":\"white\",\"ticks\":\"\"}},\"scene\":{\"xaxis\":{\"backgroundcolor\":\"#E5ECF6\",\"gridcolor\":\"white\",\"gridwidth\":2,\"linecolor\":\"white\",\"showbackground\":true,\"ticks\":\"\",\"zerolinecolor\":\"white\"},\"yaxis\":{\"backgroundcolor\":\"#E5ECF6\",\"gridcolor\":\"white\",\"gridwidth\":2,\"linecolor\":\"white\",\"showbackground\":true,\"ticks\":\"\",\"zerolinecolor\":\"white\"},\"zaxis\":{\"backgroundcolor\":\"#E5ECF6\",\"gridcolor\":\"white\",\"gridwidth\":2,\"linecolor\":\"white\",\"showbackground\":true,\"ticks\":\"\",\"zerolinecolor\":\"white\"}},\"shapedefaults\":{\"line\":{\"color\":\"#2a3f5f\"}},\"ternary\":{\"aaxis\":{\"gridcolor\":\"white\",\"linecolor\":\"white\",\"ticks\":\"\"},\"baxis\":{\"gridcolor\":\"white\",\"linecolor\":\"white\",\"ticks\":\"\"},\"bgcolor\":\"#E5ECF6\",\"caxis\":{\"gridcolor\":\"white\",\"linecolor\":\"white\",\"ticks\":\"\"}},\"title\":{\"x\":0.05},\"xaxis\":{\"automargin\":true,\"gridcolor\":\"white\",\"linecolor\":\"white\",\"ticks\":\"\",\"title\":{\"standoff\":15},\"zerolinecolor\":\"white\",\"zerolinewidth\":2},\"yaxis\":{\"automargin\":true,\"gridcolor\":\"white\",\"linecolor\":\"white\",\"ticks\":\"\",\"title\":{\"standoff\":15},\"zerolinecolor\":\"white\",\"zerolinewidth\":2}}},\"title\":{\"font\":{\"color\":\"#4D5663\"}},\"xaxis\":{\"gridcolor\":\"#E1E5ED\",\"showgrid\":true,\"tickfont\":{\"color\":\"#4D5663\"},\"title\":{\"font\":{\"color\":\"#4D5663\"},\"text\":\"\"},\"zerolinecolor\":\"#E1E5ED\"},\"yaxis\":{\"gridcolor\":\"#E1E5ED\",\"showgrid\":true,\"tickfont\":{\"color\":\"#4D5663\"},\"title\":{\"font\":{\"color\":\"#4D5663\"},\"text\":\"\"},\"zerolinecolor\":\"#E1E5ED\"}},                        {\"showLink\": true, \"linkText\": \"Export to plot.ly\", \"plotlyServerURL\": \"https://plot.ly\", \"responsive\": true}                    ).then(function(){\n",
       "                            \n",
       "var gd = document.getElementById('cf2d229b-2d11-4603-82d3-aecb58cfdb49');\n",
       "var x = new MutationObserver(function (mutations, observer) {{\n",
       "        var display = window.getComputedStyle(gd).display;\n",
       "        if (!display || display === 'none') {{\n",
       "            console.log([gd, 'removed!']);\n",
       "            Plotly.purge(gd);\n",
       "            observer.disconnect();\n",
       "        }}\n",
       "}});\n",
       "\n",
       "// Listen for the removal of the full notebook cells\n",
       "var notebookContainer = gd.closest('#notebook-container');\n",
       "if (notebookContainer) {{\n",
       "    x.observe(notebookContainer, {childList: true});\n",
       "}}\n",
       "\n",
       "// Listen for the clearing of the current output cell\n",
       "var outputEl = gd.closest('.output');\n",
       "if (outputEl) {{\n",
       "    x.observe(outputEl, {childList: true});\n",
       "}}\n",
       "\n",
       "                        })                };                });            </script>        </div>"
      ]
     },
     "metadata": {},
     "output_type": "display_data"
    }
   ],
   "source": [
    "df.iplot(kind='bubble',x='A',y='B',size='C')"
   ]
  },
  {
   "cell_type": "markdown",
   "metadata": {},
   "source": [
    "## scatter_matrix()\n",
    "\n",
    "Similar a sns.pairplot()"
   ]
  },
  {
   "cell_type": "code",
   "execution_count": 46,
   "metadata": {},
   "outputs": [
    {
     "data": {
      "application/vnd.plotly.v1+json": {
       "config": {
        "linkText": "Export to plot.ly",
        "plotlyServerURL": "https://plot.ly",
        "showLink": true
       },
       "data": [
        {
         "histfunc": "count",
         "histnorm": "",
         "marker": {
          "color": "rgba(255, 153, 51, 1.0)",
          "line": {
           "color": "#4D5663",
           "width": 1.3
          }
         },
         "name": "A",
         "nbinsx": 10,
         "opacity": 0.8,
         "orientation": "v",
         "type": "histogram",
         "x": [
          0.7564148323989057,
          -0.7823269068609948,
          -0.6679174325975421,
          0.7235504577605787,
          0.6763583983443798,
          1.6113674312227713,
          0.3252015273144834,
          0.09745320106895272,
          1.0649772116322407,
          -0.7859675316540942,
          0.08690115585301378,
          0.9124025065812114,
          1.3087334560716568,
          1.4912116709568073,
          0.29323517954194406,
          0.5629978990864077,
          -0.17696272403977917,
          0.7202519868531352,
          -0.4472416619570027,
          -0.660042052378561,
          -0.4397720161985938,
          0.36183913297429054,
          0.1906764296882429,
          0.27408170227575673,
          0.1628582735776629,
          0.5419999037348392,
          0.32244203981230574,
          -1.2923184092498095,
          -0.009592358103626993,
          -0.23483095390226533,
          0.18411729182079248,
          -0.1852600830234388,
          0.8368833908066343,
          1.6994622242236421,
          0.649640777805914,
          1.5448735980291246,
          1.6270987436436612,
          0.4542284041676613,
          -0.4339774915395808,
          0.30665794494472826,
          -3.0884024397121084,
          0.3451163531976607,
          0.6613568430139521,
          1.3718747343032527,
          -1.285891701134262,
          -0.8783682945663221,
          1.4174311776154207,
          -0.6249606412129409,
          -0.5342037438274139,
          -0.307321938309405,
          -2.2111762025380677,
          0.117896763562164,
          1.9426338686747864,
          1.0168105624881245,
          0.3869886209354972,
          -0.8659122284321883,
          -0.11578510886853562,
          -1.1044854111223756,
          -0.287017688548948,
          0.26941239292262464,
          -0.7721015839501733,
          0.08547677454955224,
          0.7253610559010434,
          0.7161489578101378,
          0.5128370699212017,
          -1.7628809336520286,
          0.16456924899681624,
          0.0594714216728452,
          0.3365873177762397,
          0.8803056482467614,
          -0.5938200363087336,
          0.6800430927857745,
          0.3235617112715458,
          0.422123778250071,
          -0.6941982779585049,
          -0.8762368200842747,
          -0.9242598560469263,
          -0.9583537917768091,
          -1.0755751128260154,
          0.43081351893442565,
          -1.6547441309159239,
          -0.1884358000165739,
          1.253583356296939,
          -1.1401442981765864,
          -0.6320394030275134,
          0.010293848187346874,
          -0.3772064178610946,
          0.8921343285996494,
          0.14347786896033332,
          -1.1206987434644389,
          0.8955106344603044,
          -1.042340672290424,
          -0.7800271391209364,
          -0.5450798609737193,
          -0.49155899434435724,
          0.08785907358821855,
          1.0182645649729956,
          0.19540175660096615,
          0.9465171960423777,
          -1.6119347742049708
         ],
         "xaxis": "x",
         "yaxis": "y"
        },
        {
         "line": {
          "color": "rgba(128, 128, 128, 1.0)",
          "dash": "solid",
          "shape": "linear",
          "width": 1.3
         },
         "marker": {
          "size": 2,
          "symbol": "circle"
         },
         "mode": "markers",
         "name": "A",
         "text": "",
         "type": "scatter",
         "x": [
          -0.7202641597043901,
          1.6111205987959558,
          -1.4045100480600723,
          -0.2305213090636333,
          0.09197263343256602,
          0.45650077090452507,
          -0.6090188815380735,
          -0.5309964497803003,
          -1.2141722737221585,
          0.3212170216275696,
          0.828923518012042,
          -0.00933759673273959,
          -0.8335054288748508,
          -0.22221466515421448,
          0.04137618145202107,
          0.17951244762335802,
          -1.2696099673173946,
          0.5169171178129851,
          0.5065825166155579,
          1.8727156509898149,
          -0.5946116913527016,
          -0.22748976950221245,
          1.4451419764392834,
          0.8734901467478385,
          0.08935941642291524,
          0.29568606105209533,
          -0.32030634026059673,
          -1.6041681395208156,
          0.028851909646146416,
          1.1615069704693648,
          1.3514765080377995,
          -0.4202353106446499,
          -0.4143726260211676,
          -1.7417579765985356,
          -0.6273257368167466,
          1.8605844366345645,
          0.7252898789669653,
          0.21722302774247051,
          0.6588080497650206,
          1.827701914229741,
          -1.3562021106860425,
          -1.6458974264261332,
          -1.890046325987327,
          0.5737985522903889,
          0.3349639343196755,
          -0.2275114335122723,
          0.45931782624536954,
          0.6009662483616324,
          -1.7640307386103249,
          -0.9698541623961516,
          0.5199410633750858,
          0.9722666787904833,
          1.1787911690208148,
          1.8889928269480079,
          0.1566215641713116,
          -0.6081716736322273,
          -1.9602317892889807,
          1.2965973839107108,
          0.7159400166046389,
          0.4104977037587753,
          0.7680084938921184,
          0.9102155990867794,
          1.4943969050212076,
          -1.1648035311483567,
          -1.8230587897093773,
          -0.4858606905365588,
          -1.342820546572071,
          1.1537637404540777,
          1.366678250402521,
          0.39291878057448937,
          -0.15295787191672727,
          -0.6164898683069034,
          -0.5028267703717849,
          -2.7191095485107715,
          0.43783276284416356,
          -0.7997778310334515,
          -0.11487376829842402,
          -1.260999076134505,
          0.11399726686639165,
          0.2452984918996693,
          0.030593204208160456,
          -0.2251417106641021,
          -0.38244207641083616,
          0.5386447328890802,
          -0.15681869059494968,
          -0.05021440734054216,
          -0.7789516064974458,
          -0.15034282374484073,
          -0.3131345538869527,
          1.774215079269531,
          0.9865362990987013,
          1.8749138989827594,
          0.37332922832157256,
          -1.6426544840578008,
          -0.3729810561155604,
          0.4118726167714622,
          1.029847585474093,
          0.8452000799540336,
          -0.7562889275417679,
          -1.2211260855955912
         ],
         "xaxis": "x2",
         "y": [
          0.7564148323989057,
          -0.7823269068609948,
          -0.6679174325975421,
          0.7235504577605787,
          0.6763583983443798,
          1.6113674312227713,
          0.3252015273144834,
          0.09745320106895272,
          1.0649772116322407,
          -0.7859675316540942,
          0.08690115585301378,
          0.9124025065812114,
          1.3087334560716568,
          1.4912116709568073,
          0.29323517954194406,
          0.5629978990864077,
          -0.17696272403977917,
          0.7202519868531352,
          -0.4472416619570027,
          -0.660042052378561,
          -0.4397720161985938,
          0.36183913297429054,
          0.1906764296882429,
          0.27408170227575673,
          0.1628582735776629,
          0.5419999037348392,
          0.32244203981230574,
          -1.2923184092498095,
          -0.009592358103626993,
          -0.23483095390226533,
          0.18411729182079248,
          -0.1852600830234388,
          0.8368833908066343,
          1.6994622242236421,
          0.649640777805914,
          1.5448735980291246,
          1.6270987436436612,
          0.4542284041676613,
          -0.4339774915395808,
          0.30665794494472826,
          -3.0884024397121084,
          0.3451163531976607,
          0.6613568430139521,
          1.3718747343032527,
          -1.285891701134262,
          -0.8783682945663221,
          1.4174311776154207,
          -0.6249606412129409,
          -0.5342037438274139,
          -0.307321938309405,
          -2.2111762025380677,
          0.117896763562164,
          1.9426338686747864,
          1.0168105624881245,
          0.3869886209354972,
          -0.8659122284321883,
          -0.11578510886853562,
          -1.1044854111223756,
          -0.287017688548948,
          0.26941239292262464,
          -0.7721015839501733,
          0.08547677454955224,
          0.7253610559010434,
          0.7161489578101378,
          0.5128370699212017,
          -1.7628809336520286,
          0.16456924899681624,
          0.0594714216728452,
          0.3365873177762397,
          0.8803056482467614,
          -0.5938200363087336,
          0.6800430927857745,
          0.3235617112715458,
          0.422123778250071,
          -0.6941982779585049,
          -0.8762368200842747,
          -0.9242598560469263,
          -0.9583537917768091,
          -1.0755751128260154,
          0.43081351893442565,
          -1.6547441309159239,
          -0.1884358000165739,
          1.253583356296939,
          -1.1401442981765864,
          -0.6320394030275134,
          0.010293848187346874,
          -0.3772064178610946,
          0.8921343285996494,
          0.14347786896033332,
          -1.1206987434644389,
          0.8955106344603044,
          -1.042340672290424,
          -0.7800271391209364,
          -0.5450798609737193,
          -0.49155899434435724,
          0.08785907358821855,
          1.0182645649729956,
          0.19540175660096615,
          0.9465171960423777,
          -1.6119347742049708
         ],
         "yaxis": "y2"
        },
        {
         "line": {
          "color": "rgba(128, 128, 128, 1.0)",
          "dash": "solid",
          "shape": "linear",
          "width": 1.3
         },
         "marker": {
          "size": 2,
          "symbol": "circle"
         },
         "mode": "markers",
         "name": "A",
         "text": "",
         "type": "scatter",
         "x": [
          -0.03702877339300592,
          1.2331533142400917,
          -0.07801796479441349,
          -0.7022272834484142,
          0.16055904048652556,
          0.6929775355441083,
          -1.1449585593341554,
          0.40135645324400365,
          -0.889659903514935,
          0.38452554129214334,
          -0.2974578249115507,
          0.5731119993941826,
          0.4696251624142449,
          -1.5016012050161727,
          0.9943453955463964,
          -0.31305809335522206,
          -0.7892174106875199,
          0.3970078958743742,
          0.5714551589461301,
          -1.2066921358074794,
          -0.03916757553491572,
          0.23398654419873882,
          -0.28626344026281697,
          0.4439016799270692,
          -0.7991734907578689,
          0.7881738846112302,
          0.6379973315075914,
          -1.2830615123765934,
          1.6882900489987276,
          0.8266803198098865,
          0.2419021321773128,
          0.06775806315874908,
          -0.9970942772691014,
          0.05186019900237702,
          -0.18617515656074715,
          -0.5500921313908232,
          0.8579128652098441,
          -0.5116745793291424,
          0.30172082956830354,
          -0.5142601512813955,
          -0.420210836594552,
          0.17003545771266135,
          -1.9983573113151523,
          1.7740554152108934,
          -0.6638565827752227,
          -0.8297814245822754,
          -0.708663491298998,
          0.28522687857953893,
          -0.9506172941009644,
          -0.9739444326745847,
          0.5959920182834592,
          -0.3730617083924842,
          -0.9395409108533466,
          0.3953506978580014,
          0.7354822350294352,
          -0.0561228057421114,
          1.5304477807925632,
          -0.9172322879097585,
          0.45105690524118264,
          -0.47166247399874434,
          1.9374194002871825,
          -1.2826167144649756,
          0.28127733865751,
          1.2133772280926907,
          0.9105399864905382,
          2.6737388260590977,
          1.5537777593044229,
          -1.6042838907765453,
          -0.21635330257050345,
          0.14297271198687375,
          -0.41236779964503906,
          0.9398706840773439,
          1.6353543625830789,
          -0.841009031316667,
          0.937751206446483,
          -0.19736424892746166,
          0.1324504360304438,
          -0.06596259590925552,
          1.5055524764575179,
          -1.0957502313993932,
          -1.106030877978789,
          0.4852737804914742,
          0.8552865262140152,
          -0.08584910479123904,
          -0.7136330802812939,
          -0.5872515162723292,
          0.4589158663294076,
          0.585492152852584,
          -0.46661448830111424,
          0.5473780607940563,
          0.3548314533758728,
          0.10120052546689835,
          0.47244966968598817,
          -0.6211724569824977,
          1.2702029090922695,
          -1.801943386303626,
          -0.3977648442931152,
          0.5305927196043201,
          -0.8318740959515525,
          -0.0999865483109285
         ],
         "xaxis": "x3",
         "y": [
          0.7564148323989057,
          -0.7823269068609948,
          -0.6679174325975421,
          0.7235504577605787,
          0.6763583983443798,
          1.6113674312227713,
          0.3252015273144834,
          0.09745320106895272,
          1.0649772116322407,
          -0.7859675316540942,
          0.08690115585301378,
          0.9124025065812114,
          1.3087334560716568,
          1.4912116709568073,
          0.29323517954194406,
          0.5629978990864077,
          -0.17696272403977917,
          0.7202519868531352,
          -0.4472416619570027,
          -0.660042052378561,
          -0.4397720161985938,
          0.36183913297429054,
          0.1906764296882429,
          0.27408170227575673,
          0.1628582735776629,
          0.5419999037348392,
          0.32244203981230574,
          -1.2923184092498095,
          -0.009592358103626993,
          -0.23483095390226533,
          0.18411729182079248,
          -0.1852600830234388,
          0.8368833908066343,
          1.6994622242236421,
          0.649640777805914,
          1.5448735980291246,
          1.6270987436436612,
          0.4542284041676613,
          -0.4339774915395808,
          0.30665794494472826,
          -3.0884024397121084,
          0.3451163531976607,
          0.6613568430139521,
          1.3718747343032527,
          -1.285891701134262,
          -0.8783682945663221,
          1.4174311776154207,
          -0.6249606412129409,
          -0.5342037438274139,
          -0.307321938309405,
          -2.2111762025380677,
          0.117896763562164,
          1.9426338686747864,
          1.0168105624881245,
          0.3869886209354972,
          -0.8659122284321883,
          -0.11578510886853562,
          -1.1044854111223756,
          -0.287017688548948,
          0.26941239292262464,
          -0.7721015839501733,
          0.08547677454955224,
          0.7253610559010434,
          0.7161489578101378,
          0.5128370699212017,
          -1.7628809336520286,
          0.16456924899681624,
          0.0594714216728452,
          0.3365873177762397,
          0.8803056482467614,
          -0.5938200363087336,
          0.6800430927857745,
          0.3235617112715458,
          0.422123778250071,
          -0.6941982779585049,
          -0.8762368200842747,
          -0.9242598560469263,
          -0.9583537917768091,
          -1.0755751128260154,
          0.43081351893442565,
          -1.6547441309159239,
          -0.1884358000165739,
          1.253583356296939,
          -1.1401442981765864,
          -0.6320394030275134,
          0.010293848187346874,
          -0.3772064178610946,
          0.8921343285996494,
          0.14347786896033332,
          -1.1206987434644389,
          0.8955106344603044,
          -1.042340672290424,
          -0.7800271391209364,
          -0.5450798609737193,
          -0.49155899434435724,
          0.08785907358821855,
          1.0182645649729956,
          0.19540175660096615,
          0.9465171960423777,
          -1.6119347742049708
         ],
         "yaxis": "y3"
        },
        {
         "line": {
          "color": "rgba(128, 128, 128, 1.0)",
          "dash": "solid",
          "shape": "linear",
          "width": 1.3
         },
         "marker": {
          "size": 2,
          "symbol": "circle"
         },
         "mode": "markers",
         "name": "A",
         "text": "",
         "type": "scatter",
         "x": [
          -0.8734490919449758,
          -0.6377165182152058,
          -0.9347398277176195,
          0.5406399529890071,
          1.341173967904742,
          0.41387998070743537,
          0.5537218267039099,
          1.1467377881568175,
          -0.3911521227294417,
          0.032938045468640875,
          0.21360681464061274,
          0.574292242304888,
          -0.058072042531966635,
          -0.5856505706098373,
          -0.14173900106861057,
          0.41192650711160295,
          -0.19085476467479195,
          -1.308603853535363,
          -0.031867599813434594,
          1.0738654245537662,
          3.388810624441809,
          0.9351645918281237,
          0.21556793789102505,
          -0.25270809218800333,
          -0.7421025237070608,
          -1.5762235008352279,
          1.574517541342876,
          0.5985193109908948,
          0.09785221855150467,
          -0.8939627568218563,
          -0.9114314007148135,
          -0.7852927743123335,
          0.09539761403913215,
          -1.3273030823342173,
          -0.42856470672001673,
          0.552020456198069,
          -1.174373095441438,
          2.2563731583912756,
          -1.2037301297350371,
          0.9807112255372464,
          -1.1235948900923094,
          1.7670965259683982,
          -0.17021676615415063,
          -1.8333956792458719,
          -0.9382658499497022,
          -1.1894448769715698,
          1.1097280235427942,
          -0.05285747126028578,
          0.2662053187286402,
          0.9641926838169147,
          0.49708149119080225,
          1.3355327415526494,
          0.7959244674162735,
          0.25908089060661355,
          -0.7709957797796189,
          -1.8867996732239452,
          1.6007369716116406,
          0.22346676721610725,
          -0.25709166669861605,
          -0.6126254873783411,
          0.3379494556326407,
          1.7238715109014708,
          -1.6342016111857502,
          -1.8054209648457757,
          0.0057656863266193695,
          0.5807572429887081,
          -0.24084930158420273,
          0.46339495964105354,
          -0.7274227579627042,
          -0.5908781317043639,
          1.5807677607461796,
          0.28292144157482824,
          -1.2048725161584564,
          1.3186367045540346,
          -0.9044688174167138,
          0.543196625595008,
          2.3159964110839013,
          1.277936910956555,
          0.7186612173467221,
          -0.45685369846256685,
          -0.3179223952427716,
          -1.0765462891961397,
          0.36217185983351236,
          0.6181520195982304,
          -0.737585726286838,
          0.27036714038230936,
          0.12241782704649012,
          -0.9196487723647185,
          0.2629775652016023,
          1.7955012830654227,
          1.0460540868648192,
          0.2397550091957434,
          -0.22248193491512402,
          1.5417903540225741,
          -1.1513077965149632,
          -0.32730940498417577,
          -0.6269467248298358,
          0.44257361476171037,
          1.3999372607169542,
          0.06443005050411026
         ],
         "xaxis": "x4",
         "y": [
          0.7564148323989057,
          -0.7823269068609948,
          -0.6679174325975421,
          0.7235504577605787,
          0.6763583983443798,
          1.6113674312227713,
          0.3252015273144834,
          0.09745320106895272,
          1.0649772116322407,
          -0.7859675316540942,
          0.08690115585301378,
          0.9124025065812114,
          1.3087334560716568,
          1.4912116709568073,
          0.29323517954194406,
          0.5629978990864077,
          -0.17696272403977917,
          0.7202519868531352,
          -0.4472416619570027,
          -0.660042052378561,
          -0.4397720161985938,
          0.36183913297429054,
          0.1906764296882429,
          0.27408170227575673,
          0.1628582735776629,
          0.5419999037348392,
          0.32244203981230574,
          -1.2923184092498095,
          -0.009592358103626993,
          -0.23483095390226533,
          0.18411729182079248,
          -0.1852600830234388,
          0.8368833908066343,
          1.6994622242236421,
          0.649640777805914,
          1.5448735980291246,
          1.6270987436436612,
          0.4542284041676613,
          -0.4339774915395808,
          0.30665794494472826,
          -3.0884024397121084,
          0.3451163531976607,
          0.6613568430139521,
          1.3718747343032527,
          -1.285891701134262,
          -0.8783682945663221,
          1.4174311776154207,
          -0.6249606412129409,
          -0.5342037438274139,
          -0.307321938309405,
          -2.2111762025380677,
          0.117896763562164,
          1.9426338686747864,
          1.0168105624881245,
          0.3869886209354972,
          -0.8659122284321883,
          -0.11578510886853562,
          -1.1044854111223756,
          -0.287017688548948,
          0.26941239292262464,
          -0.7721015839501733,
          0.08547677454955224,
          0.7253610559010434,
          0.7161489578101378,
          0.5128370699212017,
          -1.7628809336520286,
          0.16456924899681624,
          0.0594714216728452,
          0.3365873177762397,
          0.8803056482467614,
          -0.5938200363087336,
          0.6800430927857745,
          0.3235617112715458,
          0.422123778250071,
          -0.6941982779585049,
          -0.8762368200842747,
          -0.9242598560469263,
          -0.9583537917768091,
          -1.0755751128260154,
          0.43081351893442565,
          -1.6547441309159239,
          -0.1884358000165739,
          1.253583356296939,
          -1.1401442981765864,
          -0.6320394030275134,
          0.010293848187346874,
          -0.3772064178610946,
          0.8921343285996494,
          0.14347786896033332,
          -1.1206987434644389,
          0.8955106344603044,
          -1.042340672290424,
          -0.7800271391209364,
          -0.5450798609737193,
          -0.49155899434435724,
          0.08785907358821855,
          1.0182645649729956,
          0.19540175660096615,
          0.9465171960423777,
          -1.6119347742049708
         ],
         "yaxis": "y4"
        },
        {
         "line": {
          "color": "rgba(128, 128, 128, 1.0)",
          "dash": "solid",
          "shape": "linear",
          "width": 1.3
         },
         "marker": {
          "size": 2,
          "symbol": "circle"
         },
         "mode": "markers",
         "name": "B",
         "text": "",
         "type": "scatter",
         "x": [
          0.7564148323989057,
          -0.7823269068609948,
          -0.6679174325975421,
          0.7235504577605787,
          0.6763583983443798,
          1.6113674312227713,
          0.3252015273144834,
          0.09745320106895272,
          1.0649772116322407,
          -0.7859675316540942,
          0.08690115585301378,
          0.9124025065812114,
          1.3087334560716568,
          1.4912116709568073,
          0.29323517954194406,
          0.5629978990864077,
          -0.17696272403977917,
          0.7202519868531352,
          -0.4472416619570027,
          -0.660042052378561,
          -0.4397720161985938,
          0.36183913297429054,
          0.1906764296882429,
          0.27408170227575673,
          0.1628582735776629,
          0.5419999037348392,
          0.32244203981230574,
          -1.2923184092498095,
          -0.009592358103626993,
          -0.23483095390226533,
          0.18411729182079248,
          -0.1852600830234388,
          0.8368833908066343,
          1.6994622242236421,
          0.649640777805914,
          1.5448735980291246,
          1.6270987436436612,
          0.4542284041676613,
          -0.4339774915395808,
          0.30665794494472826,
          -3.0884024397121084,
          0.3451163531976607,
          0.6613568430139521,
          1.3718747343032527,
          -1.285891701134262,
          -0.8783682945663221,
          1.4174311776154207,
          -0.6249606412129409,
          -0.5342037438274139,
          -0.307321938309405,
          -2.2111762025380677,
          0.117896763562164,
          1.9426338686747864,
          1.0168105624881245,
          0.3869886209354972,
          -0.8659122284321883,
          -0.11578510886853562,
          -1.1044854111223756,
          -0.287017688548948,
          0.26941239292262464,
          -0.7721015839501733,
          0.08547677454955224,
          0.7253610559010434,
          0.7161489578101378,
          0.5128370699212017,
          -1.7628809336520286,
          0.16456924899681624,
          0.0594714216728452,
          0.3365873177762397,
          0.8803056482467614,
          -0.5938200363087336,
          0.6800430927857745,
          0.3235617112715458,
          0.422123778250071,
          -0.6941982779585049,
          -0.8762368200842747,
          -0.9242598560469263,
          -0.9583537917768091,
          -1.0755751128260154,
          0.43081351893442565,
          -1.6547441309159239,
          -0.1884358000165739,
          1.253583356296939,
          -1.1401442981765864,
          -0.6320394030275134,
          0.010293848187346874,
          -0.3772064178610946,
          0.8921343285996494,
          0.14347786896033332,
          -1.1206987434644389,
          0.8955106344603044,
          -1.042340672290424,
          -0.7800271391209364,
          -0.5450798609737193,
          -0.49155899434435724,
          0.08785907358821855,
          1.0182645649729956,
          0.19540175660096615,
          0.9465171960423777,
          -1.6119347742049708
         ],
         "xaxis": "x5",
         "y": [
          -0.7202641597043901,
          1.6111205987959558,
          -1.4045100480600723,
          -0.2305213090636333,
          0.09197263343256602,
          0.45650077090452507,
          -0.6090188815380735,
          -0.5309964497803003,
          -1.2141722737221585,
          0.3212170216275696,
          0.828923518012042,
          -0.00933759673273959,
          -0.8335054288748508,
          -0.22221466515421448,
          0.04137618145202107,
          0.17951244762335802,
          -1.2696099673173946,
          0.5169171178129851,
          0.5065825166155579,
          1.8727156509898149,
          -0.5946116913527016,
          -0.22748976950221245,
          1.4451419764392834,
          0.8734901467478385,
          0.08935941642291524,
          0.29568606105209533,
          -0.32030634026059673,
          -1.6041681395208156,
          0.028851909646146416,
          1.1615069704693648,
          1.3514765080377995,
          -0.4202353106446499,
          -0.4143726260211676,
          -1.7417579765985356,
          -0.6273257368167466,
          1.8605844366345645,
          0.7252898789669653,
          0.21722302774247051,
          0.6588080497650206,
          1.827701914229741,
          -1.3562021106860425,
          -1.6458974264261332,
          -1.890046325987327,
          0.5737985522903889,
          0.3349639343196755,
          -0.2275114335122723,
          0.45931782624536954,
          0.6009662483616324,
          -1.7640307386103249,
          -0.9698541623961516,
          0.5199410633750858,
          0.9722666787904833,
          1.1787911690208148,
          1.8889928269480079,
          0.1566215641713116,
          -0.6081716736322273,
          -1.9602317892889807,
          1.2965973839107108,
          0.7159400166046389,
          0.4104977037587753,
          0.7680084938921184,
          0.9102155990867794,
          1.4943969050212076,
          -1.1648035311483567,
          -1.8230587897093773,
          -0.4858606905365588,
          -1.342820546572071,
          1.1537637404540777,
          1.366678250402521,
          0.39291878057448937,
          -0.15295787191672727,
          -0.6164898683069034,
          -0.5028267703717849,
          -2.7191095485107715,
          0.43783276284416356,
          -0.7997778310334515,
          -0.11487376829842402,
          -1.260999076134505,
          0.11399726686639165,
          0.2452984918996693,
          0.030593204208160456,
          -0.2251417106641021,
          -0.38244207641083616,
          0.5386447328890802,
          -0.15681869059494968,
          -0.05021440734054216,
          -0.7789516064974458,
          -0.15034282374484073,
          -0.3131345538869527,
          1.774215079269531,
          0.9865362990987013,
          1.8749138989827594,
          0.37332922832157256,
          -1.6426544840578008,
          -0.3729810561155604,
          0.4118726167714622,
          1.029847585474093,
          0.8452000799540336,
          -0.7562889275417679,
          -1.2211260855955912
         ],
         "yaxis": "y5"
        },
        {
         "histfunc": "count",
         "histnorm": "",
         "marker": {
          "color": "rgba(55, 128, 191, 1.0)",
          "line": {
           "color": "#4D5663",
           "width": 1.3
          }
         },
         "name": "B",
         "nbinsx": 10,
         "opacity": 0.8,
         "orientation": "v",
         "type": "histogram",
         "x": [
          -0.7202641597043901,
          1.6111205987959558,
          -1.4045100480600723,
          -0.2305213090636333,
          0.09197263343256602,
          0.45650077090452507,
          -0.6090188815380735,
          -0.5309964497803003,
          -1.2141722737221585,
          0.3212170216275696,
          0.828923518012042,
          -0.00933759673273959,
          -0.8335054288748508,
          -0.22221466515421448,
          0.04137618145202107,
          0.17951244762335802,
          -1.2696099673173946,
          0.5169171178129851,
          0.5065825166155579,
          1.8727156509898149,
          -0.5946116913527016,
          -0.22748976950221245,
          1.4451419764392834,
          0.8734901467478385,
          0.08935941642291524,
          0.29568606105209533,
          -0.32030634026059673,
          -1.6041681395208156,
          0.028851909646146416,
          1.1615069704693648,
          1.3514765080377995,
          -0.4202353106446499,
          -0.4143726260211676,
          -1.7417579765985356,
          -0.6273257368167466,
          1.8605844366345645,
          0.7252898789669653,
          0.21722302774247051,
          0.6588080497650206,
          1.827701914229741,
          -1.3562021106860425,
          -1.6458974264261332,
          -1.890046325987327,
          0.5737985522903889,
          0.3349639343196755,
          -0.2275114335122723,
          0.45931782624536954,
          0.6009662483616324,
          -1.7640307386103249,
          -0.9698541623961516,
          0.5199410633750858,
          0.9722666787904833,
          1.1787911690208148,
          1.8889928269480079,
          0.1566215641713116,
          -0.6081716736322273,
          -1.9602317892889807,
          1.2965973839107108,
          0.7159400166046389,
          0.4104977037587753,
          0.7680084938921184,
          0.9102155990867794,
          1.4943969050212076,
          -1.1648035311483567,
          -1.8230587897093773,
          -0.4858606905365588,
          -1.342820546572071,
          1.1537637404540777,
          1.366678250402521,
          0.39291878057448937,
          -0.15295787191672727,
          -0.6164898683069034,
          -0.5028267703717849,
          -2.7191095485107715,
          0.43783276284416356,
          -0.7997778310334515,
          -0.11487376829842402,
          -1.260999076134505,
          0.11399726686639165,
          0.2452984918996693,
          0.030593204208160456,
          -0.2251417106641021,
          -0.38244207641083616,
          0.5386447328890802,
          -0.15681869059494968,
          -0.05021440734054216,
          -0.7789516064974458,
          -0.15034282374484073,
          -0.3131345538869527,
          1.774215079269531,
          0.9865362990987013,
          1.8749138989827594,
          0.37332922832157256,
          -1.6426544840578008,
          -0.3729810561155604,
          0.4118726167714622,
          1.029847585474093,
          0.8452000799540336,
          -0.7562889275417679,
          -1.2211260855955912
         ],
         "xaxis": "x6",
         "yaxis": "y6"
        },
        {
         "line": {
          "color": "rgba(128, 128, 128, 1.0)",
          "dash": "solid",
          "shape": "linear",
          "width": 1.3
         },
         "marker": {
          "size": 2,
          "symbol": "circle"
         },
         "mode": "markers",
         "name": "B",
         "text": "",
         "type": "scatter",
         "x": [
          -0.03702877339300592,
          1.2331533142400917,
          -0.07801796479441349,
          -0.7022272834484142,
          0.16055904048652556,
          0.6929775355441083,
          -1.1449585593341554,
          0.40135645324400365,
          -0.889659903514935,
          0.38452554129214334,
          -0.2974578249115507,
          0.5731119993941826,
          0.4696251624142449,
          -1.5016012050161727,
          0.9943453955463964,
          -0.31305809335522206,
          -0.7892174106875199,
          0.3970078958743742,
          0.5714551589461301,
          -1.2066921358074794,
          -0.03916757553491572,
          0.23398654419873882,
          -0.28626344026281697,
          0.4439016799270692,
          -0.7991734907578689,
          0.7881738846112302,
          0.6379973315075914,
          -1.2830615123765934,
          1.6882900489987276,
          0.8266803198098865,
          0.2419021321773128,
          0.06775806315874908,
          -0.9970942772691014,
          0.05186019900237702,
          -0.18617515656074715,
          -0.5500921313908232,
          0.8579128652098441,
          -0.5116745793291424,
          0.30172082956830354,
          -0.5142601512813955,
          -0.420210836594552,
          0.17003545771266135,
          -1.9983573113151523,
          1.7740554152108934,
          -0.6638565827752227,
          -0.8297814245822754,
          -0.708663491298998,
          0.28522687857953893,
          -0.9506172941009644,
          -0.9739444326745847,
          0.5959920182834592,
          -0.3730617083924842,
          -0.9395409108533466,
          0.3953506978580014,
          0.7354822350294352,
          -0.0561228057421114,
          1.5304477807925632,
          -0.9172322879097585,
          0.45105690524118264,
          -0.47166247399874434,
          1.9374194002871825,
          -1.2826167144649756,
          0.28127733865751,
          1.2133772280926907,
          0.9105399864905382,
          2.6737388260590977,
          1.5537777593044229,
          -1.6042838907765453,
          -0.21635330257050345,
          0.14297271198687375,
          -0.41236779964503906,
          0.9398706840773439,
          1.6353543625830789,
          -0.841009031316667,
          0.937751206446483,
          -0.19736424892746166,
          0.1324504360304438,
          -0.06596259590925552,
          1.5055524764575179,
          -1.0957502313993932,
          -1.106030877978789,
          0.4852737804914742,
          0.8552865262140152,
          -0.08584910479123904,
          -0.7136330802812939,
          -0.5872515162723292,
          0.4589158663294076,
          0.585492152852584,
          -0.46661448830111424,
          0.5473780607940563,
          0.3548314533758728,
          0.10120052546689835,
          0.47244966968598817,
          -0.6211724569824977,
          1.2702029090922695,
          -1.801943386303626,
          -0.3977648442931152,
          0.5305927196043201,
          -0.8318740959515525,
          -0.0999865483109285
         ],
         "xaxis": "x7",
         "y": [
          -0.7202641597043901,
          1.6111205987959558,
          -1.4045100480600723,
          -0.2305213090636333,
          0.09197263343256602,
          0.45650077090452507,
          -0.6090188815380735,
          -0.5309964497803003,
          -1.2141722737221585,
          0.3212170216275696,
          0.828923518012042,
          -0.00933759673273959,
          -0.8335054288748508,
          -0.22221466515421448,
          0.04137618145202107,
          0.17951244762335802,
          -1.2696099673173946,
          0.5169171178129851,
          0.5065825166155579,
          1.8727156509898149,
          -0.5946116913527016,
          -0.22748976950221245,
          1.4451419764392834,
          0.8734901467478385,
          0.08935941642291524,
          0.29568606105209533,
          -0.32030634026059673,
          -1.6041681395208156,
          0.028851909646146416,
          1.1615069704693648,
          1.3514765080377995,
          -0.4202353106446499,
          -0.4143726260211676,
          -1.7417579765985356,
          -0.6273257368167466,
          1.8605844366345645,
          0.7252898789669653,
          0.21722302774247051,
          0.6588080497650206,
          1.827701914229741,
          -1.3562021106860425,
          -1.6458974264261332,
          -1.890046325987327,
          0.5737985522903889,
          0.3349639343196755,
          -0.2275114335122723,
          0.45931782624536954,
          0.6009662483616324,
          -1.7640307386103249,
          -0.9698541623961516,
          0.5199410633750858,
          0.9722666787904833,
          1.1787911690208148,
          1.8889928269480079,
          0.1566215641713116,
          -0.6081716736322273,
          -1.9602317892889807,
          1.2965973839107108,
          0.7159400166046389,
          0.4104977037587753,
          0.7680084938921184,
          0.9102155990867794,
          1.4943969050212076,
          -1.1648035311483567,
          -1.8230587897093773,
          -0.4858606905365588,
          -1.342820546572071,
          1.1537637404540777,
          1.366678250402521,
          0.39291878057448937,
          -0.15295787191672727,
          -0.6164898683069034,
          -0.5028267703717849,
          -2.7191095485107715,
          0.43783276284416356,
          -0.7997778310334515,
          -0.11487376829842402,
          -1.260999076134505,
          0.11399726686639165,
          0.2452984918996693,
          0.030593204208160456,
          -0.2251417106641021,
          -0.38244207641083616,
          0.5386447328890802,
          -0.15681869059494968,
          -0.05021440734054216,
          -0.7789516064974458,
          -0.15034282374484073,
          -0.3131345538869527,
          1.774215079269531,
          0.9865362990987013,
          1.8749138989827594,
          0.37332922832157256,
          -1.6426544840578008,
          -0.3729810561155604,
          0.4118726167714622,
          1.029847585474093,
          0.8452000799540336,
          -0.7562889275417679,
          -1.2211260855955912
         ],
         "yaxis": "y7"
        },
        {
         "line": {
          "color": "rgba(128, 128, 128, 1.0)",
          "dash": "solid",
          "shape": "linear",
          "width": 1.3
         },
         "marker": {
          "size": 2,
          "symbol": "circle"
         },
         "mode": "markers",
         "name": "B",
         "text": "",
         "type": "scatter",
         "x": [
          -0.8734490919449758,
          -0.6377165182152058,
          -0.9347398277176195,
          0.5406399529890071,
          1.341173967904742,
          0.41387998070743537,
          0.5537218267039099,
          1.1467377881568175,
          -0.3911521227294417,
          0.032938045468640875,
          0.21360681464061274,
          0.574292242304888,
          -0.058072042531966635,
          -0.5856505706098373,
          -0.14173900106861057,
          0.41192650711160295,
          -0.19085476467479195,
          -1.308603853535363,
          -0.031867599813434594,
          1.0738654245537662,
          3.388810624441809,
          0.9351645918281237,
          0.21556793789102505,
          -0.25270809218800333,
          -0.7421025237070608,
          -1.5762235008352279,
          1.574517541342876,
          0.5985193109908948,
          0.09785221855150467,
          -0.8939627568218563,
          -0.9114314007148135,
          -0.7852927743123335,
          0.09539761403913215,
          -1.3273030823342173,
          -0.42856470672001673,
          0.552020456198069,
          -1.174373095441438,
          2.2563731583912756,
          -1.2037301297350371,
          0.9807112255372464,
          -1.1235948900923094,
          1.7670965259683982,
          -0.17021676615415063,
          -1.8333956792458719,
          -0.9382658499497022,
          -1.1894448769715698,
          1.1097280235427942,
          -0.05285747126028578,
          0.2662053187286402,
          0.9641926838169147,
          0.49708149119080225,
          1.3355327415526494,
          0.7959244674162735,
          0.25908089060661355,
          -0.7709957797796189,
          -1.8867996732239452,
          1.6007369716116406,
          0.22346676721610725,
          -0.25709166669861605,
          -0.6126254873783411,
          0.3379494556326407,
          1.7238715109014708,
          -1.6342016111857502,
          -1.8054209648457757,
          0.0057656863266193695,
          0.5807572429887081,
          -0.24084930158420273,
          0.46339495964105354,
          -0.7274227579627042,
          -0.5908781317043639,
          1.5807677607461796,
          0.28292144157482824,
          -1.2048725161584564,
          1.3186367045540346,
          -0.9044688174167138,
          0.543196625595008,
          2.3159964110839013,
          1.277936910956555,
          0.7186612173467221,
          -0.45685369846256685,
          -0.3179223952427716,
          -1.0765462891961397,
          0.36217185983351236,
          0.6181520195982304,
          -0.737585726286838,
          0.27036714038230936,
          0.12241782704649012,
          -0.9196487723647185,
          0.2629775652016023,
          1.7955012830654227,
          1.0460540868648192,
          0.2397550091957434,
          -0.22248193491512402,
          1.5417903540225741,
          -1.1513077965149632,
          -0.32730940498417577,
          -0.6269467248298358,
          0.44257361476171037,
          1.3999372607169542,
          0.06443005050411026
         ],
         "xaxis": "x8",
         "y": [
          -0.7202641597043901,
          1.6111205987959558,
          -1.4045100480600723,
          -0.2305213090636333,
          0.09197263343256602,
          0.45650077090452507,
          -0.6090188815380735,
          -0.5309964497803003,
          -1.2141722737221585,
          0.3212170216275696,
          0.828923518012042,
          -0.00933759673273959,
          -0.8335054288748508,
          -0.22221466515421448,
          0.04137618145202107,
          0.17951244762335802,
          -1.2696099673173946,
          0.5169171178129851,
          0.5065825166155579,
          1.8727156509898149,
          -0.5946116913527016,
          -0.22748976950221245,
          1.4451419764392834,
          0.8734901467478385,
          0.08935941642291524,
          0.29568606105209533,
          -0.32030634026059673,
          -1.6041681395208156,
          0.028851909646146416,
          1.1615069704693648,
          1.3514765080377995,
          -0.4202353106446499,
          -0.4143726260211676,
          -1.7417579765985356,
          -0.6273257368167466,
          1.8605844366345645,
          0.7252898789669653,
          0.21722302774247051,
          0.6588080497650206,
          1.827701914229741,
          -1.3562021106860425,
          -1.6458974264261332,
          -1.890046325987327,
          0.5737985522903889,
          0.3349639343196755,
          -0.2275114335122723,
          0.45931782624536954,
          0.6009662483616324,
          -1.7640307386103249,
          -0.9698541623961516,
          0.5199410633750858,
          0.9722666787904833,
          1.1787911690208148,
          1.8889928269480079,
          0.1566215641713116,
          -0.6081716736322273,
          -1.9602317892889807,
          1.2965973839107108,
          0.7159400166046389,
          0.4104977037587753,
          0.7680084938921184,
          0.9102155990867794,
          1.4943969050212076,
          -1.1648035311483567,
          -1.8230587897093773,
          -0.4858606905365588,
          -1.342820546572071,
          1.1537637404540777,
          1.366678250402521,
          0.39291878057448937,
          -0.15295787191672727,
          -0.6164898683069034,
          -0.5028267703717849,
          -2.7191095485107715,
          0.43783276284416356,
          -0.7997778310334515,
          -0.11487376829842402,
          -1.260999076134505,
          0.11399726686639165,
          0.2452984918996693,
          0.030593204208160456,
          -0.2251417106641021,
          -0.38244207641083616,
          0.5386447328890802,
          -0.15681869059494968,
          -0.05021440734054216,
          -0.7789516064974458,
          -0.15034282374484073,
          -0.3131345538869527,
          1.774215079269531,
          0.9865362990987013,
          1.8749138989827594,
          0.37332922832157256,
          -1.6426544840578008,
          -0.3729810561155604,
          0.4118726167714622,
          1.029847585474093,
          0.8452000799540336,
          -0.7562889275417679,
          -1.2211260855955912
         ],
         "yaxis": "y8"
        },
        {
         "line": {
          "color": "rgba(128, 128, 128, 1.0)",
          "dash": "solid",
          "shape": "linear",
          "width": 1.3
         },
         "marker": {
          "size": 2,
          "symbol": "circle"
         },
         "mode": "markers",
         "name": "C",
         "text": "",
         "type": "scatter",
         "x": [
          0.7564148323989057,
          -0.7823269068609948,
          -0.6679174325975421,
          0.7235504577605787,
          0.6763583983443798,
          1.6113674312227713,
          0.3252015273144834,
          0.09745320106895272,
          1.0649772116322407,
          -0.7859675316540942,
          0.08690115585301378,
          0.9124025065812114,
          1.3087334560716568,
          1.4912116709568073,
          0.29323517954194406,
          0.5629978990864077,
          -0.17696272403977917,
          0.7202519868531352,
          -0.4472416619570027,
          -0.660042052378561,
          -0.4397720161985938,
          0.36183913297429054,
          0.1906764296882429,
          0.27408170227575673,
          0.1628582735776629,
          0.5419999037348392,
          0.32244203981230574,
          -1.2923184092498095,
          -0.009592358103626993,
          -0.23483095390226533,
          0.18411729182079248,
          -0.1852600830234388,
          0.8368833908066343,
          1.6994622242236421,
          0.649640777805914,
          1.5448735980291246,
          1.6270987436436612,
          0.4542284041676613,
          -0.4339774915395808,
          0.30665794494472826,
          -3.0884024397121084,
          0.3451163531976607,
          0.6613568430139521,
          1.3718747343032527,
          -1.285891701134262,
          -0.8783682945663221,
          1.4174311776154207,
          -0.6249606412129409,
          -0.5342037438274139,
          -0.307321938309405,
          -2.2111762025380677,
          0.117896763562164,
          1.9426338686747864,
          1.0168105624881245,
          0.3869886209354972,
          -0.8659122284321883,
          -0.11578510886853562,
          -1.1044854111223756,
          -0.287017688548948,
          0.26941239292262464,
          -0.7721015839501733,
          0.08547677454955224,
          0.7253610559010434,
          0.7161489578101378,
          0.5128370699212017,
          -1.7628809336520286,
          0.16456924899681624,
          0.0594714216728452,
          0.3365873177762397,
          0.8803056482467614,
          -0.5938200363087336,
          0.6800430927857745,
          0.3235617112715458,
          0.422123778250071,
          -0.6941982779585049,
          -0.8762368200842747,
          -0.9242598560469263,
          -0.9583537917768091,
          -1.0755751128260154,
          0.43081351893442565,
          -1.6547441309159239,
          -0.1884358000165739,
          1.253583356296939,
          -1.1401442981765864,
          -0.6320394030275134,
          0.010293848187346874,
          -0.3772064178610946,
          0.8921343285996494,
          0.14347786896033332,
          -1.1206987434644389,
          0.8955106344603044,
          -1.042340672290424,
          -0.7800271391209364,
          -0.5450798609737193,
          -0.49155899434435724,
          0.08785907358821855,
          1.0182645649729956,
          0.19540175660096615,
          0.9465171960423777,
          -1.6119347742049708
         ],
         "xaxis": "x9",
         "y": [
          -0.03702877339300592,
          1.2331533142400917,
          -0.07801796479441349,
          -0.7022272834484142,
          0.16055904048652556,
          0.6929775355441083,
          -1.1449585593341554,
          0.40135645324400365,
          -0.889659903514935,
          0.38452554129214334,
          -0.2974578249115507,
          0.5731119993941826,
          0.4696251624142449,
          -1.5016012050161727,
          0.9943453955463964,
          -0.31305809335522206,
          -0.7892174106875199,
          0.3970078958743742,
          0.5714551589461301,
          -1.2066921358074794,
          -0.03916757553491572,
          0.23398654419873882,
          -0.28626344026281697,
          0.4439016799270692,
          -0.7991734907578689,
          0.7881738846112302,
          0.6379973315075914,
          -1.2830615123765934,
          1.6882900489987276,
          0.8266803198098865,
          0.2419021321773128,
          0.06775806315874908,
          -0.9970942772691014,
          0.05186019900237702,
          -0.18617515656074715,
          -0.5500921313908232,
          0.8579128652098441,
          -0.5116745793291424,
          0.30172082956830354,
          -0.5142601512813955,
          -0.420210836594552,
          0.17003545771266135,
          -1.9983573113151523,
          1.7740554152108934,
          -0.6638565827752227,
          -0.8297814245822754,
          -0.708663491298998,
          0.28522687857953893,
          -0.9506172941009644,
          -0.9739444326745847,
          0.5959920182834592,
          -0.3730617083924842,
          -0.9395409108533466,
          0.3953506978580014,
          0.7354822350294352,
          -0.0561228057421114,
          1.5304477807925632,
          -0.9172322879097585,
          0.45105690524118264,
          -0.47166247399874434,
          1.9374194002871825,
          -1.2826167144649756,
          0.28127733865751,
          1.2133772280926907,
          0.9105399864905382,
          2.6737388260590977,
          1.5537777593044229,
          -1.6042838907765453,
          -0.21635330257050345,
          0.14297271198687375,
          -0.41236779964503906,
          0.9398706840773439,
          1.6353543625830789,
          -0.841009031316667,
          0.937751206446483,
          -0.19736424892746166,
          0.1324504360304438,
          -0.06596259590925552,
          1.5055524764575179,
          -1.0957502313993932,
          -1.106030877978789,
          0.4852737804914742,
          0.8552865262140152,
          -0.08584910479123904,
          -0.7136330802812939,
          -0.5872515162723292,
          0.4589158663294076,
          0.585492152852584,
          -0.46661448830111424,
          0.5473780607940563,
          0.3548314533758728,
          0.10120052546689835,
          0.47244966968598817,
          -0.6211724569824977,
          1.2702029090922695,
          -1.801943386303626,
          -0.3977648442931152,
          0.5305927196043201,
          -0.8318740959515525,
          -0.0999865483109285
         ],
         "yaxis": "y9"
        },
        {
         "line": {
          "color": "rgba(128, 128, 128, 1.0)",
          "dash": "solid",
          "shape": "linear",
          "width": 1.3
         },
         "marker": {
          "size": 2,
          "symbol": "circle"
         },
         "mode": "markers",
         "name": "C",
         "text": "",
         "type": "scatter",
         "x": [
          -0.7202641597043901,
          1.6111205987959558,
          -1.4045100480600723,
          -0.2305213090636333,
          0.09197263343256602,
          0.45650077090452507,
          -0.6090188815380735,
          -0.5309964497803003,
          -1.2141722737221585,
          0.3212170216275696,
          0.828923518012042,
          -0.00933759673273959,
          -0.8335054288748508,
          -0.22221466515421448,
          0.04137618145202107,
          0.17951244762335802,
          -1.2696099673173946,
          0.5169171178129851,
          0.5065825166155579,
          1.8727156509898149,
          -0.5946116913527016,
          -0.22748976950221245,
          1.4451419764392834,
          0.8734901467478385,
          0.08935941642291524,
          0.29568606105209533,
          -0.32030634026059673,
          -1.6041681395208156,
          0.028851909646146416,
          1.1615069704693648,
          1.3514765080377995,
          -0.4202353106446499,
          -0.4143726260211676,
          -1.7417579765985356,
          -0.6273257368167466,
          1.8605844366345645,
          0.7252898789669653,
          0.21722302774247051,
          0.6588080497650206,
          1.827701914229741,
          -1.3562021106860425,
          -1.6458974264261332,
          -1.890046325987327,
          0.5737985522903889,
          0.3349639343196755,
          -0.2275114335122723,
          0.45931782624536954,
          0.6009662483616324,
          -1.7640307386103249,
          -0.9698541623961516,
          0.5199410633750858,
          0.9722666787904833,
          1.1787911690208148,
          1.8889928269480079,
          0.1566215641713116,
          -0.6081716736322273,
          -1.9602317892889807,
          1.2965973839107108,
          0.7159400166046389,
          0.4104977037587753,
          0.7680084938921184,
          0.9102155990867794,
          1.4943969050212076,
          -1.1648035311483567,
          -1.8230587897093773,
          -0.4858606905365588,
          -1.342820546572071,
          1.1537637404540777,
          1.366678250402521,
          0.39291878057448937,
          -0.15295787191672727,
          -0.6164898683069034,
          -0.5028267703717849,
          -2.7191095485107715,
          0.43783276284416356,
          -0.7997778310334515,
          -0.11487376829842402,
          -1.260999076134505,
          0.11399726686639165,
          0.2452984918996693,
          0.030593204208160456,
          -0.2251417106641021,
          -0.38244207641083616,
          0.5386447328890802,
          -0.15681869059494968,
          -0.05021440734054216,
          -0.7789516064974458,
          -0.15034282374484073,
          -0.3131345538869527,
          1.774215079269531,
          0.9865362990987013,
          1.8749138989827594,
          0.37332922832157256,
          -1.6426544840578008,
          -0.3729810561155604,
          0.4118726167714622,
          1.029847585474093,
          0.8452000799540336,
          -0.7562889275417679,
          -1.2211260855955912
         ],
         "xaxis": "x10",
         "y": [
          -0.03702877339300592,
          1.2331533142400917,
          -0.07801796479441349,
          -0.7022272834484142,
          0.16055904048652556,
          0.6929775355441083,
          -1.1449585593341554,
          0.40135645324400365,
          -0.889659903514935,
          0.38452554129214334,
          -0.2974578249115507,
          0.5731119993941826,
          0.4696251624142449,
          -1.5016012050161727,
          0.9943453955463964,
          -0.31305809335522206,
          -0.7892174106875199,
          0.3970078958743742,
          0.5714551589461301,
          -1.2066921358074794,
          -0.03916757553491572,
          0.23398654419873882,
          -0.28626344026281697,
          0.4439016799270692,
          -0.7991734907578689,
          0.7881738846112302,
          0.6379973315075914,
          -1.2830615123765934,
          1.6882900489987276,
          0.8266803198098865,
          0.2419021321773128,
          0.06775806315874908,
          -0.9970942772691014,
          0.05186019900237702,
          -0.18617515656074715,
          -0.5500921313908232,
          0.8579128652098441,
          -0.5116745793291424,
          0.30172082956830354,
          -0.5142601512813955,
          -0.420210836594552,
          0.17003545771266135,
          -1.9983573113151523,
          1.7740554152108934,
          -0.6638565827752227,
          -0.8297814245822754,
          -0.708663491298998,
          0.28522687857953893,
          -0.9506172941009644,
          -0.9739444326745847,
          0.5959920182834592,
          -0.3730617083924842,
          -0.9395409108533466,
          0.3953506978580014,
          0.7354822350294352,
          -0.0561228057421114,
          1.5304477807925632,
          -0.9172322879097585,
          0.45105690524118264,
          -0.47166247399874434,
          1.9374194002871825,
          -1.2826167144649756,
          0.28127733865751,
          1.2133772280926907,
          0.9105399864905382,
          2.6737388260590977,
          1.5537777593044229,
          -1.6042838907765453,
          -0.21635330257050345,
          0.14297271198687375,
          -0.41236779964503906,
          0.9398706840773439,
          1.6353543625830789,
          -0.841009031316667,
          0.937751206446483,
          -0.19736424892746166,
          0.1324504360304438,
          -0.06596259590925552,
          1.5055524764575179,
          -1.0957502313993932,
          -1.106030877978789,
          0.4852737804914742,
          0.8552865262140152,
          -0.08584910479123904,
          -0.7136330802812939,
          -0.5872515162723292,
          0.4589158663294076,
          0.585492152852584,
          -0.46661448830111424,
          0.5473780607940563,
          0.3548314533758728,
          0.10120052546689835,
          0.47244966968598817,
          -0.6211724569824977,
          1.2702029090922695,
          -1.801943386303626,
          -0.3977648442931152,
          0.5305927196043201,
          -0.8318740959515525,
          -0.0999865483109285
         ],
         "yaxis": "y10"
        },
        {
         "histfunc": "count",
         "histnorm": "",
         "marker": {
          "color": "rgba(50, 171, 96, 1.0)",
          "line": {
           "color": "#4D5663",
           "width": 1.3
          }
         },
         "name": "C",
         "nbinsx": 10,
         "opacity": 0.8,
         "orientation": "v",
         "type": "histogram",
         "x": [
          -0.03702877339300592,
          1.2331533142400917,
          -0.07801796479441349,
          -0.7022272834484142,
          0.16055904048652556,
          0.6929775355441083,
          -1.1449585593341554,
          0.40135645324400365,
          -0.889659903514935,
          0.38452554129214334,
          -0.2974578249115507,
          0.5731119993941826,
          0.4696251624142449,
          -1.5016012050161727,
          0.9943453955463964,
          -0.31305809335522206,
          -0.7892174106875199,
          0.3970078958743742,
          0.5714551589461301,
          -1.2066921358074794,
          -0.03916757553491572,
          0.23398654419873882,
          -0.28626344026281697,
          0.4439016799270692,
          -0.7991734907578689,
          0.7881738846112302,
          0.6379973315075914,
          -1.2830615123765934,
          1.6882900489987276,
          0.8266803198098865,
          0.2419021321773128,
          0.06775806315874908,
          -0.9970942772691014,
          0.05186019900237702,
          -0.18617515656074715,
          -0.5500921313908232,
          0.8579128652098441,
          -0.5116745793291424,
          0.30172082956830354,
          -0.5142601512813955,
          -0.420210836594552,
          0.17003545771266135,
          -1.9983573113151523,
          1.7740554152108934,
          -0.6638565827752227,
          -0.8297814245822754,
          -0.708663491298998,
          0.28522687857953893,
          -0.9506172941009644,
          -0.9739444326745847,
          0.5959920182834592,
          -0.3730617083924842,
          -0.9395409108533466,
          0.3953506978580014,
          0.7354822350294352,
          -0.0561228057421114,
          1.5304477807925632,
          -0.9172322879097585,
          0.45105690524118264,
          -0.47166247399874434,
          1.9374194002871825,
          -1.2826167144649756,
          0.28127733865751,
          1.2133772280926907,
          0.9105399864905382,
          2.6737388260590977,
          1.5537777593044229,
          -1.6042838907765453,
          -0.21635330257050345,
          0.14297271198687375,
          -0.41236779964503906,
          0.9398706840773439,
          1.6353543625830789,
          -0.841009031316667,
          0.937751206446483,
          -0.19736424892746166,
          0.1324504360304438,
          -0.06596259590925552,
          1.5055524764575179,
          -1.0957502313993932,
          -1.106030877978789,
          0.4852737804914742,
          0.8552865262140152,
          -0.08584910479123904,
          -0.7136330802812939,
          -0.5872515162723292,
          0.4589158663294076,
          0.585492152852584,
          -0.46661448830111424,
          0.5473780607940563,
          0.3548314533758728,
          0.10120052546689835,
          0.47244966968598817,
          -0.6211724569824977,
          1.2702029090922695,
          -1.801943386303626,
          -0.3977648442931152,
          0.5305927196043201,
          -0.8318740959515525,
          -0.0999865483109285
         ],
         "xaxis": "x11",
         "yaxis": "y11"
        },
        {
         "line": {
          "color": "rgba(128, 128, 128, 1.0)",
          "dash": "solid",
          "shape": "linear",
          "width": 1.3
         },
         "marker": {
          "size": 2,
          "symbol": "circle"
         },
         "mode": "markers",
         "name": "C",
         "text": "",
         "type": "scatter",
         "x": [
          -0.8734490919449758,
          -0.6377165182152058,
          -0.9347398277176195,
          0.5406399529890071,
          1.341173967904742,
          0.41387998070743537,
          0.5537218267039099,
          1.1467377881568175,
          -0.3911521227294417,
          0.032938045468640875,
          0.21360681464061274,
          0.574292242304888,
          -0.058072042531966635,
          -0.5856505706098373,
          -0.14173900106861057,
          0.41192650711160295,
          -0.19085476467479195,
          -1.308603853535363,
          -0.031867599813434594,
          1.0738654245537662,
          3.388810624441809,
          0.9351645918281237,
          0.21556793789102505,
          -0.25270809218800333,
          -0.7421025237070608,
          -1.5762235008352279,
          1.574517541342876,
          0.5985193109908948,
          0.09785221855150467,
          -0.8939627568218563,
          -0.9114314007148135,
          -0.7852927743123335,
          0.09539761403913215,
          -1.3273030823342173,
          -0.42856470672001673,
          0.552020456198069,
          -1.174373095441438,
          2.2563731583912756,
          -1.2037301297350371,
          0.9807112255372464,
          -1.1235948900923094,
          1.7670965259683982,
          -0.17021676615415063,
          -1.8333956792458719,
          -0.9382658499497022,
          -1.1894448769715698,
          1.1097280235427942,
          -0.05285747126028578,
          0.2662053187286402,
          0.9641926838169147,
          0.49708149119080225,
          1.3355327415526494,
          0.7959244674162735,
          0.25908089060661355,
          -0.7709957797796189,
          -1.8867996732239452,
          1.6007369716116406,
          0.22346676721610725,
          -0.25709166669861605,
          -0.6126254873783411,
          0.3379494556326407,
          1.7238715109014708,
          -1.6342016111857502,
          -1.8054209648457757,
          0.0057656863266193695,
          0.5807572429887081,
          -0.24084930158420273,
          0.46339495964105354,
          -0.7274227579627042,
          -0.5908781317043639,
          1.5807677607461796,
          0.28292144157482824,
          -1.2048725161584564,
          1.3186367045540346,
          -0.9044688174167138,
          0.543196625595008,
          2.3159964110839013,
          1.277936910956555,
          0.7186612173467221,
          -0.45685369846256685,
          -0.3179223952427716,
          -1.0765462891961397,
          0.36217185983351236,
          0.6181520195982304,
          -0.737585726286838,
          0.27036714038230936,
          0.12241782704649012,
          -0.9196487723647185,
          0.2629775652016023,
          1.7955012830654227,
          1.0460540868648192,
          0.2397550091957434,
          -0.22248193491512402,
          1.5417903540225741,
          -1.1513077965149632,
          -0.32730940498417577,
          -0.6269467248298358,
          0.44257361476171037,
          1.3999372607169542,
          0.06443005050411026
         ],
         "xaxis": "x12",
         "y": [
          -0.03702877339300592,
          1.2331533142400917,
          -0.07801796479441349,
          -0.7022272834484142,
          0.16055904048652556,
          0.6929775355441083,
          -1.1449585593341554,
          0.40135645324400365,
          -0.889659903514935,
          0.38452554129214334,
          -0.2974578249115507,
          0.5731119993941826,
          0.4696251624142449,
          -1.5016012050161727,
          0.9943453955463964,
          -0.31305809335522206,
          -0.7892174106875199,
          0.3970078958743742,
          0.5714551589461301,
          -1.2066921358074794,
          -0.03916757553491572,
          0.23398654419873882,
          -0.28626344026281697,
          0.4439016799270692,
          -0.7991734907578689,
          0.7881738846112302,
          0.6379973315075914,
          -1.2830615123765934,
          1.6882900489987276,
          0.8266803198098865,
          0.2419021321773128,
          0.06775806315874908,
          -0.9970942772691014,
          0.05186019900237702,
          -0.18617515656074715,
          -0.5500921313908232,
          0.8579128652098441,
          -0.5116745793291424,
          0.30172082956830354,
          -0.5142601512813955,
          -0.420210836594552,
          0.17003545771266135,
          -1.9983573113151523,
          1.7740554152108934,
          -0.6638565827752227,
          -0.8297814245822754,
          -0.708663491298998,
          0.28522687857953893,
          -0.9506172941009644,
          -0.9739444326745847,
          0.5959920182834592,
          -0.3730617083924842,
          -0.9395409108533466,
          0.3953506978580014,
          0.7354822350294352,
          -0.0561228057421114,
          1.5304477807925632,
          -0.9172322879097585,
          0.45105690524118264,
          -0.47166247399874434,
          1.9374194002871825,
          -1.2826167144649756,
          0.28127733865751,
          1.2133772280926907,
          0.9105399864905382,
          2.6737388260590977,
          1.5537777593044229,
          -1.6042838907765453,
          -0.21635330257050345,
          0.14297271198687375,
          -0.41236779964503906,
          0.9398706840773439,
          1.6353543625830789,
          -0.841009031316667,
          0.937751206446483,
          -0.19736424892746166,
          0.1324504360304438,
          -0.06596259590925552,
          1.5055524764575179,
          -1.0957502313993932,
          -1.106030877978789,
          0.4852737804914742,
          0.8552865262140152,
          -0.08584910479123904,
          -0.7136330802812939,
          -0.5872515162723292,
          0.4589158663294076,
          0.585492152852584,
          -0.46661448830111424,
          0.5473780607940563,
          0.3548314533758728,
          0.10120052546689835,
          0.47244966968598817,
          -0.6211724569824977,
          1.2702029090922695,
          -1.801943386303626,
          -0.3977648442931152,
          0.5305927196043201,
          -0.8318740959515525,
          -0.0999865483109285
         ],
         "yaxis": "y12"
        },
        {
         "line": {
          "color": "rgba(128, 128, 128, 1.0)",
          "dash": "solid",
          "shape": "linear",
          "width": 1.3
         },
         "marker": {
          "size": 2,
          "symbol": "circle"
         },
         "mode": "markers",
         "name": "D",
         "text": "",
         "type": "scatter",
         "x": [
          0.7564148323989057,
          -0.7823269068609948,
          -0.6679174325975421,
          0.7235504577605787,
          0.6763583983443798,
          1.6113674312227713,
          0.3252015273144834,
          0.09745320106895272,
          1.0649772116322407,
          -0.7859675316540942,
          0.08690115585301378,
          0.9124025065812114,
          1.3087334560716568,
          1.4912116709568073,
          0.29323517954194406,
          0.5629978990864077,
          -0.17696272403977917,
          0.7202519868531352,
          -0.4472416619570027,
          -0.660042052378561,
          -0.4397720161985938,
          0.36183913297429054,
          0.1906764296882429,
          0.27408170227575673,
          0.1628582735776629,
          0.5419999037348392,
          0.32244203981230574,
          -1.2923184092498095,
          -0.009592358103626993,
          -0.23483095390226533,
          0.18411729182079248,
          -0.1852600830234388,
          0.8368833908066343,
          1.6994622242236421,
          0.649640777805914,
          1.5448735980291246,
          1.6270987436436612,
          0.4542284041676613,
          -0.4339774915395808,
          0.30665794494472826,
          -3.0884024397121084,
          0.3451163531976607,
          0.6613568430139521,
          1.3718747343032527,
          -1.285891701134262,
          -0.8783682945663221,
          1.4174311776154207,
          -0.6249606412129409,
          -0.5342037438274139,
          -0.307321938309405,
          -2.2111762025380677,
          0.117896763562164,
          1.9426338686747864,
          1.0168105624881245,
          0.3869886209354972,
          -0.8659122284321883,
          -0.11578510886853562,
          -1.1044854111223756,
          -0.287017688548948,
          0.26941239292262464,
          -0.7721015839501733,
          0.08547677454955224,
          0.7253610559010434,
          0.7161489578101378,
          0.5128370699212017,
          -1.7628809336520286,
          0.16456924899681624,
          0.0594714216728452,
          0.3365873177762397,
          0.8803056482467614,
          -0.5938200363087336,
          0.6800430927857745,
          0.3235617112715458,
          0.422123778250071,
          -0.6941982779585049,
          -0.8762368200842747,
          -0.9242598560469263,
          -0.9583537917768091,
          -1.0755751128260154,
          0.43081351893442565,
          -1.6547441309159239,
          -0.1884358000165739,
          1.253583356296939,
          -1.1401442981765864,
          -0.6320394030275134,
          0.010293848187346874,
          -0.3772064178610946,
          0.8921343285996494,
          0.14347786896033332,
          -1.1206987434644389,
          0.8955106344603044,
          -1.042340672290424,
          -0.7800271391209364,
          -0.5450798609737193,
          -0.49155899434435724,
          0.08785907358821855,
          1.0182645649729956,
          0.19540175660096615,
          0.9465171960423777,
          -1.6119347742049708
         ],
         "xaxis": "x13",
         "y": [
          -0.8734490919449758,
          -0.6377165182152058,
          -0.9347398277176195,
          0.5406399529890071,
          1.341173967904742,
          0.41387998070743537,
          0.5537218267039099,
          1.1467377881568175,
          -0.3911521227294417,
          0.032938045468640875,
          0.21360681464061274,
          0.574292242304888,
          -0.058072042531966635,
          -0.5856505706098373,
          -0.14173900106861057,
          0.41192650711160295,
          -0.19085476467479195,
          -1.308603853535363,
          -0.031867599813434594,
          1.0738654245537662,
          3.388810624441809,
          0.9351645918281237,
          0.21556793789102505,
          -0.25270809218800333,
          -0.7421025237070608,
          -1.5762235008352279,
          1.574517541342876,
          0.5985193109908948,
          0.09785221855150467,
          -0.8939627568218563,
          -0.9114314007148135,
          -0.7852927743123335,
          0.09539761403913215,
          -1.3273030823342173,
          -0.42856470672001673,
          0.552020456198069,
          -1.174373095441438,
          2.2563731583912756,
          -1.2037301297350371,
          0.9807112255372464,
          -1.1235948900923094,
          1.7670965259683982,
          -0.17021676615415063,
          -1.8333956792458719,
          -0.9382658499497022,
          -1.1894448769715698,
          1.1097280235427942,
          -0.05285747126028578,
          0.2662053187286402,
          0.9641926838169147,
          0.49708149119080225,
          1.3355327415526494,
          0.7959244674162735,
          0.25908089060661355,
          -0.7709957797796189,
          -1.8867996732239452,
          1.6007369716116406,
          0.22346676721610725,
          -0.25709166669861605,
          -0.6126254873783411,
          0.3379494556326407,
          1.7238715109014708,
          -1.6342016111857502,
          -1.8054209648457757,
          0.0057656863266193695,
          0.5807572429887081,
          -0.24084930158420273,
          0.46339495964105354,
          -0.7274227579627042,
          -0.5908781317043639,
          1.5807677607461796,
          0.28292144157482824,
          -1.2048725161584564,
          1.3186367045540346,
          -0.9044688174167138,
          0.543196625595008,
          2.3159964110839013,
          1.277936910956555,
          0.7186612173467221,
          -0.45685369846256685,
          -0.3179223952427716,
          -1.0765462891961397,
          0.36217185983351236,
          0.6181520195982304,
          -0.737585726286838,
          0.27036714038230936,
          0.12241782704649012,
          -0.9196487723647185,
          0.2629775652016023,
          1.7955012830654227,
          1.0460540868648192,
          0.2397550091957434,
          -0.22248193491512402,
          1.5417903540225741,
          -1.1513077965149632,
          -0.32730940498417577,
          -0.6269467248298358,
          0.44257361476171037,
          1.3999372607169542,
          0.06443005050411026
         ],
         "yaxis": "y13"
        },
        {
         "line": {
          "color": "rgba(128, 128, 128, 1.0)",
          "dash": "solid",
          "shape": "linear",
          "width": 1.3
         },
         "marker": {
          "size": 2,
          "symbol": "circle"
         },
         "mode": "markers",
         "name": "D",
         "text": "",
         "type": "scatter",
         "x": [
          -0.7202641597043901,
          1.6111205987959558,
          -1.4045100480600723,
          -0.2305213090636333,
          0.09197263343256602,
          0.45650077090452507,
          -0.6090188815380735,
          -0.5309964497803003,
          -1.2141722737221585,
          0.3212170216275696,
          0.828923518012042,
          -0.00933759673273959,
          -0.8335054288748508,
          -0.22221466515421448,
          0.04137618145202107,
          0.17951244762335802,
          -1.2696099673173946,
          0.5169171178129851,
          0.5065825166155579,
          1.8727156509898149,
          -0.5946116913527016,
          -0.22748976950221245,
          1.4451419764392834,
          0.8734901467478385,
          0.08935941642291524,
          0.29568606105209533,
          -0.32030634026059673,
          -1.6041681395208156,
          0.028851909646146416,
          1.1615069704693648,
          1.3514765080377995,
          -0.4202353106446499,
          -0.4143726260211676,
          -1.7417579765985356,
          -0.6273257368167466,
          1.8605844366345645,
          0.7252898789669653,
          0.21722302774247051,
          0.6588080497650206,
          1.827701914229741,
          -1.3562021106860425,
          -1.6458974264261332,
          -1.890046325987327,
          0.5737985522903889,
          0.3349639343196755,
          -0.2275114335122723,
          0.45931782624536954,
          0.6009662483616324,
          -1.7640307386103249,
          -0.9698541623961516,
          0.5199410633750858,
          0.9722666787904833,
          1.1787911690208148,
          1.8889928269480079,
          0.1566215641713116,
          -0.6081716736322273,
          -1.9602317892889807,
          1.2965973839107108,
          0.7159400166046389,
          0.4104977037587753,
          0.7680084938921184,
          0.9102155990867794,
          1.4943969050212076,
          -1.1648035311483567,
          -1.8230587897093773,
          -0.4858606905365588,
          -1.342820546572071,
          1.1537637404540777,
          1.366678250402521,
          0.39291878057448937,
          -0.15295787191672727,
          -0.6164898683069034,
          -0.5028267703717849,
          -2.7191095485107715,
          0.43783276284416356,
          -0.7997778310334515,
          -0.11487376829842402,
          -1.260999076134505,
          0.11399726686639165,
          0.2452984918996693,
          0.030593204208160456,
          -0.2251417106641021,
          -0.38244207641083616,
          0.5386447328890802,
          -0.15681869059494968,
          -0.05021440734054216,
          -0.7789516064974458,
          -0.15034282374484073,
          -0.3131345538869527,
          1.774215079269531,
          0.9865362990987013,
          1.8749138989827594,
          0.37332922832157256,
          -1.6426544840578008,
          -0.3729810561155604,
          0.4118726167714622,
          1.029847585474093,
          0.8452000799540336,
          -0.7562889275417679,
          -1.2211260855955912
         ],
         "xaxis": "x14",
         "y": [
          -0.8734490919449758,
          -0.6377165182152058,
          -0.9347398277176195,
          0.5406399529890071,
          1.341173967904742,
          0.41387998070743537,
          0.5537218267039099,
          1.1467377881568175,
          -0.3911521227294417,
          0.032938045468640875,
          0.21360681464061274,
          0.574292242304888,
          -0.058072042531966635,
          -0.5856505706098373,
          -0.14173900106861057,
          0.41192650711160295,
          -0.19085476467479195,
          -1.308603853535363,
          -0.031867599813434594,
          1.0738654245537662,
          3.388810624441809,
          0.9351645918281237,
          0.21556793789102505,
          -0.25270809218800333,
          -0.7421025237070608,
          -1.5762235008352279,
          1.574517541342876,
          0.5985193109908948,
          0.09785221855150467,
          -0.8939627568218563,
          -0.9114314007148135,
          -0.7852927743123335,
          0.09539761403913215,
          -1.3273030823342173,
          -0.42856470672001673,
          0.552020456198069,
          -1.174373095441438,
          2.2563731583912756,
          -1.2037301297350371,
          0.9807112255372464,
          -1.1235948900923094,
          1.7670965259683982,
          -0.17021676615415063,
          -1.8333956792458719,
          -0.9382658499497022,
          -1.1894448769715698,
          1.1097280235427942,
          -0.05285747126028578,
          0.2662053187286402,
          0.9641926838169147,
          0.49708149119080225,
          1.3355327415526494,
          0.7959244674162735,
          0.25908089060661355,
          -0.7709957797796189,
          -1.8867996732239452,
          1.6007369716116406,
          0.22346676721610725,
          -0.25709166669861605,
          -0.6126254873783411,
          0.3379494556326407,
          1.7238715109014708,
          -1.6342016111857502,
          -1.8054209648457757,
          0.0057656863266193695,
          0.5807572429887081,
          -0.24084930158420273,
          0.46339495964105354,
          -0.7274227579627042,
          -0.5908781317043639,
          1.5807677607461796,
          0.28292144157482824,
          -1.2048725161584564,
          1.3186367045540346,
          -0.9044688174167138,
          0.543196625595008,
          2.3159964110839013,
          1.277936910956555,
          0.7186612173467221,
          -0.45685369846256685,
          -0.3179223952427716,
          -1.0765462891961397,
          0.36217185983351236,
          0.6181520195982304,
          -0.737585726286838,
          0.27036714038230936,
          0.12241782704649012,
          -0.9196487723647185,
          0.2629775652016023,
          1.7955012830654227,
          1.0460540868648192,
          0.2397550091957434,
          -0.22248193491512402,
          1.5417903540225741,
          -1.1513077965149632,
          -0.32730940498417577,
          -0.6269467248298358,
          0.44257361476171037,
          1.3999372607169542,
          0.06443005050411026
         ],
         "yaxis": "y14"
        },
        {
         "line": {
          "color": "rgba(128, 128, 128, 1.0)",
          "dash": "solid",
          "shape": "linear",
          "width": 1.3
         },
         "marker": {
          "size": 2,
          "symbol": "circle"
         },
         "mode": "markers",
         "name": "D",
         "text": "",
         "type": "scatter",
         "x": [
          -0.03702877339300592,
          1.2331533142400917,
          -0.07801796479441349,
          -0.7022272834484142,
          0.16055904048652556,
          0.6929775355441083,
          -1.1449585593341554,
          0.40135645324400365,
          -0.889659903514935,
          0.38452554129214334,
          -0.2974578249115507,
          0.5731119993941826,
          0.4696251624142449,
          -1.5016012050161727,
          0.9943453955463964,
          -0.31305809335522206,
          -0.7892174106875199,
          0.3970078958743742,
          0.5714551589461301,
          -1.2066921358074794,
          -0.03916757553491572,
          0.23398654419873882,
          -0.28626344026281697,
          0.4439016799270692,
          -0.7991734907578689,
          0.7881738846112302,
          0.6379973315075914,
          -1.2830615123765934,
          1.6882900489987276,
          0.8266803198098865,
          0.2419021321773128,
          0.06775806315874908,
          -0.9970942772691014,
          0.05186019900237702,
          -0.18617515656074715,
          -0.5500921313908232,
          0.8579128652098441,
          -0.5116745793291424,
          0.30172082956830354,
          -0.5142601512813955,
          -0.420210836594552,
          0.17003545771266135,
          -1.9983573113151523,
          1.7740554152108934,
          -0.6638565827752227,
          -0.8297814245822754,
          -0.708663491298998,
          0.28522687857953893,
          -0.9506172941009644,
          -0.9739444326745847,
          0.5959920182834592,
          -0.3730617083924842,
          -0.9395409108533466,
          0.3953506978580014,
          0.7354822350294352,
          -0.0561228057421114,
          1.5304477807925632,
          -0.9172322879097585,
          0.45105690524118264,
          -0.47166247399874434,
          1.9374194002871825,
          -1.2826167144649756,
          0.28127733865751,
          1.2133772280926907,
          0.9105399864905382,
          2.6737388260590977,
          1.5537777593044229,
          -1.6042838907765453,
          -0.21635330257050345,
          0.14297271198687375,
          -0.41236779964503906,
          0.9398706840773439,
          1.6353543625830789,
          -0.841009031316667,
          0.937751206446483,
          -0.19736424892746166,
          0.1324504360304438,
          -0.06596259590925552,
          1.5055524764575179,
          -1.0957502313993932,
          -1.106030877978789,
          0.4852737804914742,
          0.8552865262140152,
          -0.08584910479123904,
          -0.7136330802812939,
          -0.5872515162723292,
          0.4589158663294076,
          0.585492152852584,
          -0.46661448830111424,
          0.5473780607940563,
          0.3548314533758728,
          0.10120052546689835,
          0.47244966968598817,
          -0.6211724569824977,
          1.2702029090922695,
          -1.801943386303626,
          -0.3977648442931152,
          0.5305927196043201,
          -0.8318740959515525,
          -0.0999865483109285
         ],
         "xaxis": "x15",
         "y": [
          -0.8734490919449758,
          -0.6377165182152058,
          -0.9347398277176195,
          0.5406399529890071,
          1.341173967904742,
          0.41387998070743537,
          0.5537218267039099,
          1.1467377881568175,
          -0.3911521227294417,
          0.032938045468640875,
          0.21360681464061274,
          0.574292242304888,
          -0.058072042531966635,
          -0.5856505706098373,
          -0.14173900106861057,
          0.41192650711160295,
          -0.19085476467479195,
          -1.308603853535363,
          -0.031867599813434594,
          1.0738654245537662,
          3.388810624441809,
          0.9351645918281237,
          0.21556793789102505,
          -0.25270809218800333,
          -0.7421025237070608,
          -1.5762235008352279,
          1.574517541342876,
          0.5985193109908948,
          0.09785221855150467,
          -0.8939627568218563,
          -0.9114314007148135,
          -0.7852927743123335,
          0.09539761403913215,
          -1.3273030823342173,
          -0.42856470672001673,
          0.552020456198069,
          -1.174373095441438,
          2.2563731583912756,
          -1.2037301297350371,
          0.9807112255372464,
          -1.1235948900923094,
          1.7670965259683982,
          -0.17021676615415063,
          -1.8333956792458719,
          -0.9382658499497022,
          -1.1894448769715698,
          1.1097280235427942,
          -0.05285747126028578,
          0.2662053187286402,
          0.9641926838169147,
          0.49708149119080225,
          1.3355327415526494,
          0.7959244674162735,
          0.25908089060661355,
          -0.7709957797796189,
          -1.8867996732239452,
          1.6007369716116406,
          0.22346676721610725,
          -0.25709166669861605,
          -0.6126254873783411,
          0.3379494556326407,
          1.7238715109014708,
          -1.6342016111857502,
          -1.8054209648457757,
          0.0057656863266193695,
          0.5807572429887081,
          -0.24084930158420273,
          0.46339495964105354,
          -0.7274227579627042,
          -0.5908781317043639,
          1.5807677607461796,
          0.28292144157482824,
          -1.2048725161584564,
          1.3186367045540346,
          -0.9044688174167138,
          0.543196625595008,
          2.3159964110839013,
          1.277936910956555,
          0.7186612173467221,
          -0.45685369846256685,
          -0.3179223952427716,
          -1.0765462891961397,
          0.36217185983351236,
          0.6181520195982304,
          -0.737585726286838,
          0.27036714038230936,
          0.12241782704649012,
          -0.9196487723647185,
          0.2629775652016023,
          1.7955012830654227,
          1.0460540868648192,
          0.2397550091957434,
          -0.22248193491512402,
          1.5417903540225741,
          -1.1513077965149632,
          -0.32730940498417577,
          -0.6269467248298358,
          0.44257361476171037,
          1.3999372607169542,
          0.06443005050411026
         ],
         "yaxis": "y15"
        },
        {
         "histfunc": "count",
         "histnorm": "",
         "marker": {
          "color": "rgba(128, 0, 128, 1.0)",
          "line": {
           "color": "#4D5663",
           "width": 1.3
          }
         },
         "name": "D",
         "nbinsx": 10,
         "opacity": 0.8,
         "orientation": "v",
         "type": "histogram",
         "x": [
          -0.8734490919449758,
          -0.6377165182152058,
          -0.9347398277176195,
          0.5406399529890071,
          1.341173967904742,
          0.41387998070743537,
          0.5537218267039099,
          1.1467377881568175,
          -0.3911521227294417,
          0.032938045468640875,
          0.21360681464061274,
          0.574292242304888,
          -0.058072042531966635,
          -0.5856505706098373,
          -0.14173900106861057,
          0.41192650711160295,
          -0.19085476467479195,
          -1.308603853535363,
          -0.031867599813434594,
          1.0738654245537662,
          3.388810624441809,
          0.9351645918281237,
          0.21556793789102505,
          -0.25270809218800333,
          -0.7421025237070608,
          -1.5762235008352279,
          1.574517541342876,
          0.5985193109908948,
          0.09785221855150467,
          -0.8939627568218563,
          -0.9114314007148135,
          -0.7852927743123335,
          0.09539761403913215,
          -1.3273030823342173,
          -0.42856470672001673,
          0.552020456198069,
          -1.174373095441438,
          2.2563731583912756,
          -1.2037301297350371,
          0.9807112255372464,
          -1.1235948900923094,
          1.7670965259683982,
          -0.17021676615415063,
          -1.8333956792458719,
          -0.9382658499497022,
          -1.1894448769715698,
          1.1097280235427942,
          -0.05285747126028578,
          0.2662053187286402,
          0.9641926838169147,
          0.49708149119080225,
          1.3355327415526494,
          0.7959244674162735,
          0.25908089060661355,
          -0.7709957797796189,
          -1.8867996732239452,
          1.6007369716116406,
          0.22346676721610725,
          -0.25709166669861605,
          -0.6126254873783411,
          0.3379494556326407,
          1.7238715109014708,
          -1.6342016111857502,
          -1.8054209648457757,
          0.0057656863266193695,
          0.5807572429887081,
          -0.24084930158420273,
          0.46339495964105354,
          -0.7274227579627042,
          -0.5908781317043639,
          1.5807677607461796,
          0.28292144157482824,
          -1.2048725161584564,
          1.3186367045540346,
          -0.9044688174167138,
          0.543196625595008,
          2.3159964110839013,
          1.277936910956555,
          0.7186612173467221,
          -0.45685369846256685,
          -0.3179223952427716,
          -1.0765462891961397,
          0.36217185983351236,
          0.6181520195982304,
          -0.737585726286838,
          0.27036714038230936,
          0.12241782704649012,
          -0.9196487723647185,
          0.2629775652016023,
          1.7955012830654227,
          1.0460540868648192,
          0.2397550091957434,
          -0.22248193491512402,
          1.5417903540225741,
          -1.1513077965149632,
          -0.32730940498417577,
          -0.6269467248298358,
          0.44257361476171037,
          1.3999372607169542,
          0.06443005050411026
         ],
         "xaxis": "x16",
         "yaxis": "y16"
        }
       ],
       "layout": {
        "bargap": 0.02,
        "legend": {
         "bgcolor": "#F5F6F9",
         "font": {
          "color": "#4D5663"
         }
        },
        "paper_bgcolor": "#F5F6F9",
        "plot_bgcolor": "#F5F6F9",
        "showlegend": false,
        "template": {
         "data": {
          "bar": [
           {
            "error_x": {
             "color": "#2a3f5f"
            },
            "error_y": {
             "color": "#2a3f5f"
            },
            "marker": {
             "line": {
              "color": "#E5ECF6",
              "width": 0.5
             },
             "pattern": {
              "fillmode": "overlay",
              "size": 10,
              "solidity": 0.2
             }
            },
            "type": "bar"
           }
          ],
          "barpolar": [
           {
            "marker": {
             "line": {
              "color": "#E5ECF6",
              "width": 0.5
             },
             "pattern": {
              "fillmode": "overlay",
              "size": 10,
              "solidity": 0.2
             }
            },
            "type": "barpolar"
           }
          ],
          "carpet": [
           {
            "aaxis": {
             "endlinecolor": "#2a3f5f",
             "gridcolor": "white",
             "linecolor": "white",
             "minorgridcolor": "white",
             "startlinecolor": "#2a3f5f"
            },
            "baxis": {
             "endlinecolor": "#2a3f5f",
             "gridcolor": "white",
             "linecolor": "white",
             "minorgridcolor": "white",
             "startlinecolor": "#2a3f5f"
            },
            "type": "carpet"
           }
          ],
          "choropleth": [
           {
            "colorbar": {
             "outlinewidth": 0,
             "ticks": ""
            },
            "type": "choropleth"
           }
          ],
          "contour": [
           {
            "colorbar": {
             "outlinewidth": 0,
             "ticks": ""
            },
            "colorscale": [
             [
              0,
              "#0d0887"
             ],
             [
              0.1111111111111111,
              "#46039f"
             ],
             [
              0.2222222222222222,
              "#7201a8"
             ],
             [
              0.3333333333333333,
              "#9c179e"
             ],
             [
              0.4444444444444444,
              "#bd3786"
             ],
             [
              0.5555555555555556,
              "#d8576b"
             ],
             [
              0.6666666666666666,
              "#ed7953"
             ],
             [
              0.7777777777777778,
              "#fb9f3a"
             ],
             [
              0.8888888888888888,
              "#fdca26"
             ],
             [
              1,
              "#f0f921"
             ]
            ],
            "type": "contour"
           }
          ],
          "contourcarpet": [
           {
            "colorbar": {
             "outlinewidth": 0,
             "ticks": ""
            },
            "type": "contourcarpet"
           }
          ],
          "heatmap": [
           {
            "colorbar": {
             "outlinewidth": 0,
             "ticks": ""
            },
            "colorscale": [
             [
              0,
              "#0d0887"
             ],
             [
              0.1111111111111111,
              "#46039f"
             ],
             [
              0.2222222222222222,
              "#7201a8"
             ],
             [
              0.3333333333333333,
              "#9c179e"
             ],
             [
              0.4444444444444444,
              "#bd3786"
             ],
             [
              0.5555555555555556,
              "#d8576b"
             ],
             [
              0.6666666666666666,
              "#ed7953"
             ],
             [
              0.7777777777777778,
              "#fb9f3a"
             ],
             [
              0.8888888888888888,
              "#fdca26"
             ],
             [
              1,
              "#f0f921"
             ]
            ],
            "type": "heatmap"
           }
          ],
          "heatmapgl": [
           {
            "colorbar": {
             "outlinewidth": 0,
             "ticks": ""
            },
            "colorscale": [
             [
              0,
              "#0d0887"
             ],
             [
              0.1111111111111111,
              "#46039f"
             ],
             [
              0.2222222222222222,
              "#7201a8"
             ],
             [
              0.3333333333333333,
              "#9c179e"
             ],
             [
              0.4444444444444444,
              "#bd3786"
             ],
             [
              0.5555555555555556,
              "#d8576b"
             ],
             [
              0.6666666666666666,
              "#ed7953"
             ],
             [
              0.7777777777777778,
              "#fb9f3a"
             ],
             [
              0.8888888888888888,
              "#fdca26"
             ],
             [
              1,
              "#f0f921"
             ]
            ],
            "type": "heatmapgl"
           }
          ],
          "histogram": [
           {
            "marker": {
             "pattern": {
              "fillmode": "overlay",
              "size": 10,
              "solidity": 0.2
             }
            },
            "type": "histogram"
           }
          ],
          "histogram2d": [
           {
            "colorbar": {
             "outlinewidth": 0,
             "ticks": ""
            },
            "colorscale": [
             [
              0,
              "#0d0887"
             ],
             [
              0.1111111111111111,
              "#46039f"
             ],
             [
              0.2222222222222222,
              "#7201a8"
             ],
             [
              0.3333333333333333,
              "#9c179e"
             ],
             [
              0.4444444444444444,
              "#bd3786"
             ],
             [
              0.5555555555555556,
              "#d8576b"
             ],
             [
              0.6666666666666666,
              "#ed7953"
             ],
             [
              0.7777777777777778,
              "#fb9f3a"
             ],
             [
              0.8888888888888888,
              "#fdca26"
             ],
             [
              1,
              "#f0f921"
             ]
            ],
            "type": "histogram2d"
           }
          ],
          "histogram2dcontour": [
           {
            "colorbar": {
             "outlinewidth": 0,
             "ticks": ""
            },
            "colorscale": [
             [
              0,
              "#0d0887"
             ],
             [
              0.1111111111111111,
              "#46039f"
             ],
             [
              0.2222222222222222,
              "#7201a8"
             ],
             [
              0.3333333333333333,
              "#9c179e"
             ],
             [
              0.4444444444444444,
              "#bd3786"
             ],
             [
              0.5555555555555556,
              "#d8576b"
             ],
             [
              0.6666666666666666,
              "#ed7953"
             ],
             [
              0.7777777777777778,
              "#fb9f3a"
             ],
             [
              0.8888888888888888,
              "#fdca26"
             ],
             [
              1,
              "#f0f921"
             ]
            ],
            "type": "histogram2dcontour"
           }
          ],
          "mesh3d": [
           {
            "colorbar": {
             "outlinewidth": 0,
             "ticks": ""
            },
            "type": "mesh3d"
           }
          ],
          "parcoords": [
           {
            "line": {
             "colorbar": {
              "outlinewidth": 0,
              "ticks": ""
             }
            },
            "type": "parcoords"
           }
          ],
          "pie": [
           {
            "automargin": true,
            "type": "pie"
           }
          ],
          "scatter": [
           {
            "fillpattern": {
             "fillmode": "overlay",
             "size": 10,
             "solidity": 0.2
            },
            "type": "scatter"
           }
          ],
          "scatter3d": [
           {
            "line": {
             "colorbar": {
              "outlinewidth": 0,
              "ticks": ""
             }
            },
            "marker": {
             "colorbar": {
              "outlinewidth": 0,
              "ticks": ""
             }
            },
            "type": "scatter3d"
           }
          ],
          "scattercarpet": [
           {
            "marker": {
             "colorbar": {
              "outlinewidth": 0,
              "ticks": ""
             }
            },
            "type": "scattercarpet"
           }
          ],
          "scattergeo": [
           {
            "marker": {
             "colorbar": {
              "outlinewidth": 0,
              "ticks": ""
             }
            },
            "type": "scattergeo"
           }
          ],
          "scattergl": [
           {
            "marker": {
             "colorbar": {
              "outlinewidth": 0,
              "ticks": ""
             }
            },
            "type": "scattergl"
           }
          ],
          "scattermapbox": [
           {
            "marker": {
             "colorbar": {
              "outlinewidth": 0,
              "ticks": ""
             }
            },
            "type": "scattermapbox"
           }
          ],
          "scatterpolar": [
           {
            "marker": {
             "colorbar": {
              "outlinewidth": 0,
              "ticks": ""
             }
            },
            "type": "scatterpolar"
           }
          ],
          "scatterpolargl": [
           {
            "marker": {
             "colorbar": {
              "outlinewidth": 0,
              "ticks": ""
             }
            },
            "type": "scatterpolargl"
           }
          ],
          "scatterternary": [
           {
            "marker": {
             "colorbar": {
              "outlinewidth": 0,
              "ticks": ""
             }
            },
            "type": "scatterternary"
           }
          ],
          "surface": [
           {
            "colorbar": {
             "outlinewidth": 0,
             "ticks": ""
            },
            "colorscale": [
             [
              0,
              "#0d0887"
             ],
             [
              0.1111111111111111,
              "#46039f"
             ],
             [
              0.2222222222222222,
              "#7201a8"
             ],
             [
              0.3333333333333333,
              "#9c179e"
             ],
             [
              0.4444444444444444,
              "#bd3786"
             ],
             [
              0.5555555555555556,
              "#d8576b"
             ],
             [
              0.6666666666666666,
              "#ed7953"
             ],
             [
              0.7777777777777778,
              "#fb9f3a"
             ],
             [
              0.8888888888888888,
              "#fdca26"
             ],
             [
              1,
              "#f0f921"
             ]
            ],
            "type": "surface"
           }
          ],
          "table": [
           {
            "cells": {
             "fill": {
              "color": "#EBF0F8"
             },
             "line": {
              "color": "white"
             }
            },
            "header": {
             "fill": {
              "color": "#C8D4E3"
             },
             "line": {
              "color": "white"
             }
            },
            "type": "table"
           }
          ]
         },
         "layout": {
          "annotationdefaults": {
           "arrowcolor": "#2a3f5f",
           "arrowhead": 0,
           "arrowwidth": 1
          },
          "autotypenumbers": "strict",
          "coloraxis": {
           "colorbar": {
            "outlinewidth": 0,
            "ticks": ""
           }
          },
          "colorscale": {
           "diverging": [
            [
             0,
             "#8e0152"
            ],
            [
             0.1,
             "#c51b7d"
            ],
            [
             0.2,
             "#de77ae"
            ],
            [
             0.3,
             "#f1b6da"
            ],
            [
             0.4,
             "#fde0ef"
            ],
            [
             0.5,
             "#f7f7f7"
            ],
            [
             0.6,
             "#e6f5d0"
            ],
            [
             0.7,
             "#b8e186"
            ],
            [
             0.8,
             "#7fbc41"
            ],
            [
             0.9,
             "#4d9221"
            ],
            [
             1,
             "#276419"
            ]
           ],
           "sequential": [
            [
             0,
             "#0d0887"
            ],
            [
             0.1111111111111111,
             "#46039f"
            ],
            [
             0.2222222222222222,
             "#7201a8"
            ],
            [
             0.3333333333333333,
             "#9c179e"
            ],
            [
             0.4444444444444444,
             "#bd3786"
            ],
            [
             0.5555555555555556,
             "#d8576b"
            ],
            [
             0.6666666666666666,
             "#ed7953"
            ],
            [
             0.7777777777777778,
             "#fb9f3a"
            ],
            [
             0.8888888888888888,
             "#fdca26"
            ],
            [
             1,
             "#f0f921"
            ]
           ],
           "sequentialminus": [
            [
             0,
             "#0d0887"
            ],
            [
             0.1111111111111111,
             "#46039f"
            ],
            [
             0.2222222222222222,
             "#7201a8"
            ],
            [
             0.3333333333333333,
             "#9c179e"
            ],
            [
             0.4444444444444444,
             "#bd3786"
            ],
            [
             0.5555555555555556,
             "#d8576b"
            ],
            [
             0.6666666666666666,
             "#ed7953"
            ],
            [
             0.7777777777777778,
             "#fb9f3a"
            ],
            [
             0.8888888888888888,
             "#fdca26"
            ],
            [
             1,
             "#f0f921"
            ]
           ]
          },
          "colorway": [
           "#636efa",
           "#EF553B",
           "#00cc96",
           "#ab63fa",
           "#FFA15A",
           "#19d3f3",
           "#FF6692",
           "#B6E880",
           "#FF97FF",
           "#FECB52"
          ],
          "font": {
           "color": "#2a3f5f"
          },
          "geo": {
           "bgcolor": "white",
           "lakecolor": "white",
           "landcolor": "#E5ECF6",
           "showlakes": true,
           "showland": true,
           "subunitcolor": "white"
          },
          "hoverlabel": {
           "align": "left"
          },
          "hovermode": "closest",
          "mapbox": {
           "style": "light"
          },
          "paper_bgcolor": "white",
          "plot_bgcolor": "#E5ECF6",
          "polar": {
           "angularaxis": {
            "gridcolor": "white",
            "linecolor": "white",
            "ticks": ""
           },
           "bgcolor": "#E5ECF6",
           "radialaxis": {
            "gridcolor": "white",
            "linecolor": "white",
            "ticks": ""
           }
          },
          "scene": {
           "xaxis": {
            "backgroundcolor": "#E5ECF6",
            "gridcolor": "white",
            "gridwidth": 2,
            "linecolor": "white",
            "showbackground": true,
            "ticks": "",
            "zerolinecolor": "white"
           },
           "yaxis": {
            "backgroundcolor": "#E5ECF6",
            "gridcolor": "white",
            "gridwidth": 2,
            "linecolor": "white",
            "showbackground": true,
            "ticks": "",
            "zerolinecolor": "white"
           },
           "zaxis": {
            "backgroundcolor": "#E5ECF6",
            "gridcolor": "white",
            "gridwidth": 2,
            "linecolor": "white",
            "showbackground": true,
            "ticks": "",
            "zerolinecolor": "white"
           }
          },
          "shapedefaults": {
           "line": {
            "color": "#2a3f5f"
           }
          },
          "ternary": {
           "aaxis": {
            "gridcolor": "white",
            "linecolor": "white",
            "ticks": ""
           },
           "baxis": {
            "gridcolor": "white",
            "linecolor": "white",
            "ticks": ""
           },
           "bgcolor": "#E5ECF6",
           "caxis": {
            "gridcolor": "white",
            "linecolor": "white",
            "ticks": ""
           }
          },
          "title": {
           "x": 0.05
          },
          "xaxis": {
           "automargin": true,
           "gridcolor": "white",
           "linecolor": "white",
           "ticks": "",
           "title": {
            "standoff": 15
           },
           "zerolinecolor": "white",
           "zerolinewidth": 2
          },
          "yaxis": {
           "automargin": true,
           "gridcolor": "white",
           "linecolor": "white",
           "ticks": "",
           "title": {
            "standoff": 15
           },
           "zerolinecolor": "white",
           "zerolinewidth": 2
          }
         }
        },
        "title": {
         "font": {
          "color": "#4D5663"
         }
        },
        "xaxis": {
         "anchor": "y",
         "domain": [
          0,
          0.2125
         ],
         "gridcolor": "#E1E5ED",
         "showgrid": false,
         "tickfont": {
          "color": "#4D5663"
         },
         "title": {
          "font": {
           "color": "#4D5663"
          },
          "text": ""
         },
         "zerolinecolor": "#E1E5ED"
        },
        "xaxis10": {
         "anchor": "y10",
         "domain": [
          0.2625,
          0.475
         ],
         "gridcolor": "#E1E5ED",
         "showgrid": false,
         "tickfont": {
          "color": "#4D5663"
         },
         "title": {
          "font": {
           "color": "#4D5663"
          },
          "text": ""
         },
         "zerolinecolor": "#E1E5ED"
        },
        "xaxis11": {
         "anchor": "y11",
         "domain": [
          0.525,
          0.7375
         ],
         "gridcolor": "#E1E5ED",
         "showgrid": false,
         "tickfont": {
          "color": "#4D5663"
         },
         "title": {
          "font": {
           "color": "#4D5663"
          },
          "text": ""
         },
         "zerolinecolor": "#E1E5ED"
        },
        "xaxis12": {
         "anchor": "y12",
         "domain": [
          0.7875,
          1
         ],
         "gridcolor": "#E1E5ED",
         "showgrid": false,
         "tickfont": {
          "color": "#4D5663"
         },
         "title": {
          "font": {
           "color": "#4D5663"
          },
          "text": ""
         },
         "zerolinecolor": "#E1E5ED"
        },
        "xaxis13": {
         "anchor": "y13",
         "domain": [
          0,
          0.2125
         ],
         "gridcolor": "#E1E5ED",
         "showgrid": false,
         "tickfont": {
          "color": "#4D5663"
         },
         "title": {
          "font": {
           "color": "#4D5663"
          },
          "text": ""
         },
         "zerolinecolor": "#E1E5ED"
        },
        "xaxis14": {
         "anchor": "y14",
         "domain": [
          0.2625,
          0.475
         ],
         "gridcolor": "#E1E5ED",
         "showgrid": false,
         "tickfont": {
          "color": "#4D5663"
         },
         "title": {
          "font": {
           "color": "#4D5663"
          },
          "text": ""
         },
         "zerolinecolor": "#E1E5ED"
        },
        "xaxis15": {
         "anchor": "y15",
         "domain": [
          0.525,
          0.7375
         ],
         "gridcolor": "#E1E5ED",
         "showgrid": false,
         "tickfont": {
          "color": "#4D5663"
         },
         "title": {
          "font": {
           "color": "#4D5663"
          },
          "text": ""
         },
         "zerolinecolor": "#E1E5ED"
        },
        "xaxis16": {
         "anchor": "y16",
         "domain": [
          0.7875,
          1
         ],
         "gridcolor": "#E1E5ED",
         "showgrid": false,
         "tickfont": {
          "color": "#4D5663"
         },
         "title": {
          "font": {
           "color": "#4D5663"
          },
          "text": ""
         },
         "zerolinecolor": "#E1E5ED"
        },
        "xaxis2": {
         "anchor": "y2",
         "domain": [
          0.2625,
          0.475
         ],
         "gridcolor": "#E1E5ED",
         "showgrid": false,
         "tickfont": {
          "color": "#4D5663"
         },
         "title": {
          "font": {
           "color": "#4D5663"
          },
          "text": ""
         },
         "zerolinecolor": "#E1E5ED"
        },
        "xaxis3": {
         "anchor": "y3",
         "domain": [
          0.525,
          0.7375
         ],
         "gridcolor": "#E1E5ED",
         "showgrid": false,
         "tickfont": {
          "color": "#4D5663"
         },
         "title": {
          "font": {
           "color": "#4D5663"
          },
          "text": ""
         },
         "zerolinecolor": "#E1E5ED"
        },
        "xaxis4": {
         "anchor": "y4",
         "domain": [
          0.7875,
          1
         ],
         "gridcolor": "#E1E5ED",
         "showgrid": false,
         "tickfont": {
          "color": "#4D5663"
         },
         "title": {
          "font": {
           "color": "#4D5663"
          },
          "text": ""
         },
         "zerolinecolor": "#E1E5ED"
        },
        "xaxis5": {
         "anchor": "y5",
         "domain": [
          0,
          0.2125
         ],
         "gridcolor": "#E1E5ED",
         "showgrid": false,
         "tickfont": {
          "color": "#4D5663"
         },
         "title": {
          "font": {
           "color": "#4D5663"
          },
          "text": ""
         },
         "zerolinecolor": "#E1E5ED"
        },
        "xaxis6": {
         "anchor": "y6",
         "domain": [
          0.2625,
          0.475
         ],
         "gridcolor": "#E1E5ED",
         "showgrid": false,
         "tickfont": {
          "color": "#4D5663"
         },
         "title": {
          "font": {
           "color": "#4D5663"
          },
          "text": ""
         },
         "zerolinecolor": "#E1E5ED"
        },
        "xaxis7": {
         "anchor": "y7",
         "domain": [
          0.525,
          0.7375
         ],
         "gridcolor": "#E1E5ED",
         "showgrid": false,
         "tickfont": {
          "color": "#4D5663"
         },
         "title": {
          "font": {
           "color": "#4D5663"
          },
          "text": ""
         },
         "zerolinecolor": "#E1E5ED"
        },
        "xaxis8": {
         "anchor": "y8",
         "domain": [
          0.7875,
          1
         ],
         "gridcolor": "#E1E5ED",
         "showgrid": false,
         "tickfont": {
          "color": "#4D5663"
         },
         "title": {
          "font": {
           "color": "#4D5663"
          },
          "text": ""
         },
         "zerolinecolor": "#E1E5ED"
        },
        "xaxis9": {
         "anchor": "y9",
         "domain": [
          0,
          0.2125
         ],
         "gridcolor": "#E1E5ED",
         "showgrid": false,
         "tickfont": {
          "color": "#4D5663"
         },
         "title": {
          "font": {
           "color": "#4D5663"
          },
          "text": ""
         },
         "zerolinecolor": "#E1E5ED"
        },
        "yaxis": {
         "anchor": "x",
         "domain": [
          0.8025,
          1
         ],
         "gridcolor": "#E1E5ED",
         "showgrid": false,
         "tickfont": {
          "color": "#4D5663"
         },
         "title": {
          "font": {
           "color": "#4D5663"
          },
          "text": ""
         },
         "zerolinecolor": "#E1E5ED"
        },
        "yaxis10": {
         "anchor": "x10",
         "domain": [
          0.2675,
          0.465
         ],
         "gridcolor": "#E1E5ED",
         "showgrid": false,
         "tickfont": {
          "color": "#4D5663"
         },
         "title": {
          "font": {
           "color": "#4D5663"
          },
          "text": ""
         },
         "zerolinecolor": "#E1E5ED"
        },
        "yaxis11": {
         "anchor": "x11",
         "domain": [
          0.2675,
          0.465
         ],
         "gridcolor": "#E1E5ED",
         "showgrid": false,
         "tickfont": {
          "color": "#4D5663"
         },
         "title": {
          "font": {
           "color": "#4D5663"
          },
          "text": ""
         },
         "zerolinecolor": "#E1E5ED"
        },
        "yaxis12": {
         "anchor": "x12",
         "domain": [
          0.2675,
          0.465
         ],
         "gridcolor": "#E1E5ED",
         "showgrid": false,
         "tickfont": {
          "color": "#4D5663"
         },
         "title": {
          "font": {
           "color": "#4D5663"
          },
          "text": ""
         },
         "zerolinecolor": "#E1E5ED"
        },
        "yaxis13": {
         "anchor": "x13",
         "domain": [
          0,
          0.1975
         ],
         "gridcolor": "#E1E5ED",
         "showgrid": false,
         "tickfont": {
          "color": "#4D5663"
         },
         "title": {
          "font": {
           "color": "#4D5663"
          },
          "text": ""
         },
         "zerolinecolor": "#E1E5ED"
        },
        "yaxis14": {
         "anchor": "x14",
         "domain": [
          0,
          0.1975
         ],
         "gridcolor": "#E1E5ED",
         "showgrid": false,
         "tickfont": {
          "color": "#4D5663"
         },
         "title": {
          "font": {
           "color": "#4D5663"
          },
          "text": ""
         },
         "zerolinecolor": "#E1E5ED"
        },
        "yaxis15": {
         "anchor": "x15",
         "domain": [
          0,
          0.1975
         ],
         "gridcolor": "#E1E5ED",
         "showgrid": false,
         "tickfont": {
          "color": "#4D5663"
         },
         "title": {
          "font": {
           "color": "#4D5663"
          },
          "text": ""
         },
         "zerolinecolor": "#E1E5ED"
        },
        "yaxis16": {
         "anchor": "x16",
         "domain": [
          0,
          0.1975
         ],
         "gridcolor": "#E1E5ED",
         "showgrid": false,
         "tickfont": {
          "color": "#4D5663"
         },
         "title": {
          "font": {
           "color": "#4D5663"
          },
          "text": ""
         },
         "zerolinecolor": "#E1E5ED"
        },
        "yaxis2": {
         "anchor": "x2",
         "domain": [
          0.8025,
          1
         ],
         "gridcolor": "#E1E5ED",
         "showgrid": false,
         "tickfont": {
          "color": "#4D5663"
         },
         "title": {
          "font": {
           "color": "#4D5663"
          },
          "text": ""
         },
         "zerolinecolor": "#E1E5ED"
        },
        "yaxis3": {
         "anchor": "x3",
         "domain": [
          0.8025,
          1
         ],
         "gridcolor": "#E1E5ED",
         "showgrid": false,
         "tickfont": {
          "color": "#4D5663"
         },
         "title": {
          "font": {
           "color": "#4D5663"
          },
          "text": ""
         },
         "zerolinecolor": "#E1E5ED"
        },
        "yaxis4": {
         "anchor": "x4",
         "domain": [
          0.8025,
          1
         ],
         "gridcolor": "#E1E5ED",
         "showgrid": false,
         "tickfont": {
          "color": "#4D5663"
         },
         "title": {
          "font": {
           "color": "#4D5663"
          },
          "text": ""
         },
         "zerolinecolor": "#E1E5ED"
        },
        "yaxis5": {
         "anchor": "x5",
         "domain": [
          0.535,
          0.7325
         ],
         "gridcolor": "#E1E5ED",
         "showgrid": false,
         "tickfont": {
          "color": "#4D5663"
         },
         "title": {
          "font": {
           "color": "#4D5663"
          },
          "text": ""
         },
         "zerolinecolor": "#E1E5ED"
        },
        "yaxis6": {
         "anchor": "x6",
         "domain": [
          0.535,
          0.7325
         ],
         "gridcolor": "#E1E5ED",
         "showgrid": false,
         "tickfont": {
          "color": "#4D5663"
         },
         "title": {
          "font": {
           "color": "#4D5663"
          },
          "text": ""
         },
         "zerolinecolor": "#E1E5ED"
        },
        "yaxis7": {
         "anchor": "x7",
         "domain": [
          0.535,
          0.7325
         ],
         "gridcolor": "#E1E5ED",
         "showgrid": false,
         "tickfont": {
          "color": "#4D5663"
         },
         "title": {
          "font": {
           "color": "#4D5663"
          },
          "text": ""
         },
         "zerolinecolor": "#E1E5ED"
        },
        "yaxis8": {
         "anchor": "x8",
         "domain": [
          0.535,
          0.7325
         ],
         "gridcolor": "#E1E5ED",
         "showgrid": false,
         "tickfont": {
          "color": "#4D5663"
         },
         "title": {
          "font": {
           "color": "#4D5663"
          },
          "text": ""
         },
         "zerolinecolor": "#E1E5ED"
        },
        "yaxis9": {
         "anchor": "x9",
         "domain": [
          0.2675,
          0.465
         ],
         "gridcolor": "#E1E5ED",
         "showgrid": false,
         "tickfont": {
          "color": "#4D5663"
         },
         "title": {
          "font": {
           "color": "#4D5663"
          },
          "text": ""
         },
         "zerolinecolor": "#E1E5ED"
        }
       }
      },
      "text/html": [
       "<div>                            <div id=\"b9b517af-7b4c-4505-a85c-944d014fd2dc\" class=\"plotly-graph-div\" style=\"height:525px; width:100%;\"></div>            <script type=\"text/javascript\">                require([\"plotly\"], function(Plotly) {                    window.PLOTLYENV=window.PLOTLYENV || {};\n",
       "                    window.PLOTLYENV.BASE_URL='https://plot.ly';                                    if (document.getElementById(\"b9b517af-7b4c-4505-a85c-944d014fd2dc\")) {                    Plotly.newPlot(                        \"b9b517af-7b4c-4505-a85c-944d014fd2dc\",                        [{\"histfunc\":\"count\",\"histnorm\":\"\",\"marker\":{\"color\":\"rgba(255, 153, 51, 1.0)\",\"line\":{\"color\":\"#4D5663\",\"width\":1.3}},\"name\":\"A\",\"nbinsx\":10,\"opacity\":0.8,\"orientation\":\"v\",\"x\":[0.7564148323989057,-0.7823269068609948,-0.6679174325975421,0.7235504577605787,0.6763583983443798,1.6113674312227713,0.3252015273144834,0.09745320106895272,1.0649772116322407,-0.7859675316540942,0.08690115585301378,0.9124025065812114,1.3087334560716568,1.4912116709568073,0.29323517954194406,0.5629978990864077,-0.17696272403977917,0.7202519868531352,-0.4472416619570027,-0.660042052378561,-0.4397720161985938,0.36183913297429054,0.1906764296882429,0.27408170227575673,0.1628582735776629,0.5419999037348392,0.32244203981230574,-1.2923184092498095,-0.009592358103626993,-0.23483095390226533,0.18411729182079248,-0.1852600830234388,0.8368833908066343,1.6994622242236421,0.649640777805914,1.5448735980291246,1.6270987436436612,0.4542284041676613,-0.4339774915395808,0.30665794494472826,-3.0884024397121084,0.3451163531976607,0.6613568430139521,1.3718747343032527,-1.285891701134262,-0.8783682945663221,1.4174311776154207,-0.6249606412129409,-0.5342037438274139,-0.307321938309405,-2.2111762025380677,0.117896763562164,1.9426338686747864,1.0168105624881245,0.3869886209354972,-0.8659122284321883,-0.11578510886853562,-1.1044854111223756,-0.287017688548948,0.26941239292262464,-0.7721015839501733,0.08547677454955224,0.7253610559010434,0.7161489578101378,0.5128370699212017,-1.7628809336520286,0.16456924899681624,0.0594714216728452,0.3365873177762397,0.8803056482467614,-0.5938200363087336,0.6800430927857745,0.3235617112715458,0.422123778250071,-0.6941982779585049,-0.8762368200842747,-0.9242598560469263,-0.9583537917768091,-1.0755751128260154,0.43081351893442565,-1.6547441309159239,-0.1884358000165739,1.253583356296939,-1.1401442981765864,-0.6320394030275134,0.010293848187346874,-0.3772064178610946,0.8921343285996494,0.14347786896033332,-1.1206987434644389,0.8955106344603044,-1.042340672290424,-0.7800271391209364,-0.5450798609737193,-0.49155899434435724,0.08785907358821855,1.0182645649729956,0.19540175660096615,0.9465171960423777,-1.6119347742049708],\"xaxis\":\"x\",\"yaxis\":\"y\",\"type\":\"histogram\"},{\"line\":{\"color\":\"rgba(128, 128, 128, 1.0)\",\"dash\":\"solid\",\"shape\":\"linear\",\"width\":1.3},\"marker\":{\"size\":2,\"symbol\":\"circle\"},\"mode\":\"markers\",\"name\":\"A\",\"text\":\"\",\"x\":[-0.7202641597043901,1.6111205987959558,-1.4045100480600723,-0.2305213090636333,0.09197263343256602,0.45650077090452507,-0.6090188815380735,-0.5309964497803003,-1.2141722737221585,0.3212170216275696,0.828923518012042,-0.00933759673273959,-0.8335054288748508,-0.22221466515421448,0.04137618145202107,0.17951244762335802,-1.2696099673173946,0.5169171178129851,0.5065825166155579,1.8727156509898149,-0.5946116913527016,-0.22748976950221245,1.4451419764392834,0.8734901467478385,0.08935941642291524,0.29568606105209533,-0.32030634026059673,-1.6041681395208156,0.028851909646146416,1.1615069704693648,1.3514765080377995,-0.4202353106446499,-0.4143726260211676,-1.7417579765985356,-0.6273257368167466,1.8605844366345645,0.7252898789669653,0.21722302774247051,0.6588080497650206,1.827701914229741,-1.3562021106860425,-1.6458974264261332,-1.890046325987327,0.5737985522903889,0.3349639343196755,-0.2275114335122723,0.45931782624536954,0.6009662483616324,-1.7640307386103249,-0.9698541623961516,0.5199410633750858,0.9722666787904833,1.1787911690208148,1.8889928269480079,0.1566215641713116,-0.6081716736322273,-1.9602317892889807,1.2965973839107108,0.7159400166046389,0.4104977037587753,0.7680084938921184,0.9102155990867794,1.4943969050212076,-1.1648035311483567,-1.8230587897093773,-0.4858606905365588,-1.342820546572071,1.1537637404540777,1.366678250402521,0.39291878057448937,-0.15295787191672727,-0.6164898683069034,-0.5028267703717849,-2.7191095485107715,0.43783276284416356,-0.7997778310334515,-0.11487376829842402,-1.260999076134505,0.11399726686639165,0.2452984918996693,0.030593204208160456,-0.2251417106641021,-0.38244207641083616,0.5386447328890802,-0.15681869059494968,-0.05021440734054216,-0.7789516064974458,-0.15034282374484073,-0.3131345538869527,1.774215079269531,0.9865362990987013,1.8749138989827594,0.37332922832157256,-1.6426544840578008,-0.3729810561155604,0.4118726167714622,1.029847585474093,0.8452000799540336,-0.7562889275417679,-1.2211260855955912],\"xaxis\":\"x2\",\"y\":[0.7564148323989057,-0.7823269068609948,-0.6679174325975421,0.7235504577605787,0.6763583983443798,1.6113674312227713,0.3252015273144834,0.09745320106895272,1.0649772116322407,-0.7859675316540942,0.08690115585301378,0.9124025065812114,1.3087334560716568,1.4912116709568073,0.29323517954194406,0.5629978990864077,-0.17696272403977917,0.7202519868531352,-0.4472416619570027,-0.660042052378561,-0.4397720161985938,0.36183913297429054,0.1906764296882429,0.27408170227575673,0.1628582735776629,0.5419999037348392,0.32244203981230574,-1.2923184092498095,-0.009592358103626993,-0.23483095390226533,0.18411729182079248,-0.1852600830234388,0.8368833908066343,1.6994622242236421,0.649640777805914,1.5448735980291246,1.6270987436436612,0.4542284041676613,-0.4339774915395808,0.30665794494472826,-3.0884024397121084,0.3451163531976607,0.6613568430139521,1.3718747343032527,-1.285891701134262,-0.8783682945663221,1.4174311776154207,-0.6249606412129409,-0.5342037438274139,-0.307321938309405,-2.2111762025380677,0.117896763562164,1.9426338686747864,1.0168105624881245,0.3869886209354972,-0.8659122284321883,-0.11578510886853562,-1.1044854111223756,-0.287017688548948,0.26941239292262464,-0.7721015839501733,0.08547677454955224,0.7253610559010434,0.7161489578101378,0.5128370699212017,-1.7628809336520286,0.16456924899681624,0.0594714216728452,0.3365873177762397,0.8803056482467614,-0.5938200363087336,0.6800430927857745,0.3235617112715458,0.422123778250071,-0.6941982779585049,-0.8762368200842747,-0.9242598560469263,-0.9583537917768091,-1.0755751128260154,0.43081351893442565,-1.6547441309159239,-0.1884358000165739,1.253583356296939,-1.1401442981765864,-0.6320394030275134,0.010293848187346874,-0.3772064178610946,0.8921343285996494,0.14347786896033332,-1.1206987434644389,0.8955106344603044,-1.042340672290424,-0.7800271391209364,-0.5450798609737193,-0.49155899434435724,0.08785907358821855,1.0182645649729956,0.19540175660096615,0.9465171960423777,-1.6119347742049708],\"yaxis\":\"y2\",\"type\":\"scatter\"},{\"line\":{\"color\":\"rgba(128, 128, 128, 1.0)\",\"dash\":\"solid\",\"shape\":\"linear\",\"width\":1.3},\"marker\":{\"size\":2,\"symbol\":\"circle\"},\"mode\":\"markers\",\"name\":\"A\",\"text\":\"\",\"x\":[-0.03702877339300592,1.2331533142400917,-0.07801796479441349,-0.7022272834484142,0.16055904048652556,0.6929775355441083,-1.1449585593341554,0.40135645324400365,-0.889659903514935,0.38452554129214334,-0.2974578249115507,0.5731119993941826,0.4696251624142449,-1.5016012050161727,0.9943453955463964,-0.31305809335522206,-0.7892174106875199,0.3970078958743742,0.5714551589461301,-1.2066921358074794,-0.03916757553491572,0.23398654419873882,-0.28626344026281697,0.4439016799270692,-0.7991734907578689,0.7881738846112302,0.6379973315075914,-1.2830615123765934,1.6882900489987276,0.8266803198098865,0.2419021321773128,0.06775806315874908,-0.9970942772691014,0.05186019900237702,-0.18617515656074715,-0.5500921313908232,0.8579128652098441,-0.5116745793291424,0.30172082956830354,-0.5142601512813955,-0.420210836594552,0.17003545771266135,-1.9983573113151523,1.7740554152108934,-0.6638565827752227,-0.8297814245822754,-0.708663491298998,0.28522687857953893,-0.9506172941009644,-0.9739444326745847,0.5959920182834592,-0.3730617083924842,-0.9395409108533466,0.3953506978580014,0.7354822350294352,-0.0561228057421114,1.5304477807925632,-0.9172322879097585,0.45105690524118264,-0.47166247399874434,1.9374194002871825,-1.2826167144649756,0.28127733865751,1.2133772280926907,0.9105399864905382,2.6737388260590977,1.5537777593044229,-1.6042838907765453,-0.21635330257050345,0.14297271198687375,-0.41236779964503906,0.9398706840773439,1.6353543625830789,-0.841009031316667,0.937751206446483,-0.19736424892746166,0.1324504360304438,-0.06596259590925552,1.5055524764575179,-1.0957502313993932,-1.106030877978789,0.4852737804914742,0.8552865262140152,-0.08584910479123904,-0.7136330802812939,-0.5872515162723292,0.4589158663294076,0.585492152852584,-0.46661448830111424,0.5473780607940563,0.3548314533758728,0.10120052546689835,0.47244966968598817,-0.6211724569824977,1.2702029090922695,-1.801943386303626,-0.3977648442931152,0.5305927196043201,-0.8318740959515525,-0.0999865483109285],\"xaxis\":\"x3\",\"y\":[0.7564148323989057,-0.7823269068609948,-0.6679174325975421,0.7235504577605787,0.6763583983443798,1.6113674312227713,0.3252015273144834,0.09745320106895272,1.0649772116322407,-0.7859675316540942,0.08690115585301378,0.9124025065812114,1.3087334560716568,1.4912116709568073,0.29323517954194406,0.5629978990864077,-0.17696272403977917,0.7202519868531352,-0.4472416619570027,-0.660042052378561,-0.4397720161985938,0.36183913297429054,0.1906764296882429,0.27408170227575673,0.1628582735776629,0.5419999037348392,0.32244203981230574,-1.2923184092498095,-0.009592358103626993,-0.23483095390226533,0.18411729182079248,-0.1852600830234388,0.8368833908066343,1.6994622242236421,0.649640777805914,1.5448735980291246,1.6270987436436612,0.4542284041676613,-0.4339774915395808,0.30665794494472826,-3.0884024397121084,0.3451163531976607,0.6613568430139521,1.3718747343032527,-1.285891701134262,-0.8783682945663221,1.4174311776154207,-0.6249606412129409,-0.5342037438274139,-0.307321938309405,-2.2111762025380677,0.117896763562164,1.9426338686747864,1.0168105624881245,0.3869886209354972,-0.8659122284321883,-0.11578510886853562,-1.1044854111223756,-0.287017688548948,0.26941239292262464,-0.7721015839501733,0.08547677454955224,0.7253610559010434,0.7161489578101378,0.5128370699212017,-1.7628809336520286,0.16456924899681624,0.0594714216728452,0.3365873177762397,0.8803056482467614,-0.5938200363087336,0.6800430927857745,0.3235617112715458,0.422123778250071,-0.6941982779585049,-0.8762368200842747,-0.9242598560469263,-0.9583537917768091,-1.0755751128260154,0.43081351893442565,-1.6547441309159239,-0.1884358000165739,1.253583356296939,-1.1401442981765864,-0.6320394030275134,0.010293848187346874,-0.3772064178610946,0.8921343285996494,0.14347786896033332,-1.1206987434644389,0.8955106344603044,-1.042340672290424,-0.7800271391209364,-0.5450798609737193,-0.49155899434435724,0.08785907358821855,1.0182645649729956,0.19540175660096615,0.9465171960423777,-1.6119347742049708],\"yaxis\":\"y3\",\"type\":\"scatter\"},{\"line\":{\"color\":\"rgba(128, 128, 128, 1.0)\",\"dash\":\"solid\",\"shape\":\"linear\",\"width\":1.3},\"marker\":{\"size\":2,\"symbol\":\"circle\"},\"mode\":\"markers\",\"name\":\"A\",\"text\":\"\",\"x\":[-0.8734490919449758,-0.6377165182152058,-0.9347398277176195,0.5406399529890071,1.341173967904742,0.41387998070743537,0.5537218267039099,1.1467377881568175,-0.3911521227294417,0.032938045468640875,0.21360681464061274,0.574292242304888,-0.058072042531966635,-0.5856505706098373,-0.14173900106861057,0.41192650711160295,-0.19085476467479195,-1.308603853535363,-0.031867599813434594,1.0738654245537662,3.388810624441809,0.9351645918281237,0.21556793789102505,-0.25270809218800333,-0.7421025237070608,-1.5762235008352279,1.574517541342876,0.5985193109908948,0.09785221855150467,-0.8939627568218563,-0.9114314007148135,-0.7852927743123335,0.09539761403913215,-1.3273030823342173,-0.42856470672001673,0.552020456198069,-1.174373095441438,2.2563731583912756,-1.2037301297350371,0.9807112255372464,-1.1235948900923094,1.7670965259683982,-0.17021676615415063,-1.8333956792458719,-0.9382658499497022,-1.1894448769715698,1.1097280235427942,-0.05285747126028578,0.2662053187286402,0.9641926838169147,0.49708149119080225,1.3355327415526494,0.7959244674162735,0.25908089060661355,-0.7709957797796189,-1.8867996732239452,1.6007369716116406,0.22346676721610725,-0.25709166669861605,-0.6126254873783411,0.3379494556326407,1.7238715109014708,-1.6342016111857502,-1.8054209648457757,0.0057656863266193695,0.5807572429887081,-0.24084930158420273,0.46339495964105354,-0.7274227579627042,-0.5908781317043639,1.5807677607461796,0.28292144157482824,-1.2048725161584564,1.3186367045540346,-0.9044688174167138,0.543196625595008,2.3159964110839013,1.277936910956555,0.7186612173467221,-0.45685369846256685,-0.3179223952427716,-1.0765462891961397,0.36217185983351236,0.6181520195982304,-0.737585726286838,0.27036714038230936,0.12241782704649012,-0.9196487723647185,0.2629775652016023,1.7955012830654227,1.0460540868648192,0.2397550091957434,-0.22248193491512402,1.5417903540225741,-1.1513077965149632,-0.32730940498417577,-0.6269467248298358,0.44257361476171037,1.3999372607169542,0.06443005050411026],\"xaxis\":\"x4\",\"y\":[0.7564148323989057,-0.7823269068609948,-0.6679174325975421,0.7235504577605787,0.6763583983443798,1.6113674312227713,0.3252015273144834,0.09745320106895272,1.0649772116322407,-0.7859675316540942,0.08690115585301378,0.9124025065812114,1.3087334560716568,1.4912116709568073,0.29323517954194406,0.5629978990864077,-0.17696272403977917,0.7202519868531352,-0.4472416619570027,-0.660042052378561,-0.4397720161985938,0.36183913297429054,0.1906764296882429,0.27408170227575673,0.1628582735776629,0.5419999037348392,0.32244203981230574,-1.2923184092498095,-0.009592358103626993,-0.23483095390226533,0.18411729182079248,-0.1852600830234388,0.8368833908066343,1.6994622242236421,0.649640777805914,1.5448735980291246,1.6270987436436612,0.4542284041676613,-0.4339774915395808,0.30665794494472826,-3.0884024397121084,0.3451163531976607,0.6613568430139521,1.3718747343032527,-1.285891701134262,-0.8783682945663221,1.4174311776154207,-0.6249606412129409,-0.5342037438274139,-0.307321938309405,-2.2111762025380677,0.117896763562164,1.9426338686747864,1.0168105624881245,0.3869886209354972,-0.8659122284321883,-0.11578510886853562,-1.1044854111223756,-0.287017688548948,0.26941239292262464,-0.7721015839501733,0.08547677454955224,0.7253610559010434,0.7161489578101378,0.5128370699212017,-1.7628809336520286,0.16456924899681624,0.0594714216728452,0.3365873177762397,0.8803056482467614,-0.5938200363087336,0.6800430927857745,0.3235617112715458,0.422123778250071,-0.6941982779585049,-0.8762368200842747,-0.9242598560469263,-0.9583537917768091,-1.0755751128260154,0.43081351893442565,-1.6547441309159239,-0.1884358000165739,1.253583356296939,-1.1401442981765864,-0.6320394030275134,0.010293848187346874,-0.3772064178610946,0.8921343285996494,0.14347786896033332,-1.1206987434644389,0.8955106344603044,-1.042340672290424,-0.7800271391209364,-0.5450798609737193,-0.49155899434435724,0.08785907358821855,1.0182645649729956,0.19540175660096615,0.9465171960423777,-1.6119347742049708],\"yaxis\":\"y4\",\"type\":\"scatter\"},{\"line\":{\"color\":\"rgba(128, 128, 128, 1.0)\",\"dash\":\"solid\",\"shape\":\"linear\",\"width\":1.3},\"marker\":{\"size\":2,\"symbol\":\"circle\"},\"mode\":\"markers\",\"name\":\"B\",\"text\":\"\",\"x\":[0.7564148323989057,-0.7823269068609948,-0.6679174325975421,0.7235504577605787,0.6763583983443798,1.6113674312227713,0.3252015273144834,0.09745320106895272,1.0649772116322407,-0.7859675316540942,0.08690115585301378,0.9124025065812114,1.3087334560716568,1.4912116709568073,0.29323517954194406,0.5629978990864077,-0.17696272403977917,0.7202519868531352,-0.4472416619570027,-0.660042052378561,-0.4397720161985938,0.36183913297429054,0.1906764296882429,0.27408170227575673,0.1628582735776629,0.5419999037348392,0.32244203981230574,-1.2923184092498095,-0.009592358103626993,-0.23483095390226533,0.18411729182079248,-0.1852600830234388,0.8368833908066343,1.6994622242236421,0.649640777805914,1.5448735980291246,1.6270987436436612,0.4542284041676613,-0.4339774915395808,0.30665794494472826,-3.0884024397121084,0.3451163531976607,0.6613568430139521,1.3718747343032527,-1.285891701134262,-0.8783682945663221,1.4174311776154207,-0.6249606412129409,-0.5342037438274139,-0.307321938309405,-2.2111762025380677,0.117896763562164,1.9426338686747864,1.0168105624881245,0.3869886209354972,-0.8659122284321883,-0.11578510886853562,-1.1044854111223756,-0.287017688548948,0.26941239292262464,-0.7721015839501733,0.08547677454955224,0.7253610559010434,0.7161489578101378,0.5128370699212017,-1.7628809336520286,0.16456924899681624,0.0594714216728452,0.3365873177762397,0.8803056482467614,-0.5938200363087336,0.6800430927857745,0.3235617112715458,0.422123778250071,-0.6941982779585049,-0.8762368200842747,-0.9242598560469263,-0.9583537917768091,-1.0755751128260154,0.43081351893442565,-1.6547441309159239,-0.1884358000165739,1.253583356296939,-1.1401442981765864,-0.6320394030275134,0.010293848187346874,-0.3772064178610946,0.8921343285996494,0.14347786896033332,-1.1206987434644389,0.8955106344603044,-1.042340672290424,-0.7800271391209364,-0.5450798609737193,-0.49155899434435724,0.08785907358821855,1.0182645649729956,0.19540175660096615,0.9465171960423777,-1.6119347742049708],\"xaxis\":\"x5\",\"y\":[-0.7202641597043901,1.6111205987959558,-1.4045100480600723,-0.2305213090636333,0.09197263343256602,0.45650077090452507,-0.6090188815380735,-0.5309964497803003,-1.2141722737221585,0.3212170216275696,0.828923518012042,-0.00933759673273959,-0.8335054288748508,-0.22221466515421448,0.04137618145202107,0.17951244762335802,-1.2696099673173946,0.5169171178129851,0.5065825166155579,1.8727156509898149,-0.5946116913527016,-0.22748976950221245,1.4451419764392834,0.8734901467478385,0.08935941642291524,0.29568606105209533,-0.32030634026059673,-1.6041681395208156,0.028851909646146416,1.1615069704693648,1.3514765080377995,-0.4202353106446499,-0.4143726260211676,-1.7417579765985356,-0.6273257368167466,1.8605844366345645,0.7252898789669653,0.21722302774247051,0.6588080497650206,1.827701914229741,-1.3562021106860425,-1.6458974264261332,-1.890046325987327,0.5737985522903889,0.3349639343196755,-0.2275114335122723,0.45931782624536954,0.6009662483616324,-1.7640307386103249,-0.9698541623961516,0.5199410633750858,0.9722666787904833,1.1787911690208148,1.8889928269480079,0.1566215641713116,-0.6081716736322273,-1.9602317892889807,1.2965973839107108,0.7159400166046389,0.4104977037587753,0.7680084938921184,0.9102155990867794,1.4943969050212076,-1.1648035311483567,-1.8230587897093773,-0.4858606905365588,-1.342820546572071,1.1537637404540777,1.366678250402521,0.39291878057448937,-0.15295787191672727,-0.6164898683069034,-0.5028267703717849,-2.7191095485107715,0.43783276284416356,-0.7997778310334515,-0.11487376829842402,-1.260999076134505,0.11399726686639165,0.2452984918996693,0.030593204208160456,-0.2251417106641021,-0.38244207641083616,0.5386447328890802,-0.15681869059494968,-0.05021440734054216,-0.7789516064974458,-0.15034282374484073,-0.3131345538869527,1.774215079269531,0.9865362990987013,1.8749138989827594,0.37332922832157256,-1.6426544840578008,-0.3729810561155604,0.4118726167714622,1.029847585474093,0.8452000799540336,-0.7562889275417679,-1.2211260855955912],\"yaxis\":\"y5\",\"type\":\"scatter\"},{\"histfunc\":\"count\",\"histnorm\":\"\",\"marker\":{\"color\":\"rgba(55, 128, 191, 1.0)\",\"line\":{\"color\":\"#4D5663\",\"width\":1.3}},\"name\":\"B\",\"nbinsx\":10,\"opacity\":0.8,\"orientation\":\"v\",\"x\":[-0.7202641597043901,1.6111205987959558,-1.4045100480600723,-0.2305213090636333,0.09197263343256602,0.45650077090452507,-0.6090188815380735,-0.5309964497803003,-1.2141722737221585,0.3212170216275696,0.828923518012042,-0.00933759673273959,-0.8335054288748508,-0.22221466515421448,0.04137618145202107,0.17951244762335802,-1.2696099673173946,0.5169171178129851,0.5065825166155579,1.8727156509898149,-0.5946116913527016,-0.22748976950221245,1.4451419764392834,0.8734901467478385,0.08935941642291524,0.29568606105209533,-0.32030634026059673,-1.6041681395208156,0.028851909646146416,1.1615069704693648,1.3514765080377995,-0.4202353106446499,-0.4143726260211676,-1.7417579765985356,-0.6273257368167466,1.8605844366345645,0.7252898789669653,0.21722302774247051,0.6588080497650206,1.827701914229741,-1.3562021106860425,-1.6458974264261332,-1.890046325987327,0.5737985522903889,0.3349639343196755,-0.2275114335122723,0.45931782624536954,0.6009662483616324,-1.7640307386103249,-0.9698541623961516,0.5199410633750858,0.9722666787904833,1.1787911690208148,1.8889928269480079,0.1566215641713116,-0.6081716736322273,-1.9602317892889807,1.2965973839107108,0.7159400166046389,0.4104977037587753,0.7680084938921184,0.9102155990867794,1.4943969050212076,-1.1648035311483567,-1.8230587897093773,-0.4858606905365588,-1.342820546572071,1.1537637404540777,1.366678250402521,0.39291878057448937,-0.15295787191672727,-0.6164898683069034,-0.5028267703717849,-2.7191095485107715,0.43783276284416356,-0.7997778310334515,-0.11487376829842402,-1.260999076134505,0.11399726686639165,0.2452984918996693,0.030593204208160456,-0.2251417106641021,-0.38244207641083616,0.5386447328890802,-0.15681869059494968,-0.05021440734054216,-0.7789516064974458,-0.15034282374484073,-0.3131345538869527,1.774215079269531,0.9865362990987013,1.8749138989827594,0.37332922832157256,-1.6426544840578008,-0.3729810561155604,0.4118726167714622,1.029847585474093,0.8452000799540336,-0.7562889275417679,-1.2211260855955912],\"xaxis\":\"x6\",\"yaxis\":\"y6\",\"type\":\"histogram\"},{\"line\":{\"color\":\"rgba(128, 128, 128, 1.0)\",\"dash\":\"solid\",\"shape\":\"linear\",\"width\":1.3},\"marker\":{\"size\":2,\"symbol\":\"circle\"},\"mode\":\"markers\",\"name\":\"B\",\"text\":\"\",\"x\":[-0.03702877339300592,1.2331533142400917,-0.07801796479441349,-0.7022272834484142,0.16055904048652556,0.6929775355441083,-1.1449585593341554,0.40135645324400365,-0.889659903514935,0.38452554129214334,-0.2974578249115507,0.5731119993941826,0.4696251624142449,-1.5016012050161727,0.9943453955463964,-0.31305809335522206,-0.7892174106875199,0.3970078958743742,0.5714551589461301,-1.2066921358074794,-0.03916757553491572,0.23398654419873882,-0.28626344026281697,0.4439016799270692,-0.7991734907578689,0.7881738846112302,0.6379973315075914,-1.2830615123765934,1.6882900489987276,0.8266803198098865,0.2419021321773128,0.06775806315874908,-0.9970942772691014,0.05186019900237702,-0.18617515656074715,-0.5500921313908232,0.8579128652098441,-0.5116745793291424,0.30172082956830354,-0.5142601512813955,-0.420210836594552,0.17003545771266135,-1.9983573113151523,1.7740554152108934,-0.6638565827752227,-0.8297814245822754,-0.708663491298998,0.28522687857953893,-0.9506172941009644,-0.9739444326745847,0.5959920182834592,-0.3730617083924842,-0.9395409108533466,0.3953506978580014,0.7354822350294352,-0.0561228057421114,1.5304477807925632,-0.9172322879097585,0.45105690524118264,-0.47166247399874434,1.9374194002871825,-1.2826167144649756,0.28127733865751,1.2133772280926907,0.9105399864905382,2.6737388260590977,1.5537777593044229,-1.6042838907765453,-0.21635330257050345,0.14297271198687375,-0.41236779964503906,0.9398706840773439,1.6353543625830789,-0.841009031316667,0.937751206446483,-0.19736424892746166,0.1324504360304438,-0.06596259590925552,1.5055524764575179,-1.0957502313993932,-1.106030877978789,0.4852737804914742,0.8552865262140152,-0.08584910479123904,-0.7136330802812939,-0.5872515162723292,0.4589158663294076,0.585492152852584,-0.46661448830111424,0.5473780607940563,0.3548314533758728,0.10120052546689835,0.47244966968598817,-0.6211724569824977,1.2702029090922695,-1.801943386303626,-0.3977648442931152,0.5305927196043201,-0.8318740959515525,-0.0999865483109285],\"xaxis\":\"x7\",\"y\":[-0.7202641597043901,1.6111205987959558,-1.4045100480600723,-0.2305213090636333,0.09197263343256602,0.45650077090452507,-0.6090188815380735,-0.5309964497803003,-1.2141722737221585,0.3212170216275696,0.828923518012042,-0.00933759673273959,-0.8335054288748508,-0.22221466515421448,0.04137618145202107,0.17951244762335802,-1.2696099673173946,0.5169171178129851,0.5065825166155579,1.8727156509898149,-0.5946116913527016,-0.22748976950221245,1.4451419764392834,0.8734901467478385,0.08935941642291524,0.29568606105209533,-0.32030634026059673,-1.6041681395208156,0.028851909646146416,1.1615069704693648,1.3514765080377995,-0.4202353106446499,-0.4143726260211676,-1.7417579765985356,-0.6273257368167466,1.8605844366345645,0.7252898789669653,0.21722302774247051,0.6588080497650206,1.827701914229741,-1.3562021106860425,-1.6458974264261332,-1.890046325987327,0.5737985522903889,0.3349639343196755,-0.2275114335122723,0.45931782624536954,0.6009662483616324,-1.7640307386103249,-0.9698541623961516,0.5199410633750858,0.9722666787904833,1.1787911690208148,1.8889928269480079,0.1566215641713116,-0.6081716736322273,-1.9602317892889807,1.2965973839107108,0.7159400166046389,0.4104977037587753,0.7680084938921184,0.9102155990867794,1.4943969050212076,-1.1648035311483567,-1.8230587897093773,-0.4858606905365588,-1.342820546572071,1.1537637404540777,1.366678250402521,0.39291878057448937,-0.15295787191672727,-0.6164898683069034,-0.5028267703717849,-2.7191095485107715,0.43783276284416356,-0.7997778310334515,-0.11487376829842402,-1.260999076134505,0.11399726686639165,0.2452984918996693,0.030593204208160456,-0.2251417106641021,-0.38244207641083616,0.5386447328890802,-0.15681869059494968,-0.05021440734054216,-0.7789516064974458,-0.15034282374484073,-0.3131345538869527,1.774215079269531,0.9865362990987013,1.8749138989827594,0.37332922832157256,-1.6426544840578008,-0.3729810561155604,0.4118726167714622,1.029847585474093,0.8452000799540336,-0.7562889275417679,-1.2211260855955912],\"yaxis\":\"y7\",\"type\":\"scatter\"},{\"line\":{\"color\":\"rgba(128, 128, 128, 1.0)\",\"dash\":\"solid\",\"shape\":\"linear\",\"width\":1.3},\"marker\":{\"size\":2,\"symbol\":\"circle\"},\"mode\":\"markers\",\"name\":\"B\",\"text\":\"\",\"x\":[-0.8734490919449758,-0.6377165182152058,-0.9347398277176195,0.5406399529890071,1.341173967904742,0.41387998070743537,0.5537218267039099,1.1467377881568175,-0.3911521227294417,0.032938045468640875,0.21360681464061274,0.574292242304888,-0.058072042531966635,-0.5856505706098373,-0.14173900106861057,0.41192650711160295,-0.19085476467479195,-1.308603853535363,-0.031867599813434594,1.0738654245537662,3.388810624441809,0.9351645918281237,0.21556793789102505,-0.25270809218800333,-0.7421025237070608,-1.5762235008352279,1.574517541342876,0.5985193109908948,0.09785221855150467,-0.8939627568218563,-0.9114314007148135,-0.7852927743123335,0.09539761403913215,-1.3273030823342173,-0.42856470672001673,0.552020456198069,-1.174373095441438,2.2563731583912756,-1.2037301297350371,0.9807112255372464,-1.1235948900923094,1.7670965259683982,-0.17021676615415063,-1.8333956792458719,-0.9382658499497022,-1.1894448769715698,1.1097280235427942,-0.05285747126028578,0.2662053187286402,0.9641926838169147,0.49708149119080225,1.3355327415526494,0.7959244674162735,0.25908089060661355,-0.7709957797796189,-1.8867996732239452,1.6007369716116406,0.22346676721610725,-0.25709166669861605,-0.6126254873783411,0.3379494556326407,1.7238715109014708,-1.6342016111857502,-1.8054209648457757,0.0057656863266193695,0.5807572429887081,-0.24084930158420273,0.46339495964105354,-0.7274227579627042,-0.5908781317043639,1.5807677607461796,0.28292144157482824,-1.2048725161584564,1.3186367045540346,-0.9044688174167138,0.543196625595008,2.3159964110839013,1.277936910956555,0.7186612173467221,-0.45685369846256685,-0.3179223952427716,-1.0765462891961397,0.36217185983351236,0.6181520195982304,-0.737585726286838,0.27036714038230936,0.12241782704649012,-0.9196487723647185,0.2629775652016023,1.7955012830654227,1.0460540868648192,0.2397550091957434,-0.22248193491512402,1.5417903540225741,-1.1513077965149632,-0.32730940498417577,-0.6269467248298358,0.44257361476171037,1.3999372607169542,0.06443005050411026],\"xaxis\":\"x8\",\"y\":[-0.7202641597043901,1.6111205987959558,-1.4045100480600723,-0.2305213090636333,0.09197263343256602,0.45650077090452507,-0.6090188815380735,-0.5309964497803003,-1.2141722737221585,0.3212170216275696,0.828923518012042,-0.00933759673273959,-0.8335054288748508,-0.22221466515421448,0.04137618145202107,0.17951244762335802,-1.2696099673173946,0.5169171178129851,0.5065825166155579,1.8727156509898149,-0.5946116913527016,-0.22748976950221245,1.4451419764392834,0.8734901467478385,0.08935941642291524,0.29568606105209533,-0.32030634026059673,-1.6041681395208156,0.028851909646146416,1.1615069704693648,1.3514765080377995,-0.4202353106446499,-0.4143726260211676,-1.7417579765985356,-0.6273257368167466,1.8605844366345645,0.7252898789669653,0.21722302774247051,0.6588080497650206,1.827701914229741,-1.3562021106860425,-1.6458974264261332,-1.890046325987327,0.5737985522903889,0.3349639343196755,-0.2275114335122723,0.45931782624536954,0.6009662483616324,-1.7640307386103249,-0.9698541623961516,0.5199410633750858,0.9722666787904833,1.1787911690208148,1.8889928269480079,0.1566215641713116,-0.6081716736322273,-1.9602317892889807,1.2965973839107108,0.7159400166046389,0.4104977037587753,0.7680084938921184,0.9102155990867794,1.4943969050212076,-1.1648035311483567,-1.8230587897093773,-0.4858606905365588,-1.342820546572071,1.1537637404540777,1.366678250402521,0.39291878057448937,-0.15295787191672727,-0.6164898683069034,-0.5028267703717849,-2.7191095485107715,0.43783276284416356,-0.7997778310334515,-0.11487376829842402,-1.260999076134505,0.11399726686639165,0.2452984918996693,0.030593204208160456,-0.2251417106641021,-0.38244207641083616,0.5386447328890802,-0.15681869059494968,-0.05021440734054216,-0.7789516064974458,-0.15034282374484073,-0.3131345538869527,1.774215079269531,0.9865362990987013,1.8749138989827594,0.37332922832157256,-1.6426544840578008,-0.3729810561155604,0.4118726167714622,1.029847585474093,0.8452000799540336,-0.7562889275417679,-1.2211260855955912],\"yaxis\":\"y8\",\"type\":\"scatter\"},{\"line\":{\"color\":\"rgba(128, 128, 128, 1.0)\",\"dash\":\"solid\",\"shape\":\"linear\",\"width\":1.3},\"marker\":{\"size\":2,\"symbol\":\"circle\"},\"mode\":\"markers\",\"name\":\"C\",\"text\":\"\",\"x\":[0.7564148323989057,-0.7823269068609948,-0.6679174325975421,0.7235504577605787,0.6763583983443798,1.6113674312227713,0.3252015273144834,0.09745320106895272,1.0649772116322407,-0.7859675316540942,0.08690115585301378,0.9124025065812114,1.3087334560716568,1.4912116709568073,0.29323517954194406,0.5629978990864077,-0.17696272403977917,0.7202519868531352,-0.4472416619570027,-0.660042052378561,-0.4397720161985938,0.36183913297429054,0.1906764296882429,0.27408170227575673,0.1628582735776629,0.5419999037348392,0.32244203981230574,-1.2923184092498095,-0.009592358103626993,-0.23483095390226533,0.18411729182079248,-0.1852600830234388,0.8368833908066343,1.6994622242236421,0.649640777805914,1.5448735980291246,1.6270987436436612,0.4542284041676613,-0.4339774915395808,0.30665794494472826,-3.0884024397121084,0.3451163531976607,0.6613568430139521,1.3718747343032527,-1.285891701134262,-0.8783682945663221,1.4174311776154207,-0.6249606412129409,-0.5342037438274139,-0.307321938309405,-2.2111762025380677,0.117896763562164,1.9426338686747864,1.0168105624881245,0.3869886209354972,-0.8659122284321883,-0.11578510886853562,-1.1044854111223756,-0.287017688548948,0.26941239292262464,-0.7721015839501733,0.08547677454955224,0.7253610559010434,0.7161489578101378,0.5128370699212017,-1.7628809336520286,0.16456924899681624,0.0594714216728452,0.3365873177762397,0.8803056482467614,-0.5938200363087336,0.6800430927857745,0.3235617112715458,0.422123778250071,-0.6941982779585049,-0.8762368200842747,-0.9242598560469263,-0.9583537917768091,-1.0755751128260154,0.43081351893442565,-1.6547441309159239,-0.1884358000165739,1.253583356296939,-1.1401442981765864,-0.6320394030275134,0.010293848187346874,-0.3772064178610946,0.8921343285996494,0.14347786896033332,-1.1206987434644389,0.8955106344603044,-1.042340672290424,-0.7800271391209364,-0.5450798609737193,-0.49155899434435724,0.08785907358821855,1.0182645649729956,0.19540175660096615,0.9465171960423777,-1.6119347742049708],\"xaxis\":\"x9\",\"y\":[-0.03702877339300592,1.2331533142400917,-0.07801796479441349,-0.7022272834484142,0.16055904048652556,0.6929775355441083,-1.1449585593341554,0.40135645324400365,-0.889659903514935,0.38452554129214334,-0.2974578249115507,0.5731119993941826,0.4696251624142449,-1.5016012050161727,0.9943453955463964,-0.31305809335522206,-0.7892174106875199,0.3970078958743742,0.5714551589461301,-1.2066921358074794,-0.03916757553491572,0.23398654419873882,-0.28626344026281697,0.4439016799270692,-0.7991734907578689,0.7881738846112302,0.6379973315075914,-1.2830615123765934,1.6882900489987276,0.8266803198098865,0.2419021321773128,0.06775806315874908,-0.9970942772691014,0.05186019900237702,-0.18617515656074715,-0.5500921313908232,0.8579128652098441,-0.5116745793291424,0.30172082956830354,-0.5142601512813955,-0.420210836594552,0.17003545771266135,-1.9983573113151523,1.7740554152108934,-0.6638565827752227,-0.8297814245822754,-0.708663491298998,0.28522687857953893,-0.9506172941009644,-0.9739444326745847,0.5959920182834592,-0.3730617083924842,-0.9395409108533466,0.3953506978580014,0.7354822350294352,-0.0561228057421114,1.5304477807925632,-0.9172322879097585,0.45105690524118264,-0.47166247399874434,1.9374194002871825,-1.2826167144649756,0.28127733865751,1.2133772280926907,0.9105399864905382,2.6737388260590977,1.5537777593044229,-1.6042838907765453,-0.21635330257050345,0.14297271198687375,-0.41236779964503906,0.9398706840773439,1.6353543625830789,-0.841009031316667,0.937751206446483,-0.19736424892746166,0.1324504360304438,-0.06596259590925552,1.5055524764575179,-1.0957502313993932,-1.106030877978789,0.4852737804914742,0.8552865262140152,-0.08584910479123904,-0.7136330802812939,-0.5872515162723292,0.4589158663294076,0.585492152852584,-0.46661448830111424,0.5473780607940563,0.3548314533758728,0.10120052546689835,0.47244966968598817,-0.6211724569824977,1.2702029090922695,-1.801943386303626,-0.3977648442931152,0.5305927196043201,-0.8318740959515525,-0.0999865483109285],\"yaxis\":\"y9\",\"type\":\"scatter\"},{\"line\":{\"color\":\"rgba(128, 128, 128, 1.0)\",\"dash\":\"solid\",\"shape\":\"linear\",\"width\":1.3},\"marker\":{\"size\":2,\"symbol\":\"circle\"},\"mode\":\"markers\",\"name\":\"C\",\"text\":\"\",\"x\":[-0.7202641597043901,1.6111205987959558,-1.4045100480600723,-0.2305213090636333,0.09197263343256602,0.45650077090452507,-0.6090188815380735,-0.5309964497803003,-1.2141722737221585,0.3212170216275696,0.828923518012042,-0.00933759673273959,-0.8335054288748508,-0.22221466515421448,0.04137618145202107,0.17951244762335802,-1.2696099673173946,0.5169171178129851,0.5065825166155579,1.8727156509898149,-0.5946116913527016,-0.22748976950221245,1.4451419764392834,0.8734901467478385,0.08935941642291524,0.29568606105209533,-0.32030634026059673,-1.6041681395208156,0.028851909646146416,1.1615069704693648,1.3514765080377995,-0.4202353106446499,-0.4143726260211676,-1.7417579765985356,-0.6273257368167466,1.8605844366345645,0.7252898789669653,0.21722302774247051,0.6588080497650206,1.827701914229741,-1.3562021106860425,-1.6458974264261332,-1.890046325987327,0.5737985522903889,0.3349639343196755,-0.2275114335122723,0.45931782624536954,0.6009662483616324,-1.7640307386103249,-0.9698541623961516,0.5199410633750858,0.9722666787904833,1.1787911690208148,1.8889928269480079,0.1566215641713116,-0.6081716736322273,-1.9602317892889807,1.2965973839107108,0.7159400166046389,0.4104977037587753,0.7680084938921184,0.9102155990867794,1.4943969050212076,-1.1648035311483567,-1.8230587897093773,-0.4858606905365588,-1.342820546572071,1.1537637404540777,1.366678250402521,0.39291878057448937,-0.15295787191672727,-0.6164898683069034,-0.5028267703717849,-2.7191095485107715,0.43783276284416356,-0.7997778310334515,-0.11487376829842402,-1.260999076134505,0.11399726686639165,0.2452984918996693,0.030593204208160456,-0.2251417106641021,-0.38244207641083616,0.5386447328890802,-0.15681869059494968,-0.05021440734054216,-0.7789516064974458,-0.15034282374484073,-0.3131345538869527,1.774215079269531,0.9865362990987013,1.8749138989827594,0.37332922832157256,-1.6426544840578008,-0.3729810561155604,0.4118726167714622,1.029847585474093,0.8452000799540336,-0.7562889275417679,-1.2211260855955912],\"xaxis\":\"x10\",\"y\":[-0.03702877339300592,1.2331533142400917,-0.07801796479441349,-0.7022272834484142,0.16055904048652556,0.6929775355441083,-1.1449585593341554,0.40135645324400365,-0.889659903514935,0.38452554129214334,-0.2974578249115507,0.5731119993941826,0.4696251624142449,-1.5016012050161727,0.9943453955463964,-0.31305809335522206,-0.7892174106875199,0.3970078958743742,0.5714551589461301,-1.2066921358074794,-0.03916757553491572,0.23398654419873882,-0.28626344026281697,0.4439016799270692,-0.7991734907578689,0.7881738846112302,0.6379973315075914,-1.2830615123765934,1.6882900489987276,0.8266803198098865,0.2419021321773128,0.06775806315874908,-0.9970942772691014,0.05186019900237702,-0.18617515656074715,-0.5500921313908232,0.8579128652098441,-0.5116745793291424,0.30172082956830354,-0.5142601512813955,-0.420210836594552,0.17003545771266135,-1.9983573113151523,1.7740554152108934,-0.6638565827752227,-0.8297814245822754,-0.708663491298998,0.28522687857953893,-0.9506172941009644,-0.9739444326745847,0.5959920182834592,-0.3730617083924842,-0.9395409108533466,0.3953506978580014,0.7354822350294352,-0.0561228057421114,1.5304477807925632,-0.9172322879097585,0.45105690524118264,-0.47166247399874434,1.9374194002871825,-1.2826167144649756,0.28127733865751,1.2133772280926907,0.9105399864905382,2.6737388260590977,1.5537777593044229,-1.6042838907765453,-0.21635330257050345,0.14297271198687375,-0.41236779964503906,0.9398706840773439,1.6353543625830789,-0.841009031316667,0.937751206446483,-0.19736424892746166,0.1324504360304438,-0.06596259590925552,1.5055524764575179,-1.0957502313993932,-1.106030877978789,0.4852737804914742,0.8552865262140152,-0.08584910479123904,-0.7136330802812939,-0.5872515162723292,0.4589158663294076,0.585492152852584,-0.46661448830111424,0.5473780607940563,0.3548314533758728,0.10120052546689835,0.47244966968598817,-0.6211724569824977,1.2702029090922695,-1.801943386303626,-0.3977648442931152,0.5305927196043201,-0.8318740959515525,-0.0999865483109285],\"yaxis\":\"y10\",\"type\":\"scatter\"},{\"histfunc\":\"count\",\"histnorm\":\"\",\"marker\":{\"color\":\"rgba(50, 171, 96, 1.0)\",\"line\":{\"color\":\"#4D5663\",\"width\":1.3}},\"name\":\"C\",\"nbinsx\":10,\"opacity\":0.8,\"orientation\":\"v\",\"x\":[-0.03702877339300592,1.2331533142400917,-0.07801796479441349,-0.7022272834484142,0.16055904048652556,0.6929775355441083,-1.1449585593341554,0.40135645324400365,-0.889659903514935,0.38452554129214334,-0.2974578249115507,0.5731119993941826,0.4696251624142449,-1.5016012050161727,0.9943453955463964,-0.31305809335522206,-0.7892174106875199,0.3970078958743742,0.5714551589461301,-1.2066921358074794,-0.03916757553491572,0.23398654419873882,-0.28626344026281697,0.4439016799270692,-0.7991734907578689,0.7881738846112302,0.6379973315075914,-1.2830615123765934,1.6882900489987276,0.8266803198098865,0.2419021321773128,0.06775806315874908,-0.9970942772691014,0.05186019900237702,-0.18617515656074715,-0.5500921313908232,0.8579128652098441,-0.5116745793291424,0.30172082956830354,-0.5142601512813955,-0.420210836594552,0.17003545771266135,-1.9983573113151523,1.7740554152108934,-0.6638565827752227,-0.8297814245822754,-0.708663491298998,0.28522687857953893,-0.9506172941009644,-0.9739444326745847,0.5959920182834592,-0.3730617083924842,-0.9395409108533466,0.3953506978580014,0.7354822350294352,-0.0561228057421114,1.5304477807925632,-0.9172322879097585,0.45105690524118264,-0.47166247399874434,1.9374194002871825,-1.2826167144649756,0.28127733865751,1.2133772280926907,0.9105399864905382,2.6737388260590977,1.5537777593044229,-1.6042838907765453,-0.21635330257050345,0.14297271198687375,-0.41236779964503906,0.9398706840773439,1.6353543625830789,-0.841009031316667,0.937751206446483,-0.19736424892746166,0.1324504360304438,-0.06596259590925552,1.5055524764575179,-1.0957502313993932,-1.106030877978789,0.4852737804914742,0.8552865262140152,-0.08584910479123904,-0.7136330802812939,-0.5872515162723292,0.4589158663294076,0.585492152852584,-0.46661448830111424,0.5473780607940563,0.3548314533758728,0.10120052546689835,0.47244966968598817,-0.6211724569824977,1.2702029090922695,-1.801943386303626,-0.3977648442931152,0.5305927196043201,-0.8318740959515525,-0.0999865483109285],\"xaxis\":\"x11\",\"yaxis\":\"y11\",\"type\":\"histogram\"},{\"line\":{\"color\":\"rgba(128, 128, 128, 1.0)\",\"dash\":\"solid\",\"shape\":\"linear\",\"width\":1.3},\"marker\":{\"size\":2,\"symbol\":\"circle\"},\"mode\":\"markers\",\"name\":\"C\",\"text\":\"\",\"x\":[-0.8734490919449758,-0.6377165182152058,-0.9347398277176195,0.5406399529890071,1.341173967904742,0.41387998070743537,0.5537218267039099,1.1467377881568175,-0.3911521227294417,0.032938045468640875,0.21360681464061274,0.574292242304888,-0.058072042531966635,-0.5856505706098373,-0.14173900106861057,0.41192650711160295,-0.19085476467479195,-1.308603853535363,-0.031867599813434594,1.0738654245537662,3.388810624441809,0.9351645918281237,0.21556793789102505,-0.25270809218800333,-0.7421025237070608,-1.5762235008352279,1.574517541342876,0.5985193109908948,0.09785221855150467,-0.8939627568218563,-0.9114314007148135,-0.7852927743123335,0.09539761403913215,-1.3273030823342173,-0.42856470672001673,0.552020456198069,-1.174373095441438,2.2563731583912756,-1.2037301297350371,0.9807112255372464,-1.1235948900923094,1.7670965259683982,-0.17021676615415063,-1.8333956792458719,-0.9382658499497022,-1.1894448769715698,1.1097280235427942,-0.05285747126028578,0.2662053187286402,0.9641926838169147,0.49708149119080225,1.3355327415526494,0.7959244674162735,0.25908089060661355,-0.7709957797796189,-1.8867996732239452,1.6007369716116406,0.22346676721610725,-0.25709166669861605,-0.6126254873783411,0.3379494556326407,1.7238715109014708,-1.6342016111857502,-1.8054209648457757,0.0057656863266193695,0.5807572429887081,-0.24084930158420273,0.46339495964105354,-0.7274227579627042,-0.5908781317043639,1.5807677607461796,0.28292144157482824,-1.2048725161584564,1.3186367045540346,-0.9044688174167138,0.543196625595008,2.3159964110839013,1.277936910956555,0.7186612173467221,-0.45685369846256685,-0.3179223952427716,-1.0765462891961397,0.36217185983351236,0.6181520195982304,-0.737585726286838,0.27036714038230936,0.12241782704649012,-0.9196487723647185,0.2629775652016023,1.7955012830654227,1.0460540868648192,0.2397550091957434,-0.22248193491512402,1.5417903540225741,-1.1513077965149632,-0.32730940498417577,-0.6269467248298358,0.44257361476171037,1.3999372607169542,0.06443005050411026],\"xaxis\":\"x12\",\"y\":[-0.03702877339300592,1.2331533142400917,-0.07801796479441349,-0.7022272834484142,0.16055904048652556,0.6929775355441083,-1.1449585593341554,0.40135645324400365,-0.889659903514935,0.38452554129214334,-0.2974578249115507,0.5731119993941826,0.4696251624142449,-1.5016012050161727,0.9943453955463964,-0.31305809335522206,-0.7892174106875199,0.3970078958743742,0.5714551589461301,-1.2066921358074794,-0.03916757553491572,0.23398654419873882,-0.28626344026281697,0.4439016799270692,-0.7991734907578689,0.7881738846112302,0.6379973315075914,-1.2830615123765934,1.6882900489987276,0.8266803198098865,0.2419021321773128,0.06775806315874908,-0.9970942772691014,0.05186019900237702,-0.18617515656074715,-0.5500921313908232,0.8579128652098441,-0.5116745793291424,0.30172082956830354,-0.5142601512813955,-0.420210836594552,0.17003545771266135,-1.9983573113151523,1.7740554152108934,-0.6638565827752227,-0.8297814245822754,-0.708663491298998,0.28522687857953893,-0.9506172941009644,-0.9739444326745847,0.5959920182834592,-0.3730617083924842,-0.9395409108533466,0.3953506978580014,0.7354822350294352,-0.0561228057421114,1.5304477807925632,-0.9172322879097585,0.45105690524118264,-0.47166247399874434,1.9374194002871825,-1.2826167144649756,0.28127733865751,1.2133772280926907,0.9105399864905382,2.6737388260590977,1.5537777593044229,-1.6042838907765453,-0.21635330257050345,0.14297271198687375,-0.41236779964503906,0.9398706840773439,1.6353543625830789,-0.841009031316667,0.937751206446483,-0.19736424892746166,0.1324504360304438,-0.06596259590925552,1.5055524764575179,-1.0957502313993932,-1.106030877978789,0.4852737804914742,0.8552865262140152,-0.08584910479123904,-0.7136330802812939,-0.5872515162723292,0.4589158663294076,0.585492152852584,-0.46661448830111424,0.5473780607940563,0.3548314533758728,0.10120052546689835,0.47244966968598817,-0.6211724569824977,1.2702029090922695,-1.801943386303626,-0.3977648442931152,0.5305927196043201,-0.8318740959515525,-0.0999865483109285],\"yaxis\":\"y12\",\"type\":\"scatter\"},{\"line\":{\"color\":\"rgba(128, 128, 128, 1.0)\",\"dash\":\"solid\",\"shape\":\"linear\",\"width\":1.3},\"marker\":{\"size\":2,\"symbol\":\"circle\"},\"mode\":\"markers\",\"name\":\"D\",\"text\":\"\",\"x\":[0.7564148323989057,-0.7823269068609948,-0.6679174325975421,0.7235504577605787,0.6763583983443798,1.6113674312227713,0.3252015273144834,0.09745320106895272,1.0649772116322407,-0.7859675316540942,0.08690115585301378,0.9124025065812114,1.3087334560716568,1.4912116709568073,0.29323517954194406,0.5629978990864077,-0.17696272403977917,0.7202519868531352,-0.4472416619570027,-0.660042052378561,-0.4397720161985938,0.36183913297429054,0.1906764296882429,0.27408170227575673,0.1628582735776629,0.5419999037348392,0.32244203981230574,-1.2923184092498095,-0.009592358103626993,-0.23483095390226533,0.18411729182079248,-0.1852600830234388,0.8368833908066343,1.6994622242236421,0.649640777805914,1.5448735980291246,1.6270987436436612,0.4542284041676613,-0.4339774915395808,0.30665794494472826,-3.0884024397121084,0.3451163531976607,0.6613568430139521,1.3718747343032527,-1.285891701134262,-0.8783682945663221,1.4174311776154207,-0.6249606412129409,-0.5342037438274139,-0.307321938309405,-2.2111762025380677,0.117896763562164,1.9426338686747864,1.0168105624881245,0.3869886209354972,-0.8659122284321883,-0.11578510886853562,-1.1044854111223756,-0.287017688548948,0.26941239292262464,-0.7721015839501733,0.08547677454955224,0.7253610559010434,0.7161489578101378,0.5128370699212017,-1.7628809336520286,0.16456924899681624,0.0594714216728452,0.3365873177762397,0.8803056482467614,-0.5938200363087336,0.6800430927857745,0.3235617112715458,0.422123778250071,-0.6941982779585049,-0.8762368200842747,-0.9242598560469263,-0.9583537917768091,-1.0755751128260154,0.43081351893442565,-1.6547441309159239,-0.1884358000165739,1.253583356296939,-1.1401442981765864,-0.6320394030275134,0.010293848187346874,-0.3772064178610946,0.8921343285996494,0.14347786896033332,-1.1206987434644389,0.8955106344603044,-1.042340672290424,-0.7800271391209364,-0.5450798609737193,-0.49155899434435724,0.08785907358821855,1.0182645649729956,0.19540175660096615,0.9465171960423777,-1.6119347742049708],\"xaxis\":\"x13\",\"y\":[-0.8734490919449758,-0.6377165182152058,-0.9347398277176195,0.5406399529890071,1.341173967904742,0.41387998070743537,0.5537218267039099,1.1467377881568175,-0.3911521227294417,0.032938045468640875,0.21360681464061274,0.574292242304888,-0.058072042531966635,-0.5856505706098373,-0.14173900106861057,0.41192650711160295,-0.19085476467479195,-1.308603853535363,-0.031867599813434594,1.0738654245537662,3.388810624441809,0.9351645918281237,0.21556793789102505,-0.25270809218800333,-0.7421025237070608,-1.5762235008352279,1.574517541342876,0.5985193109908948,0.09785221855150467,-0.8939627568218563,-0.9114314007148135,-0.7852927743123335,0.09539761403913215,-1.3273030823342173,-0.42856470672001673,0.552020456198069,-1.174373095441438,2.2563731583912756,-1.2037301297350371,0.9807112255372464,-1.1235948900923094,1.7670965259683982,-0.17021676615415063,-1.8333956792458719,-0.9382658499497022,-1.1894448769715698,1.1097280235427942,-0.05285747126028578,0.2662053187286402,0.9641926838169147,0.49708149119080225,1.3355327415526494,0.7959244674162735,0.25908089060661355,-0.7709957797796189,-1.8867996732239452,1.6007369716116406,0.22346676721610725,-0.25709166669861605,-0.6126254873783411,0.3379494556326407,1.7238715109014708,-1.6342016111857502,-1.8054209648457757,0.0057656863266193695,0.5807572429887081,-0.24084930158420273,0.46339495964105354,-0.7274227579627042,-0.5908781317043639,1.5807677607461796,0.28292144157482824,-1.2048725161584564,1.3186367045540346,-0.9044688174167138,0.543196625595008,2.3159964110839013,1.277936910956555,0.7186612173467221,-0.45685369846256685,-0.3179223952427716,-1.0765462891961397,0.36217185983351236,0.6181520195982304,-0.737585726286838,0.27036714038230936,0.12241782704649012,-0.9196487723647185,0.2629775652016023,1.7955012830654227,1.0460540868648192,0.2397550091957434,-0.22248193491512402,1.5417903540225741,-1.1513077965149632,-0.32730940498417577,-0.6269467248298358,0.44257361476171037,1.3999372607169542,0.06443005050411026],\"yaxis\":\"y13\",\"type\":\"scatter\"},{\"line\":{\"color\":\"rgba(128, 128, 128, 1.0)\",\"dash\":\"solid\",\"shape\":\"linear\",\"width\":1.3},\"marker\":{\"size\":2,\"symbol\":\"circle\"},\"mode\":\"markers\",\"name\":\"D\",\"text\":\"\",\"x\":[-0.7202641597043901,1.6111205987959558,-1.4045100480600723,-0.2305213090636333,0.09197263343256602,0.45650077090452507,-0.6090188815380735,-0.5309964497803003,-1.2141722737221585,0.3212170216275696,0.828923518012042,-0.00933759673273959,-0.8335054288748508,-0.22221466515421448,0.04137618145202107,0.17951244762335802,-1.2696099673173946,0.5169171178129851,0.5065825166155579,1.8727156509898149,-0.5946116913527016,-0.22748976950221245,1.4451419764392834,0.8734901467478385,0.08935941642291524,0.29568606105209533,-0.32030634026059673,-1.6041681395208156,0.028851909646146416,1.1615069704693648,1.3514765080377995,-0.4202353106446499,-0.4143726260211676,-1.7417579765985356,-0.6273257368167466,1.8605844366345645,0.7252898789669653,0.21722302774247051,0.6588080497650206,1.827701914229741,-1.3562021106860425,-1.6458974264261332,-1.890046325987327,0.5737985522903889,0.3349639343196755,-0.2275114335122723,0.45931782624536954,0.6009662483616324,-1.7640307386103249,-0.9698541623961516,0.5199410633750858,0.9722666787904833,1.1787911690208148,1.8889928269480079,0.1566215641713116,-0.6081716736322273,-1.9602317892889807,1.2965973839107108,0.7159400166046389,0.4104977037587753,0.7680084938921184,0.9102155990867794,1.4943969050212076,-1.1648035311483567,-1.8230587897093773,-0.4858606905365588,-1.342820546572071,1.1537637404540777,1.366678250402521,0.39291878057448937,-0.15295787191672727,-0.6164898683069034,-0.5028267703717849,-2.7191095485107715,0.43783276284416356,-0.7997778310334515,-0.11487376829842402,-1.260999076134505,0.11399726686639165,0.2452984918996693,0.030593204208160456,-0.2251417106641021,-0.38244207641083616,0.5386447328890802,-0.15681869059494968,-0.05021440734054216,-0.7789516064974458,-0.15034282374484073,-0.3131345538869527,1.774215079269531,0.9865362990987013,1.8749138989827594,0.37332922832157256,-1.6426544840578008,-0.3729810561155604,0.4118726167714622,1.029847585474093,0.8452000799540336,-0.7562889275417679,-1.2211260855955912],\"xaxis\":\"x14\",\"y\":[-0.8734490919449758,-0.6377165182152058,-0.9347398277176195,0.5406399529890071,1.341173967904742,0.41387998070743537,0.5537218267039099,1.1467377881568175,-0.3911521227294417,0.032938045468640875,0.21360681464061274,0.574292242304888,-0.058072042531966635,-0.5856505706098373,-0.14173900106861057,0.41192650711160295,-0.19085476467479195,-1.308603853535363,-0.031867599813434594,1.0738654245537662,3.388810624441809,0.9351645918281237,0.21556793789102505,-0.25270809218800333,-0.7421025237070608,-1.5762235008352279,1.574517541342876,0.5985193109908948,0.09785221855150467,-0.8939627568218563,-0.9114314007148135,-0.7852927743123335,0.09539761403913215,-1.3273030823342173,-0.42856470672001673,0.552020456198069,-1.174373095441438,2.2563731583912756,-1.2037301297350371,0.9807112255372464,-1.1235948900923094,1.7670965259683982,-0.17021676615415063,-1.8333956792458719,-0.9382658499497022,-1.1894448769715698,1.1097280235427942,-0.05285747126028578,0.2662053187286402,0.9641926838169147,0.49708149119080225,1.3355327415526494,0.7959244674162735,0.25908089060661355,-0.7709957797796189,-1.8867996732239452,1.6007369716116406,0.22346676721610725,-0.25709166669861605,-0.6126254873783411,0.3379494556326407,1.7238715109014708,-1.6342016111857502,-1.8054209648457757,0.0057656863266193695,0.5807572429887081,-0.24084930158420273,0.46339495964105354,-0.7274227579627042,-0.5908781317043639,1.5807677607461796,0.28292144157482824,-1.2048725161584564,1.3186367045540346,-0.9044688174167138,0.543196625595008,2.3159964110839013,1.277936910956555,0.7186612173467221,-0.45685369846256685,-0.3179223952427716,-1.0765462891961397,0.36217185983351236,0.6181520195982304,-0.737585726286838,0.27036714038230936,0.12241782704649012,-0.9196487723647185,0.2629775652016023,1.7955012830654227,1.0460540868648192,0.2397550091957434,-0.22248193491512402,1.5417903540225741,-1.1513077965149632,-0.32730940498417577,-0.6269467248298358,0.44257361476171037,1.3999372607169542,0.06443005050411026],\"yaxis\":\"y14\",\"type\":\"scatter\"},{\"line\":{\"color\":\"rgba(128, 128, 128, 1.0)\",\"dash\":\"solid\",\"shape\":\"linear\",\"width\":1.3},\"marker\":{\"size\":2,\"symbol\":\"circle\"},\"mode\":\"markers\",\"name\":\"D\",\"text\":\"\",\"x\":[-0.03702877339300592,1.2331533142400917,-0.07801796479441349,-0.7022272834484142,0.16055904048652556,0.6929775355441083,-1.1449585593341554,0.40135645324400365,-0.889659903514935,0.38452554129214334,-0.2974578249115507,0.5731119993941826,0.4696251624142449,-1.5016012050161727,0.9943453955463964,-0.31305809335522206,-0.7892174106875199,0.3970078958743742,0.5714551589461301,-1.2066921358074794,-0.03916757553491572,0.23398654419873882,-0.28626344026281697,0.4439016799270692,-0.7991734907578689,0.7881738846112302,0.6379973315075914,-1.2830615123765934,1.6882900489987276,0.8266803198098865,0.2419021321773128,0.06775806315874908,-0.9970942772691014,0.05186019900237702,-0.18617515656074715,-0.5500921313908232,0.8579128652098441,-0.5116745793291424,0.30172082956830354,-0.5142601512813955,-0.420210836594552,0.17003545771266135,-1.9983573113151523,1.7740554152108934,-0.6638565827752227,-0.8297814245822754,-0.708663491298998,0.28522687857953893,-0.9506172941009644,-0.9739444326745847,0.5959920182834592,-0.3730617083924842,-0.9395409108533466,0.3953506978580014,0.7354822350294352,-0.0561228057421114,1.5304477807925632,-0.9172322879097585,0.45105690524118264,-0.47166247399874434,1.9374194002871825,-1.2826167144649756,0.28127733865751,1.2133772280926907,0.9105399864905382,2.6737388260590977,1.5537777593044229,-1.6042838907765453,-0.21635330257050345,0.14297271198687375,-0.41236779964503906,0.9398706840773439,1.6353543625830789,-0.841009031316667,0.937751206446483,-0.19736424892746166,0.1324504360304438,-0.06596259590925552,1.5055524764575179,-1.0957502313993932,-1.106030877978789,0.4852737804914742,0.8552865262140152,-0.08584910479123904,-0.7136330802812939,-0.5872515162723292,0.4589158663294076,0.585492152852584,-0.46661448830111424,0.5473780607940563,0.3548314533758728,0.10120052546689835,0.47244966968598817,-0.6211724569824977,1.2702029090922695,-1.801943386303626,-0.3977648442931152,0.5305927196043201,-0.8318740959515525,-0.0999865483109285],\"xaxis\":\"x15\",\"y\":[-0.8734490919449758,-0.6377165182152058,-0.9347398277176195,0.5406399529890071,1.341173967904742,0.41387998070743537,0.5537218267039099,1.1467377881568175,-0.3911521227294417,0.032938045468640875,0.21360681464061274,0.574292242304888,-0.058072042531966635,-0.5856505706098373,-0.14173900106861057,0.41192650711160295,-0.19085476467479195,-1.308603853535363,-0.031867599813434594,1.0738654245537662,3.388810624441809,0.9351645918281237,0.21556793789102505,-0.25270809218800333,-0.7421025237070608,-1.5762235008352279,1.574517541342876,0.5985193109908948,0.09785221855150467,-0.8939627568218563,-0.9114314007148135,-0.7852927743123335,0.09539761403913215,-1.3273030823342173,-0.42856470672001673,0.552020456198069,-1.174373095441438,2.2563731583912756,-1.2037301297350371,0.9807112255372464,-1.1235948900923094,1.7670965259683982,-0.17021676615415063,-1.8333956792458719,-0.9382658499497022,-1.1894448769715698,1.1097280235427942,-0.05285747126028578,0.2662053187286402,0.9641926838169147,0.49708149119080225,1.3355327415526494,0.7959244674162735,0.25908089060661355,-0.7709957797796189,-1.8867996732239452,1.6007369716116406,0.22346676721610725,-0.25709166669861605,-0.6126254873783411,0.3379494556326407,1.7238715109014708,-1.6342016111857502,-1.8054209648457757,0.0057656863266193695,0.5807572429887081,-0.24084930158420273,0.46339495964105354,-0.7274227579627042,-0.5908781317043639,1.5807677607461796,0.28292144157482824,-1.2048725161584564,1.3186367045540346,-0.9044688174167138,0.543196625595008,2.3159964110839013,1.277936910956555,0.7186612173467221,-0.45685369846256685,-0.3179223952427716,-1.0765462891961397,0.36217185983351236,0.6181520195982304,-0.737585726286838,0.27036714038230936,0.12241782704649012,-0.9196487723647185,0.2629775652016023,1.7955012830654227,1.0460540868648192,0.2397550091957434,-0.22248193491512402,1.5417903540225741,-1.1513077965149632,-0.32730940498417577,-0.6269467248298358,0.44257361476171037,1.3999372607169542,0.06443005050411026],\"yaxis\":\"y15\",\"type\":\"scatter\"},{\"histfunc\":\"count\",\"histnorm\":\"\",\"marker\":{\"color\":\"rgba(128, 0, 128, 1.0)\",\"line\":{\"color\":\"#4D5663\",\"width\":1.3}},\"name\":\"D\",\"nbinsx\":10,\"opacity\":0.8,\"orientation\":\"v\",\"x\":[-0.8734490919449758,-0.6377165182152058,-0.9347398277176195,0.5406399529890071,1.341173967904742,0.41387998070743537,0.5537218267039099,1.1467377881568175,-0.3911521227294417,0.032938045468640875,0.21360681464061274,0.574292242304888,-0.058072042531966635,-0.5856505706098373,-0.14173900106861057,0.41192650711160295,-0.19085476467479195,-1.308603853535363,-0.031867599813434594,1.0738654245537662,3.388810624441809,0.9351645918281237,0.21556793789102505,-0.25270809218800333,-0.7421025237070608,-1.5762235008352279,1.574517541342876,0.5985193109908948,0.09785221855150467,-0.8939627568218563,-0.9114314007148135,-0.7852927743123335,0.09539761403913215,-1.3273030823342173,-0.42856470672001673,0.552020456198069,-1.174373095441438,2.2563731583912756,-1.2037301297350371,0.9807112255372464,-1.1235948900923094,1.7670965259683982,-0.17021676615415063,-1.8333956792458719,-0.9382658499497022,-1.1894448769715698,1.1097280235427942,-0.05285747126028578,0.2662053187286402,0.9641926838169147,0.49708149119080225,1.3355327415526494,0.7959244674162735,0.25908089060661355,-0.7709957797796189,-1.8867996732239452,1.6007369716116406,0.22346676721610725,-0.25709166669861605,-0.6126254873783411,0.3379494556326407,1.7238715109014708,-1.6342016111857502,-1.8054209648457757,0.0057656863266193695,0.5807572429887081,-0.24084930158420273,0.46339495964105354,-0.7274227579627042,-0.5908781317043639,1.5807677607461796,0.28292144157482824,-1.2048725161584564,1.3186367045540346,-0.9044688174167138,0.543196625595008,2.3159964110839013,1.277936910956555,0.7186612173467221,-0.45685369846256685,-0.3179223952427716,-1.0765462891961397,0.36217185983351236,0.6181520195982304,-0.737585726286838,0.27036714038230936,0.12241782704649012,-0.9196487723647185,0.2629775652016023,1.7955012830654227,1.0460540868648192,0.2397550091957434,-0.22248193491512402,1.5417903540225741,-1.1513077965149632,-0.32730940498417577,-0.6269467248298358,0.44257361476171037,1.3999372607169542,0.06443005050411026],\"xaxis\":\"x16\",\"yaxis\":\"y16\",\"type\":\"histogram\"}],                        {\"bargap\":0.02,\"legend\":{\"bgcolor\":\"#F5F6F9\",\"font\":{\"color\":\"#4D5663\"}},\"paper_bgcolor\":\"#F5F6F9\",\"plot_bgcolor\":\"#F5F6F9\",\"showlegend\":false,\"template\":{\"data\":{\"barpolar\":[{\"marker\":{\"line\":{\"color\":\"#E5ECF6\",\"width\":0.5},\"pattern\":{\"fillmode\":\"overlay\",\"size\":10,\"solidity\":0.2}},\"type\":\"barpolar\"}],\"bar\":[{\"error_x\":{\"color\":\"#2a3f5f\"},\"error_y\":{\"color\":\"#2a3f5f\"},\"marker\":{\"line\":{\"color\":\"#E5ECF6\",\"width\":0.5},\"pattern\":{\"fillmode\":\"overlay\",\"size\":10,\"solidity\":0.2}},\"type\":\"bar\"}],\"carpet\":[{\"aaxis\":{\"endlinecolor\":\"#2a3f5f\",\"gridcolor\":\"white\",\"linecolor\":\"white\",\"minorgridcolor\":\"white\",\"startlinecolor\":\"#2a3f5f\"},\"baxis\":{\"endlinecolor\":\"#2a3f5f\",\"gridcolor\":\"white\",\"linecolor\":\"white\",\"minorgridcolor\":\"white\",\"startlinecolor\":\"#2a3f5f\"},\"type\":\"carpet\"}],\"choropleth\":[{\"colorbar\":{\"outlinewidth\":0,\"ticks\":\"\"},\"type\":\"choropleth\"}],\"contourcarpet\":[{\"colorbar\":{\"outlinewidth\":0,\"ticks\":\"\"},\"type\":\"contourcarpet\"}],\"contour\":[{\"colorbar\":{\"outlinewidth\":0,\"ticks\":\"\"},\"colorscale\":[[0.0,\"#0d0887\"],[0.1111111111111111,\"#46039f\"],[0.2222222222222222,\"#7201a8\"],[0.3333333333333333,\"#9c179e\"],[0.4444444444444444,\"#bd3786\"],[0.5555555555555556,\"#d8576b\"],[0.6666666666666666,\"#ed7953\"],[0.7777777777777778,\"#fb9f3a\"],[0.8888888888888888,\"#fdca26\"],[1.0,\"#f0f921\"]],\"type\":\"contour\"}],\"heatmapgl\":[{\"colorbar\":{\"outlinewidth\":0,\"ticks\":\"\"},\"colorscale\":[[0.0,\"#0d0887\"],[0.1111111111111111,\"#46039f\"],[0.2222222222222222,\"#7201a8\"],[0.3333333333333333,\"#9c179e\"],[0.4444444444444444,\"#bd3786\"],[0.5555555555555556,\"#d8576b\"],[0.6666666666666666,\"#ed7953\"],[0.7777777777777778,\"#fb9f3a\"],[0.8888888888888888,\"#fdca26\"],[1.0,\"#f0f921\"]],\"type\":\"heatmapgl\"}],\"heatmap\":[{\"colorbar\":{\"outlinewidth\":0,\"ticks\":\"\"},\"colorscale\":[[0.0,\"#0d0887\"],[0.1111111111111111,\"#46039f\"],[0.2222222222222222,\"#7201a8\"],[0.3333333333333333,\"#9c179e\"],[0.4444444444444444,\"#bd3786\"],[0.5555555555555556,\"#d8576b\"],[0.6666666666666666,\"#ed7953\"],[0.7777777777777778,\"#fb9f3a\"],[0.8888888888888888,\"#fdca26\"],[1.0,\"#f0f921\"]],\"type\":\"heatmap\"}],\"histogram2dcontour\":[{\"colorbar\":{\"outlinewidth\":0,\"ticks\":\"\"},\"colorscale\":[[0.0,\"#0d0887\"],[0.1111111111111111,\"#46039f\"],[0.2222222222222222,\"#7201a8\"],[0.3333333333333333,\"#9c179e\"],[0.4444444444444444,\"#bd3786\"],[0.5555555555555556,\"#d8576b\"],[0.6666666666666666,\"#ed7953\"],[0.7777777777777778,\"#fb9f3a\"],[0.8888888888888888,\"#fdca26\"],[1.0,\"#f0f921\"]],\"type\":\"histogram2dcontour\"}],\"histogram2d\":[{\"colorbar\":{\"outlinewidth\":0,\"ticks\":\"\"},\"colorscale\":[[0.0,\"#0d0887\"],[0.1111111111111111,\"#46039f\"],[0.2222222222222222,\"#7201a8\"],[0.3333333333333333,\"#9c179e\"],[0.4444444444444444,\"#bd3786\"],[0.5555555555555556,\"#d8576b\"],[0.6666666666666666,\"#ed7953\"],[0.7777777777777778,\"#fb9f3a\"],[0.8888888888888888,\"#fdca26\"],[1.0,\"#f0f921\"]],\"type\":\"histogram2d\"}],\"histogram\":[{\"marker\":{\"pattern\":{\"fillmode\":\"overlay\",\"size\":10,\"solidity\":0.2}},\"type\":\"histogram\"}],\"mesh3d\":[{\"colorbar\":{\"outlinewidth\":0,\"ticks\":\"\"},\"type\":\"mesh3d\"}],\"parcoords\":[{\"line\":{\"colorbar\":{\"outlinewidth\":0,\"ticks\":\"\"}},\"type\":\"parcoords\"}],\"pie\":[{\"automargin\":true,\"type\":\"pie\"}],\"scatter3d\":[{\"line\":{\"colorbar\":{\"outlinewidth\":0,\"ticks\":\"\"}},\"marker\":{\"colorbar\":{\"outlinewidth\":0,\"ticks\":\"\"}},\"type\":\"scatter3d\"}],\"scattercarpet\":[{\"marker\":{\"colorbar\":{\"outlinewidth\":0,\"ticks\":\"\"}},\"type\":\"scattercarpet\"}],\"scattergeo\":[{\"marker\":{\"colorbar\":{\"outlinewidth\":0,\"ticks\":\"\"}},\"type\":\"scattergeo\"}],\"scattergl\":[{\"marker\":{\"colorbar\":{\"outlinewidth\":0,\"ticks\":\"\"}},\"type\":\"scattergl\"}],\"scattermapbox\":[{\"marker\":{\"colorbar\":{\"outlinewidth\":0,\"ticks\":\"\"}},\"type\":\"scattermapbox\"}],\"scatterpolargl\":[{\"marker\":{\"colorbar\":{\"outlinewidth\":0,\"ticks\":\"\"}},\"type\":\"scatterpolargl\"}],\"scatterpolar\":[{\"marker\":{\"colorbar\":{\"outlinewidth\":0,\"ticks\":\"\"}},\"type\":\"scatterpolar\"}],\"scatter\":[{\"fillpattern\":{\"fillmode\":\"overlay\",\"size\":10,\"solidity\":0.2},\"type\":\"scatter\"}],\"scatterternary\":[{\"marker\":{\"colorbar\":{\"outlinewidth\":0,\"ticks\":\"\"}},\"type\":\"scatterternary\"}],\"surface\":[{\"colorbar\":{\"outlinewidth\":0,\"ticks\":\"\"},\"colorscale\":[[0.0,\"#0d0887\"],[0.1111111111111111,\"#46039f\"],[0.2222222222222222,\"#7201a8\"],[0.3333333333333333,\"#9c179e\"],[0.4444444444444444,\"#bd3786\"],[0.5555555555555556,\"#d8576b\"],[0.6666666666666666,\"#ed7953\"],[0.7777777777777778,\"#fb9f3a\"],[0.8888888888888888,\"#fdca26\"],[1.0,\"#f0f921\"]],\"type\":\"surface\"}],\"table\":[{\"cells\":{\"fill\":{\"color\":\"#EBF0F8\"},\"line\":{\"color\":\"white\"}},\"header\":{\"fill\":{\"color\":\"#C8D4E3\"},\"line\":{\"color\":\"white\"}},\"type\":\"table\"}]},\"layout\":{\"annotationdefaults\":{\"arrowcolor\":\"#2a3f5f\",\"arrowhead\":0,\"arrowwidth\":1},\"autotypenumbers\":\"strict\",\"coloraxis\":{\"colorbar\":{\"outlinewidth\":0,\"ticks\":\"\"}},\"colorscale\":{\"diverging\":[[0,\"#8e0152\"],[0.1,\"#c51b7d\"],[0.2,\"#de77ae\"],[0.3,\"#f1b6da\"],[0.4,\"#fde0ef\"],[0.5,\"#f7f7f7\"],[0.6,\"#e6f5d0\"],[0.7,\"#b8e186\"],[0.8,\"#7fbc41\"],[0.9,\"#4d9221\"],[1,\"#276419\"]],\"sequential\":[[0.0,\"#0d0887\"],[0.1111111111111111,\"#46039f\"],[0.2222222222222222,\"#7201a8\"],[0.3333333333333333,\"#9c179e\"],[0.4444444444444444,\"#bd3786\"],[0.5555555555555556,\"#d8576b\"],[0.6666666666666666,\"#ed7953\"],[0.7777777777777778,\"#fb9f3a\"],[0.8888888888888888,\"#fdca26\"],[1.0,\"#f0f921\"]],\"sequentialminus\":[[0.0,\"#0d0887\"],[0.1111111111111111,\"#46039f\"],[0.2222222222222222,\"#7201a8\"],[0.3333333333333333,\"#9c179e\"],[0.4444444444444444,\"#bd3786\"],[0.5555555555555556,\"#d8576b\"],[0.6666666666666666,\"#ed7953\"],[0.7777777777777778,\"#fb9f3a\"],[0.8888888888888888,\"#fdca26\"],[1.0,\"#f0f921\"]]},\"colorway\":[\"#636efa\",\"#EF553B\",\"#00cc96\",\"#ab63fa\",\"#FFA15A\",\"#19d3f3\",\"#FF6692\",\"#B6E880\",\"#FF97FF\",\"#FECB52\"],\"font\":{\"color\":\"#2a3f5f\"},\"geo\":{\"bgcolor\":\"white\",\"lakecolor\":\"white\",\"landcolor\":\"#E5ECF6\",\"showlakes\":true,\"showland\":true,\"subunitcolor\":\"white\"},\"hoverlabel\":{\"align\":\"left\"},\"hovermode\":\"closest\",\"mapbox\":{\"style\":\"light\"},\"paper_bgcolor\":\"white\",\"plot_bgcolor\":\"#E5ECF6\",\"polar\":{\"angularaxis\":{\"gridcolor\":\"white\",\"linecolor\":\"white\",\"ticks\":\"\"},\"bgcolor\":\"#E5ECF6\",\"radialaxis\":{\"gridcolor\":\"white\",\"linecolor\":\"white\",\"ticks\":\"\"}},\"scene\":{\"xaxis\":{\"backgroundcolor\":\"#E5ECF6\",\"gridcolor\":\"white\",\"gridwidth\":2,\"linecolor\":\"white\",\"showbackground\":true,\"ticks\":\"\",\"zerolinecolor\":\"white\"},\"yaxis\":{\"backgroundcolor\":\"#E5ECF6\",\"gridcolor\":\"white\",\"gridwidth\":2,\"linecolor\":\"white\",\"showbackground\":true,\"ticks\":\"\",\"zerolinecolor\":\"white\"},\"zaxis\":{\"backgroundcolor\":\"#E5ECF6\",\"gridcolor\":\"white\",\"gridwidth\":2,\"linecolor\":\"white\",\"showbackground\":true,\"ticks\":\"\",\"zerolinecolor\":\"white\"}},\"shapedefaults\":{\"line\":{\"color\":\"#2a3f5f\"}},\"ternary\":{\"aaxis\":{\"gridcolor\":\"white\",\"linecolor\":\"white\",\"ticks\":\"\"},\"baxis\":{\"gridcolor\":\"white\",\"linecolor\":\"white\",\"ticks\":\"\"},\"bgcolor\":\"#E5ECF6\",\"caxis\":{\"gridcolor\":\"white\",\"linecolor\":\"white\",\"ticks\":\"\"}},\"title\":{\"x\":0.05},\"xaxis\":{\"automargin\":true,\"gridcolor\":\"white\",\"linecolor\":\"white\",\"ticks\":\"\",\"title\":{\"standoff\":15},\"zerolinecolor\":\"white\",\"zerolinewidth\":2},\"yaxis\":{\"automargin\":true,\"gridcolor\":\"white\",\"linecolor\":\"white\",\"ticks\":\"\",\"title\":{\"standoff\":15},\"zerolinecolor\":\"white\",\"zerolinewidth\":2}}},\"title\":{\"font\":{\"color\":\"#4D5663\"}},\"xaxis\":{\"anchor\":\"y\",\"domain\":[0.0,0.2125],\"gridcolor\":\"#E1E5ED\",\"showgrid\":false,\"tickfont\":{\"color\":\"#4D5663\"},\"title\":{\"font\":{\"color\":\"#4D5663\"},\"text\":\"\"},\"zerolinecolor\":\"#E1E5ED\"},\"yaxis\":{\"anchor\":\"x\",\"domain\":[0.8025,1.0],\"gridcolor\":\"#E1E5ED\",\"showgrid\":false,\"tickfont\":{\"color\":\"#4D5663\"},\"title\":{\"font\":{\"color\":\"#4D5663\"},\"text\":\"\"},\"zerolinecolor\":\"#E1E5ED\"},\"xaxis2\":{\"anchor\":\"y2\",\"domain\":[0.2625,0.475],\"gridcolor\":\"#E1E5ED\",\"showgrid\":false,\"tickfont\":{\"color\":\"#4D5663\"},\"title\":{\"font\":{\"color\":\"#4D5663\"},\"text\":\"\"},\"zerolinecolor\":\"#E1E5ED\"},\"yaxis2\":{\"anchor\":\"x2\",\"domain\":[0.8025,1.0],\"gridcolor\":\"#E1E5ED\",\"showgrid\":false,\"tickfont\":{\"color\":\"#4D5663\"},\"title\":{\"font\":{\"color\":\"#4D5663\"},\"text\":\"\"},\"zerolinecolor\":\"#E1E5ED\"},\"xaxis3\":{\"anchor\":\"y3\",\"domain\":[0.525,0.7375],\"gridcolor\":\"#E1E5ED\",\"showgrid\":false,\"tickfont\":{\"color\":\"#4D5663\"},\"title\":{\"font\":{\"color\":\"#4D5663\"},\"text\":\"\"},\"zerolinecolor\":\"#E1E5ED\"},\"yaxis3\":{\"anchor\":\"x3\",\"domain\":[0.8025,1.0],\"gridcolor\":\"#E1E5ED\",\"showgrid\":false,\"tickfont\":{\"color\":\"#4D5663\"},\"title\":{\"font\":{\"color\":\"#4D5663\"},\"text\":\"\"},\"zerolinecolor\":\"#E1E5ED\"},\"xaxis4\":{\"anchor\":\"y4\",\"domain\":[0.7875,1.0],\"gridcolor\":\"#E1E5ED\",\"showgrid\":false,\"tickfont\":{\"color\":\"#4D5663\"},\"title\":{\"font\":{\"color\":\"#4D5663\"},\"text\":\"\"},\"zerolinecolor\":\"#E1E5ED\"},\"yaxis4\":{\"anchor\":\"x4\",\"domain\":[0.8025,1.0],\"gridcolor\":\"#E1E5ED\",\"showgrid\":false,\"tickfont\":{\"color\":\"#4D5663\"},\"title\":{\"font\":{\"color\":\"#4D5663\"},\"text\":\"\"},\"zerolinecolor\":\"#E1E5ED\"},\"xaxis5\":{\"anchor\":\"y5\",\"domain\":[0.0,0.2125],\"gridcolor\":\"#E1E5ED\",\"showgrid\":false,\"tickfont\":{\"color\":\"#4D5663\"},\"title\":{\"font\":{\"color\":\"#4D5663\"},\"text\":\"\"},\"zerolinecolor\":\"#E1E5ED\"},\"yaxis5\":{\"anchor\":\"x5\",\"domain\":[0.535,0.7325],\"gridcolor\":\"#E1E5ED\",\"showgrid\":false,\"tickfont\":{\"color\":\"#4D5663\"},\"title\":{\"font\":{\"color\":\"#4D5663\"},\"text\":\"\"},\"zerolinecolor\":\"#E1E5ED\"},\"xaxis6\":{\"anchor\":\"y6\",\"domain\":[0.2625,0.475],\"gridcolor\":\"#E1E5ED\",\"showgrid\":false,\"tickfont\":{\"color\":\"#4D5663\"},\"title\":{\"font\":{\"color\":\"#4D5663\"},\"text\":\"\"},\"zerolinecolor\":\"#E1E5ED\"},\"yaxis6\":{\"anchor\":\"x6\",\"domain\":[0.535,0.7325],\"gridcolor\":\"#E1E5ED\",\"showgrid\":false,\"tickfont\":{\"color\":\"#4D5663\"},\"title\":{\"font\":{\"color\":\"#4D5663\"},\"text\":\"\"},\"zerolinecolor\":\"#E1E5ED\"},\"xaxis7\":{\"anchor\":\"y7\",\"domain\":[0.525,0.7375],\"gridcolor\":\"#E1E5ED\",\"showgrid\":false,\"tickfont\":{\"color\":\"#4D5663\"},\"title\":{\"font\":{\"color\":\"#4D5663\"},\"text\":\"\"},\"zerolinecolor\":\"#E1E5ED\"},\"yaxis7\":{\"anchor\":\"x7\",\"domain\":[0.535,0.7325],\"gridcolor\":\"#E1E5ED\",\"showgrid\":false,\"tickfont\":{\"color\":\"#4D5663\"},\"title\":{\"font\":{\"color\":\"#4D5663\"},\"text\":\"\"},\"zerolinecolor\":\"#E1E5ED\"},\"xaxis8\":{\"anchor\":\"y8\",\"domain\":[0.7875,1.0],\"gridcolor\":\"#E1E5ED\",\"showgrid\":false,\"tickfont\":{\"color\":\"#4D5663\"},\"title\":{\"font\":{\"color\":\"#4D5663\"},\"text\":\"\"},\"zerolinecolor\":\"#E1E5ED\"},\"yaxis8\":{\"anchor\":\"x8\",\"domain\":[0.535,0.7325],\"gridcolor\":\"#E1E5ED\",\"showgrid\":false,\"tickfont\":{\"color\":\"#4D5663\"},\"title\":{\"font\":{\"color\":\"#4D5663\"},\"text\":\"\"},\"zerolinecolor\":\"#E1E5ED\"},\"xaxis9\":{\"anchor\":\"y9\",\"domain\":[0.0,0.2125],\"gridcolor\":\"#E1E5ED\",\"showgrid\":false,\"tickfont\":{\"color\":\"#4D5663\"},\"title\":{\"font\":{\"color\":\"#4D5663\"},\"text\":\"\"},\"zerolinecolor\":\"#E1E5ED\"},\"yaxis9\":{\"anchor\":\"x9\",\"domain\":[0.2675,0.465],\"gridcolor\":\"#E1E5ED\",\"showgrid\":false,\"tickfont\":{\"color\":\"#4D5663\"},\"title\":{\"font\":{\"color\":\"#4D5663\"},\"text\":\"\"},\"zerolinecolor\":\"#E1E5ED\"},\"xaxis10\":{\"anchor\":\"y10\",\"domain\":[0.2625,0.475],\"gridcolor\":\"#E1E5ED\",\"showgrid\":false,\"tickfont\":{\"color\":\"#4D5663\"},\"title\":{\"font\":{\"color\":\"#4D5663\"},\"text\":\"\"},\"zerolinecolor\":\"#E1E5ED\"},\"yaxis10\":{\"anchor\":\"x10\",\"domain\":[0.2675,0.465],\"gridcolor\":\"#E1E5ED\",\"showgrid\":false,\"tickfont\":{\"color\":\"#4D5663\"},\"title\":{\"font\":{\"color\":\"#4D5663\"},\"text\":\"\"},\"zerolinecolor\":\"#E1E5ED\"},\"xaxis11\":{\"anchor\":\"y11\",\"domain\":[0.525,0.7375],\"gridcolor\":\"#E1E5ED\",\"showgrid\":false,\"tickfont\":{\"color\":\"#4D5663\"},\"title\":{\"font\":{\"color\":\"#4D5663\"},\"text\":\"\"},\"zerolinecolor\":\"#E1E5ED\"},\"yaxis11\":{\"anchor\":\"x11\",\"domain\":[0.2675,0.465],\"gridcolor\":\"#E1E5ED\",\"showgrid\":false,\"tickfont\":{\"color\":\"#4D5663\"},\"title\":{\"font\":{\"color\":\"#4D5663\"},\"text\":\"\"},\"zerolinecolor\":\"#E1E5ED\"},\"xaxis12\":{\"anchor\":\"y12\",\"domain\":[0.7875,1.0],\"gridcolor\":\"#E1E5ED\",\"showgrid\":false,\"tickfont\":{\"color\":\"#4D5663\"},\"title\":{\"font\":{\"color\":\"#4D5663\"},\"text\":\"\"},\"zerolinecolor\":\"#E1E5ED\"},\"yaxis12\":{\"anchor\":\"x12\",\"domain\":[0.2675,0.465],\"gridcolor\":\"#E1E5ED\",\"showgrid\":false,\"tickfont\":{\"color\":\"#4D5663\"},\"title\":{\"font\":{\"color\":\"#4D5663\"},\"text\":\"\"},\"zerolinecolor\":\"#E1E5ED\"},\"xaxis13\":{\"anchor\":\"y13\",\"domain\":[0.0,0.2125],\"gridcolor\":\"#E1E5ED\",\"showgrid\":false,\"tickfont\":{\"color\":\"#4D5663\"},\"title\":{\"font\":{\"color\":\"#4D5663\"},\"text\":\"\"},\"zerolinecolor\":\"#E1E5ED\"},\"yaxis13\":{\"anchor\":\"x13\",\"domain\":[0.0,0.1975],\"gridcolor\":\"#E1E5ED\",\"showgrid\":false,\"tickfont\":{\"color\":\"#4D5663\"},\"title\":{\"font\":{\"color\":\"#4D5663\"},\"text\":\"\"},\"zerolinecolor\":\"#E1E5ED\"},\"xaxis14\":{\"anchor\":\"y14\",\"domain\":[0.2625,0.475],\"gridcolor\":\"#E1E5ED\",\"showgrid\":false,\"tickfont\":{\"color\":\"#4D5663\"},\"title\":{\"font\":{\"color\":\"#4D5663\"},\"text\":\"\"},\"zerolinecolor\":\"#E1E5ED\"},\"yaxis14\":{\"anchor\":\"x14\",\"domain\":[0.0,0.1975],\"gridcolor\":\"#E1E5ED\",\"showgrid\":false,\"tickfont\":{\"color\":\"#4D5663\"},\"title\":{\"font\":{\"color\":\"#4D5663\"},\"text\":\"\"},\"zerolinecolor\":\"#E1E5ED\"},\"xaxis15\":{\"anchor\":\"y15\",\"domain\":[0.525,0.7375],\"gridcolor\":\"#E1E5ED\",\"showgrid\":false,\"tickfont\":{\"color\":\"#4D5663\"},\"title\":{\"font\":{\"color\":\"#4D5663\"},\"text\":\"\"},\"zerolinecolor\":\"#E1E5ED\"},\"yaxis15\":{\"anchor\":\"x15\",\"domain\":[0.0,0.1975],\"gridcolor\":\"#E1E5ED\",\"showgrid\":false,\"tickfont\":{\"color\":\"#4D5663\"},\"title\":{\"font\":{\"color\":\"#4D5663\"},\"text\":\"\"},\"zerolinecolor\":\"#E1E5ED\"},\"xaxis16\":{\"anchor\":\"y16\",\"domain\":[0.7875,1.0],\"gridcolor\":\"#E1E5ED\",\"showgrid\":false,\"tickfont\":{\"color\":\"#4D5663\"},\"title\":{\"font\":{\"color\":\"#4D5663\"},\"text\":\"\"},\"zerolinecolor\":\"#E1E5ED\"},\"yaxis16\":{\"anchor\":\"x16\",\"domain\":[0.0,0.1975],\"gridcolor\":\"#E1E5ED\",\"showgrid\":false,\"tickfont\":{\"color\":\"#4D5663\"},\"title\":{\"font\":{\"color\":\"#4D5663\"},\"text\":\"\"},\"zerolinecolor\":\"#E1E5ED\"}},                        {\"showLink\": true, \"linkText\": \"Export to plot.ly\", \"plotlyServerURL\": \"https://plot.ly\", \"responsive\": true}                    ).then(function(){\n",
       "                            \n",
       "var gd = document.getElementById('b9b517af-7b4c-4505-a85c-944d014fd2dc');\n",
       "var x = new MutationObserver(function (mutations, observer) {{\n",
       "        var display = window.getComputedStyle(gd).display;\n",
       "        if (!display || display === 'none') {{\n",
       "            console.log([gd, 'removed!']);\n",
       "            Plotly.purge(gd);\n",
       "            observer.disconnect();\n",
       "        }}\n",
       "}});\n",
       "\n",
       "// Listen for the removal of the full notebook cells\n",
       "var notebookContainer = gd.closest('#notebook-container');\n",
       "if (notebookContainer) {{\n",
       "    x.observe(notebookContainer, {childList: true});\n",
       "}}\n",
       "\n",
       "// Listen for the clearing of the current output cell\n",
       "var outputEl = gd.closest('.output');\n",
       "if (outputEl) {{\n",
       "    x.observe(outputEl, {childList: true});\n",
       "}}\n",
       "\n",
       "                        })                };                });            </script>        </div>"
      ]
     },
     "metadata": {},
     "output_type": "display_data"
    }
   ],
   "source": [
    "df.scatter_matrix()"
   ]
  },
  {
   "cell_type": "markdown",
   "metadata": {
    "collapsed": true
   },
   "source": [
    "# Buen trabajo!"
   ]
  }
 ],
 "metadata": {
  "kernelspec": {
   "display_name": "Python 3",
   "language": "python",
   "name": "python3"
  },
  "language_info": {
   "codemirror_mode": {
    "name": "ipython",
    "version": 3
   },
   "file_extension": ".py",
   "mimetype": "text/x-python",
   "name": "python",
   "nbconvert_exporter": "python",
   "pygments_lexer": "ipython3",
   "version": "3.12.3"
  }
 },
 "nbformat": 4,
 "nbformat_minor": 1
}
